{
 "cells": [
  {
   "cell_type": "code",
   "execution_count": 29,
   "metadata": {},
   "outputs": [],
   "source": [
    "import sys\n",
    "import got3 as got\n",
    "import csv\n",
    "\n",
    "def main():\n",
    "\n",
    "    def printTweet(descr, t):\n",
    "        print(descr)\n",
    "        print(\"Username: %s\" % t.username)\n",
    "        print(\"Retweets: %d\" % t.retweets)\n",
    "        print(\"Text: %s\" % t.text)\n",
    "        print(\"Mentions: %s\" % t.mentions)\n",
    "        print(\"Hashtags: %s\\n\" % t.hashtags)\n",
    "\n",
    "\n",
    "    #Get historical tweets by query search\n",
    "    tweetCriteria = got.manager.TweetCriteria().setQuerySearch('bloomberg').setSince(\"2020-01-01\").setUntil(\"2020-02-01\").setMaxTweets(500)\n",
    "    tweets = got.manager.TweetManager.getTweets(tweetCriteria)\n",
    "    \n",
    "    for tweet in tweets:\n",
    "        printTweet(\"Get tweets by query search [bloomberg]\", tweet)\n",
    "        \n",
    "    #get the name of the spreadsheet we will write to\n",
    "    fname = \"historical\"\n",
    "    #open the spreadsheet we will write to\n",
    "    with open('%s.csv' % (fname), 'w') as file:\n",
    "        w = csv.writer(file)\n",
    "\n",
    "        #write header row to spreadsheet\n",
    "        w.writerow(['Username', 'Retweets', 'Text', 'Mentions', 'Hashtags'])\n",
    "\n",
    "        #for each tweet matching our hashtags, write relevant info to the spreadsheet\n",
    "        for tweet in tweets:\n",
    "            w.writerow([tweet.username, tweet.retweets, \n",
    "                        tweet.text, tweet.mentions,\n",
    "                        tweet.hashtags])\n",
    "\n",
    "if __name__ == '__main__':\n",
    "    main()"
   ]
  },
  {
   "cell_type": "code",
   "execution_count": null,
   "metadata": {},
   "outputs": [],
   "source": [
    "#Get recent tweets by username\n",
    "    tweetCriteria = got.manager.TweetCriteria().setUsername('trump').setMaxTweets(20)\n",
    "    tweets = got.manager.TweetManager.getTweets(tweetCriteria)\n",
    "\n",
    "    for tweet in tweets:\n",
    "        printTweet(\"Get tweets by username [trump]\", tweet)\n",
    "\n",
    "    #Get historical tweets by query search\n",
    "    tweetCriteria = got.manager.TweetCriteria().setQuerySearch('bloomberg').setSince(\"2020-01-01\").setUntil(\"2020-02-01\").setMaxTweets(20)\n",
    "    tweets = got.manager.TweetManager.getTweets(tweetCriteria)\n",
    "\n",
    "    for tweet in tweets:\n",
    "        printTweet(\"Get tweets by query search [bloomberg]\", tweet)\n"
   ]
  }
 ],
 "metadata": {
  "kernelspec": {
   "display_name": "Python 3",
   "language": "python",
   "name": "python3"
  },
  "language_info": {
   "codemirror_mode": {
    "name": "ipython",
    "version": 3
   },
   "file_extension": ".py",
   "mimetype": "text/x-python",
   "name": "python",
   "nbconvert_exporter": "python",
   "pygments_lexer": "ipython3",
   "version": "3.7.3"
  }
 },
 "nbformat": 4,
 "nbformat_minor": 2
}
