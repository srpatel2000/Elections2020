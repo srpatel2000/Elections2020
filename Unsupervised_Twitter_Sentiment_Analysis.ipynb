{
 "cells": [
  {
   "cell_type": "markdown",
   "metadata": {},
   "source": [
    "# Unsupervised Twitter Sentiment Analysis"
   ]
  },
  {
   "cell_type": "markdown",
   "metadata": {},
   "source": [
    "### Glossary"
   ]
  },
  {
   "cell_type": "markdown",
   "metadata": {},
   "source": [
    "__Step 1__ - Gather the data w/ our Modified Search API\n",
    "\n",
    "__Step 2__ - Manually input whether a tweet is positive, neutral, or negative\n",
    "\n",
    "__Step 3__ - Clean the data\n",
    "\n",
    "__Step 4__ - Perform k-means clustering\n",
    "\n",
    "__Step 5__ - Assign clusters\n",
    "\n",
    "__Step 6__ - Assign tfidf (term frequency–inverse document frequency) weighting and sentiment prediction\n",
    "\n",
    "__Step 7__ - Score the model\n",
    "\n",
    "*Sources:*\n",
    "* https://towardsdatascience.com/unsupervised-sentiment-analysis-a38bf1906483\n",
    "* https://towardsdatascience.com/sentiment-analysis-on-nba-top-players-twitter-account-part3-sentiment-analysis-clustering-5e5dcd4d690f"
   ]
  },
  {
   "cell_type": "markdown",
   "metadata": {},
   "source": [
    "### Step 1 - Gather Data\n",
    "__In Progress__"
   ]
  },
  {
   "cell_type": "code",
   "execution_count": null,
   "metadata": {},
   "outputs": [],
   "source": []
  }
 ],
 "metadata": {
  "kernelspec": {
   "display_name": "Python 3",
   "language": "python",
   "name": "python3"
  },
  "language_info": {
   "codemirror_mode": {
    "name": "ipython",
    "version": 3
   },
   "file_extension": ".py",
   "mimetype": "text/x-python",
   "name": "python",
   "nbconvert_exporter": "python",
   "pygments_lexer": "ipython3",
   "version": "3.7.3"
  }
 },
 "nbformat": 4,
 "nbformat_minor": 4
}
