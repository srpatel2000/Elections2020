{
 "cells": [
  {
   "cell_type": "code",
   "execution_count": 1,
   "metadata": {},
   "outputs": [
    {
     "ename": "ModuleNotFoundError",
     "evalue": "No module named 'got3'",
     "output_type": "error",
     "traceback": [
      "\u001b[0;31m---------------------------------------------------------------------------\u001b[0m",
      "\u001b[0;31mModuleNotFoundError\u001b[0m                       Traceback (most recent call last)",
      "\u001b[0;32m<ipython-input-1-118b392cbb3f>\u001b[0m in \u001b[0;36m<module>\u001b[0;34m\u001b[0m\n\u001b[1;32m      1\u001b[0m \u001b[0;32mimport\u001b[0m \u001b[0msys\u001b[0m\u001b[0;34m\u001b[0m\u001b[0;34m\u001b[0m\u001b[0m\n\u001b[0;32m----> 2\u001b[0;31m \u001b[0;32mimport\u001b[0m \u001b[0mgot3\u001b[0m \u001b[0;32mas\u001b[0m \u001b[0mgot\u001b[0m\u001b[0;34m\u001b[0m\u001b[0;34m\u001b[0m\u001b[0m\n\u001b[0m\u001b[1;32m      3\u001b[0m \u001b[0;32mimport\u001b[0m \u001b[0mcsv\u001b[0m\u001b[0;34m\u001b[0m\u001b[0;34m\u001b[0m\u001b[0m\n\u001b[1;32m      4\u001b[0m \u001b[0;34m\u001b[0m\u001b[0m\n\u001b[1;32m      5\u001b[0m \u001b[0;32mdef\u001b[0m \u001b[0mmain\u001b[0m\u001b[0;34m(\u001b[0m\u001b[0;34m)\u001b[0m\u001b[0;34m:\u001b[0m\u001b[0;34m\u001b[0m\u001b[0;34m\u001b[0m\u001b[0m\n",
      "\u001b[0;31mModuleNotFoundError\u001b[0m: No module named 'got3'"
     ]
    }
   ],
   "source": [
    "import sys\n",
    "import got3 as got\n",
    "import csv\n",
    "\n",
    "def main():\n",
    "\n",
    "    def printTweet(descr, t):\n",
    "        print(descr)\n",
    "        print(\"Username: %s\" % t.username)\n",
    "        print(\"Retweets: %d\" % t.retweets)\n",
    "        print(\"Text: %s\" % t.text)\n",
    "        print(\"Mentions: %s\" % t.mentions)\n",
    "        print(\"Hashtags: %s\\n\" % t.hashtags)\n",
    "\n",
    "\n",
    "    #Get historical tweets by query search\n",
    "    tweetCriteria = got.manager.TweetCriteria().setQuerySearch('bloomberg').setSince(\"2020-01-15\").setUntil(\"2020-01-16\").setMaxTweets(5000)\n",
    "    tweets = got.manager.TweetManager.getTweets(tweetCriteria)\n",
    "    \n",
    "    for tweet in tweets:\n",
    "        printTweet(\"Get tweets by query search [bloomberg]\", tweet)\n",
    "        \n",
    "    #get the name of the spreadsheet we will write to\n",
    "    fname = \"historical_one_day\"\n",
    "    #open the spreadsheet we will write to\n",
    "    with open('%s.csv' % (fname), 'w') as file:\n",
    "        w = csv.writer(file)\n",
    "\n",
    "        #write header row to spreadsheet\n",
    "        w.writerow(['timestamp', 'Username', 'Retweets', 'Text', 'Mentions', 'Hashtags'])\n",
    "\n",
    "        #for each tweet matching our hashtags, write relevant info to the spreadsheet\n",
    "        for tweet in tweets:\n",
    "            w.writerow([tweet.formatted_date, tweet.author_id, tweet.retweets, \n",
    "                        tweet.text, tweet.mentions,\n",
    "                        tweet.hashtags])\n",
    "\n",
    "if __name__ == '__main__':\n",
    "    main()"
   ]
  },
  {
   "cell_type": "code",
   "execution_count": 2,
   "metadata": {},
   "outputs": [
    {
     "ename": "IndentationError",
     "evalue": "unexpected indent (<ipython-input-2-6c5e47d3d302>, line 2)",
     "output_type": "error",
     "traceback": [
      "\u001b[0;36m  File \u001b[0;32m\"<ipython-input-2-6c5e47d3d302>\"\u001b[0;36m, line \u001b[0;32m2\u001b[0m\n\u001b[0;31m    tweetCriteria = got.manager.TweetCriteria().setUsername('trump').setMaxTweets(20)\u001b[0m\n\u001b[0m    ^\u001b[0m\n\u001b[0;31mIndentationError\u001b[0m\u001b[0;31m:\u001b[0m unexpected indent\n"
     ]
    }
   ],
   "source": [
    "#Get recent tweets by username\n",
    "    tweetCriteria = got.manager.TweetCriteria().setUsername('trump').setMaxTweets(20)\n",
    "    tweets = got.manager.TweetManager.getTweets(tweetCriteria)\n",
    "\n",
    "    for tweet in tweets:\n",
    "        printTweet(\"Get tweets by username [trump]\", tweet)\n",
    "\n",
    "    #Get historical tweets by query search\n",
    "    tweetCriteria = got.manager.TweetCriteria().setQuerySearch('bloomberg').setSince(\"2020-01-01\").setUntil(\"2020-02-01\").setMaxTweets(20)\n",
    "    tweets = got.manager.TweetManager.getTweets(tweetCriteria)\n",
    "\n",
    "    for tweet in tweets:\n",
    "        printTweet(\"Get tweets by query search [bloomberg]\", tweet)\n"
   ]
  },
  {
   "cell_type": "code",
   "execution_count": null,
   "metadata": {},
   "outputs": [],
   "source": []
  }
 ],
 "metadata": {
  "kernelspec": {
   "display_name": "Python 3",
   "language": "python",
   "name": "python3"
  },
  "language_info": {
   "codemirror_mode": {
    "name": "ipython",
    "version": 3
   },
   "file_extension": ".py",
   "mimetype": "text/x-python",
   "name": "python",
   "nbconvert_exporter": "python",
   "pygments_lexer": "ipython3",
   "version": "3.7.6"
  }
 },
 "nbformat": 4,
 "nbformat_minor": 2
}
