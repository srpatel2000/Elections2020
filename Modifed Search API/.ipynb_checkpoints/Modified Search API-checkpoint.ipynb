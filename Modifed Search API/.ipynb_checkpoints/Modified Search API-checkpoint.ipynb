{
 "cells": [
  {
   "cell_type": "code",
   "execution_count": 5,
   "metadata": {},
   "outputs": [
    {
     "name": "stdout",
     "output_type": "stream",
     "text": [
      "Twitter weird response. Try to see on browser:  https://twitter.com/i/search/timeline?f=tweets&q=%20since%3A2020-02-20%20until%3A2020-02-21%20Donald%20Trump&src=typd&max_position=\n",
      "Twitter weird response. Try to see on browser: https://twitter.com/search?q=%20since%3A2020-02-20%20until%3A2020-02-21%20Donald%20Trump&src=typd\n",
      "Unexpected error: <class 'urllib.error.HTTPError'>\n"
     ]
    },
    {
     "ename": "SystemExit",
     "evalue": "",
     "output_type": "error",
     "traceback": [
      "An exception has occurred, use %tb to see the full traceback.\n",
      "\u001b[0;31mSystemExit\u001b[0m\n"
     ]
    },
    {
     "name": "stderr",
     "output_type": "stream",
     "text": [
      "/Users/siddhipatel/Downloads/anaconda3/lib/python3.7/site-packages/IPython/core/interactiveshell.py:2969: UserWarning: To exit: use 'exit', 'quit', or Ctrl-D.\n",
      "  warn(\"To exit: use 'exit', 'quit', or Ctrl-D.\", stacklevel=1)\n"
     ]
    }
   ],
   "source": [
    "import sys\n",
    "import got3 as got\n",
    "import csv\n",
    "\n",
    "def main():\n",
    "\n",
    "    def printTweet(descr, t):\n",
    "        print(descr)\n",
    "        print(\"Username: %s\" % t.username)\n",
    "        print(\"Retweets: %d\" % t.retweets)\n",
    "        print(\"Text: %s\" % t.text)\n",
    "        print(\"Mentions: %s\" % t.mentions)\n",
    "        print(\"Hashtags: %s\\n\" % t.hashtags)\n",
    "\n",
    "\n",
    "    #Get historical tweets by query search\n",
    "    tweetCriteria = got.manager.TweetCriteria().setQuerySearch('Donald Trump').setSince(\"2020-02-20\").setUntil(\"2020-02-21\").setMaxTweets(5000)\n",
    "    tweets = got.manager.TweetManager.getTweets(tweetCriteria)\n",
    "    \n",
    "    for tweet in tweets:\n",
    "        printTweet(\"Get tweets by query search [Donald Trump]\", tweet)\n",
    "        \n",
    "    #get the name of the spreadsheet we will write to\n",
    "    fname = \"trump_after_dem_debate\"\n",
    "    #open the spreadsheet we will write to\n",
    "    with open('%s.csv' % (fname), 'w') as file:\n",
    "        w = csv.writer(file)\n",
    "\n",
    "        #write header row to spreadsheet\n",
    "        w.writerow(['timestamp', 'Username', 'Retweets', 'Text', 'Mentions', 'Hashtags'])\n",
    "\n",
    "        #for each tweet matching our hashtags, write relevant info to the spreadsheet\n",
    "        for tweet in tweets:\n",
    "            w.writerow([tweet.formatted_date, tweet.author_id, tweet.retweets, \n",
    "                        tweet.text, tweet.mentions,\n",
    "                        tweet.hashtags])\n",
    "\n",
    "if __name__ == '__main__':\n",
    "    main()"
   ]
  },
  {
   "cell_type": "code",
   "execution_count": null,
   "metadata": {},
   "outputs": [],
   "source": [
    "import sys\n",
    "if sys.version_info[0] < 3:\n",
    "    import got\n",
    "else:\n",
    "    import got3 as got\n",
    "\n",
    "def main():\n",
    "\n",
    "    def printTweet(descr, t):\n",
    "        print(descr)\n",
    "        print(\"Username: %s\" % t.username)\n",
    "        print(\"Retweets: %d\" % t.retweets)\n",
    "        print(\"Text: %s\" % t.text)\n",
    "        print(\"Mentions: %s\" % t.mentions)\n",
    "        print(\"Hashtags: %s\\n\" % t.hashtags)\n",
    "\n",
    "    # Example 1 - Get tweets by username\n",
    "    tweetCriteria = got.manager.TweetCriteria().setUsername('barackobama').setMaxTweets(1)\n",
    "    tweet = got.manager.TweetManager.getTweets(tweetCriteria)[0]\n",
    "\n",
    "    printTweet(\"### Example 1 - Get tweets by username [barackobama]\", tweet)\n",
    "\n",
    "    # Example 2 - Get tweets by query search\n",
    "    tweetCriteria = got.manager.TweetCriteria().setQuerySearch('europe refugees').setSince(\"2015-05-01\").setUntil(\"2015-09-30\").setMaxTweets(1)\n",
    "    tweet = got.manager.TweetManager.getTweets(tweetCriteria)[0]\n",
    "\n",
    "    printTweet(\"### Example 2 - Get tweets by query search [europe refugees]\", tweet)\n",
    "\n",
    "    # Example 3 - Get tweets by username and bound dates\n",
    "    tweetCriteria = got.manager.TweetCriteria().setUsername(\"barackobama\").setSince(\"2015-09-10\").setUntil(\"2015-09-12\").setMaxTweets(1)\n",
    "    tweet = got.manager.TweetManager.getTweets(tweetCriteria)[0]\n",
    "\n",
    "    printTweet(\"### Example 3 - Get tweets by username and bound dates [barackobama, '2015-09-10', '2015-09-12']\", tweet)\n",
    "\n",
    "if __name__ == '__main__':\n",
    "    main()"
   ]
  },
  {
   "cell_type": "code",
   "execution_count": null,
   "metadata": {},
   "outputs": [],
   "source": []
  }
 ],
 "metadata": {
  "kernelspec": {
   "display_name": "Python 3",
   "language": "python",
   "name": "python3"
  },
  "language_info": {
   "codemirror_mode": {
    "name": "ipython",
    "version": 3
   },
   "file_extension": ".py",
   "mimetype": "text/x-python",
   "name": "python",
   "nbconvert_exporter": "python",
   "pygments_lexer": "ipython3",
   "version": "3.7.3"
  }
 },
 "nbformat": 4,
 "nbformat_minor": 2
}
