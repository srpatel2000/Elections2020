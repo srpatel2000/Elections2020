{
 "cells": [
  {
   "cell_type": "markdown",
   "metadata": {},
   "source": [
    "# Modified Search API\n",
    "This portion of code loops through the year and collects a sample of 100 tweets everyday about candidates. Our keywords used were: 'Republican', 'Democrat', 'Donald Trump', and 'Joe Biden'. "
   ]
  },
  {
   "cell_type": "code",
   "execution_count": 2,
   "metadata": {},
   "outputs": [],
   "source": [
    "import numpy as np\n",
    "import sys\n",
    "import got3 as got\n",
    "import csv\n",
    "import datetime\n",
    "import time"
   ]
  },
  {
   "cell_type": "code",
   "execution_count": 3,
   "metadata": {},
   "outputs": [],
   "source": [
    "def main():\n",
    "\n",
    "    def printTweet(descr, t):\n",
    "        print(descr)\n",
    "        print(\"Username: %s\" % t.username)\n",
    "        print(\"Retweets: %d\" % t.retweets)\n",
    "        print(\"Text: %s\" % t.text)\n",
    "        print(\"Mentions: %s\" % t.mentions)\n",
    "        print(\"Hashtags: %s\\n\" % t.hashtags)\n",
    "\n",
    "\n",
    "    start_date = datetime.date(2020, 2, 22)\n",
    "    second_date = datetime.date(2020, 2, 23)\n",
    "    end_date = datetime.date(2020, 4, 11)\n",
    "    delta = datetime.timedelta(days=1)\n",
    "    count = 1\n",
    "    \n",
    "    while start_date <= end_date:\n",
    "        try:\n",
    "            #Get historical tweets by query search\n",
    "            tweetCriteria = got.manager.TweetCriteria().setQuerySearch('Donald Trump').setSince(str(start_date)).setUntil(str(second_date)).setTopTweets(True).setMaxTweets(150)\n",
    "            tweets = got.manager.TweetManager.getTweets(tweetCriteria)\n",
    "            start_date += delta\n",
    "            second_date += delta\n",
    "    \n",
    "            #for tweet in tweets:\n",
    "                #printTweet(\"Get tweets by query search [Joe Biden]\", tweet)\n",
    "        \n",
    "            #get the name of the spreadsheet we will write to\n",
    "            fname = \"Trump_Tweets\"\n",
    "        \n",
    "            if count == 0:\n",
    "                #open the spreadsheet we will write to\n",
    "                with open('%s.csv' % (fname), 'w') as file:\n",
    "                    w = csv.writer(file)\n",
    "\n",
    "                    #write header row to spreadsheet\n",
    "                    w.writerow(['timestamp', 'Username', 'Retweets', 'Text', 'Mentions', 'Hashtags'])\n",
    "\n",
    "                    #for each tweet matching our hashtags, write relevant info to the spreadsheet\n",
    "                    for tweet in tweets:\n",
    "                        w.writerow([tweet.formatted_date, tweet.author_id, tweet.retweets, \n",
    "                                    tweet.text, tweet.mentions,\n",
    "                                    tweet.hashtags])\n",
    "            else:\n",
    "                with open('%s.csv' % (fname), 'a') as appendobj:\n",
    "                    append = csv.writer(appendobj)\n",
    "                    for tweet in tweets:\n",
    "                        append.writerow([tweet.formatted_date, tweet.author_id, tweet.retweets, \n",
    "                                        tweet.text, tweet.mentions,\n",
    "                                        tweet.hashtags])\n",
    "            count += 1 \n",
    "        except:\n",
    "            print(\"i sleep\")\n",
    "            time.sleep(300)\n",
    "            print(\"done w/ sleep\")\n",
    "            start_date += delta\n",
    "            second_date += delta\n",
    "\n",
    "if __name__ == '__main__':\n",
    "    main()"
   ]
  },
  {
   "cell_type": "code",
   "execution_count": null,
   "metadata": {},
   "outputs": [],
   "source": [
    "[np.nan] * 3"
   ]
  },
  {
   "cell_type": "code",
   "execution_count": null,
   "metadata": {},
   "outputs": [],
   "source": [
    "import sys\n",
    "if sys.version_info[0] < 3:\n",
    "    import got\n",
    "else:\n",
    "    import got3 as got\n",
    "\n",
    "def main():\n",
    "\n",
    "    def printTweet(descr, t):\n",
    "        print(descr)\n",
    "        print(\"Username: %s\" % t.username)\n",
    "        print(\"Retweets: %d\" % t.retweets)\n",
    "        print(\"Text: %s\" % t.text)\n",
    "        print(\"Mentions: %s\" % t.mentions)\n",
    "        print(\"Hashtags: %s\\n\" % t.hashtags)\n",
    "\n",
    "    # Example 1 - Get tweets by username\n",
    "    tweetCriteria = got.manager.TweetCriteria().setUsername('barackobama').setMaxTweets(1)\n",
    "    tweet = got.manager.TweetManager.getTweets(tweetCriteria)[0]\n",
    "\n",
    "    printTweet(\"### Example 1 - Get tweets by username [barackobama]\", tweet)\n",
    "\n",
    "    # Example 2 - Get tweets by query search\n",
    "    tweetCriteria = got.manager.TweetCriteria().setQuerySearch('europe refugees').setSince(\"2015-05-01\").setUntil(\"2015-09-30\").setMaxTweets(1)\n",
    "    tweet = got.manager.TweetManager.getTweets(tweetCriteria)[0]\n",
    "\n",
    "    printTweet(\"### Example 2 - Get tweets by query search [europe refugees]\", tweet)\n",
    "\n",
    "    # Example 3 - Get tweets by username and bound dates\n",
    "    tweetCriteria = got.manager.TweetCriteria().setUsername(\"barackobama\").setSince(\"2015-09-10\").setUntil(\"2015-09-12\").setMaxTweets(1)\n",
    "    tweet = got.manager.TweetManager.getTweets(tweetCriteria)[0]\n",
    "\n",
    "    printTweet(\"### Example 3 - Get tweets by username and bound dates [barackobama, '2015-09-10', '2015-09-12']\", tweet)\n",
    "\n",
    "if __name__ == '__main__':\n",
    "    main()"
   ]
  },
  {
   "cell_type": "code",
   "execution_count": null,
   "metadata": {},
   "outputs": [],
   "source": []
  }
 ],
 "metadata": {
  "kernelspec": {
   "display_name": "Python 3",
   "language": "python",
   "name": "python3"
  },
  "language_info": {
   "codemirror_mode": {
    "name": "ipython",
    "version": 3
   },
   "file_extension": ".py",
   "mimetype": "text/x-python",
   "name": "python",
   "nbconvert_exporter": "python",
   "pygments_lexer": "ipython3",
   "version": "3.7.6"
  }
 },
 "nbformat": 4,
 "nbformat_minor": 2
}
