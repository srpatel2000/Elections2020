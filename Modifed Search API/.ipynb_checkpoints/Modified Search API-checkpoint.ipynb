{
 "cells": [
  {
   "cell_type": "code",
   "execution_count": 1,
   "metadata": {},
   "outputs": [
    {
     "name": "stdout",
     "output_type": "stream",
     "text": [
      "I GOT HERE\n",
      "### Example 1 - Get tweets by username [barackobama]\n",
      "Username: \n",
      "Retweets: 123803\n",
      "Text: Protect yourself and your community from coronavirus with common sense precautions: wash your hands, stay home when sick and listen to the @CDCgov and local health authorities. Save the masks for health care workers. Let’s stay calm, listen to the experts, and follow the science.\n",
      "Mentions: @CDCgov\n",
      "Hashtags: \n",
      "\n",
      "I GOT HERE\n",
      "### Example 2 - Get tweets by query search [europe refugees]\n",
      "Username: \n",
      "Retweets: 0\n",
      "Text: [106] Europe's Refugees & American Elections w/ Chris Hedges https://youtu.be/GYqgj3l4r18 via @YouTube\n",
      "Mentions: @YouTube\n",
      "Hashtags: \n",
      "\n",
      "I GOT HERE\n",
      "### Example 3 - Get tweets by username and bound dates [barackobama, '2015-09-10', '2015-09-12']\n",
      "Username: \n",
      "Retweets: 6196\n",
      "Text: \"The events of September 11, 2001, left a permanent mark on the spirit of every American.\" —President Obamapic.twitter.com/oob3Hc0vmi\n",
      "Mentions: \n",
      "Hashtags: \n",
      "\n"
     ]
    }
   ],
   "source": [
    "import sys\n",
    "if sys.version_info[0] < 3:\n",
    "    import got\n",
    "else:\n",
    "    import got3 as got\n",
    "\n",
    "def main():\n",
    "\n",
    "    def printTweet(descr, t):\n",
    "        print(descr)\n",
    "        print(\"Username: %s\" % t.username)\n",
    "        print(\"Retweets: %d\" % t.retweets)\n",
    "        print(\"Text: %s\" % t.text)\n",
    "        print(\"Mentions: %s\" % t.mentions)\n",
    "        print(\"Hashtags: %s\\n\" % t.hashtags)\n",
    "\n",
    "    # Example 1 - Get tweets by username\n",
    "    tweetCriteria = got.manager.TweetCriteria().setUsername('barackobama').setMaxTweets(1)\n",
    "    tweet = got.manager.TweetManager.getTweets(tweetCriteria)[0]\n",
    "\n",
    "    printTweet(\"### Example 1 - Get tweets by username [barackobama]\", tweet)\n",
    "\n",
    "    # Example 2 - Get tweets by query search\n",
    "    tweetCriteria = got.manager.TweetCriteria().setQuerySearch('europe refugees').setSince(\"2015-05-01\").setUntil(\"2015-09-30\").setMaxTweets(1)\n",
    "    tweet = got.manager.TweetManager.getTweets(tweetCriteria)[0]\n",
    "\n",
    "    printTweet(\"### Example 2 - Get tweets by query search [europe refugees]\", tweet)\n",
    "\n",
    "    # Example 3 - Get tweets by username and bound dates\n",
    "    tweetCriteria = got.manager.TweetCriteria().setUsername(\"barackobama\").setSince(\"2015-09-10\").setUntil(\"2015-09-12\").setMaxTweets(1)\n",
    "    tweet = got.manager.TweetManager.getTweets(tweetCriteria)[0]\n",
    "\n",
    "    printTweet(\"### Example 3 - Get tweets by username and bound dates [barackobama, '2015-09-10', '2015-09-12']\", tweet)\n",
    "\n",
    "if __name__ == '__main__':\n",
    "    main()"
   ]
  },
  {
   "cell_type": "code",
   "execution_count": null,
   "metadata": {},
   "outputs": [],
   "source": []
  }
 ],
 "metadata": {
  "kernelspec": {
   "display_name": "Python 3",
   "language": "python",
   "name": "python3"
  },
  "language_info": {
   "codemirror_mode": {
    "name": "ipython",
    "version": 3
   },
   "file_extension": ".py",
   "mimetype": "text/x-python",
   "name": "python",
   "nbconvert_exporter": "python",
   "pygments_lexer": "ipython3",
   "version": "3.7.3"
  }
 },
 "nbformat": 4,
 "nbformat_minor": 2
}
