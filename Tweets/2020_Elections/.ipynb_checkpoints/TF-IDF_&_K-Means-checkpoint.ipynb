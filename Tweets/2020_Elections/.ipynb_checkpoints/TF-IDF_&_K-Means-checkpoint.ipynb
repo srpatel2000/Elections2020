{
 "cells": [
  {
   "cell_type": "code",
   "execution_count": 1,
   "metadata": {},
   "outputs": [],
   "source": [
    "import pandas as pd\n",
    "import numpy as np"
   ]
  },
  {
   "cell_type": "code",
   "execution_count": 33,
   "metadata": {},
   "outputs": [],
   "source": [
    "biden = pd.read_csv(\"Biden_Tweets.csv\")\n",
    "biden_tweets = biden[\"Text\"].dropna()"
   ]
  },
  {
   "cell_type": "code",
   "execution_count": null,
   "metadata": {},
   "outputs": [],
   "source": [
    "dicts = []\n",
    "for t in biden_tweets:\n",
    "    words = t.split(\" \")\n",
    "    word_dict = dict.fromkeys(set(words), 0)\n",
    "    for word in words:\n",
    "        word_dict[word] += 1\n",
    "    dicts.append(word_dict)\n",
    "    \n",
    "dicts\n",
    "pd.DataFrame(dicts)"
   ]
  },
  {
   "cell_type": "code",
   "execution_count": 27,
   "metadata": {},
   "outputs": [
    {
     "data": {
      "text/plain": [
       "{'sits': 1,\n",
       " 'in': 1,\n",
       " 'intelligence': 2,\n",
       " 'a': 1,\n",
       " 'have': 1,\n",
       " 'is': 2,\n",
       " 'house': 1,\n",
       " 'he': 4,\n",
       " 'Joe': 1,\n",
       " 'there': 1,\n",
       " 'as': 1,\n",
       " 'Biden': 1,\n",
       " 'has': 1,\n",
       " 'yet': 1,\n",
       " 'the': 3,\n",
       " 'asking': 1,\n",
       " 'and': 1,\n",
       " 'to': 2,\n",
       " 'stupid': 1,\n",
       " 'with': 1,\n",
       " 'be': 2,\n",
       " 'grin': 1,\n",
       " 'white': 1,\n",
       " 'Trump': 1,\n",
       " 'face.': 1,\n",
       " 'if': 1,\n",
       " 'So': 1,\n",
       " 'on': 1,\n",
       " \"doesn't\": 1,\n",
       " 'his': 1,\n",
       " 'president': 2}"
      ]
     },
     "execution_count": 27,
     "metadata": {},
     "output_type": "execute_result"
    }
   ],
   "source": [
    "word_dict = dict.fromkeys(set(words), 0)\n",
    "\n",
    "for word in words:\n",
    "    word_dict[word] += 1\n",
    "    \n",
    "word_dict"
   ]
  },
  {
   "cell_type": "code",
   "execution_count": 28,
   "metadata": {},
   "outputs": [
    {
     "data": {
      "text/html": [
       "<div>\n",
       "<style scoped>\n",
       "    .dataframe tbody tr th:only-of-type {\n",
       "        vertical-align: middle;\n",
       "    }\n",
       "\n",
       "    .dataframe tbody tr th {\n",
       "        vertical-align: top;\n",
       "    }\n",
       "\n",
       "    .dataframe thead th {\n",
       "        text-align: right;\n",
       "    }\n",
       "</style>\n",
       "<table border=\"1\" class=\"dataframe\">\n",
       "  <thead>\n",
       "    <tr style=\"text-align: right;\">\n",
       "      <th></th>\n",
       "      <th>Biden</th>\n",
       "      <th>Joe</th>\n",
       "      <th>So</th>\n",
       "      <th>Trump</th>\n",
       "      <th>a</th>\n",
       "      <th>and</th>\n",
       "      <th>as</th>\n",
       "      <th>asking</th>\n",
       "      <th>be</th>\n",
       "      <th>doesn't</th>\n",
       "      <th>...</th>\n",
       "      <th>on</th>\n",
       "      <th>president</th>\n",
       "      <th>sits</th>\n",
       "      <th>stupid</th>\n",
       "      <th>the</th>\n",
       "      <th>there</th>\n",
       "      <th>to</th>\n",
       "      <th>white</th>\n",
       "      <th>with</th>\n",
       "      <th>yet</th>\n",
       "    </tr>\n",
       "  </thead>\n",
       "  <tbody>\n",
       "    <tr>\n",
       "      <th>0</th>\n",
       "      <td>1</td>\n",
       "      <td>1</td>\n",
       "      <td>1</td>\n",
       "      <td>1</td>\n",
       "      <td>1</td>\n",
       "      <td>1</td>\n",
       "      <td>1</td>\n",
       "      <td>1</td>\n",
       "      <td>2</td>\n",
       "      <td>1</td>\n",
       "      <td>...</td>\n",
       "      <td>1</td>\n",
       "      <td>2</td>\n",
       "      <td>1</td>\n",
       "      <td>1</td>\n",
       "      <td>3</td>\n",
       "      <td>1</td>\n",
       "      <td>2</td>\n",
       "      <td>1</td>\n",
       "      <td>1</td>\n",
       "      <td>1</td>\n",
       "    </tr>\n",
       "  </tbody>\n",
       "</table>\n",
       "<p>1 rows × 31 columns</p>\n",
       "</div>"
      ],
      "text/plain": [
       "   Biden  Joe  So  Trump  a  and  as  asking  be  doesn't  ...  on  president  \\\n",
       "0      1    1   1      1  1    1   1       1   2        1  ...   1          2   \n",
       "\n",
       "   sits  stupid  the  there  to  white  with  yet  \n",
       "0     1       1    3      1   2      1     1    1  \n",
       "\n",
       "[1 rows x 31 columns]"
      ]
     },
     "execution_count": 28,
     "metadata": {},
     "output_type": "execute_result"
    }
   ],
   "source": [
    "pd.DataFrame([word_dict])"
   ]
  },
  {
   "cell_type": "code",
   "execution_count": 25,
   "metadata": {},
   "outputs": [],
   "source": [
    "def compute_tf(word_dict, l):\n",
    "    tf = {}\n",
    "    sum_nk = len(l)\n",
    "    for word, count in word_dict.items():\n",
    "        tf[word] = count/sum_nk\n",
    "    return tf"
   ]
  },
  {
   "cell_type": "code",
   "execution_count": 30,
   "metadata": {},
   "outputs": [
    {
     "data": {
      "text/plain": [
       "{'sits': 0.024390243902439025,\n",
       " 'in': 0.024390243902439025,\n",
       " 'intelligence': 0.04878048780487805,\n",
       " 'a': 0.024390243902439025,\n",
       " 'have': 0.024390243902439025,\n",
       " 'is': 0.04878048780487805,\n",
       " 'house': 0.024390243902439025,\n",
       " 'he': 0.0975609756097561,\n",
       " 'Joe': 0.024390243902439025,\n",
       " 'there': 0.024390243902439025,\n",
       " 'as': 0.024390243902439025,\n",
       " 'Biden': 0.024390243902439025,\n",
       " 'has': 0.024390243902439025,\n",
       " 'yet': 0.024390243902439025,\n",
       " 'the': 0.07317073170731707,\n",
       " 'asking': 0.024390243902439025,\n",
       " 'and': 0.024390243902439025,\n",
       " 'to': 0.04878048780487805,\n",
       " 'stupid': 0.024390243902439025,\n",
       " 'with': 0.024390243902439025,\n",
       " 'be': 0.04878048780487805,\n",
       " 'grin': 0.024390243902439025,\n",
       " 'white': 0.024390243902439025,\n",
       " 'Trump': 0.024390243902439025,\n",
       " 'face.': 0.024390243902439025,\n",
       " 'if': 0.024390243902439025,\n",
       " 'So': 0.024390243902439025,\n",
       " 'on': 0.024390243902439025,\n",
       " \"doesn't\": 0.024390243902439025,\n",
       " 'his': 0.024390243902439025,\n",
       " 'president': 0.04878048780487805}"
      ]
     },
     "execution_count": 30,
     "metadata": {},
     "output_type": "execute_result"
    }
   ],
   "source": [
    "compute_tf(word_dict, words)"
   ]
  },
  {
   "cell_type": "code",
   "execution_count": null,
   "metadata": {},
   "outputs": [],
   "source": []
  }
 ],
 "metadata": {
  "kernelspec": {
   "display_name": "Python 3",
   "language": "python",
   "name": "python3"
  },
  "language_info": {
   "codemirror_mode": {
    "name": "ipython",
    "version": 3
   },
   "file_extension": ".py",
   "mimetype": "text/x-python",
   "name": "python",
   "nbconvert_exporter": "python",
   "pygments_lexer": "ipython3",
   "version": "3.7.3"
  }
 },
 "nbformat": 4,
 "nbformat_minor": 2
}
