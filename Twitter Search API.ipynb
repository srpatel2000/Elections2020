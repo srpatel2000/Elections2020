{
 "cells": [
  {
   "cell_type": "markdown",
   "metadata": {},
   "source": [
    "# Twitter Search API\n",
    "This portion of the Elections 2020 Project is the Twitter Search API. This will be used to scrape tweets from Twitter regarding the 2020 elections. We are doing this because we can't find an existing dataset and need tweets to run our algorithm on.  \n",
    "\n",
    "__Acknowledgements__: Thank you to Youtube user @ritvikmath for creating a detailed video and guiding our project in how to make this API. Link: https://www.youtube.com/watch?v=Ou_floKQqd8"
   ]
  },
  {
   "cell_type": "code",
   "execution_count": 1,
   "metadata": {},
   "outputs": [
    {
     "ename": "ModuleNotFoundError",
     "evalue": "No module named 'twitter'",
     "output_type": "error",
     "traceback": [
      "\u001b[0;31m---------------------------------------------------------------------------\u001b[0m",
      "\u001b[0;31mModuleNotFoundError\u001b[0m                       Traceback (most recent call last)",
      "\u001b[0;32m<ipython-input-1-c34b0b2f34c4>\u001b[0m in \u001b[0;36m<module>\u001b[0;34m()\u001b[0m\n\u001b[0;32m----> 1\u001b[0;31m \u001b[0;32mimport\u001b[0m \u001b[0mtwitter\u001b[0m\u001b[0;34m\u001b[0m\u001b[0;34m\u001b[0m\u001b[0m\n\u001b[0m\u001b[1;32m      2\u001b[0m \u001b[0;32mimport\u001b[0m \u001b[0mpandas\u001b[0m \u001b[0;32mas\u001b[0m \u001b[0mpd\u001b[0m\u001b[0;34m\u001b[0m\u001b[0;34m\u001b[0m\u001b[0m\n\u001b[1;32m      3\u001b[0m \u001b[0;32mimport\u001b[0m \u001b[0mtweepy\u001b[0m\u001b[0;34m\u001b[0m\u001b[0;34m\u001b[0m\u001b[0m\n\u001b[1;32m      4\u001b[0m \u001b[0;32mimport\u001b[0m \u001b[0mcsv\u001b[0m\u001b[0;34m\u001b[0m\u001b[0;34m\u001b[0m\u001b[0m\n",
      "\u001b[0;31mModuleNotFoundError\u001b[0m: No module named 'twitter'"
     ]
    }
   ],
   "source": [
    "import twitter\n",
    "import pandas as pd\n",
    "import tweepy\n",
    "import csv\n",
    "import json"
   ]
  },
  {
   "cell_type": "code",
   "execution_count": 1,
   "metadata": {},
   "outputs": [
    {
     "ename": "ModuleNotFoundError",
     "evalue": "No module named 'twitter'",
     "output_type": "error",
     "traceback": [
      "\u001b[0;31m---------------------------------------------------------------------------\u001b[0m",
      "\u001b[0;31mModuleNotFoundError\u001b[0m                       Traceback (most recent call last)",
      "\u001b[0;32m<ipython-input-1-eb467f8e97bf>\u001b[0m in \u001b[0;36m<module>\u001b[0;34m()\u001b[0m\n\u001b[0;32m----> 1\u001b[0;31m \u001b[0;32mimport\u001b[0m \u001b[0mtwitter\u001b[0m\u001b[0;34m\u001b[0m\u001b[0;34m\u001b[0m\u001b[0m\n\u001b[0m\u001b[1;32m      2\u001b[0m \u001b[0;32mimport\u001b[0m \u001b[0mpandas\u001b[0m \u001b[0;32mas\u001b[0m \u001b[0mpd\u001b[0m\u001b[0;34m\u001b[0m\u001b[0;34m\u001b[0m\u001b[0m\n\u001b[1;32m      3\u001b[0m \u001b[0;32mimport\u001b[0m \u001b[0mtweepy\u001b[0m\u001b[0;34m\u001b[0m\u001b[0;34m\u001b[0m\u001b[0m\n\u001b[1;32m      4\u001b[0m \u001b[0;32mimport\u001b[0m \u001b[0mcsv\u001b[0m\u001b[0;34m\u001b[0m\u001b[0;34m\u001b[0m\u001b[0m\n\u001b[1;32m      5\u001b[0m \u001b[0;34m\u001b[0m\u001b[0m\n",
      "\u001b[0;31mModuleNotFoundError\u001b[0m: No module named 'twitter'"
     ]
    }
   ],
   "source": [
    "#twitter api keys \n",
    "consumer_key = ''\n",
    "consumer_secret = ''\n",
    "access_token = ''\n",
    "access_secret = ''\n",
    "\n",
    "\n",
    "def retrieve_tweets(input_file, output_file):\n",
    "    \n",
    "    \"\"\"\n",
    "    Takes an input filename/path of tweetIDs and outputs the full tweet data to a csv\n",
    "    \"\"\"\n",
    "    \n",
    "    # Authorization with Twitter\n",
    "    \n",
    "    auth = tweepy.OAuthHandler(consumer_key, consumer_secret)\n",
    "    auth.set_access_token(access_token, access_secret)\n",
    "    api = tweepy.API(auth, wait_on_rate_limit = True, wait_on_rate_limit_notify=True, retry_count=3, retry_delay=5, retry_errors=set([401, 404, 500, 503]))\n",
    "    \n",
    "    # Read input file\n",
    "\n",
    "    df = pd.read_csv(input_file)\n",
    "\n",
    "    # Create output file\n",
    "\n",
    "    csvFile = open(output_file, 'w')\n",
    "    csvWriter = csv.writer(csvFile)\n",
    "    csvWriter.writerow([\"text\",\n",
    "                        \"created_at\",\n",
    "                        \"geo\",\n",
    "                        \"lang\",\n",
    "                        \"place\",\n",
    "                        \"coordinates\",\n",
    "                        \"user.favourites_count\",\n",
    "                        \"user.statuses_count\",\n",
    "                        \"user.description\",\n",
    "                        \"user.location\",\n",
    "                        \"user.id\",\n",
    "                        \"user.created_at\",\n",
    "                        \"user.verified\",\n",
    "                        \"user.following\",\n",
    "                        \"user.url\",\n",
    "                        \"user.listed_count\",\n",
    "                        \"user.followers_count\",\n",
    "                        \"user.default_profile_image\",\n",
    "                        \"user.utc_offset\",\n",
    "                        \"user.friends_count\",\n",
    "                        \"user.default_profile\",\n",
    "                        \"user.name\",\n",
    "                        \"user.lang\",\n",
    "                        \"user.screen_name\",\n",
    "                        \"user.geo_enabled\",\n",
    "                        \"user.profile_background_color\",\n",
    "                        \"user.profile_image_url\",\n",
    "                        \"user.time_zone\",\n",
    "                        \"id\",\n",
    "                        \"favorite_count\",\n",
    "                        \"retweeted\",\n",
    "                        \"source\",\n",
    "                        \"favorited\",\n",
    "                        \"retweet_count\"])\n",
    "    \n",
    "    # Append tweets to output file\n",
    "\n",
    "    for tweetid in df.iloc[:,0]:\n",
    "\n",
    "        csvFile = open(output_file, 'a')\n",
    "\n",
    "        csvWriter = csv.writer(csvFile)\n",
    "\n",
    "        try:\n",
    "            status = api.get_status(tweetid)\n",
    "            csvWriter.writerow([status.text,\n",
    "                                status.created_at,\n",
    "                                status.geo,\n",
    "                                status.lang,\n",
    "                                status.place,\n",
    "                                status.coordinates,\n",
    "                                status.user.favourites_count,\n",
    "                                status.user.statuses_count,\n",
    "                                status.user.description,\n",
    "                                status.user.location,\n",
    "                                status.user.id,\n",
    "                                status.user.created_at,\n",
    "                                status.user.verified,\n",
    "                                status.user.following,\n",
    "                                status.user.url,\n",
    "                                status.user.listed_count,\n",
    "                                status.user.followers_count,\n",
    "                                status.user.default_profile_image,\n",
    "                                status.user.utc_offset,\n",
    "                                status.user.friends_count,\n",
    "                                status.user.default_profile,\n",
    "                                status.user.name,\n",
    "                                status.user.lang,\n",
    "                                status.user.screen_name,\n",
    "                                status.user.geo_enabled,\n",
    "                                status.user.profile_background_color,\n",
    "                                status.user.profile_image_url,\n",
    "                                status.user.time_zone,\n",
    "                                status.id,\n",
    "                                status.favorite_count,\n",
    "                                status.retweeted,\n",
    "                                status.source,\n",
    "                                status.favorited,\n",
    "                                status.retweet_count])\n",
    "        except Exception as e:\n",
    "            print(e)\n",
    "            pass\n"
   ]
  },
  {
   "cell_type": "code",
   "execution_count": null,
   "metadata": {},
   "outputs": [],
   "source": []
  }
 ],
 "metadata": {
  "kernelspec": {
   "display_name": "Python 3",
   "language": "python",
   "name": "python3"
  },
  "language_info": {
   "codemirror_mode": {
    "name": "ipython",
    "version": 3
   },
   "file_extension": ".py",
   "mimetype": "text/x-python",
   "name": "python",
   "nbconvert_exporter": "python",
   "pygments_lexer": "ipython3",
   "version": "3.7.3"
  }
 },
 "nbformat": 4,
 "nbformat_minor": 2
}
