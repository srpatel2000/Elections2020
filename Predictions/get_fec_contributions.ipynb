{
 "cells": [
  {
   "cell_type": "markdown",
   "metadata": {},
   "source": [
    "## Scraping FEC Contributions\n",
    "_Tutorial:_ https://www.youtube.com/watch?v=v5DDW5dyfyc"
   ]
  },
  {
   "cell_type": "code",
   "execution_count": 105,
   "metadata": {},
   "outputs": [],
   "source": [
    "import requests\n",
    "import pandas as pd"
   ]
  },
  {
   "cell_type": "code",
   "execution_count": 34,
   "metadata": {},
   "outputs": [],
   "source": [
    "r = requests.get(\"https://projects.propublica.org/itemizer/presidential-contributors/2020\")"
   ]
  },
  {
   "cell_type": "code",
   "execution_count": 35,
   "metadata": {},
   "outputs": [],
   "source": [
    "from bs4 import BeautifulSoup\n",
    "soup = BeautifulSoup(r.text, 'html.parser')"
   ]
  },
  {
   "cell_type": "code",
   "execution_count": 36,
   "metadata": {},
   "outputs": [],
   "source": [
    "results = soup.find_all('td')"
   ]
  },
  {
   "cell_type": "code",
   "execution_count": 37,
   "metadata": {},
   "outputs": [
    {
     "data": {
      "text/plain": [
       "108"
      ]
     },
     "execution_count": 37,
     "metadata": {},
     "output_type": "execute_result"
    }
   ],
   "source": [
    "len(results)"
   ]
  },
  {
   "cell_type": "code",
   "execution_count": 38,
   "metadata": {},
   "outputs": [
    {
     "name": "stdout",
     "output_type": "stream",
     "text": [
      "<td><a href=\"https://pp-projects-static.s3.amazonaws.com/itemizer/president/contributions_q1_2019_AL.csv\">Q1 2019</a> | <a href=\"https://pp-projects-static.s3.amazonaws.com/itemizer/president/contributions_q2_2019_AL.csv\">Q2 2019</a> | <a href=\"https://pp-projects-static.s3.amazonaws.com/itemizer/president/contributions_q3_2019_AL.csv\">Q3 2019</a> | <a href=\"https://pp-projects-static.s3.amazonaws.com/itemizer/president/contributions_q4_2019_AL.csv\">Q4 2019</a> | <a href=\"https://pp-projects-static.s3.amazonaws.com/itemizer/president/contributions_m1_2020_AL.csv\">Jan. 2020</a></td>\n"
     ]
    }
   ],
   "source": [
    "print(results[1])"
   ]
  },
  {
   "cell_type": "code",
   "execution_count": 94,
   "metadata": {},
   "outputs": [
    {
     "data": {
      "text/plain": [
       "'https://pp-projects-static.s3.amazonaws.com/itemizer/president/contributions_m1_2020_AL.csv'"
      ]
     },
     "execution_count": 94,
     "metadata": {},
     "output_type": "execute_result"
    }
   ],
   "source": [
    "first_result = results[1]\n",
    "first_result.find_all('a')[4]['href']"
   ]
  },
  {
   "cell_type": "code",
   "execution_count": 95,
   "metadata": {},
   "outputs": [],
   "source": [
    "urls = []\n",
    "for i in range(len(results)):\n",
    "    for j in range(len(results[i].find_all('a'))):\n",
    "        urls.append(results[i].find_all('a')[j]['href'])"
   ]
  },
  {
   "cell_type": "code",
   "execution_count": 101,
   "metadata": {},
   "outputs": [
    {
     "data": {
      "text/plain": [
       "['https://pp-projects-static.s3.amazonaws.com/itemizer/president/contributions_q1_2019_AL.csv',\n",
       " 'https://pp-projects-static.s3.amazonaws.com/itemizer/president/contributions_q2_2019_AL.csv',\n",
       " 'https://pp-projects-static.s3.amazonaws.com/itemizer/president/contributions_q3_2019_AL.csv',\n",
       " 'https://pp-projects-static.s3.amazonaws.com/itemizer/president/contributions_q4_2019_AL.csv',\n",
       " 'https://pp-projects-static.s3.amazonaws.com/itemizer/president/contributions_m1_2020_AL.csv']"
      ]
     },
     "execution_count": 101,
     "metadata": {},
     "output_type": "execute_result"
    }
   ],
   "source": [
    "urls[0:5]"
   ]
  },
  {
   "cell_type": "code",
   "execution_count": 103,
   "metadata": {},
   "outputs": [
    {
     "name": "stdout",
     "output_type": "stream",
     "text": [
      "https://pp-projects-static.s3.amazonaws.com/itemizer/president/contributions_q1_2019_AL.csv\n"
     ]
    }
   ],
   "source": [
    "print(urls[0])"
   ]
  },
  {
   "cell_type": "code",
   "execution_count": 122,
   "metadata": {},
   "outputs": [
    {
     "ename": "TypeError",
     "evalue": "write() argument must be str, not bytes",
     "output_type": "error",
     "traceback": [
      "\u001b[0;31m---------------------------------------------------------------------------\u001b[0m",
      "\u001b[0;31mTypeError\u001b[0m                                 Traceback (most recent call last)",
      "\u001b[0;32m<ipython-input-122-73a5b121ea9b>\u001b[0m in \u001b[0;36m<module>\u001b[0;34m\u001b[0m\n\u001b[1;32m     11\u001b[0m         \u001b[0murl_content\u001b[0m \u001b[0;34m=\u001b[0m \u001b[0mreq\u001b[0m\u001b[0;34m.\u001b[0m\u001b[0mcontent\u001b[0m\u001b[0;34m\u001b[0m\u001b[0;34m\u001b[0m\u001b[0m\n\u001b[1;32m     12\u001b[0m         \u001b[0mcsv_file\u001b[0m \u001b[0;34m=\u001b[0m \u001b[0mopen\u001b[0m\u001b[0;34m(\u001b[0m\u001b[0;34m'fec_contributions.csv'\u001b[0m\u001b[0;34m,\u001b[0m \u001b[0;34m'a+'\u001b[0m\u001b[0;34m)\u001b[0m\u001b[0;34m\u001b[0m\u001b[0;34m\u001b[0m\u001b[0m\n\u001b[0;32m---> 13\u001b[0;31m         \u001b[0mcsv_file\u001b[0m\u001b[0;34m.\u001b[0m\u001b[0mwrite\u001b[0m\u001b[0;34m(\u001b[0m\u001b[0murl_content\u001b[0m\u001b[0;34m)\u001b[0m\u001b[0;34m\u001b[0m\u001b[0;34m\u001b[0m\u001b[0m\n\u001b[0m\u001b[1;32m     14\u001b[0m \u001b[0;34m\u001b[0m\u001b[0m\n\u001b[1;32m     15\u001b[0m \u001b[0;34m\u001b[0m\u001b[0m\n",
      "\u001b[0;31mTypeError\u001b[0m: write() argument must be str, not bytes"
     ]
    }
   ],
   "source": [
    "   \n",
    "if count == 0:\n",
    "        req = requests.get(urls[i])\n",
    "        url_content = req.content\n",
    "        csv_file = open('fec_contributions.csv', 'wb')\n",
    "        csv_file.write(url_content)\n",
    "        count += 1\n",
    "    else:\n",
    "        req = requests.get(urls[i])\n",
    "        url_content = req.content\n",
    "        csv_file = open('fec_contributions.csv', 'a+')\n",
    "        csv_file.write(url_content)\n",
    "        \n",
    "\n",
    "csv_file.close()"
   ]
  },
  {
   "cell_type": "code",
   "execution_count": 147,
   "metadata": {},
   "outputs": [],
   "source": [
    "count = 0\n",
    "for i in range(len(urls)):\n",
    "    if count == 0:\n",
    "        fec_contrubtions = pd.read_csv(urls[0], low_memory = False)\n",
    "        count += 1\n",
    "    else:\n",
    "        fec_contrubtions = pd.concat([fec_contrubtions, pd.read_csv(urls[i],low_memory = False)])\n",
    "\n",
    "fec_contrubtions = fec_contrubtions.reset_index(drop=True)"
   ]
  },
  {
   "cell_type": "code",
   "execution_count": 148,
   "metadata": {},
   "outputs": [
    {
     "data": {
      "text/html": [
       "<div>\n",
       "<style scoped>\n",
       "    .dataframe tbody tr th:only-of-type {\n",
       "        vertical-align: middle;\n",
       "    }\n",
       "\n",
       "    .dataframe tbody tr th {\n",
       "        vertical-align: top;\n",
       "    }\n",
       "\n",
       "    .dataframe thead th {\n",
       "        text-align: right;\n",
       "    }\n",
       "</style>\n",
       "<table border=\"1\" class=\"dataframe\">\n",
       "  <thead>\n",
       "    <tr style=\"text-align: right;\">\n",
       "      <th></th>\n",
       "      <th>filing_id</th>\n",
       "      <th>linenumber</th>\n",
       "      <th>flag_orgind</th>\n",
       "      <th>org_name</th>\n",
       "      <th>last_name</th>\n",
       "      <th>first_name</th>\n",
       "      <th>middle_name</th>\n",
       "      <th>prefix</th>\n",
       "      <th>suffix</th>\n",
       "      <th>address_one</th>\n",
       "      <th>...</th>\n",
       "      <th>aggregate_amount</th>\n",
       "      <th>memo_code</th>\n",
       "      <th>memo_text</th>\n",
       "      <th>tran_id</th>\n",
       "      <th>back_ref_tran_id</th>\n",
       "      <th>back_ref_sched_name</th>\n",
       "      <th>prigen</th>\n",
       "      <th>cycle</th>\n",
       "      <th>fecid</th>\n",
       "      <th>committee_name</th>\n",
       "    </tr>\n",
       "  </thead>\n",
       "  <tbody>\n",
       "    <tr>\n",
       "      <th>0</th>\n",
       "      <td>SA17A</td>\n",
       "      <td>SA17A</td>\n",
       "      <td>IND</td>\n",
       "      <td>NaN</td>\n",
       "      <td>Drake</td>\n",
       "      <td>Russell</td>\n",
       "      <td>NaN</td>\n",
       "      <td>NaN</td>\n",
       "      <td>NaN</td>\n",
       "      <td>2325 Highland Cres S</td>\n",
       "      <td>...</td>\n",
       "      <td>250.00</td>\n",
       "      <td>NaN</td>\n",
       "      <td>* Earmarked Contribution: See Below</td>\n",
       "      <td>1694494</td>\n",
       "      <td>1694494E</td>\n",
       "      <td>SA17A</td>\n",
       "      <td>P2020</td>\n",
       "      <td>2020</td>\n",
       "      <td>C00694455</td>\n",
       "      <td>Kamala Harris For The People</td>\n",
       "    </tr>\n",
       "    <tr>\n",
       "      <th>1</th>\n",
       "      <td>SA17A</td>\n",
       "      <td>SA17A</td>\n",
       "      <td>IND</td>\n",
       "      <td>NaN</td>\n",
       "      <td>Dunn</td>\n",
       "      <td>Cody</td>\n",
       "      <td>NaN</td>\n",
       "      <td>NaN</td>\n",
       "      <td>NaN</td>\n",
       "      <td>7280 Lakewood Rd</td>\n",
       "      <td>...</td>\n",
       "      <td>250.00</td>\n",
       "      <td>NaN</td>\n",
       "      <td>* Earmarked Contribution: See Below</td>\n",
       "      <td>1693224</td>\n",
       "      <td>1693224E</td>\n",
       "      <td>SA17A</td>\n",
       "      <td>P2020</td>\n",
       "      <td>2020</td>\n",
       "      <td>C00694455</td>\n",
       "      <td>Kamala Harris For The People</td>\n",
       "    </tr>\n",
       "    <tr>\n",
       "      <th>2</th>\n",
       "      <td>SA17A</td>\n",
       "      <td>SA17A</td>\n",
       "      <td>IND</td>\n",
       "      <td>NaN</td>\n",
       "      <td>McPhillips</td>\n",
       "      <td>Frank</td>\n",
       "      <td>NaN</td>\n",
       "      <td>NaN</td>\n",
       "      <td>NaN</td>\n",
       "      <td>3715 Old Leeds Rd</td>\n",
       "      <td>...</td>\n",
       "      <td>500.00</td>\n",
       "      <td>NaN</td>\n",
       "      <td>* Earmarked Contribution: See Below</td>\n",
       "      <td>1693654</td>\n",
       "      <td>1693654E</td>\n",
       "      <td>SA17A</td>\n",
       "      <td>P2020</td>\n",
       "      <td>2020</td>\n",
       "      <td>C00694455</td>\n",
       "      <td>Kamala Harris For The People</td>\n",
       "    </tr>\n",
       "    <tr>\n",
       "      <th>3</th>\n",
       "      <td>SA17A</td>\n",
       "      <td>SA17A</td>\n",
       "      <td>IND</td>\n",
       "      <td>NaN</td>\n",
       "      <td>Rumble</td>\n",
       "      <td>Henry</td>\n",
       "      <td>NaN</td>\n",
       "      <td>NaN</td>\n",
       "      <td>NaN</td>\n",
       "      <td>3779 Crossings Crst</td>\n",
       "      <td>...</td>\n",
       "      <td>297.84</td>\n",
       "      <td>NaN</td>\n",
       "      <td>* Earmarked Contribution: See Below</td>\n",
       "      <td>1685902</td>\n",
       "      <td>1685902E</td>\n",
       "      <td>SA17A</td>\n",
       "      <td>P2020</td>\n",
       "      <td>2020</td>\n",
       "      <td>C00694455</td>\n",
       "      <td>Kamala Harris For The People</td>\n",
       "    </tr>\n",
       "    <tr>\n",
       "      <th>4</th>\n",
       "      <td>SA17A</td>\n",
       "      <td>SA17A</td>\n",
       "      <td>IND</td>\n",
       "      <td>NaN</td>\n",
       "      <td>Rumble</td>\n",
       "      <td>Henry</td>\n",
       "      <td>NaN</td>\n",
       "      <td>NaN</td>\n",
       "      <td>NaN</td>\n",
       "      <td>3779 Crossings Crst</td>\n",
       "      <td>...</td>\n",
       "      <td>297.84</td>\n",
       "      <td>NaN</td>\n",
       "      <td>* Earmarked Contribution: See Below</td>\n",
       "      <td>1677891</td>\n",
       "      <td>1677891E</td>\n",
       "      <td>SA17A</td>\n",
       "      <td>P2020</td>\n",
       "      <td>2020</td>\n",
       "      <td>C00694455</td>\n",
       "      <td>Kamala Harris For The People</td>\n",
       "    </tr>\n",
       "    <tr>\n",
       "      <th>...</th>\n",
       "      <td>...</td>\n",
       "      <td>...</td>\n",
       "      <td>...</td>\n",
       "      <td>...</td>\n",
       "      <td>...</td>\n",
       "      <td>...</td>\n",
       "      <td>...</td>\n",
       "      <td>...</td>\n",
       "      <td>...</td>\n",
       "      <td>...</td>\n",
       "      <td>...</td>\n",
       "      <td>...</td>\n",
       "      <td>...</td>\n",
       "      <td>...</td>\n",
       "      <td>...</td>\n",
       "      <td>...</td>\n",
       "      <td>...</td>\n",
       "      <td>...</td>\n",
       "      <td>...</td>\n",
       "      <td>...</td>\n",
       "      <td>...</td>\n",
       "    </tr>\n",
       "    <tr>\n",
       "      <th>4383454</th>\n",
       "      <td>SA17A</td>\n",
       "      <td>SA17A</td>\n",
       "      <td>IND</td>\n",
       "      <td>NaN</td>\n",
       "      <td>Casterline</td>\n",
       "      <td>Leroy</td>\n",
       "      <td>NaN</td>\n",
       "      <td>NaN</td>\n",
       "      <td>NaN</td>\n",
       "      <td>3520 Gila Bnd</td>\n",
       "      <td>...</td>\n",
       "      <td>301.24</td>\n",
       "      <td>NaN</td>\n",
       "      <td>* Earmarked Contribution: See Below</td>\n",
       "      <td>2454829</td>\n",
       "      <td>2454829E</td>\n",
       "      <td>SA17A</td>\n",
       "      <td>P2020</td>\n",
       "      <td>2020</td>\n",
       "      <td>C00697441</td>\n",
       "      <td>Pete For America, Inc.</td>\n",
       "    </tr>\n",
       "    <tr>\n",
       "      <th>4383455</th>\n",
       "      <td>SA17A</td>\n",
       "      <td>SA17A</td>\n",
       "      <td>IND</td>\n",
       "      <td>NaN</td>\n",
       "      <td>Hitt</td>\n",
       "      <td>Kathy</td>\n",
       "      <td>NaN</td>\n",
       "      <td>NaN</td>\n",
       "      <td>NaN</td>\n",
       "      <td>328 Sweetwater St</td>\n",
       "      <td>...</td>\n",
       "      <td>275.00</td>\n",
       "      <td>NaN</td>\n",
       "      <td>* Earmarked Contribution: See Below</td>\n",
       "      <td>2524329</td>\n",
       "      <td>2524329E</td>\n",
       "      <td>SA17A</td>\n",
       "      <td>P2020</td>\n",
       "      <td>2020</td>\n",
       "      <td>C00697441</td>\n",
       "      <td>Pete For America, Inc.</td>\n",
       "    </tr>\n",
       "    <tr>\n",
       "      <th>4383456</th>\n",
       "      <td>SA17A</td>\n",
       "      <td>SA17A</td>\n",
       "      <td>IND</td>\n",
       "      <td>NaN</td>\n",
       "      <td>Sontum</td>\n",
       "      <td>Diane</td>\n",
       "      <td>NaN</td>\n",
       "      <td>NaN</td>\n",
       "      <td>NaN</td>\n",
       "      <td>4218 Cheyenne Drive</td>\n",
       "      <td>...</td>\n",
       "      <td>604.21</td>\n",
       "      <td>NaN</td>\n",
       "      <td>NaN</td>\n",
       "      <td>IDTA321630</td>\n",
       "      <td>NaN</td>\n",
       "      <td>NaN</td>\n",
       "      <td>P2020</td>\n",
       "      <td>2020</td>\n",
       "      <td>C00696054</td>\n",
       "      <td>Marianne Williamson For President</td>\n",
       "    </tr>\n",
       "    <tr>\n",
       "      <th>4383457</th>\n",
       "      <td>SA17A</td>\n",
       "      <td>SA17A</td>\n",
       "      <td>IND</td>\n",
       "      <td>NaN</td>\n",
       "      <td>Sontum</td>\n",
       "      <td>Gary</td>\n",
       "      <td>NaN</td>\n",
       "      <td>NaN</td>\n",
       "      <td>NaN</td>\n",
       "      <td>4218 Cheyenne Drive</td>\n",
       "      <td>...</td>\n",
       "      <td>460.00</td>\n",
       "      <td>NaN</td>\n",
       "      <td>NaN</td>\n",
       "      <td>IDTA339380</td>\n",
       "      <td>NaN</td>\n",
       "      <td>NaN</td>\n",
       "      <td>P2020</td>\n",
       "      <td>2020</td>\n",
       "      <td>C00696054</td>\n",
       "      <td>Marianne Williamson For President</td>\n",
       "    </tr>\n",
       "    <tr>\n",
       "      <th>4383458</th>\n",
       "      <td>SA17A</td>\n",
       "      <td>SA17A</td>\n",
       "      <td>IND</td>\n",
       "      <td>NaN</td>\n",
       "      <td>Bennett</td>\n",
       "      <td>Edith</td>\n",
       "      <td>NaN</td>\n",
       "      <td>NaN</td>\n",
       "      <td>NaN</td>\n",
       "      <td>P.O. Box 953</td>\n",
       "      <td>...</td>\n",
       "      <td>250.00</td>\n",
       "      <td>NaN</td>\n",
       "      <td>NaN</td>\n",
       "      <td>IDTA380324</td>\n",
       "      <td>NaN</td>\n",
       "      <td>NaN</td>\n",
       "      <td>P2020</td>\n",
       "      <td>2020</td>\n",
       "      <td>C00696054</td>\n",
       "      <td>Marianne Williamson For President</td>\n",
       "    </tr>\n",
       "  </tbody>\n",
       "</table>\n",
       "<p>4383459 rows × 28 columns</p>\n",
       "</div>"
      ],
      "text/plain": [
       "        filing_id linenumber flag_orgind org_name   last_name first_name  \\\n",
       "0           SA17A      SA17A         IND      NaN       Drake    Russell   \n",
       "1           SA17A      SA17A         IND      NaN        Dunn       Cody   \n",
       "2           SA17A      SA17A         IND      NaN  McPhillips      Frank   \n",
       "3           SA17A      SA17A         IND      NaN      Rumble      Henry   \n",
       "4           SA17A      SA17A         IND      NaN      Rumble      Henry   \n",
       "...           ...        ...         ...      ...         ...        ...   \n",
       "4383454     SA17A      SA17A         IND      NaN  Casterline      Leroy   \n",
       "4383455     SA17A      SA17A         IND      NaN        Hitt      Kathy   \n",
       "4383456     SA17A      SA17A         IND      NaN      Sontum      Diane   \n",
       "4383457     SA17A      SA17A         IND      NaN      Sontum       Gary   \n",
       "4383458     SA17A      SA17A         IND      NaN     Bennett      Edith   \n",
       "\n",
       "        middle_name prefix suffix           address_one  ... aggregate_amount  \\\n",
       "0               NaN    NaN    NaN  2325 Highland Cres S  ...           250.00   \n",
       "1               NaN    NaN    NaN      7280 Lakewood Rd  ...           250.00   \n",
       "2               NaN    NaN    NaN     3715 Old Leeds Rd  ...           500.00   \n",
       "3               NaN    NaN    NaN   3779 Crossings Crst  ...           297.84   \n",
       "4               NaN    NaN    NaN   3779 Crossings Crst  ...           297.84   \n",
       "...             ...    ...    ...                   ...  ...              ...   \n",
       "4383454         NaN    NaN    NaN         3520 Gila Bnd  ...           301.24   \n",
       "4383455         NaN    NaN    NaN     328 Sweetwater St  ...           275.00   \n",
       "4383456         NaN    NaN    NaN   4218 Cheyenne Drive  ...           604.21   \n",
       "4383457         NaN    NaN    NaN   4218 Cheyenne Drive  ...           460.00   \n",
       "4383458         NaN    NaN    NaN          P.O. Box 953  ...           250.00   \n",
       "\n",
       "        memo_code                            memo_text     tran_id  \\\n",
       "0             NaN  * Earmarked Contribution: See Below     1694494   \n",
       "1             NaN  * Earmarked Contribution: See Below     1693224   \n",
       "2             NaN  * Earmarked Contribution: See Below     1693654   \n",
       "3             NaN  * Earmarked Contribution: See Below     1685902   \n",
       "4             NaN  * Earmarked Contribution: See Below     1677891   \n",
       "...           ...                                  ...         ...   \n",
       "4383454       NaN  * Earmarked Contribution: See Below     2454829   \n",
       "4383455       NaN  * Earmarked Contribution: See Below     2524329   \n",
       "4383456       NaN                                  NaN  IDTA321630   \n",
       "4383457       NaN                                  NaN  IDTA339380   \n",
       "4383458       NaN                                  NaN  IDTA380324   \n",
       "\n",
       "        back_ref_tran_id back_ref_sched_name  prigen cycle      fecid  \\\n",
       "0               1694494E               SA17A   P2020  2020  C00694455   \n",
       "1               1693224E               SA17A   P2020  2020  C00694455   \n",
       "2               1693654E               SA17A   P2020  2020  C00694455   \n",
       "3               1685902E               SA17A   P2020  2020  C00694455   \n",
       "4               1677891E               SA17A   P2020  2020  C00694455   \n",
       "...                  ...                 ...     ...   ...        ...   \n",
       "4383454         2454829E               SA17A   P2020  2020  C00697441   \n",
       "4383455         2524329E               SA17A   P2020  2020  C00697441   \n",
       "4383456              NaN                 NaN   P2020  2020  C00696054   \n",
       "4383457              NaN                 NaN   P2020  2020  C00696054   \n",
       "4383458              NaN                 NaN   P2020  2020  C00696054   \n",
       "\n",
       "                            committee_name  \n",
       "0             Kamala Harris For The People  \n",
       "1             Kamala Harris For The People  \n",
       "2             Kamala Harris For The People  \n",
       "3             Kamala Harris For The People  \n",
       "4             Kamala Harris For The People  \n",
       "...                                    ...  \n",
       "4383454             Pete For America, Inc.  \n",
       "4383455             Pete For America, Inc.  \n",
       "4383456  Marianne Williamson For President  \n",
       "4383457  Marianne Williamson For President  \n",
       "4383458  Marianne Williamson For President  \n",
       "\n",
       "[4383459 rows x 28 columns]"
      ]
     },
     "execution_count": 148,
     "metadata": {},
     "output_type": "execute_result"
    }
   ],
   "source": [
    "fec_contrubtions"
   ]
  },
  {
   "cell_type": "code",
   "execution_count": 154,
   "metadata": {},
   "outputs": [
    {
     "data": {
      "text/plain": [
       "Index(['filing_id', 'linenumber', 'flag_orgind', 'org_name', 'last_name',\n",
       "       'first_name', 'middle_name', 'prefix', 'suffix', 'address_one',\n",
       "       'address_two', 'city', 'state', 'zip', 'employer', 'occupation',\n",
       "       'amount', 'date', 'aggregate_amount', 'memo_code', 'memo_text',\n",
       "       'tran_id', 'back_ref_tran_id', 'back_ref_sched_name', 'prigen', 'cycle',\n",
       "       'fecid', 'committee_name'],\n",
       "      dtype='object')"
      ]
     },
     "execution_count": 154,
     "metadata": {},
     "output_type": "execute_result"
    }
   ],
   "source": [
    "fec_contrubtions.columns"
   ]
  },
  {
   "cell_type": "code",
   "execution_count": 156,
   "metadata": {},
   "outputs": [],
   "source": [
    "#only took into account campaign funds rather than pacs\n",
    "filtered = fec_contrubtions[(fec_contrubtions['committee_name'] == 'Donald J. Trump For President, Inc.') | (fec_contrubtions['committee_name'] == 'Biden for President')]\n"
   ]
  },
  {
   "cell_type": "code",
   "execution_count": 159,
   "metadata": {},
   "outputs": [],
   "source": [
    "filtered.to_csv(r'FEC_Contributions.csv')"
   ]
  },
  {
   "cell_type": "code",
   "execution_count": null,
   "metadata": {},
   "outputs": [],
   "source": []
  }
 ],
 "metadata": {
  "kernelspec": {
   "display_name": "Python 3",
   "language": "python",
   "name": "python3"
  },
  "language_info": {
   "codemirror_mode": {
    "name": "ipython",
    "version": 3
   },
   "file_extension": ".py",
   "mimetype": "text/x-python",
   "name": "python",
   "nbconvert_exporter": "python",
   "pygments_lexer": "ipython3",
   "version": "3.7.6"
  }
 },
 "nbformat": 4,
 "nbformat_minor": 4
}
