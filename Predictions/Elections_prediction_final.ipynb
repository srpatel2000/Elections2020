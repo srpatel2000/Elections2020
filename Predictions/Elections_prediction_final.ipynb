{
 "cells": [
  {
   "cell_type": "code",
   "execution_count": 1410,
   "metadata": {},
   "outputs": [],
   "source": [
    "from datetime import datetime as d\n",
    "\n",
    "import numpy as np\n",
    "from numpy import linalg\n",
    "import statsmodels.api as sm\n",
    "import matplotlib.pyplot as plt\n",
    "import pandas as pd\n",
    "from scipy import stats\n",
    "import math as m\n",
    "np.set_printoptions(precision=4, suppress=True)\n",
    "\n",
    "import math"
   ]
  },
  {
   "cell_type": "markdown",
   "metadata": {},
   "source": [
    "# Outline (As recommended by 538's 2016 Election Model)\n",
    "_Link:_ https://fivethirtyeight.com/features/a-users-guide-to-fivethirtyeights-2016-general-election-forecast/\n",
    "\n",
    "1) Collect, weight and average polls. \n",
    "\n",
    "2) Adjust polls for current trends and house effects.\n",
    "\n",
    "3) Combine polls with demographic data through regression analysis to produce an electoral snapshot. "
   ]
  },
  {
   "cell_type": "markdown",
   "metadata": {},
   "source": [
    "_Sources:_\n",
    "- https://github.com/jseabold/538model/blob/master/silver_model.ipynb\n",
    "- https://github.com/benjones4747/silver/tree/5841d9a76ce78330c4ef701a3cc12a9e50097fdd/lib\n"
   ]
  },
  {
   "cell_type": "markdown",
   "metadata": {},
   "source": [
    "## Step 1: Collect, Weight, and Average the Polls"
   ]
  },
  {
   "cell_type": "markdown",
   "metadata": {},
   "source": [
    "#### Polls"
   ]
  },
  {
   "cell_type": "code",
   "execution_count": 1411,
   "metadata": {},
   "outputs": [
    {
     "data": {
      "text/html": [
       "<div>\n",
       "<style scoped>\n",
       "    .dataframe tbody tr th:only-of-type {\n",
       "        vertical-align: middle;\n",
       "    }\n",
       "\n",
       "    .dataframe tbody tr th {\n",
       "        vertical-align: top;\n",
       "    }\n",
       "\n",
       "    .dataframe thead th {\n",
       "        text-align: right;\n",
       "    }\n",
       "</style>\n",
       "<table border=\"1\" class=\"dataframe\">\n",
       "  <thead>\n",
       "    <tr style=\"text-align: right;\">\n",
       "      <th></th>\n",
       "      <th>question_id</th>\n",
       "      <th>poll_id</th>\n",
       "      <th>cycle</th>\n",
       "      <th>state</th>\n",
       "      <th>pollster_id</th>\n",
       "      <th>pollster</th>\n",
       "      <th>sponsor_ids</th>\n",
       "      <th>sponsors</th>\n",
       "      <th>display_name</th>\n",
       "      <th>pollster_rating_id</th>\n",
       "      <th>...</th>\n",
       "      <th>nationwide_batch</th>\n",
       "      <th>ranked_choice_reallocated</th>\n",
       "      <th>created_at</th>\n",
       "      <th>notes</th>\n",
       "      <th>url</th>\n",
       "      <th>stage</th>\n",
       "      <th>answer</th>\n",
       "      <th>candidate_name</th>\n",
       "      <th>candidate_party</th>\n",
       "      <th>pct</th>\n",
       "    </tr>\n",
       "  </thead>\n",
       "  <tbody>\n",
       "    <tr>\n",
       "      <th>0</th>\n",
       "      <td>121353</td>\n",
       "      <td>65673</td>\n",
       "      <td>2020</td>\n",
       "      <td>Florida</td>\n",
       "      <td>509</td>\n",
       "      <td>University of North Florida</td>\n",
       "      <td>NaN</td>\n",
       "      <td>NaN</td>\n",
       "      <td>University of North Florida</td>\n",
       "      <td>360.0</td>\n",
       "      <td>...</td>\n",
       "      <td>False</td>\n",
       "      <td>False</td>\n",
       "      <td>4/6/20 06:09</td>\n",
       "      <td>NaN</td>\n",
       "      <td>https://www.unf.edu/uploadedFiles/aa/coas/porl...</td>\n",
       "      <td>general</td>\n",
       "      <td>Biden</td>\n",
       "      <td>Joseph R. Biden Jr.</td>\n",
       "      <td>DEM</td>\n",
       "      <td>46.0</td>\n",
       "    </tr>\n",
       "    <tr>\n",
       "      <th>1</th>\n",
       "      <td>121353</td>\n",
       "      <td>65673</td>\n",
       "      <td>2020</td>\n",
       "      <td>Florida</td>\n",
       "      <td>509</td>\n",
       "      <td>University of North Florida</td>\n",
       "      <td>NaN</td>\n",
       "      <td>NaN</td>\n",
       "      <td>University of North Florida</td>\n",
       "      <td>360.0</td>\n",
       "      <td>...</td>\n",
       "      <td>False</td>\n",
       "      <td>False</td>\n",
       "      <td>4/6/20 06:09</td>\n",
       "      <td>NaN</td>\n",
       "      <td>https://www.unf.edu/uploadedFiles/aa/coas/porl...</td>\n",
       "      <td>general</td>\n",
       "      <td>Trump</td>\n",
       "      <td>Donald Trump</td>\n",
       "      <td>REP</td>\n",
       "      <td>40.0</td>\n",
       "    </tr>\n",
       "    <tr>\n",
       "      <th>2</th>\n",
       "      <td>120728</td>\n",
       "      <td>65060</td>\n",
       "      <td>2020</td>\n",
       "      <td>Michigan</td>\n",
       "      <td>383</td>\n",
       "      <td>Public Policy Polling</td>\n",
       "      <td>338</td>\n",
       "      <td>Progress Michigan</td>\n",
       "      <td>Public Policy Polling</td>\n",
       "      <td>263.0</td>\n",
       "      <td>...</td>\n",
       "      <td>False</td>\n",
       "      <td>False</td>\n",
       "      <td>4/2/20 16:57</td>\n",
       "      <td>NaN</td>\n",
       "      <td>https://progressmichigan.org/wp-content/upload...</td>\n",
       "      <td>general</td>\n",
       "      <td>Biden</td>\n",
       "      <td>Joseph R. Biden Jr.</td>\n",
       "      <td>DEM</td>\n",
       "      <td>48.0</td>\n",
       "    </tr>\n",
       "    <tr>\n",
       "      <th>3</th>\n",
       "      <td>120728</td>\n",
       "      <td>65060</td>\n",
       "      <td>2020</td>\n",
       "      <td>Michigan</td>\n",
       "      <td>383</td>\n",
       "      <td>Public Policy Polling</td>\n",
       "      <td>338</td>\n",
       "      <td>Progress Michigan</td>\n",
       "      <td>Public Policy Polling</td>\n",
       "      <td>263.0</td>\n",
       "      <td>...</td>\n",
       "      <td>False</td>\n",
       "      <td>False</td>\n",
       "      <td>4/2/20 16:57</td>\n",
       "      <td>NaN</td>\n",
       "      <td>https://progressmichigan.org/wp-content/upload...</td>\n",
       "      <td>general</td>\n",
       "      <td>Trump</td>\n",
       "      <td>Donald Trump</td>\n",
       "      <td>REP</td>\n",
       "      <td>45.0</td>\n",
       "    </tr>\n",
       "    <tr>\n",
       "      <th>4</th>\n",
       "      <td>120899</td>\n",
       "      <td>65227</td>\n",
       "      <td>2020</td>\n",
       "      <td>Georgia</td>\n",
       "      <td>1549</td>\n",
       "      <td>Battleground Connect</td>\n",
       "      <td>NaN</td>\n",
       "      <td>NaN</td>\n",
       "      <td>Battleground Connect</td>\n",
       "      <td>NaN</td>\n",
       "      <td>...</td>\n",
       "      <td>False</td>\n",
       "      <td>False</td>\n",
       "      <td>4/3/20 11:04</td>\n",
       "      <td>NaN</td>\n",
       "      <td>https://projects.fivethirtyeight.com/polls/202...</td>\n",
       "      <td>general</td>\n",
       "      <td>Biden</td>\n",
       "      <td>Joseph R. Biden Jr.</td>\n",
       "      <td>DEM</td>\n",
       "      <td>46.0</td>\n",
       "    </tr>\n",
       "  </tbody>\n",
       "</table>\n",
       "<p>5 rows × 36 columns</p>\n",
       "</div>"
      ],
      "text/plain": [
       "   question_id  poll_id  cycle     state  pollster_id  \\\n",
       "0       121353    65673   2020   Florida          509   \n",
       "1       121353    65673   2020   Florida          509   \n",
       "2       120728    65060   2020  Michigan          383   \n",
       "3       120728    65060   2020  Michigan          383   \n",
       "4       120899    65227   2020   Georgia         1549   \n",
       "\n",
       "                      pollster sponsor_ids           sponsors  \\\n",
       "0  University of North Florida         NaN                NaN   \n",
       "1  University of North Florida         NaN                NaN   \n",
       "2        Public Policy Polling         338  Progress Michigan   \n",
       "3        Public Policy Polling         338  Progress Michigan   \n",
       "4         Battleground Connect         NaN                NaN   \n",
       "\n",
       "                  display_name  pollster_rating_id  ... nationwide_batch  \\\n",
       "0  University of North Florida               360.0  ...            False   \n",
       "1  University of North Florida               360.0  ...            False   \n",
       "2        Public Policy Polling               263.0  ...            False   \n",
       "3        Public Policy Polling               263.0  ...            False   \n",
       "4         Battleground Connect                 NaN  ...            False   \n",
       "\n",
       "  ranked_choice_reallocated    created_at notes  \\\n",
       "0                     False  4/6/20 06:09   NaN   \n",
       "1                     False  4/6/20 06:09   NaN   \n",
       "2                     False  4/2/20 16:57   NaN   \n",
       "3                     False  4/2/20 16:57   NaN   \n",
       "4                     False  4/3/20 11:04   NaN   \n",
       "\n",
       "                                                 url    stage answer  \\\n",
       "0  https://www.unf.edu/uploadedFiles/aa/coas/porl...  general  Biden   \n",
       "1  https://www.unf.edu/uploadedFiles/aa/coas/porl...  general  Trump   \n",
       "2  https://progressmichigan.org/wp-content/upload...  general  Biden   \n",
       "3  https://progressmichigan.org/wp-content/upload...  general  Trump   \n",
       "4  https://projects.fivethirtyeight.com/polls/202...  general  Biden   \n",
       "\n",
       "        candidate_name  candidate_party   pct  \n",
       "0  Joseph R. Biden Jr.              DEM  46.0  \n",
       "1         Donald Trump              REP  40.0  \n",
       "2  Joseph R. Biden Jr.              DEM  48.0  \n",
       "3         Donald Trump              REP  45.0  \n",
       "4  Joseph R. Biden Jr.              DEM  46.0  \n",
       "\n",
       "[5 rows x 36 columns]"
      ]
     },
     "execution_count": 1411,
     "metadata": {},
     "output_type": "execute_result"
    }
   ],
   "source": [
    "#gathers polls from 538\n",
    "poll = pd.read_csv('Relevant_Data/2020/president_polls.csv')\n",
    "poll.head(5)"
   ]
  },
  {
   "cell_type": "code",
   "execution_count": 1412,
   "metadata": {},
   "outputs": [
    {
     "data": {
      "text/html": [
       "<div>\n",
       "<style scoped>\n",
       "    .dataframe tbody tr th:only-of-type {\n",
       "        vertical-align: middle;\n",
       "    }\n",
       "\n",
       "    .dataframe tbody tr th {\n",
       "        vertical-align: top;\n",
       "    }\n",
       "\n",
       "    .dataframe thead th {\n",
       "        text-align: right;\n",
       "    }\n",
       "</style>\n",
       "<table border=\"1\" class=\"dataframe\">\n",
       "  <thead>\n",
       "    <tr style=\"text-align: right;\">\n",
       "      <th></th>\n",
       "      <th>question_id</th>\n",
       "      <th>poll_id</th>\n",
       "      <th>cycle</th>\n",
       "      <th>state</th>\n",
       "      <th>pollster_id</th>\n",
       "      <th>pollster</th>\n",
       "      <th>sponsor_ids</th>\n",
       "      <th>sponsors</th>\n",
       "      <th>display_name</th>\n",
       "      <th>pollster_rating_id</th>\n",
       "      <th>...</th>\n",
       "      <th>nationwide_batch</th>\n",
       "      <th>ranked_choice_reallocated</th>\n",
       "      <th>created_at</th>\n",
       "      <th>notes</th>\n",
       "      <th>url</th>\n",
       "      <th>stage</th>\n",
       "      <th>answer</th>\n",
       "      <th>candidate_name</th>\n",
       "      <th>candidate_party</th>\n",
       "      <th>pct</th>\n",
       "    </tr>\n",
       "  </thead>\n",
       "  <tbody>\n",
       "    <tr>\n",
       "      <th>0</th>\n",
       "      <td>121353</td>\n",
       "      <td>65673</td>\n",
       "      <td>2020</td>\n",
       "      <td>Florida</td>\n",
       "      <td>509</td>\n",
       "      <td>University of North Florida</td>\n",
       "      <td>NaN</td>\n",
       "      <td>NaN</td>\n",
       "      <td>University of North Florida</td>\n",
       "      <td>360.0</td>\n",
       "      <td>...</td>\n",
       "      <td>False</td>\n",
       "      <td>False</td>\n",
       "      <td>4/6/20 06:09</td>\n",
       "      <td>NaN</td>\n",
       "      <td>https://www.unf.edu/uploadedFiles/aa/coas/porl...</td>\n",
       "      <td>general</td>\n",
       "      <td>Biden</td>\n",
       "      <td>Joseph R. Biden Jr.</td>\n",
       "      <td>DEM</td>\n",
       "      <td>46.0</td>\n",
       "    </tr>\n",
       "    <tr>\n",
       "      <th>1</th>\n",
       "      <td>121353</td>\n",
       "      <td>65673</td>\n",
       "      <td>2020</td>\n",
       "      <td>Florida</td>\n",
       "      <td>509</td>\n",
       "      <td>University of North Florida</td>\n",
       "      <td>NaN</td>\n",
       "      <td>NaN</td>\n",
       "      <td>University of North Florida</td>\n",
       "      <td>360.0</td>\n",
       "      <td>...</td>\n",
       "      <td>False</td>\n",
       "      <td>False</td>\n",
       "      <td>4/6/20 06:09</td>\n",
       "      <td>NaN</td>\n",
       "      <td>https://www.unf.edu/uploadedFiles/aa/coas/porl...</td>\n",
       "      <td>general</td>\n",
       "      <td>Trump</td>\n",
       "      <td>Donald Trump</td>\n",
       "      <td>REP</td>\n",
       "      <td>40.0</td>\n",
       "    </tr>\n",
       "    <tr>\n",
       "      <th>2</th>\n",
       "      <td>120728</td>\n",
       "      <td>65060</td>\n",
       "      <td>2020</td>\n",
       "      <td>Michigan</td>\n",
       "      <td>383</td>\n",
       "      <td>Public Policy Polling</td>\n",
       "      <td>338</td>\n",
       "      <td>Progress Michigan</td>\n",
       "      <td>Public Policy Polling</td>\n",
       "      <td>263.0</td>\n",
       "      <td>...</td>\n",
       "      <td>False</td>\n",
       "      <td>False</td>\n",
       "      <td>4/2/20 16:57</td>\n",
       "      <td>NaN</td>\n",
       "      <td>https://progressmichigan.org/wp-content/upload...</td>\n",
       "      <td>general</td>\n",
       "      <td>Biden</td>\n",
       "      <td>Joseph R. Biden Jr.</td>\n",
       "      <td>DEM</td>\n",
       "      <td>48.0</td>\n",
       "    </tr>\n",
       "    <tr>\n",
       "      <th>3</th>\n",
       "      <td>120728</td>\n",
       "      <td>65060</td>\n",
       "      <td>2020</td>\n",
       "      <td>Michigan</td>\n",
       "      <td>383</td>\n",
       "      <td>Public Policy Polling</td>\n",
       "      <td>338</td>\n",
       "      <td>Progress Michigan</td>\n",
       "      <td>Public Policy Polling</td>\n",
       "      <td>263.0</td>\n",
       "      <td>...</td>\n",
       "      <td>False</td>\n",
       "      <td>False</td>\n",
       "      <td>4/2/20 16:57</td>\n",
       "      <td>NaN</td>\n",
       "      <td>https://progressmichigan.org/wp-content/upload...</td>\n",
       "      <td>general</td>\n",
       "      <td>Trump</td>\n",
       "      <td>Donald Trump</td>\n",
       "      <td>REP</td>\n",
       "      <td>45.0</td>\n",
       "    </tr>\n",
       "    <tr>\n",
       "      <th>4</th>\n",
       "      <td>120899</td>\n",
       "      <td>65227</td>\n",
       "      <td>2020</td>\n",
       "      <td>Georgia</td>\n",
       "      <td>1549</td>\n",
       "      <td>Battleground Connect</td>\n",
       "      <td>NaN</td>\n",
       "      <td>NaN</td>\n",
       "      <td>Battleground Connect</td>\n",
       "      <td>NaN</td>\n",
       "      <td>...</td>\n",
       "      <td>False</td>\n",
       "      <td>False</td>\n",
       "      <td>4/3/20 11:04</td>\n",
       "      <td>NaN</td>\n",
       "      <td>https://projects.fivethirtyeight.com/polls/202...</td>\n",
       "      <td>general</td>\n",
       "      <td>Biden</td>\n",
       "      <td>Joseph R. Biden Jr.</td>\n",
       "      <td>DEM</td>\n",
       "      <td>46.0</td>\n",
       "    </tr>\n",
       "    <tr>\n",
       "      <th>...</th>\n",
       "      <td>...</td>\n",
       "      <td>...</td>\n",
       "      <td>...</td>\n",
       "      <td>...</td>\n",
       "      <td>...</td>\n",
       "      <td>...</td>\n",
       "      <td>...</td>\n",
       "      <td>...</td>\n",
       "      <td>...</td>\n",
       "      <td>...</td>\n",
       "      <td>...</td>\n",
       "      <td>...</td>\n",
       "      <td>...</td>\n",
       "      <td>...</td>\n",
       "      <td>...</td>\n",
       "      <td>...</td>\n",
       "      <td>...</td>\n",
       "      <td>...</td>\n",
       "      <td>...</td>\n",
       "      <td>...</td>\n",
       "      <td>...</td>\n",
       "    </tr>\n",
       "    <tr>\n",
       "      <th>4069</th>\n",
       "      <td>92080</td>\n",
       "      <td>57026</td>\n",
       "      <td>2020</td>\n",
       "      <td>Ohio</td>\n",
       "      <td>383</td>\n",
       "      <td>Public Policy Polling</td>\n",
       "      <td>918</td>\n",
       "      <td>DEM</td>\n",
       "      <td>Public Policy Polling</td>\n",
       "      <td>263.0</td>\n",
       "      <td>...</td>\n",
       "      <td>False</td>\n",
       "      <td>False</td>\n",
       "      <td>12/6/18 14:43</td>\n",
       "      <td>NaN</td>\n",
       "      <td>https://www.cleveland.com/politics/2018/11/thi...</td>\n",
       "      <td>general</td>\n",
       "      <td>Biden</td>\n",
       "      <td>Joseph R. Biden Jr.</td>\n",
       "      <td>DEM</td>\n",
       "      <td>48.0</td>\n",
       "    </tr>\n",
       "    <tr>\n",
       "      <th>4070</th>\n",
       "      <td>92080</td>\n",
       "      <td>57026</td>\n",
       "      <td>2020</td>\n",
       "      <td>Ohio</td>\n",
       "      <td>383</td>\n",
       "      <td>Public Policy Polling</td>\n",
       "      <td>918</td>\n",
       "      <td>DEM</td>\n",
       "      <td>Public Policy Polling</td>\n",
       "      <td>263.0</td>\n",
       "      <td>...</td>\n",
       "      <td>False</td>\n",
       "      <td>False</td>\n",
       "      <td>12/6/18 14:43</td>\n",
       "      <td>NaN</td>\n",
       "      <td>https://www.cleveland.com/politics/2018/11/thi...</td>\n",
       "      <td>general</td>\n",
       "      <td>Trump</td>\n",
       "      <td>Donald Trump</td>\n",
       "      <td>REP</td>\n",
       "      <td>44.0</td>\n",
       "    </tr>\n",
       "    <tr>\n",
       "      <th>4072</th>\n",
       "      <td>92081</td>\n",
       "      <td>57026</td>\n",
       "      <td>2020</td>\n",
       "      <td>Ohio</td>\n",
       "      <td>383</td>\n",
       "      <td>Public Policy Polling</td>\n",
       "      <td>918</td>\n",
       "      <td>DEM</td>\n",
       "      <td>Public Policy Polling</td>\n",
       "      <td>263.0</td>\n",
       "      <td>...</td>\n",
       "      <td>False</td>\n",
       "      <td>False</td>\n",
       "      <td>12/6/18 14:45</td>\n",
       "      <td>NaN</td>\n",
       "      <td>https://www.cleveland.com/politics/2018/11/thi...</td>\n",
       "      <td>general</td>\n",
       "      <td>Trump</td>\n",
       "      <td>Donald Trump</td>\n",
       "      <td>REP</td>\n",
       "      <td>46.0</td>\n",
       "    </tr>\n",
       "    <tr>\n",
       "      <th>4074</th>\n",
       "      <td>92082</td>\n",
       "      <td>57026</td>\n",
       "      <td>2020</td>\n",
       "      <td>Ohio</td>\n",
       "      <td>383</td>\n",
       "      <td>Public Policy Polling</td>\n",
       "      <td>918</td>\n",
       "      <td>DEM</td>\n",
       "      <td>Public Policy Polling</td>\n",
       "      <td>263.0</td>\n",
       "      <td>...</td>\n",
       "      <td>False</td>\n",
       "      <td>False</td>\n",
       "      <td>12/6/18 14:46</td>\n",
       "      <td>NaN</td>\n",
       "      <td>https://www.cleveland.com/politics/2018/11/thi...</td>\n",
       "      <td>general</td>\n",
       "      <td>Trump</td>\n",
       "      <td>Donald Trump</td>\n",
       "      <td>REP</td>\n",
       "      <td>49.0</td>\n",
       "    </tr>\n",
       "    <tr>\n",
       "      <th>4076</th>\n",
       "      <td>92078</td>\n",
       "      <td>57025</td>\n",
       "      <td>2020</td>\n",
       "      <td>NaN</td>\n",
       "      <td>399</td>\n",
       "      <td>Rasmussen Reports/Pulse Opinion Research</td>\n",
       "      <td>NaN</td>\n",
       "      <td>NaN</td>\n",
       "      <td>Rasmussen Reports/Pulse Opinion Research</td>\n",
       "      <td>277.0</td>\n",
       "      <td>...</td>\n",
       "      <td>False</td>\n",
       "      <td>False</td>\n",
       "      <td>12/6/18 14:40</td>\n",
       "      <td>NaN</td>\n",
       "      <td>http://www.rasmussenreports.com/public_content...</td>\n",
       "      <td>general</td>\n",
       "      <td>Trump</td>\n",
       "      <td>Donald Trump</td>\n",
       "      <td>REP</td>\n",
       "      <td>43.0</td>\n",
       "    </tr>\n",
       "  </tbody>\n",
       "</table>\n",
       "<p>2415 rows × 36 columns</p>\n",
       "</div>"
      ],
      "text/plain": [
       "      question_id  poll_id  cycle     state  pollster_id  \\\n",
       "0          121353    65673   2020   Florida          509   \n",
       "1          121353    65673   2020   Florida          509   \n",
       "2          120728    65060   2020  Michigan          383   \n",
       "3          120728    65060   2020  Michigan          383   \n",
       "4          120899    65227   2020   Georgia         1549   \n",
       "...           ...      ...    ...       ...          ...   \n",
       "4069        92080    57026   2020      Ohio          383   \n",
       "4070        92080    57026   2020      Ohio          383   \n",
       "4072        92081    57026   2020      Ohio          383   \n",
       "4074        92082    57026   2020      Ohio          383   \n",
       "4076        92078    57025   2020       NaN          399   \n",
       "\n",
       "                                      pollster sponsor_ids           sponsors  \\\n",
       "0                  University of North Florida         NaN                NaN   \n",
       "1                  University of North Florida         NaN                NaN   \n",
       "2                        Public Policy Polling         338  Progress Michigan   \n",
       "3                        Public Policy Polling         338  Progress Michigan   \n",
       "4                         Battleground Connect         NaN                NaN   \n",
       "...                                        ...         ...                ...   \n",
       "4069                     Public Policy Polling         918                DEM   \n",
       "4070                     Public Policy Polling         918                DEM   \n",
       "4072                     Public Policy Polling         918                DEM   \n",
       "4074                     Public Policy Polling         918                DEM   \n",
       "4076  Rasmussen Reports/Pulse Opinion Research         NaN                NaN   \n",
       "\n",
       "                                  display_name  pollster_rating_id  ...  \\\n",
       "0                  University of North Florida               360.0  ...   \n",
       "1                  University of North Florida               360.0  ...   \n",
       "2                        Public Policy Polling               263.0  ...   \n",
       "3                        Public Policy Polling               263.0  ...   \n",
       "4                         Battleground Connect                 NaN  ...   \n",
       "...                                        ...                 ...  ...   \n",
       "4069                     Public Policy Polling               263.0  ...   \n",
       "4070                     Public Policy Polling               263.0  ...   \n",
       "4072                     Public Policy Polling               263.0  ...   \n",
       "4074                     Public Policy Polling               263.0  ...   \n",
       "4076  Rasmussen Reports/Pulse Opinion Research               277.0  ...   \n",
       "\n",
       "     nationwide_batch ranked_choice_reallocated     created_at notes  \\\n",
       "0               False                     False   4/6/20 06:09   NaN   \n",
       "1               False                     False   4/6/20 06:09   NaN   \n",
       "2               False                     False   4/2/20 16:57   NaN   \n",
       "3               False                     False   4/2/20 16:57   NaN   \n",
       "4               False                     False   4/3/20 11:04   NaN   \n",
       "...               ...                       ...            ...   ...   \n",
       "4069            False                     False  12/6/18 14:43   NaN   \n",
       "4070            False                     False  12/6/18 14:43   NaN   \n",
       "4072            False                     False  12/6/18 14:45   NaN   \n",
       "4074            False                     False  12/6/18 14:46   NaN   \n",
       "4076            False                     False  12/6/18 14:40   NaN   \n",
       "\n",
       "                                                    url    stage answer  \\\n",
       "0     https://www.unf.edu/uploadedFiles/aa/coas/porl...  general  Biden   \n",
       "1     https://www.unf.edu/uploadedFiles/aa/coas/porl...  general  Trump   \n",
       "2     https://progressmichigan.org/wp-content/upload...  general  Biden   \n",
       "3     https://progressmichigan.org/wp-content/upload...  general  Trump   \n",
       "4     https://projects.fivethirtyeight.com/polls/202...  general  Biden   \n",
       "...                                                 ...      ...    ...   \n",
       "4069  https://www.cleveland.com/politics/2018/11/thi...  general  Biden   \n",
       "4070  https://www.cleveland.com/politics/2018/11/thi...  general  Trump   \n",
       "4072  https://www.cleveland.com/politics/2018/11/thi...  general  Trump   \n",
       "4074  https://www.cleveland.com/politics/2018/11/thi...  general  Trump   \n",
       "4076  http://www.rasmussenreports.com/public_content...  general  Trump   \n",
       "\n",
       "           candidate_name  candidate_party   pct  \n",
       "0     Joseph R. Biden Jr.              DEM  46.0  \n",
       "1            Donald Trump              REP  40.0  \n",
       "2     Joseph R. Biden Jr.              DEM  48.0  \n",
       "3            Donald Trump              REP  45.0  \n",
       "4     Joseph R. Biden Jr.              DEM  46.0  \n",
       "...                   ...              ...   ...  \n",
       "4069  Joseph R. Biden Jr.              DEM  48.0  \n",
       "4070         Donald Trump              REP  44.0  \n",
       "4072         Donald Trump              REP  46.0  \n",
       "4074         Donald Trump              REP  49.0  \n",
       "4076         Donald Trump              REP  43.0  \n",
       "\n",
       "[2415 rows x 36 columns]"
      ]
     },
     "execution_count": 1412,
     "metadata": {},
     "output_type": "execute_result"
    }
   ],
   "source": [
    "poll = poll[(poll['candidate_name'] == 'Joseph R. Biden Jr.') | (poll['candidate_name'] == 'Donald Trump')]\n",
    "poll"
   ]
  },
  {
   "cell_type": "markdown",
   "metadata": {},
   "source": [
    "#### Calculating Weighted Average (Recency, Pollster Rating, Sample Size)"
   ]
  },
  {
   "cell_type": "code",
   "execution_count": 1413,
   "metadata": {},
   "outputs": [
    {
     "data": {
      "text/html": [
       "<div>\n",
       "<style scoped>\n",
       "    .dataframe tbody tr th:only-of-type {\n",
       "        vertical-align: middle;\n",
       "    }\n",
       "\n",
       "    .dataframe tbody tr th {\n",
       "        vertical-align: top;\n",
       "    }\n",
       "\n",
       "    .dataframe thead th {\n",
       "        text-align: right;\n",
       "    }\n",
       "</style>\n",
       "<table border=\"1\" class=\"dataframe\">\n",
       "  <thead>\n",
       "    <tr style=\"text-align: right;\">\n",
       "      <th></th>\n",
       "      <th>Pollster</th>\n",
       "      <th># of Polls</th>\n",
       "      <th>NCPP / AAPOR / Roper</th>\n",
       "      <th>Exclusively Live Caller With Cellphones</th>\n",
       "      <th>Methodology</th>\n",
       "      <th>Banned by 538</th>\n",
       "      <th>Historical Advanced Plus-Minus</th>\n",
       "      <th>Predictive    Plus-Minus</th>\n",
       "      <th>538 Grade</th>\n",
       "      <th>Mean-Reverted Bias</th>\n",
       "      <th>...</th>\n",
       "      <th>Simple Average Error</th>\n",
       "      <th>Simple Expected Error</th>\n",
       "      <th>Simple Plus-Minus</th>\n",
       "      <th>Advanced Plus-Minus</th>\n",
       "      <th>Mean-Reverted Advanced Plus Minus</th>\n",
       "      <th>Predictive Plus-Minus</th>\n",
       "      <th># of Polls for Bias Analysis</th>\n",
       "      <th>Bias</th>\n",
       "      <th>Mean-Reverted Bias.1</th>\n",
       "      <th>House Effect</th>\n",
       "    </tr>\n",
       "  </thead>\n",
       "  <tbody>\n",
       "    <tr>\n",
       "      <th>0</th>\n",
       "      <td>Selzer &amp; Co.</td>\n",
       "      <td>43</td>\n",
       "      <td>yes</td>\n",
       "      <td>yes</td>\n",
       "      <td>Live</td>\n",
       "      <td>no</td>\n",
       "      <td>-1.9</td>\n",
       "      <td>-1.4</td>\n",
       "      <td>A+</td>\n",
       "      <td>R +0.0</td>\n",
       "      <td>...</td>\n",
       "      <td>4.2</td>\n",
       "      <td>5.6</td>\n",
       "      <td>-1.4</td>\n",
       "      <td>-1.9</td>\n",
       "      <td>-1.1</td>\n",
       "      <td>-1.4</td>\n",
       "      <td>30</td>\n",
       "      <td>R +0.0</td>\n",
       "      <td>R +0.0</td>\n",
       "      <td>D +0.1</td>\n",
       "    </tr>\n",
       "    <tr>\n",
       "      <th>1</th>\n",
       "      <td>Monmouth University</td>\n",
       "      <td>95</td>\n",
       "      <td>yes</td>\n",
       "      <td>yes</td>\n",
       "      <td>Live</td>\n",
       "      <td>no</td>\n",
       "      <td>-1.5</td>\n",
       "      <td>-1.3</td>\n",
       "      <td>A+</td>\n",
       "      <td>D +1.4</td>\n",
       "      <td>...</td>\n",
       "      <td>5.3</td>\n",
       "      <td>6.2</td>\n",
       "      <td>-0.8</td>\n",
       "      <td>-1.5</td>\n",
       "      <td>-1.1</td>\n",
       "      <td>-1.3</td>\n",
       "      <td>65</td>\n",
       "      <td>D +2.1</td>\n",
       "      <td>D +1.4</td>\n",
       "      <td>R +0.7</td>\n",
       "    </tr>\n",
       "    <tr>\n",
       "      <th>2</th>\n",
       "      <td>Field Research Corp. (Field Poll)</td>\n",
       "      <td>25</td>\n",
       "      <td>yes</td>\n",
       "      <td>yes</td>\n",
       "      <td>Live</td>\n",
       "      <td>no</td>\n",
       "      <td>-2.5</td>\n",
       "      <td>-1.1</td>\n",
       "      <td>A+</td>\n",
       "      <td>R +1.2</td>\n",
       "      <td>...</td>\n",
       "      <td>3.9</td>\n",
       "      <td>5.7</td>\n",
       "      <td>-1.8</td>\n",
       "      <td>-2.5</td>\n",
       "      <td>-1.1</td>\n",
       "      <td>-1.1</td>\n",
       "      <td>18</td>\n",
       "      <td>R +3.3</td>\n",
       "      <td>R +1.2</td>\n",
       "      <td>D +0.6</td>\n",
       "    </tr>\n",
       "    <tr>\n",
       "      <th>3</th>\n",
       "      <td>ABC News/Washington Post</td>\n",
       "      <td>60</td>\n",
       "      <td>yes</td>\n",
       "      <td>yes</td>\n",
       "      <td>Live</td>\n",
       "      <td>no</td>\n",
       "      <td>-1.3</td>\n",
       "      <td>-1.1</td>\n",
       "      <td>A+</td>\n",
       "      <td>D +0.6</td>\n",
       "      <td>...</td>\n",
       "      <td>2.9</td>\n",
       "      <td>4.6</td>\n",
       "      <td>-1.8</td>\n",
       "      <td>-1.3</td>\n",
       "      <td>-0.9</td>\n",
       "      <td>-1.1</td>\n",
       "      <td>55</td>\n",
       "      <td>D +0.9</td>\n",
       "      <td>D +0.6</td>\n",
       "      <td>D +1.5</td>\n",
       "    </tr>\n",
       "    <tr>\n",
       "      <th>4</th>\n",
       "      <td>Elway Research</td>\n",
       "      <td>21</td>\n",
       "      <td>yes</td>\n",
       "      <td>yes</td>\n",
       "      <td>Live</td>\n",
       "      <td>no</td>\n",
       "      <td>-2.2</td>\n",
       "      <td>-1.1</td>\n",
       "      <td>A+</td>\n",
       "      <td>D +0.5</td>\n",
       "      <td>...</td>\n",
       "      <td>3.9</td>\n",
       "      <td>5.9</td>\n",
       "      <td>-1.9</td>\n",
       "      <td>-2.2</td>\n",
       "      <td>-0.9</td>\n",
       "      <td>-1.1</td>\n",
       "      <td>20</td>\n",
       "      <td>D +1.2</td>\n",
       "      <td>D +0.5</td>\n",
       "      <td>D +3.2</td>\n",
       "    </tr>\n",
       "  </tbody>\n",
       "</table>\n",
       "<p>5 rows × 22 columns</p>\n",
       "</div>"
      ],
      "text/plain": [
       "                            Pollster  # of Polls NCPP / AAPOR / Roper  \\\n",
       "0                       Selzer & Co.          43                  yes   \n",
       "1                Monmouth University          95                  yes   \n",
       "2  Field Research Corp. (Field Poll)          25                  yes   \n",
       "3           ABC News/Washington Post          60                  yes   \n",
       "4                     Elway Research          21                  yes   \n",
       "\n",
       "  Exclusively Live Caller With Cellphones Methodology Banned by 538  \\\n",
       "0                                     yes        Live            no   \n",
       "1                                     yes        Live            no   \n",
       "2                                     yes        Live            no   \n",
       "3                                     yes        Live            no   \n",
       "4                                     yes        Live            no   \n",
       "\n",
       "   Historical Advanced Plus-Minus  Predictive    Plus-Minus 538 Grade  \\\n",
       "0                            -1.9                      -1.4        A+   \n",
       "1                            -1.5                      -1.3        A+   \n",
       "2                            -2.5                      -1.1        A+   \n",
       "3                            -1.3                      -1.1        A+   \n",
       "4                            -2.2                      -1.1        A+   \n",
       "\n",
       "  Mean-Reverted Bias  ... Simple Average Error Simple Expected Error  \\\n",
       "0             R +0.0  ...                  4.2                   5.6   \n",
       "1             D +1.4  ...                  5.3                   6.2   \n",
       "2             R +1.2  ...                  3.9                   5.7   \n",
       "3             D +0.6  ...                  2.9                   4.6   \n",
       "4             D +0.5  ...                  3.9                   5.9   \n",
       "\n",
       "   Simple Plus-Minus  Advanced Plus-Minus  Mean-Reverted Advanced Plus Minus  \\\n",
       "0               -1.4                 -1.9                               -1.1   \n",
       "1               -0.8                 -1.5                               -1.1   \n",
       "2               -1.8                 -2.5                               -1.1   \n",
       "3               -1.8                 -1.3                               -0.9   \n",
       "4               -1.9                 -2.2                               -0.9   \n",
       "\n",
       "   Predictive Plus-Minus  # of Polls for Bias Analysis    Bias  \\\n",
       "0                   -1.4                            30  R +0.0   \n",
       "1                   -1.3                            65  D +2.1   \n",
       "2                   -1.1                            18  R +3.3   \n",
       "3                   -1.1                            55  D +0.9   \n",
       "4                   -1.1                            20  D +1.2   \n",
       "\n",
       "   Mean-Reverted Bias.1 House Effect  \n",
       "0                R +0.0       D +0.1  \n",
       "1                D +1.4       R +0.7  \n",
       "2                R +1.2       D +0.6  \n",
       "3                D +0.6       D +1.5  \n",
       "4                D +0.5       D +3.2  \n",
       "\n",
       "[5 rows x 22 columns]"
      ]
     },
     "execution_count": 1413,
     "metadata": {},
     "output_type": "execute_result"
    }
   ],
   "source": [
    "pollster_weights = pd.read_csv('2018_Pollster_Rating - Sheet1.csv')\n",
    "pollster_weights.head(5)"
   ]
  },
  {
   "cell_type": "code",
   "execution_count": 1414,
   "metadata": {},
   "outputs": [],
   "source": [
    "#HELPER FUNCTION \n",
    "def month(value):\n",
    "    return value[0]\n",
    "\n",
    "def year(value):\n",
    "    return value[-2:]"
   ]
  },
  {
   "cell_type": "code",
   "execution_count": 1415,
   "metadata": {},
   "outputs": [],
   "source": [
    "polls = pd.merge(poll, pollster_weights, left_on = \"pollster\", right_on = \"Pollster\")\n",
    "#for i in polls.columns:\n",
    "    #print(i)"
   ]
  },
  {
   "cell_type": "code",
   "execution_count": 1416,
   "metadata": {},
   "outputs": [],
   "source": [
    "# Recency (most recent: 4/5/20)\n",
    "# Need to use exponential decay to compare the polling time to the election date\n",
    "# Caveat: Being farther out from election day makes polls kind of useless\n",
    "# Our code predicts if the elections were to happen on April 5th, 2020\n",
    "\n",
    "def exp_decay(days):\n",
    "    days = getattr(days, \"days\", days)\n",
    "    return .5 ** (days/30.)\n",
    "\n",
    "def ageweight(raw):\n",
    "    raw['age_weight'] = 0.0\n",
    "    for index, row in raw.iterrows():\n",
    "        d0 = ('4/5/20')\n",
    "        d0 = d.strptime(d0, '%m/%d/%y')\n",
    "        date = row['end_date']\n",
    "        d1 = d.strptime(date, '%m/%d/%y')\n",
    "        delta = d0 - d1\n",
    "        diff = delta.days\n",
    "        age_weight = exp_decay(diff)\n",
    "        raw.at[index,'recency_weight'] = age_weight\n",
    "    return\n",
    "\n",
    "ageweight(polls)"
   ]
  },
  {
   "cell_type": "code",
   "execution_count": 1417,
   "metadata": {},
   "outputs": [
    {
     "data": {
      "image/png": "[encoded data removed]",
      "text/plain": [
       "<Figure size 648x432 with 1 Axes>"
      ]
     },
     "metadata": {},
     "output_type": "display_data"
    }
   ],
   "source": [
    "fig, ax = plt.subplots(figsize=(9,6), subplot_kw={\"xlabel\" : \"Days\",\n",
    "                                                   \"ylabel\" : \"Weight\"})\n",
    "days = np.arange(0, 45)\n",
    "ax.plot(days, exp_decay(days));\n",
    "ax.vlines(30, 0, .99, color='r', linewidth=4)\n",
    "ax.set_ylim(0,1)\n",
    "ax.set_xlim(0, 45);"
   ]
  },
  {
   "cell_type": "code",
   "execution_count": 1418,
   "metadata": {},
   "outputs": [
    {
     "data": {
      "text/html": [
       "<div>\n",
       "<style scoped>\n",
       "    .dataframe tbody tr th:only-of-type {\n",
       "        vertical-align: middle;\n",
       "    }\n",
       "\n",
       "    .dataframe tbody tr th {\n",
       "        vertical-align: top;\n",
       "    }\n",
       "\n",
       "    .dataframe thead th {\n",
       "        text-align: right;\n",
       "    }\n",
       "</style>\n",
       "<table border=\"1\" class=\"dataframe\">\n",
       "  <thead>\n",
       "    <tr style=\"text-align: right;\">\n",
       "      <th></th>\n",
       "      <th>end_date</th>\n",
       "      <th>recency_weight</th>\n",
       "    </tr>\n",
       "  </thead>\n",
       "  <tbody>\n",
       "    <tr>\n",
       "      <th>0</th>\n",
       "      <td>4/4/20</td>\n",
       "      <td>0.977160</td>\n",
       "    </tr>\n",
       "    <tr>\n",
       "      <th>1</th>\n",
       "      <td>4/4/20</td>\n",
       "      <td>0.977160</td>\n",
       "    </tr>\n",
       "    <tr>\n",
       "      <th>2</th>\n",
       "      <td>2/18/20</td>\n",
       "      <td>0.337587</td>\n",
       "    </tr>\n",
       "    <tr>\n",
       "      <th>3</th>\n",
       "      <td>2/18/20</td>\n",
       "      <td>0.337587</td>\n",
       "    </tr>\n",
       "    <tr>\n",
       "      <th>4</th>\n",
       "      <td>2/18/20</td>\n",
       "      <td>0.337587</td>\n",
       "    </tr>\n",
       "    <tr>\n",
       "      <th>...</th>\n",
       "      <td>...</td>\n",
       "      <td>...</td>\n",
       "    </tr>\n",
       "    <tr>\n",
       "      <th>1680</th>\n",
       "      <td>4/18/19</td>\n",
       "      <td>0.000287</td>\n",
       "    </tr>\n",
       "    <tr>\n",
       "      <th>1681</th>\n",
       "      <td>4/18/19</td>\n",
       "      <td>0.000287</td>\n",
       "    </tr>\n",
       "    <tr>\n",
       "      <th>1682</th>\n",
       "      <td>1/21/19</td>\n",
       "      <td>0.000038</td>\n",
       "    </tr>\n",
       "    <tr>\n",
       "      <th>1683</th>\n",
       "      <td>1/21/19</td>\n",
       "      <td>0.000038</td>\n",
       "    </tr>\n",
       "    <tr>\n",
       "      <th>1684</th>\n",
       "      <td>1/21/19</td>\n",
       "      <td>0.000038</td>\n",
       "    </tr>\n",
       "  </tbody>\n",
       "</table>\n",
       "<p>1685 rows × 2 columns</p>\n",
       "</div>"
      ],
      "text/plain": [
       "     end_date  recency_weight\n",
       "0      4/4/20        0.977160\n",
       "1      4/4/20        0.977160\n",
       "2     2/18/20        0.337587\n",
       "3     2/18/20        0.337587\n",
       "4     2/18/20        0.337587\n",
       "...       ...             ...\n",
       "1680  4/18/19        0.000287\n",
       "1681  4/18/19        0.000287\n",
       "1682  1/21/19        0.000038\n",
       "1683  1/21/19        0.000038\n",
       "1684  1/21/19        0.000038\n",
       "\n",
       "[1685 rows x 2 columns]"
      ]
     },
     "execution_count": 1418,
     "metadata": {},
     "output_type": "execute_result"
    }
   ],
   "source": [
    "polls[['end_date','recency_weight']]"
   ]
  },
  {
   "cell_type": "code",
   "execution_count": 1419,
   "metadata": {},
   "outputs": [],
   "source": [
    "# Pollster Rating\n",
    "def weight(x):\n",
    "    #i think this weight i based on the 2016 elections\n",
    "    newx = float(1 - (1/(3.025044 + 1.200763)) * (x + 1.200763))\n",
    "    return newx\n",
    "\n",
    "def apply_weights(pr):\n",
    "    pr['pollster_weight'] = 0.0\n",
    "    for index, row in pr.iterrows():\n",
    "        x = row['Predictive Plus-Minus']\n",
    "        if row['Banned by 538'] == 'yes':\n",
    "            newx = 0.0\n",
    "        else:\n",
    "            newx = weight(x)\n",
    "        pr.at[index,'pollster_weight'] = newx\n",
    "    return pr"
   ]
  },
  {
   "cell_type": "code",
   "execution_count": 1420,
   "metadata": {},
   "outputs": [
    {
     "data": {
      "text/html": [
       "<div>\n",
       "<style scoped>\n",
       "    .dataframe tbody tr th:only-of-type {\n",
       "        vertical-align: middle;\n",
       "    }\n",
       "\n",
       "    .dataframe tbody tr th {\n",
       "        vertical-align: top;\n",
       "    }\n",
       "\n",
       "    .dataframe thead th {\n",
       "        text-align: right;\n",
       "    }\n",
       "</style>\n",
       "<table border=\"1\" class=\"dataframe\">\n",
       "  <thead>\n",
       "    <tr style=\"text-align: right;\">\n",
       "      <th></th>\n",
       "      <th>question_id</th>\n",
       "      <th>poll_id</th>\n",
       "      <th>cycle</th>\n",
       "      <th>state</th>\n",
       "      <th>pollster_id</th>\n",
       "      <th>pollster</th>\n",
       "      <th>sponsor_ids</th>\n",
       "      <th>sponsors</th>\n",
       "      <th>display_name</th>\n",
       "      <th>pollster_rating_id</th>\n",
       "      <th>...</th>\n",
       "      <th>Advanced Plus-Minus</th>\n",
       "      <th>Mean-Reverted Advanced Plus Minus</th>\n",
       "      <th>Predictive Plus-Minus</th>\n",
       "      <th># of Polls for Bias Analysis</th>\n",
       "      <th>Bias</th>\n",
       "      <th>Mean-Reverted Bias.1</th>\n",
       "      <th>House Effect</th>\n",
       "      <th>age_weight</th>\n",
       "      <th>recency_weight</th>\n",
       "      <th>pollster_weight</th>\n",
       "    </tr>\n",
       "  </thead>\n",
       "  <tbody>\n",
       "    <tr>\n",
       "      <th>0</th>\n",
       "      <td>121353</td>\n",
       "      <td>65673</td>\n",
       "      <td>2020</td>\n",
       "      <td>Florida</td>\n",
       "      <td>509</td>\n",
       "      <td>University of North Florida</td>\n",
       "      <td>NaN</td>\n",
       "      <td>NaN</td>\n",
       "      <td>University of North Florida</td>\n",
       "      <td>360.0</td>\n",
       "      <td>...</td>\n",
       "      <td>-1.0</td>\n",
       "      <td>-0.2</td>\n",
       "      <td>-0.4</td>\n",
       "      <td>4</td>\n",
       "      <td>D +4.0</td>\n",
       "      <td>D +0.5</td>\n",
       "      <td>D +1.6</td>\n",
       "      <td>0.0</td>\n",
       "      <td>0.977160</td>\n",
       "      <td>0.810506</td>\n",
       "    </tr>\n",
       "    <tr>\n",
       "      <th>1</th>\n",
       "      <td>121353</td>\n",
       "      <td>65673</td>\n",
       "      <td>2020</td>\n",
       "      <td>Florida</td>\n",
       "      <td>509</td>\n",
       "      <td>University of North Florida</td>\n",
       "      <td>NaN</td>\n",
       "      <td>NaN</td>\n",
       "      <td>University of North Florida</td>\n",
       "      <td>360.0</td>\n",
       "      <td>...</td>\n",
       "      <td>-1.0</td>\n",
       "      <td>-0.2</td>\n",
       "      <td>-0.4</td>\n",
       "      <td>4</td>\n",
       "      <td>D +4.0</td>\n",
       "      <td>D +0.5</td>\n",
       "      <td>D +1.6</td>\n",
       "      <td>0.0</td>\n",
       "      <td>0.977160</td>\n",
       "      <td>0.810506</td>\n",
       "    </tr>\n",
       "    <tr>\n",
       "      <th>2</th>\n",
       "      <td>118575</td>\n",
       "      <td>64462</td>\n",
       "      <td>2020</td>\n",
       "      <td>Florida</td>\n",
       "      <td>509</td>\n",
       "      <td>University of North Florida</td>\n",
       "      <td>76</td>\n",
       "      <td>First Coast News</td>\n",
       "      <td>University of North Florida</td>\n",
       "      <td>360.0</td>\n",
       "      <td>...</td>\n",
       "      <td>-1.0</td>\n",
       "      <td>-0.2</td>\n",
       "      <td>-0.4</td>\n",
       "      <td>4</td>\n",
       "      <td>D +4.0</td>\n",
       "      <td>D +0.5</td>\n",
       "      <td>D +1.6</td>\n",
       "      <td>0.0</td>\n",
       "      <td>0.337587</td>\n",
       "      <td>0.810506</td>\n",
       "    </tr>\n",
       "    <tr>\n",
       "      <th>3</th>\n",
       "      <td>118576</td>\n",
       "      <td>64462</td>\n",
       "      <td>2020</td>\n",
       "      <td>Florida</td>\n",
       "      <td>509</td>\n",
       "      <td>University of North Florida</td>\n",
       "      <td>76</td>\n",
       "      <td>First Coast News</td>\n",
       "      <td>University of North Florida</td>\n",
       "      <td>360.0</td>\n",
       "      <td>...</td>\n",
       "      <td>-1.0</td>\n",
       "      <td>-0.2</td>\n",
       "      <td>-0.4</td>\n",
       "      <td>4</td>\n",
       "      <td>D +4.0</td>\n",
       "      <td>D +0.5</td>\n",
       "      <td>D +1.6</td>\n",
       "      <td>0.0</td>\n",
       "      <td>0.337587</td>\n",
       "      <td>0.810506</td>\n",
       "    </tr>\n",
       "    <tr>\n",
       "      <th>4</th>\n",
       "      <td>118576</td>\n",
       "      <td>64462</td>\n",
       "      <td>2020</td>\n",
       "      <td>Florida</td>\n",
       "      <td>509</td>\n",
       "      <td>University of North Florida</td>\n",
       "      <td>76</td>\n",
       "      <td>First Coast News</td>\n",
       "      <td>University of North Florida</td>\n",
       "      <td>360.0</td>\n",
       "      <td>...</td>\n",
       "      <td>-1.0</td>\n",
       "      <td>-0.2</td>\n",
       "      <td>-0.4</td>\n",
       "      <td>4</td>\n",
       "      <td>D +4.0</td>\n",
       "      <td>D +0.5</td>\n",
       "      <td>D +1.6</td>\n",
       "      <td>0.0</td>\n",
       "      <td>0.337587</td>\n",
       "      <td>0.810506</td>\n",
       "    </tr>\n",
       "    <tr>\n",
       "      <th>...</th>\n",
       "      <td>...</td>\n",
       "      <td>...</td>\n",
       "      <td>...</td>\n",
       "      <td>...</td>\n",
       "      <td>...</td>\n",
       "      <td>...</td>\n",
       "      <td>...</td>\n",
       "      <td>...</td>\n",
       "      <td>...</td>\n",
       "      <td>...</td>\n",
       "      <td>...</td>\n",
       "      <td>...</td>\n",
       "      <td>...</td>\n",
       "      <td>...</td>\n",
       "      <td>...</td>\n",
       "      <td>...</td>\n",
       "      <td>...</td>\n",
       "      <td>...</td>\n",
       "      <td>...</td>\n",
       "      <td>...</td>\n",
       "      <td>...</td>\n",
       "    </tr>\n",
       "    <tr>\n",
       "      <th>1680</th>\n",
       "      <td>94190</td>\n",
       "      <td>57932</td>\n",
       "      <td>2020</td>\n",
       "      <td>Wisconsin</td>\n",
       "      <td>495</td>\n",
       "      <td>Tulchin Research</td>\n",
       "      <td>NaN</td>\n",
       "      <td>NaN</td>\n",
       "      <td>Tulchin Research</td>\n",
       "      <td>340.0</td>\n",
       "      <td>...</td>\n",
       "      <td>-3.0</td>\n",
       "      <td>-0.2</td>\n",
       "      <td>0.2</td>\n",
       "      <td>2</td>\n",
       "      <td>R +3.5</td>\n",
       "      <td>R +0.2</td>\n",
       "      <td>D +3.2</td>\n",
       "      <td>0.0</td>\n",
       "      <td>0.000287</td>\n",
       "      <td>0.668522</td>\n",
       "    </tr>\n",
       "    <tr>\n",
       "      <th>1681</th>\n",
       "      <td>94191</td>\n",
       "      <td>57933</td>\n",
       "      <td>2020</td>\n",
       "      <td>Pennsylvania</td>\n",
       "      <td>495</td>\n",
       "      <td>Tulchin Research</td>\n",
       "      <td>NaN</td>\n",
       "      <td>NaN</td>\n",
       "      <td>Tulchin Research</td>\n",
       "      <td>340.0</td>\n",
       "      <td>...</td>\n",
       "      <td>-3.0</td>\n",
       "      <td>-0.2</td>\n",
       "      <td>0.2</td>\n",
       "      <td>2</td>\n",
       "      <td>R +3.5</td>\n",
       "      <td>R +0.2</td>\n",
       "      <td>D +3.2</td>\n",
       "      <td>0.0</td>\n",
       "      <td>0.000287</td>\n",
       "      <td>0.668522</td>\n",
       "    </tr>\n",
       "    <tr>\n",
       "      <th>1682</th>\n",
       "      <td>92872</td>\n",
       "      <td>57407</td>\n",
       "      <td>2020</td>\n",
       "      <td>New Hampshire</td>\n",
       "      <td>1304</td>\n",
       "      <td>Praecones Analytica</td>\n",
       "      <td>645</td>\n",
       "      <td>New Hampshire Journal</td>\n",
       "      <td>Praecones Analytica</td>\n",
       "      <td>257.0</td>\n",
       "      <td>...</td>\n",
       "      <td>-4.7</td>\n",
       "      <td>-0.4</td>\n",
       "      <td>0.5</td>\n",
       "      <td>3</td>\n",
       "      <td>R +1.8</td>\n",
       "      <td>R +0.2</td>\n",
       "      <td>R +5.3</td>\n",
       "      <td>0.0</td>\n",
       "      <td>0.000038</td>\n",
       "      <td>0.597529</td>\n",
       "    </tr>\n",
       "    <tr>\n",
       "      <th>1683</th>\n",
       "      <td>92873</td>\n",
       "      <td>57407</td>\n",
       "      <td>2020</td>\n",
       "      <td>New Hampshire</td>\n",
       "      <td>1304</td>\n",
       "      <td>Praecones Analytica</td>\n",
       "      <td>645</td>\n",
       "      <td>New Hampshire Journal</td>\n",
       "      <td>Praecones Analytica</td>\n",
       "      <td>257.0</td>\n",
       "      <td>...</td>\n",
       "      <td>-4.7</td>\n",
       "      <td>-0.4</td>\n",
       "      <td>0.5</td>\n",
       "      <td>3</td>\n",
       "      <td>R +1.8</td>\n",
       "      <td>R +0.2</td>\n",
       "      <td>R +5.3</td>\n",
       "      <td>0.0</td>\n",
       "      <td>0.000038</td>\n",
       "      <td>0.597529</td>\n",
       "    </tr>\n",
       "    <tr>\n",
       "      <th>1684</th>\n",
       "      <td>92874</td>\n",
       "      <td>57407</td>\n",
       "      <td>2020</td>\n",
       "      <td>New Hampshire</td>\n",
       "      <td>1304</td>\n",
       "      <td>Praecones Analytica</td>\n",
       "      <td>645</td>\n",
       "      <td>New Hampshire Journal</td>\n",
       "      <td>Praecones Analytica</td>\n",
       "      <td>257.0</td>\n",
       "      <td>...</td>\n",
       "      <td>-4.7</td>\n",
       "      <td>-0.4</td>\n",
       "      <td>0.5</td>\n",
       "      <td>3</td>\n",
       "      <td>R +1.8</td>\n",
       "      <td>R +0.2</td>\n",
       "      <td>R +5.3</td>\n",
       "      <td>0.0</td>\n",
       "      <td>0.000038</td>\n",
       "      <td>0.597529</td>\n",
       "    </tr>\n",
       "  </tbody>\n",
       "</table>\n",
       "<p>1685 rows × 61 columns</p>\n",
       "</div>"
      ],
      "text/plain": [
       "      question_id  poll_id  cycle          state  pollster_id  \\\n",
       "0          121353    65673   2020        Florida          509   \n",
       "1          121353    65673   2020        Florida          509   \n",
       "2          118575    64462   2020        Florida          509   \n",
       "3          118576    64462   2020        Florida          509   \n",
       "4          118576    64462   2020        Florida          509   \n",
       "...           ...      ...    ...            ...          ...   \n",
       "1680        94190    57932   2020      Wisconsin          495   \n",
       "1681        94191    57933   2020   Pennsylvania          495   \n",
       "1682        92872    57407   2020  New Hampshire         1304   \n",
       "1683        92873    57407   2020  New Hampshire         1304   \n",
       "1684        92874    57407   2020  New Hampshire         1304   \n",
       "\n",
       "                         pollster sponsor_ids               sponsors  \\\n",
       "0     University of North Florida         NaN                    NaN   \n",
       "1     University of North Florida         NaN                    NaN   \n",
       "2     University of North Florida          76       First Coast News   \n",
       "3     University of North Florida          76       First Coast News   \n",
       "4     University of North Florida          76       First Coast News   \n",
       "...                           ...         ...                    ...   \n",
       "1680             Tulchin Research         NaN                    NaN   \n",
       "1681             Tulchin Research         NaN                    NaN   \n",
       "1682          Praecones Analytica         645  New Hampshire Journal   \n",
       "1683          Praecones Analytica         645  New Hampshire Journal   \n",
       "1684          Praecones Analytica         645  New Hampshire Journal   \n",
       "\n",
       "                     display_name  pollster_rating_id  ...  \\\n",
       "0     University of North Florida               360.0  ...   \n",
       "1     University of North Florida               360.0  ...   \n",
       "2     University of North Florida               360.0  ...   \n",
       "3     University of North Florida               360.0  ...   \n",
       "4     University of North Florida               360.0  ...   \n",
       "...                           ...                 ...  ...   \n",
       "1680             Tulchin Research               340.0  ...   \n",
       "1681             Tulchin Research               340.0  ...   \n",
       "1682          Praecones Analytica               257.0  ...   \n",
       "1683          Praecones Analytica               257.0  ...   \n",
       "1684          Praecones Analytica               257.0  ...   \n",
       "\n",
       "     Advanced Plus-Minus Mean-Reverted Advanced Plus Minus  \\\n",
       "0                   -1.0                              -0.2   \n",
       "1                   -1.0                              -0.2   \n",
       "2                   -1.0                              -0.2   \n",
       "3                   -1.0                              -0.2   \n",
       "4                   -1.0                              -0.2   \n",
       "...                  ...                               ...   \n",
       "1680                -3.0                              -0.2   \n",
       "1681                -3.0                              -0.2   \n",
       "1682                -4.7                              -0.4   \n",
       "1683                -4.7                              -0.4   \n",
       "1684                -4.7                              -0.4   \n",
       "\n",
       "      Predictive Plus-Minus # of Polls for Bias Analysis    Bias  \\\n",
       "0                      -0.4                            4  D +4.0   \n",
       "1                      -0.4                            4  D +4.0   \n",
       "2                      -0.4                            4  D +4.0   \n",
       "3                      -0.4                            4  D +4.0   \n",
       "4                      -0.4                            4  D +4.0   \n",
       "...                     ...                          ...     ...   \n",
       "1680                    0.2                            2  R +3.5   \n",
       "1681                    0.2                            2  R +3.5   \n",
       "1682                    0.5                            3  R +1.8   \n",
       "1683                    0.5                            3  R +1.8   \n",
       "1684                    0.5                            3  R +1.8   \n",
       "\n",
       "     Mean-Reverted Bias.1 House Effect  age_weight  recency_weight  \\\n",
       "0                  D +0.5       D +1.6         0.0        0.977160   \n",
       "1                  D +0.5       D +1.6         0.0        0.977160   \n",
       "2                  D +0.5       D +1.6         0.0        0.337587   \n",
       "3                  D +0.5       D +1.6         0.0        0.337587   \n",
       "4                  D +0.5       D +1.6         0.0        0.337587   \n",
       "...                   ...          ...         ...             ...   \n",
       "1680               R +0.2       D +3.2         0.0        0.000287   \n",
       "1681               R +0.2       D +3.2         0.0        0.000287   \n",
       "1682               R +0.2       R +5.3         0.0        0.000038   \n",
       "1683               R +0.2       R +5.3         0.0        0.000038   \n",
       "1684               R +0.2       R +5.3         0.0        0.000038   \n",
       "\n",
       "     pollster_weight  \n",
       "0           0.810506  \n",
       "1           0.810506  \n",
       "2           0.810506  \n",
       "3           0.810506  \n",
       "4           0.810506  \n",
       "...              ...  \n",
       "1680        0.668522  \n",
       "1681        0.668522  \n",
       "1682        0.597529  \n",
       "1683        0.597529  \n",
       "1684        0.597529  \n",
       "\n",
       "[1685 rows x 61 columns]"
      ]
     },
     "execution_count": 1420,
     "metadata": {},
     "output_type": "execute_result"
    }
   ],
   "source": [
    "apply_weights(polls)"
   ]
  },
  {
   "cell_type": "code",
   "execution_count": 1421,
   "metadata": {},
   "outputs": [
    {
     "data": {
      "text/html": [
       "<div>\n",
       "<style scoped>\n",
       "    .dataframe tbody tr th:only-of-type {\n",
       "        vertical-align: middle;\n",
       "    }\n",
       "\n",
       "    .dataframe tbody tr th {\n",
       "        vertical-align: top;\n",
       "    }\n",
       "\n",
       "    .dataframe thead th {\n",
       "        text-align: right;\n",
       "    }\n",
       "</style>\n",
       "<table border=\"1\" class=\"dataframe\">\n",
       "  <thead>\n",
       "    <tr style=\"text-align: right;\">\n",
       "      <th></th>\n",
       "      <th>sample_size</th>\n",
       "      <th>sample_size_weight</th>\n",
       "    </tr>\n",
       "  </thead>\n",
       "  <tbody>\n",
       "    <tr>\n",
       "      <th>0</th>\n",
       "      <td>3244.0</td>\n",
       "      <td>1.466921</td>\n",
       "    </tr>\n",
       "    <tr>\n",
       "      <th>1</th>\n",
       "      <td>3244.0</td>\n",
       "      <td>1.466921</td>\n",
       "    </tr>\n",
       "    <tr>\n",
       "      <th>2</th>\n",
       "      <td>672.0</td>\n",
       "      <td>0.667653</td>\n",
       "    </tr>\n",
       "    <tr>\n",
       "      <th>3</th>\n",
       "      <td>668.0</td>\n",
       "      <td>0.665663</td>\n",
       "    </tr>\n",
       "    <tr>\n",
       "      <th>4</th>\n",
       "      <td>668.0</td>\n",
       "      <td>0.665663</td>\n",
       "    </tr>\n",
       "    <tr>\n",
       "      <th>...</th>\n",
       "      <td>...</td>\n",
       "      <td>...</td>\n",
       "    </tr>\n",
       "    <tr>\n",
       "      <th>1680</th>\n",
       "      <td>400.0</td>\n",
       "      <td>0.515106</td>\n",
       "    </tr>\n",
       "    <tr>\n",
       "      <th>1681</th>\n",
       "      <td>400.0</td>\n",
       "      <td>0.515106</td>\n",
       "    </tr>\n",
       "    <tr>\n",
       "      <th>1682</th>\n",
       "      <td>593.0</td>\n",
       "      <td>0.627182</td>\n",
       "    </tr>\n",
       "    <tr>\n",
       "      <th>1683</th>\n",
       "      <td>593.0</td>\n",
       "      <td>0.627182</td>\n",
       "    </tr>\n",
       "    <tr>\n",
       "      <th>1684</th>\n",
       "      <td>593.0</td>\n",
       "      <td>0.627182</td>\n",
       "    </tr>\n",
       "  </tbody>\n",
       "</table>\n",
       "<p>1685 rows × 2 columns</p>\n",
       "</div>"
      ],
      "text/plain": [
       "      sample_size  sample_size_weight\n",
       "0          3244.0            1.466921\n",
       "1          3244.0            1.466921\n",
       "2           672.0            0.667653\n",
       "3           668.0            0.665663\n",
       "4           668.0            0.665663\n",
       "...           ...                 ...\n",
       "1680        400.0            0.515106\n",
       "1681        400.0            0.515106\n",
       "1682        593.0            0.627182\n",
       "1683        593.0            0.627182\n",
       "1684        593.0            0.627182\n",
       "\n",
       "[1685 rows x 2 columns]"
      ]
     },
     "execution_count": 1421,
     "metadata": {},
     "output_type": "execute_result"
    }
   ],
   "source": [
    "# Sample size (based on how Nate Silver used it in 2008)\n",
    "mean = np.mean(polls['sample_size'])\n",
    "polls['sample_size_weight'] = (polls['sample_size']/mean)**0.5\n",
    "polls[['sample_size', 'sample_size_weight']]"
   ]
  },
  {
   "cell_type": "code",
   "execution_count": 1422,
   "metadata": {},
   "outputs": [],
   "source": [
    "# Get weighted averages\n",
    "polls['weighted_average'] = polls['recency_weight'] * polls['pollster_weight'] * polls['sample_size_weight']\n",
    "\n",
    "def weighted_average(df):\n",
    "    weights1 = df['recency_weight']\n",
    "    weights2 = df['pollster_weight']\n",
    "    weights3 = df['sample_size_weight']\n",
    "    return weights1*weights2*weights3\n",
    "    \n",
    "state_polls = polls.groupby(['state', 'pollster']).apply(weighted_average)"
   ]
  },
  {
   "cell_type": "code",
   "execution_count": 1423,
   "metadata": {
    "scrolled": true
   },
   "outputs": [
    {
     "data": {
      "text/html": [
       "<div>\n",
       "<style scoped>\n",
       "    .dataframe tbody tr th:only-of-type {\n",
       "        vertical-align: middle;\n",
       "    }\n",
       "\n",
       "    .dataframe tbody tr th {\n",
       "        vertical-align: top;\n",
       "    }\n",
       "\n",
       "    .dataframe thead th {\n",
       "        text-align: right;\n",
       "    }\n",
       "</style>\n",
       "<table border=\"1\" class=\"dataframe\">\n",
       "  <thead>\n",
       "    <tr style=\"text-align: right;\">\n",
       "      <th></th>\n",
       "      <th>question_id</th>\n",
       "      <th>poll_id</th>\n",
       "      <th>cycle</th>\n",
       "      <th>state</th>\n",
       "      <th>pollster_id</th>\n",
       "      <th>pollster</th>\n",
       "      <th>sponsor_ids</th>\n",
       "      <th>sponsors</th>\n",
       "      <th>display_name</th>\n",
       "      <th>pollster_rating_id</th>\n",
       "      <th>...</th>\n",
       "      <th>Predictive Plus-Minus</th>\n",
       "      <th># of Polls for Bias Analysis</th>\n",
       "      <th>Bias</th>\n",
       "      <th>Mean-Reverted Bias.1</th>\n",
       "      <th>House Effect</th>\n",
       "      <th>age_weight</th>\n",
       "      <th>recency_weight</th>\n",
       "      <th>pollster_weight</th>\n",
       "      <th>sample_size_weight</th>\n",
       "      <th>weighted_average</th>\n",
       "    </tr>\n",
       "  </thead>\n",
       "  <tbody>\n",
       "    <tr>\n",
       "      <th>0</th>\n",
       "      <td>121353</td>\n",
       "      <td>65673</td>\n",
       "      <td>2020</td>\n",
       "      <td>Florida</td>\n",
       "      <td>509</td>\n",
       "      <td>University of North Florida</td>\n",
       "      <td>NaN</td>\n",
       "      <td>NaN</td>\n",
       "      <td>University of North Florida</td>\n",
       "      <td>360.0</td>\n",
       "      <td>...</td>\n",
       "      <td>-0.4</td>\n",
       "      <td>4</td>\n",
       "      <td>D +4.0</td>\n",
       "      <td>D +0.5</td>\n",
       "      <td>D +1.6</td>\n",
       "      <td>0.0</td>\n",
       "      <td>0.977160</td>\n",
       "      <td>0.810506</td>\n",
       "      <td>1.466921</td>\n",
       "      <td>1.161794</td>\n",
       "    </tr>\n",
       "    <tr>\n",
       "      <th>1</th>\n",
       "      <td>121353</td>\n",
       "      <td>65673</td>\n",
       "      <td>2020</td>\n",
       "      <td>Florida</td>\n",
       "      <td>509</td>\n",
       "      <td>University of North Florida</td>\n",
       "      <td>NaN</td>\n",
       "      <td>NaN</td>\n",
       "      <td>University of North Florida</td>\n",
       "      <td>360.0</td>\n",
       "      <td>...</td>\n",
       "      <td>-0.4</td>\n",
       "      <td>4</td>\n",
       "      <td>D +4.0</td>\n",
       "      <td>D +0.5</td>\n",
       "      <td>D +1.6</td>\n",
       "      <td>0.0</td>\n",
       "      <td>0.977160</td>\n",
       "      <td>0.810506</td>\n",
       "      <td>1.466921</td>\n",
       "      <td>1.161794</td>\n",
       "    </tr>\n",
       "    <tr>\n",
       "      <th>2</th>\n",
       "      <td>118575</td>\n",
       "      <td>64462</td>\n",
       "      <td>2020</td>\n",
       "      <td>Florida</td>\n",
       "      <td>509</td>\n",
       "      <td>University of North Florida</td>\n",
       "      <td>76</td>\n",
       "      <td>First Coast News</td>\n",
       "      <td>University of North Florida</td>\n",
       "      <td>360.0</td>\n",
       "      <td>...</td>\n",
       "      <td>-0.4</td>\n",
       "      <td>4</td>\n",
       "      <td>D +4.0</td>\n",
       "      <td>D +0.5</td>\n",
       "      <td>D +1.6</td>\n",
       "      <td>0.0</td>\n",
       "      <td>0.337587</td>\n",
       "      <td>0.810506</td>\n",
       "      <td>0.667653</td>\n",
       "      <td>0.182681</td>\n",
       "    </tr>\n",
       "    <tr>\n",
       "      <th>3</th>\n",
       "      <td>118576</td>\n",
       "      <td>64462</td>\n",
       "      <td>2020</td>\n",
       "      <td>Florida</td>\n",
       "      <td>509</td>\n",
       "      <td>University of North Florida</td>\n",
       "      <td>76</td>\n",
       "      <td>First Coast News</td>\n",
       "      <td>University of North Florida</td>\n",
       "      <td>360.0</td>\n",
       "      <td>...</td>\n",
       "      <td>-0.4</td>\n",
       "      <td>4</td>\n",
       "      <td>D +4.0</td>\n",
       "      <td>D +0.5</td>\n",
       "      <td>D +1.6</td>\n",
       "      <td>0.0</td>\n",
       "      <td>0.337587</td>\n",
       "      <td>0.810506</td>\n",
       "      <td>0.665663</td>\n",
       "      <td>0.182137</td>\n",
       "    </tr>\n",
       "    <tr>\n",
       "      <th>4</th>\n",
       "      <td>118576</td>\n",
       "      <td>64462</td>\n",
       "      <td>2020</td>\n",
       "      <td>Florida</td>\n",
       "      <td>509</td>\n",
       "      <td>University of North Florida</td>\n",
       "      <td>76</td>\n",
       "      <td>First Coast News</td>\n",
       "      <td>University of North Florida</td>\n",
       "      <td>360.0</td>\n",
       "      <td>...</td>\n",
       "      <td>-0.4</td>\n",
       "      <td>4</td>\n",
       "      <td>D +4.0</td>\n",
       "      <td>D +0.5</td>\n",
       "      <td>D +1.6</td>\n",
       "      <td>0.0</td>\n",
       "      <td>0.337587</td>\n",
       "      <td>0.810506</td>\n",
       "      <td>0.665663</td>\n",
       "      <td>0.182137</td>\n",
       "    </tr>\n",
       "  </tbody>\n",
       "</table>\n",
       "<p>5 rows × 63 columns</p>\n",
       "</div>"
      ],
      "text/plain": [
       "   question_id  poll_id  cycle    state  pollster_id  \\\n",
       "0       121353    65673   2020  Florida          509   \n",
       "1       121353    65673   2020  Florida          509   \n",
       "2       118575    64462   2020  Florida          509   \n",
       "3       118576    64462   2020  Florida          509   \n",
       "4       118576    64462   2020  Florida          509   \n",
       "\n",
       "                      pollster sponsor_ids          sponsors  \\\n",
       "0  University of North Florida         NaN               NaN   \n",
       "1  University of North Florida         NaN               NaN   \n",
       "2  University of North Florida          76  First Coast News   \n",
       "3  University of North Florida          76  First Coast News   \n",
       "4  University of North Florida          76  First Coast News   \n",
       "\n",
       "                  display_name  pollster_rating_id  ... Predictive Plus-Minus  \\\n",
       "0  University of North Florida               360.0  ...                  -0.4   \n",
       "1  University of North Florida               360.0  ...                  -0.4   \n",
       "2  University of North Florida               360.0  ...                  -0.4   \n",
       "3  University of North Florida               360.0  ...                  -0.4   \n",
       "4  University of North Florida               360.0  ...                  -0.4   \n",
       "\n",
       "  # of Polls for Bias Analysis    Bias Mean-Reverted Bias.1 House Effect  \\\n",
       "0                            4  D +4.0               D +0.5       D +1.6   \n",
       "1                            4  D +4.0               D +0.5       D +1.6   \n",
       "2                            4  D +4.0               D +0.5       D +1.6   \n",
       "3                            4  D +4.0               D +0.5       D +1.6   \n",
       "4                            4  D +4.0               D +0.5       D +1.6   \n",
       "\n",
       "  age_weight recency_weight  pollster_weight  sample_size_weight  \\\n",
       "0        0.0       0.977160         0.810506            1.466921   \n",
       "1        0.0       0.977160         0.810506            1.466921   \n",
       "2        0.0       0.337587         0.810506            0.667653   \n",
       "3        0.0       0.337587         0.810506            0.665663   \n",
       "4        0.0       0.337587         0.810506            0.665663   \n",
       "\n",
       "  weighted_average  \n",
       "0         1.161794  \n",
       "1         1.161794  \n",
       "2         0.182681  \n",
       "3         0.182137  \n",
       "4         0.182137  \n",
       "\n",
       "[5 rows x 63 columns]"
      ]
     },
     "execution_count": 1423,
     "metadata": {},
     "output_type": "execute_result"
    }
   ],
   "source": [
    "polls.head(5)"
   ]
  },
  {
   "cell_type": "code",
   "execution_count": 1424,
   "metadata": {},
   "outputs": [
    {
     "data": {
      "text/html": [
       "<div>\n",
       "<style scoped>\n",
       "    .dataframe tbody tr th:only-of-type {\n",
       "        vertical-align: middle;\n",
       "    }\n",
       "\n",
       "    .dataframe tbody tr th {\n",
       "        vertical-align: top;\n",
       "    }\n",
       "\n",
       "    .dataframe thead th {\n",
       "        text-align: right;\n",
       "    }\n",
       "</style>\n",
       "<table border=\"1\" class=\"dataframe\">\n",
       "  <thead>\n",
       "    <tr style=\"text-align: right;\">\n",
       "      <th></th>\n",
       "      <th>question_id</th>\n",
       "      <th>poll_id</th>\n",
       "      <th>cycle</th>\n",
       "      <th>state</th>\n",
       "      <th>pollster_id</th>\n",
       "      <th>pollster</th>\n",
       "      <th>sponsor_ids</th>\n",
       "      <th>sponsors</th>\n",
       "      <th>display_name</th>\n",
       "      <th>pollster_rating_id</th>\n",
       "      <th>...</th>\n",
       "      <th>Predictive Plus-Minus</th>\n",
       "      <th># of Polls for Bias Analysis</th>\n",
       "      <th>Bias</th>\n",
       "      <th>Mean-Reverted Bias.1</th>\n",
       "      <th>House Effect</th>\n",
       "      <th>age_weight</th>\n",
       "      <th>recency_weight</th>\n",
       "      <th>pollster_weight</th>\n",
       "      <th>sample_size_weight</th>\n",
       "      <th>weighted_average</th>\n",
       "    </tr>\n",
       "  </thead>\n",
       "  <tbody>\n",
       "    <tr>\n",
       "      <th>0</th>\n",
       "      <td>121353</td>\n",
       "      <td>65673</td>\n",
       "      <td>2020</td>\n",
       "      <td>Florida</td>\n",
       "      <td>509</td>\n",
       "      <td>University of North Florida</td>\n",
       "      <td>NaN</td>\n",
       "      <td>NaN</td>\n",
       "      <td>University of North Florida</td>\n",
       "      <td>360.0</td>\n",
       "      <td>...</td>\n",
       "      <td>-0.4</td>\n",
       "      <td>4</td>\n",
       "      <td>D +4.0</td>\n",
       "      <td>D +0.5</td>\n",
       "      <td>D +1.6</td>\n",
       "      <td>0.0</td>\n",
       "      <td>0.977160</td>\n",
       "      <td>0.810506</td>\n",
       "      <td>1.466921</td>\n",
       "      <td>1.161794</td>\n",
       "    </tr>\n",
       "    <tr>\n",
       "      <th>1</th>\n",
       "      <td>121353</td>\n",
       "      <td>65673</td>\n",
       "      <td>2020</td>\n",
       "      <td>Florida</td>\n",
       "      <td>509</td>\n",
       "      <td>University of North Florida</td>\n",
       "      <td>NaN</td>\n",
       "      <td>NaN</td>\n",
       "      <td>University of North Florida</td>\n",
       "      <td>360.0</td>\n",
       "      <td>...</td>\n",
       "      <td>-0.4</td>\n",
       "      <td>4</td>\n",
       "      <td>D +4.0</td>\n",
       "      <td>D +0.5</td>\n",
       "      <td>D +1.6</td>\n",
       "      <td>0.0</td>\n",
       "      <td>0.977160</td>\n",
       "      <td>0.810506</td>\n",
       "      <td>1.466921</td>\n",
       "      <td>1.161794</td>\n",
       "    </tr>\n",
       "    <tr>\n",
       "      <th>2</th>\n",
       "      <td>118575</td>\n",
       "      <td>64462</td>\n",
       "      <td>2020</td>\n",
       "      <td>Florida</td>\n",
       "      <td>509</td>\n",
       "      <td>University of North Florida</td>\n",
       "      <td>76</td>\n",
       "      <td>First Coast News</td>\n",
       "      <td>University of North Florida</td>\n",
       "      <td>360.0</td>\n",
       "      <td>...</td>\n",
       "      <td>-0.4</td>\n",
       "      <td>4</td>\n",
       "      <td>D +4.0</td>\n",
       "      <td>D +0.5</td>\n",
       "      <td>D +1.6</td>\n",
       "      <td>0.0</td>\n",
       "      <td>0.337587</td>\n",
       "      <td>0.810506</td>\n",
       "      <td>0.667653</td>\n",
       "      <td>0.182681</td>\n",
       "    </tr>\n",
       "    <tr>\n",
       "      <th>3</th>\n",
       "      <td>118576</td>\n",
       "      <td>64462</td>\n",
       "      <td>2020</td>\n",
       "      <td>Florida</td>\n",
       "      <td>509</td>\n",
       "      <td>University of North Florida</td>\n",
       "      <td>76</td>\n",
       "      <td>First Coast News</td>\n",
       "      <td>University of North Florida</td>\n",
       "      <td>360.0</td>\n",
       "      <td>...</td>\n",
       "      <td>-0.4</td>\n",
       "      <td>4</td>\n",
       "      <td>D +4.0</td>\n",
       "      <td>D +0.5</td>\n",
       "      <td>D +1.6</td>\n",
       "      <td>0.0</td>\n",
       "      <td>0.337587</td>\n",
       "      <td>0.810506</td>\n",
       "      <td>0.665663</td>\n",
       "      <td>0.182137</td>\n",
       "    </tr>\n",
       "    <tr>\n",
       "      <th>4</th>\n",
       "      <td>118576</td>\n",
       "      <td>64462</td>\n",
       "      <td>2020</td>\n",
       "      <td>Florida</td>\n",
       "      <td>509</td>\n",
       "      <td>University of North Florida</td>\n",
       "      <td>76</td>\n",
       "      <td>First Coast News</td>\n",
       "      <td>University of North Florida</td>\n",
       "      <td>360.0</td>\n",
       "      <td>...</td>\n",
       "      <td>-0.4</td>\n",
       "      <td>4</td>\n",
       "      <td>D +4.0</td>\n",
       "      <td>D +0.5</td>\n",
       "      <td>D +1.6</td>\n",
       "      <td>0.0</td>\n",
       "      <td>0.337587</td>\n",
       "      <td>0.810506</td>\n",
       "      <td>0.665663</td>\n",
       "      <td>0.182137</td>\n",
       "    </tr>\n",
       "    <tr>\n",
       "      <th>...</th>\n",
       "      <td>...</td>\n",
       "      <td>...</td>\n",
       "      <td>...</td>\n",
       "      <td>...</td>\n",
       "      <td>...</td>\n",
       "      <td>...</td>\n",
       "      <td>...</td>\n",
       "      <td>...</td>\n",
       "      <td>...</td>\n",
       "      <td>...</td>\n",
       "      <td>...</td>\n",
       "      <td>...</td>\n",
       "      <td>...</td>\n",
       "      <td>...</td>\n",
       "      <td>...</td>\n",
       "      <td>...</td>\n",
       "      <td>...</td>\n",
       "      <td>...</td>\n",
       "      <td>...</td>\n",
       "      <td>...</td>\n",
       "      <td>...</td>\n",
       "    </tr>\n",
       "    <tr>\n",
       "      <th>1680</th>\n",
       "      <td>94190</td>\n",
       "      <td>57932</td>\n",
       "      <td>2020</td>\n",
       "      <td>Wisconsin</td>\n",
       "      <td>495</td>\n",
       "      <td>Tulchin Research</td>\n",
       "      <td>NaN</td>\n",
       "      <td>NaN</td>\n",
       "      <td>Tulchin Research</td>\n",
       "      <td>340.0</td>\n",
       "      <td>...</td>\n",
       "      <td>0.2</td>\n",
       "      <td>2</td>\n",
       "      <td>R +3.5</td>\n",
       "      <td>R +0.2</td>\n",
       "      <td>D +3.2</td>\n",
       "      <td>0.0</td>\n",
       "      <td>0.000287</td>\n",
       "      <td>0.668522</td>\n",
       "      <td>0.515106</td>\n",
       "      <td>0.000099</td>\n",
       "    </tr>\n",
       "    <tr>\n",
       "      <th>1681</th>\n",
       "      <td>94191</td>\n",
       "      <td>57933</td>\n",
       "      <td>2020</td>\n",
       "      <td>Pennsylvania</td>\n",
       "      <td>495</td>\n",
       "      <td>Tulchin Research</td>\n",
       "      <td>NaN</td>\n",
       "      <td>NaN</td>\n",
       "      <td>Tulchin Research</td>\n",
       "      <td>340.0</td>\n",
       "      <td>...</td>\n",
       "      <td>0.2</td>\n",
       "      <td>2</td>\n",
       "      <td>R +3.5</td>\n",
       "      <td>R +0.2</td>\n",
       "      <td>D +3.2</td>\n",
       "      <td>0.0</td>\n",
       "      <td>0.000287</td>\n",
       "      <td>0.668522</td>\n",
       "      <td>0.515106</td>\n",
       "      <td>0.000099</td>\n",
       "    </tr>\n",
       "    <tr>\n",
       "      <th>1682</th>\n",
       "      <td>92872</td>\n",
       "      <td>57407</td>\n",
       "      <td>2020</td>\n",
       "      <td>New Hampshire</td>\n",
       "      <td>1304</td>\n",
       "      <td>Praecones Analytica</td>\n",
       "      <td>645</td>\n",
       "      <td>New Hampshire Journal</td>\n",
       "      <td>Praecones Analytica</td>\n",
       "      <td>257.0</td>\n",
       "      <td>...</td>\n",
       "      <td>0.5</td>\n",
       "      <td>3</td>\n",
       "      <td>R +1.8</td>\n",
       "      <td>R +0.2</td>\n",
       "      <td>R +5.3</td>\n",
       "      <td>0.0</td>\n",
       "      <td>0.000038</td>\n",
       "      <td>0.597529</td>\n",
       "      <td>0.627182</td>\n",
       "      <td>0.000014</td>\n",
       "    </tr>\n",
       "    <tr>\n",
       "      <th>1683</th>\n",
       "      <td>92873</td>\n",
       "      <td>57407</td>\n",
       "      <td>2020</td>\n",
       "      <td>New Hampshire</td>\n",
       "      <td>1304</td>\n",
       "      <td>Praecones Analytica</td>\n",
       "      <td>645</td>\n",
       "      <td>New Hampshire Journal</td>\n",
       "      <td>Praecones Analytica</td>\n",
       "      <td>257.0</td>\n",
       "      <td>...</td>\n",
       "      <td>0.5</td>\n",
       "      <td>3</td>\n",
       "      <td>R +1.8</td>\n",
       "      <td>R +0.2</td>\n",
       "      <td>R +5.3</td>\n",
       "      <td>0.0</td>\n",
       "      <td>0.000038</td>\n",
       "      <td>0.597529</td>\n",
       "      <td>0.627182</td>\n",
       "      <td>0.000014</td>\n",
       "    </tr>\n",
       "    <tr>\n",
       "      <th>1684</th>\n",
       "      <td>92874</td>\n",
       "      <td>57407</td>\n",
       "      <td>2020</td>\n",
       "      <td>New Hampshire</td>\n",
       "      <td>1304</td>\n",
       "      <td>Praecones Analytica</td>\n",
       "      <td>645</td>\n",
       "      <td>New Hampshire Journal</td>\n",
       "      <td>Praecones Analytica</td>\n",
       "      <td>257.0</td>\n",
       "      <td>...</td>\n",
       "      <td>0.5</td>\n",
       "      <td>3</td>\n",
       "      <td>R +1.8</td>\n",
       "      <td>R +0.2</td>\n",
       "      <td>R +5.3</td>\n",
       "      <td>0.0</td>\n",
       "      <td>0.000038</td>\n",
       "      <td>0.597529</td>\n",
       "      <td>0.627182</td>\n",
       "      <td>0.000014</td>\n",
       "    </tr>\n",
       "  </tbody>\n",
       "</table>\n",
       "<p>1685 rows × 63 columns</p>\n",
       "</div>"
      ],
      "text/plain": [
       "      question_id  poll_id  cycle          state  pollster_id  \\\n",
       "0          121353    65673   2020        Florida          509   \n",
       "1          121353    65673   2020        Florida          509   \n",
       "2          118575    64462   2020        Florida          509   \n",
       "3          118576    64462   2020        Florida          509   \n",
       "4          118576    64462   2020        Florida          509   \n",
       "...           ...      ...    ...            ...          ...   \n",
       "1680        94190    57932   2020      Wisconsin          495   \n",
       "1681        94191    57933   2020   Pennsylvania          495   \n",
       "1682        92872    57407   2020  New Hampshire         1304   \n",
       "1683        92873    57407   2020  New Hampshire         1304   \n",
       "1684        92874    57407   2020  New Hampshire         1304   \n",
       "\n",
       "                         pollster sponsor_ids               sponsors  \\\n",
       "0     University of North Florida         NaN                    NaN   \n",
       "1     University of North Florida         NaN                    NaN   \n",
       "2     University of North Florida          76       First Coast News   \n",
       "3     University of North Florida          76       First Coast News   \n",
       "4     University of North Florida          76       First Coast News   \n",
       "...                           ...         ...                    ...   \n",
       "1680             Tulchin Research         NaN                    NaN   \n",
       "1681             Tulchin Research         NaN                    NaN   \n",
       "1682          Praecones Analytica         645  New Hampshire Journal   \n",
       "1683          Praecones Analytica         645  New Hampshire Journal   \n",
       "1684          Praecones Analytica         645  New Hampshire Journal   \n",
       "\n",
       "                     display_name  pollster_rating_id  ...  \\\n",
       "0     University of North Florida               360.0  ...   \n",
       "1     University of North Florida               360.0  ...   \n",
       "2     University of North Florida               360.0  ...   \n",
       "3     University of North Florida               360.0  ...   \n",
       "4     University of North Florida               360.0  ...   \n",
       "...                           ...                 ...  ...   \n",
       "1680             Tulchin Research               340.0  ...   \n",
       "1681             Tulchin Research               340.0  ...   \n",
       "1682          Praecones Analytica               257.0  ...   \n",
       "1683          Praecones Analytica               257.0  ...   \n",
       "1684          Praecones Analytica               257.0  ...   \n",
       "\n",
       "     Predictive Plus-Minus # of Polls for Bias Analysis    Bias  \\\n",
       "0                     -0.4                            4  D +4.0   \n",
       "1                     -0.4                            4  D +4.0   \n",
       "2                     -0.4                            4  D +4.0   \n",
       "3                     -0.4                            4  D +4.0   \n",
       "4                     -0.4                            4  D +4.0   \n",
       "...                    ...                          ...     ...   \n",
       "1680                   0.2                            2  R +3.5   \n",
       "1681                   0.2                            2  R +3.5   \n",
       "1682                   0.5                            3  R +1.8   \n",
       "1683                   0.5                            3  R +1.8   \n",
       "1684                   0.5                            3  R +1.8   \n",
       "\n",
       "     Mean-Reverted Bias.1 House Effect age_weight recency_weight  \\\n",
       "0                  D +0.5       D +1.6        0.0       0.977160   \n",
       "1                  D +0.5       D +1.6        0.0       0.977160   \n",
       "2                  D +0.5       D +1.6        0.0       0.337587   \n",
       "3                  D +0.5       D +1.6        0.0       0.337587   \n",
       "4                  D +0.5       D +1.6        0.0       0.337587   \n",
       "...                   ...          ...        ...            ...   \n",
       "1680               R +0.2       D +3.2        0.0       0.000287   \n",
       "1681               R +0.2       D +3.2        0.0       0.000287   \n",
       "1682               R +0.2       R +5.3        0.0       0.000038   \n",
       "1683               R +0.2       R +5.3        0.0       0.000038   \n",
       "1684               R +0.2       R +5.3        0.0       0.000038   \n",
       "\n",
       "      pollster_weight  sample_size_weight weighted_average  \n",
       "0            0.810506            1.466921         1.161794  \n",
       "1            0.810506            1.466921         1.161794  \n",
       "2            0.810506            0.667653         0.182681  \n",
       "3            0.810506            0.665663         0.182137  \n",
       "4            0.810506            0.665663         0.182137  \n",
       "...               ...                 ...              ...  \n",
       "1680         0.668522            0.515106         0.000099  \n",
       "1681         0.668522            0.515106         0.000099  \n",
       "1682         0.597529            0.627182         0.000014  \n",
       "1683         0.597529            0.627182         0.000014  \n",
       "1684         0.597529            0.627182         0.000014  \n",
       "\n",
       "[1685 rows x 63 columns]"
      ]
     },
     "execution_count": 1424,
     "metadata": {},
     "output_type": "execute_result"
    }
   ],
   "source": [
    "polls"
   ]
  },
  {
   "cell_type": "code",
   "execution_count": 1425,
   "metadata": {},
   "outputs": [
    {
     "data": {
      "text/plain": [
       "array(['Florida', 'Michigan', 'California', 'Wisconsin', 'Kansas',\n",
       "       'Maine', 'Arizona', 'Iowa', 'Washington', 'Maine CD-1',\n",
       "       'Maine CD-2', 'Ohio', 'North Carolina', nan, 'Texas',\n",
       "       'Pennsylvania', 'South Carolina', 'New York', 'New Mexico',\n",
       "       'New Hampshire', 'Nevada', 'Colorado', 'Massachusetts', 'Georgia',\n",
       "       'North Dakota', 'Minnesota', 'Mississippi', 'Alabama', 'Tennessee',\n",
       "       'Virginia', 'Missouri', 'New Jersey', 'Oklahoma', 'Delaware',\n",
       "       'Alaska', 'Kentucky', 'Utah'], dtype=object)"
      ]
     },
     "execution_count": 1425,
     "metadata": {},
     "output_type": "execute_result"
    }
   ],
   "source": [
    "polls['state'].unique()"
   ]
  },
  {
   "cell_type": "code",
   "execution_count": 1426,
   "metadata": {},
   "outputs": [],
   "source": [
    "rep_points = []\n",
    "dem_points = []\n",
    "for i in polls['state'].unique():\n",
    "    start = polls[polls['state'] == i]\n",
    "    for j in start['pollster'].unique():\n",
    "        mid = start[start['pollster'] == j]\n",
    "        mid = mid.sort_values(by = 'end_date').reset_index(drop=True)\n",
    "        rep = mid[mid['candidate_name'] == 'Donald Trump'].reset_index(drop=True)\n",
    "        dem = mid[mid['candidate_name'] == 'Joseph R. Biden Jr.'].reset_index(drop=True)\n",
    "        if len(rep) > 1:\n",
    "            rep_points.append([i,j,((rep.loc[0]['pct'] - rep.loc[len(rep)-1]['pct'])*(-1))])\n",
    "        elif len(rep) == 1:\n",
    "            rep_points.append([i,j,0])\n",
    "        if len(dem) > 1:\n",
    "            dem_points.append([i,j,(dem.loc[0]['pct'] - dem.loc[len(dem)-1]['pct'])])\n",
    "        elif len(dem) == 1:\n",
    "            dem_points.append([i,j,0])"
   ]
  },
  {
   "cell_type": "code",
   "execution_count": 1427,
   "metadata": {},
   "outputs": [
    {
     "data": {
      "text/html": [
       "<div>\n",
       "<style scoped>\n",
       "    .dataframe tbody tr th:only-of-type {\n",
       "        vertical-align: middle;\n",
       "    }\n",
       "\n",
       "    .dataframe tbody tr th {\n",
       "        vertical-align: top;\n",
       "    }\n",
       "\n",
       "    .dataframe thead th {\n",
       "        text-align: right;\n",
       "    }\n",
       "</style>\n",
       "<table border=\"1\" class=\"dataframe\">\n",
       "  <thead>\n",
       "    <tr style=\"text-align: right;\">\n",
       "      <th></th>\n",
       "      <th>question_id</th>\n",
       "      <th>poll_id</th>\n",
       "      <th>cycle</th>\n",
       "      <th>state</th>\n",
       "      <th>pollster_id</th>\n",
       "      <th>pollster</th>\n",
       "      <th>sponsor_ids</th>\n",
       "      <th>sponsors</th>\n",
       "      <th>display_name</th>\n",
       "      <th>pollster_rating_id</th>\n",
       "      <th>...</th>\n",
       "      <th># of Polls for Bias Analysis</th>\n",
       "      <th>Bias</th>\n",
       "      <th>Mean-Reverted Bias.1</th>\n",
       "      <th>House Effect</th>\n",
       "      <th>age_weight</th>\n",
       "      <th>recency_weight</th>\n",
       "      <th>pollster_weight</th>\n",
       "      <th>sample_size_weight</th>\n",
       "      <th>weighted_average</th>\n",
       "      <th>spread</th>\n",
       "    </tr>\n",
       "  </thead>\n",
       "  <tbody>\n",
       "    <tr>\n",
       "      <th>0</th>\n",
       "      <td>121353</td>\n",
       "      <td>65673</td>\n",
       "      <td>2020</td>\n",
       "      <td>Florida</td>\n",
       "      <td>509</td>\n",
       "      <td>University of North Florida</td>\n",
       "      <td>NaN</td>\n",
       "      <td>NaN</td>\n",
       "      <td>University of North Florida</td>\n",
       "      <td>360.0</td>\n",
       "      <td>...</td>\n",
       "      <td>4</td>\n",
       "      <td>D +4.0</td>\n",
       "      <td>D +0.5</td>\n",
       "      <td>D +1.6</td>\n",
       "      <td>0.0</td>\n",
       "      <td>0.977160</td>\n",
       "      <td>0.810506</td>\n",
       "      <td>1.466921</td>\n",
       "      <td>1.161794</td>\n",
       "      <td>DEM 2.0</td>\n",
       "    </tr>\n",
       "    <tr>\n",
       "      <th>1</th>\n",
       "      <td>121353</td>\n",
       "      <td>65673</td>\n",
       "      <td>2020</td>\n",
       "      <td>Florida</td>\n",
       "      <td>509</td>\n",
       "      <td>University of North Florida</td>\n",
       "      <td>NaN</td>\n",
       "      <td>NaN</td>\n",
       "      <td>University of North Florida</td>\n",
       "      <td>360.0</td>\n",
       "      <td>...</td>\n",
       "      <td>4</td>\n",
       "      <td>D +4.0</td>\n",
       "      <td>D +0.5</td>\n",
       "      <td>D +1.6</td>\n",
       "      <td>0.0</td>\n",
       "      <td>0.977160</td>\n",
       "      <td>0.810506</td>\n",
       "      <td>1.466921</td>\n",
       "      <td>1.161794</td>\n",
       "      <td>DEM 2.0</td>\n",
       "    </tr>\n",
       "    <tr>\n",
       "      <th>2</th>\n",
       "      <td>118575</td>\n",
       "      <td>64462</td>\n",
       "      <td>2020</td>\n",
       "      <td>Florida</td>\n",
       "      <td>509</td>\n",
       "      <td>University of North Florida</td>\n",
       "      <td>76</td>\n",
       "      <td>First Coast News</td>\n",
       "      <td>University of North Florida</td>\n",
       "      <td>360.0</td>\n",
       "      <td>...</td>\n",
       "      <td>4</td>\n",
       "      <td>D +4.0</td>\n",
       "      <td>D +0.5</td>\n",
       "      <td>D +1.6</td>\n",
       "      <td>0.0</td>\n",
       "      <td>0.337587</td>\n",
       "      <td>0.810506</td>\n",
       "      <td>0.667653</td>\n",
       "      <td>0.182681</td>\n",
       "      <td>DEM 2.0</td>\n",
       "    </tr>\n",
       "    <tr>\n",
       "      <th>3</th>\n",
       "      <td>118576</td>\n",
       "      <td>64462</td>\n",
       "      <td>2020</td>\n",
       "      <td>Florida</td>\n",
       "      <td>509</td>\n",
       "      <td>University of North Florida</td>\n",
       "      <td>76</td>\n",
       "      <td>First Coast News</td>\n",
       "      <td>University of North Florida</td>\n",
       "      <td>360.0</td>\n",
       "      <td>...</td>\n",
       "      <td>4</td>\n",
       "      <td>D +4.0</td>\n",
       "      <td>D +0.5</td>\n",
       "      <td>D +1.6</td>\n",
       "      <td>0.0</td>\n",
       "      <td>0.337587</td>\n",
       "      <td>0.810506</td>\n",
       "      <td>0.665663</td>\n",
       "      <td>0.182137</td>\n",
       "      <td>DEM 2.0</td>\n",
       "    </tr>\n",
       "    <tr>\n",
       "      <th>4</th>\n",
       "      <td>118576</td>\n",
       "      <td>64462</td>\n",
       "      <td>2020</td>\n",
       "      <td>Florida</td>\n",
       "      <td>509</td>\n",
       "      <td>University of North Florida</td>\n",
       "      <td>76</td>\n",
       "      <td>First Coast News</td>\n",
       "      <td>University of North Florida</td>\n",
       "      <td>360.0</td>\n",
       "      <td>...</td>\n",
       "      <td>4</td>\n",
       "      <td>D +4.0</td>\n",
       "      <td>D +0.5</td>\n",
       "      <td>D +1.6</td>\n",
       "      <td>0.0</td>\n",
       "      <td>0.337587</td>\n",
       "      <td>0.810506</td>\n",
       "      <td>0.665663</td>\n",
       "      <td>0.182137</td>\n",
       "      <td>DEM 2.0</td>\n",
       "    </tr>\n",
       "    <tr>\n",
       "      <th>...</th>\n",
       "      <td>...</td>\n",
       "      <td>...</td>\n",
       "      <td>...</td>\n",
       "      <td>...</td>\n",
       "      <td>...</td>\n",
       "      <td>...</td>\n",
       "      <td>...</td>\n",
       "      <td>...</td>\n",
       "      <td>...</td>\n",
       "      <td>...</td>\n",
       "      <td>...</td>\n",
       "      <td>...</td>\n",
       "      <td>...</td>\n",
       "      <td>...</td>\n",
       "      <td>...</td>\n",
       "      <td>...</td>\n",
       "      <td>...</td>\n",
       "      <td>...</td>\n",
       "      <td>...</td>\n",
       "      <td>...</td>\n",
       "      <td>...</td>\n",
       "    </tr>\n",
       "    <tr>\n",
       "      <th>1680</th>\n",
       "      <td>94190</td>\n",
       "      <td>57932</td>\n",
       "      <td>2020</td>\n",
       "      <td>Wisconsin</td>\n",
       "      <td>495</td>\n",
       "      <td>Tulchin Research</td>\n",
       "      <td>NaN</td>\n",
       "      <td>NaN</td>\n",
       "      <td>Tulchin Research</td>\n",
       "      <td>340.0</td>\n",
       "      <td>...</td>\n",
       "      <td>2</td>\n",
       "      <td>R +3.5</td>\n",
       "      <td>R +0.2</td>\n",
       "      <td>D +3.2</td>\n",
       "      <td>0.0</td>\n",
       "      <td>0.000287</td>\n",
       "      <td>0.668522</td>\n",
       "      <td>0.515106</td>\n",
       "      <td>0.000099</td>\n",
       "      <td>REP 0</td>\n",
       "    </tr>\n",
       "    <tr>\n",
       "      <th>1681</th>\n",
       "      <td>94191</td>\n",
       "      <td>57933</td>\n",
       "      <td>2020</td>\n",
       "      <td>Pennsylvania</td>\n",
       "      <td>495</td>\n",
       "      <td>Tulchin Research</td>\n",
       "      <td>NaN</td>\n",
       "      <td>NaN</td>\n",
       "      <td>Tulchin Research</td>\n",
       "      <td>340.0</td>\n",
       "      <td>...</td>\n",
       "      <td>2</td>\n",
       "      <td>R +3.5</td>\n",
       "      <td>R +0.2</td>\n",
       "      <td>D +3.2</td>\n",
       "      <td>0.0</td>\n",
       "      <td>0.000287</td>\n",
       "      <td>0.668522</td>\n",
       "      <td>0.515106</td>\n",
       "      <td>0.000099</td>\n",
       "      <td>REP 0</td>\n",
       "    </tr>\n",
       "    <tr>\n",
       "      <th>1682</th>\n",
       "      <td>92872</td>\n",
       "      <td>57407</td>\n",
       "      <td>2020</td>\n",
       "      <td>New Hampshire</td>\n",
       "      <td>1304</td>\n",
       "      <td>Praecones Analytica</td>\n",
       "      <td>645</td>\n",
       "      <td>New Hampshire Journal</td>\n",
       "      <td>Praecones Analytica</td>\n",
       "      <td>257.0</td>\n",
       "      <td>...</td>\n",
       "      <td>3</td>\n",
       "      <td>R +1.8</td>\n",
       "      <td>R +0.2</td>\n",
       "      <td>R +5.3</td>\n",
       "      <td>0.0</td>\n",
       "      <td>0.000038</td>\n",
       "      <td>0.597529</td>\n",
       "      <td>0.627182</td>\n",
       "      <td>0.000014</td>\n",
       "      <td>REP -0.5</td>\n",
       "    </tr>\n",
       "    <tr>\n",
       "      <th>1683</th>\n",
       "      <td>92873</td>\n",
       "      <td>57407</td>\n",
       "      <td>2020</td>\n",
       "      <td>New Hampshire</td>\n",
       "      <td>1304</td>\n",
       "      <td>Praecones Analytica</td>\n",
       "      <td>645</td>\n",
       "      <td>New Hampshire Journal</td>\n",
       "      <td>Praecones Analytica</td>\n",
       "      <td>257.0</td>\n",
       "      <td>...</td>\n",
       "      <td>3</td>\n",
       "      <td>R +1.8</td>\n",
       "      <td>R +0.2</td>\n",
       "      <td>R +5.3</td>\n",
       "      <td>0.0</td>\n",
       "      <td>0.000038</td>\n",
       "      <td>0.597529</td>\n",
       "      <td>0.627182</td>\n",
       "      <td>0.000014</td>\n",
       "      <td>REP -0.5</td>\n",
       "    </tr>\n",
       "    <tr>\n",
       "      <th>1684</th>\n",
       "      <td>92874</td>\n",
       "      <td>57407</td>\n",
       "      <td>2020</td>\n",
       "      <td>New Hampshire</td>\n",
       "      <td>1304</td>\n",
       "      <td>Praecones Analytica</td>\n",
       "      <td>645</td>\n",
       "      <td>New Hampshire Journal</td>\n",
       "      <td>Praecones Analytica</td>\n",
       "      <td>257.0</td>\n",
       "      <td>...</td>\n",
       "      <td>3</td>\n",
       "      <td>R +1.8</td>\n",
       "      <td>R +0.2</td>\n",
       "      <td>R +5.3</td>\n",
       "      <td>0.0</td>\n",
       "      <td>0.000038</td>\n",
       "      <td>0.597529</td>\n",
       "      <td>0.627182</td>\n",
       "      <td>0.000014</td>\n",
       "      <td>REP -0.5</td>\n",
       "    </tr>\n",
       "  </tbody>\n",
       "</table>\n",
       "<p>1685 rows × 64 columns</p>\n",
       "</div>"
      ],
      "text/plain": [
       "      question_id  poll_id  cycle          state  pollster_id  \\\n",
       "0          121353    65673   2020        Florida          509   \n",
       "1          121353    65673   2020        Florida          509   \n",
       "2          118575    64462   2020        Florida          509   \n",
       "3          118576    64462   2020        Florida          509   \n",
       "4          118576    64462   2020        Florida          509   \n",
       "...           ...      ...    ...            ...          ...   \n",
       "1680        94190    57932   2020      Wisconsin          495   \n",
       "1681        94191    57933   2020   Pennsylvania          495   \n",
       "1682        92872    57407   2020  New Hampshire         1304   \n",
       "1683        92873    57407   2020  New Hampshire         1304   \n",
       "1684        92874    57407   2020  New Hampshire         1304   \n",
       "\n",
       "                         pollster sponsor_ids               sponsors  \\\n",
       "0     University of North Florida         NaN                    NaN   \n",
       "1     University of North Florida         NaN                    NaN   \n",
       "2     University of North Florida          76       First Coast News   \n",
       "3     University of North Florida          76       First Coast News   \n",
       "4     University of North Florida          76       First Coast News   \n",
       "...                           ...         ...                    ...   \n",
       "1680             Tulchin Research         NaN                    NaN   \n",
       "1681             Tulchin Research         NaN                    NaN   \n",
       "1682          Praecones Analytica         645  New Hampshire Journal   \n",
       "1683          Praecones Analytica         645  New Hampshire Journal   \n",
       "1684          Praecones Analytica         645  New Hampshire Journal   \n",
       "\n",
       "                     display_name  pollster_rating_id  ...  \\\n",
       "0     University of North Florida               360.0  ...   \n",
       "1     University of North Florida               360.0  ...   \n",
       "2     University of North Florida               360.0  ...   \n",
       "3     University of North Florida               360.0  ...   \n",
       "4     University of North Florida               360.0  ...   \n",
       "...                           ...                 ...  ...   \n",
       "1680             Tulchin Research               340.0  ...   \n",
       "1681             Tulchin Research               340.0  ...   \n",
       "1682          Praecones Analytica               257.0  ...   \n",
       "1683          Praecones Analytica               257.0  ...   \n",
       "1684          Praecones Analytica               257.0  ...   \n",
       "\n",
       "     # of Polls for Bias Analysis    Bias  Mean-Reverted Bias.1 House Effect  \\\n",
       "0                               4  D +4.0                D +0.5       D +1.6   \n",
       "1                               4  D +4.0                D +0.5       D +1.6   \n",
       "2                               4  D +4.0                D +0.5       D +1.6   \n",
       "3                               4  D +4.0                D +0.5       D +1.6   \n",
       "4                               4  D +4.0                D +0.5       D +1.6   \n",
       "...                           ...     ...                   ...          ...   \n",
       "1680                            2  R +3.5                R +0.2       D +3.2   \n",
       "1681                            2  R +3.5                R +0.2       D +3.2   \n",
       "1682                            3  R +1.8                R +0.2       R +5.3   \n",
       "1683                            3  R +1.8                R +0.2       R +5.3   \n",
       "1684                            3  R +1.8                R +0.2       R +5.3   \n",
       "\n",
       "     age_weight recency_weight pollster_weight  sample_size_weight  \\\n",
       "0           0.0       0.977160        0.810506            1.466921   \n",
       "1           0.0       0.977160        0.810506            1.466921   \n",
       "2           0.0       0.337587        0.810506            0.667653   \n",
       "3           0.0       0.337587        0.810506            0.665663   \n",
       "4           0.0       0.337587        0.810506            0.665663   \n",
       "...         ...            ...             ...                 ...   \n",
       "1680        0.0       0.000287        0.668522            0.515106   \n",
       "1681        0.0       0.000287        0.668522            0.515106   \n",
       "1682        0.0       0.000038        0.597529            0.627182   \n",
       "1683        0.0       0.000038        0.597529            0.627182   \n",
       "1684        0.0       0.000038        0.597529            0.627182   \n",
       "\n",
       "      weighted_average    spread  \n",
       "0             1.161794   DEM 2.0  \n",
       "1             1.161794   DEM 2.0  \n",
       "2             0.182681   DEM 2.0  \n",
       "3             0.182137   DEM 2.0  \n",
       "4             0.182137   DEM 2.0  \n",
       "...                ...       ...  \n",
       "1680          0.000099     REP 0  \n",
       "1681          0.000099     REP 0  \n",
       "1682          0.000014  REP -0.5  \n",
       "1683          0.000014  REP -0.5  \n",
       "1684          0.000014  REP -0.5  \n",
       "\n",
       "[1685 rows x 64 columns]"
      ]
     },
     "execution_count": 1427,
     "metadata": {},
     "output_type": "execute_result"
    }
   ],
   "source": [
    "loess_df_1 = polls.copy()\n",
    "loess_df_1['spread'] = \"NAN \" + str(0)\n",
    "\n",
    "for i in rep_points: \n",
    "    loess_df_1.loc[(loess_df_1.state == i[0]) & (loess_df_1['pollster'] == i[1]),'spread'] = (\"REP \" + str(i[2]))\n",
    "    \n",
    "for i in dem_points: \n",
    "    loess_df_1.loc[(loess_df_1.state == i[0]) & (loess_df_1['pollster'] == i[1]),'spread'] = (\"DEM \" + str(i[2]))\n",
    "\n",
    "polls = loess_df_1.reset_index(drop=True)\n",
    "polls"
   ]
  },
  {
   "cell_type": "markdown",
   "metadata": {},
   "source": [
    "## Step 2: Adjust polls"
   ]
  },
  {
   "cell_type": "markdown",
   "metadata": {},
   "source": [
    "* Trend line adjustment "
   ]
  },
  {
   "cell_type": "code",
   "execution_count": 1428,
   "metadata": {},
   "outputs": [
    {
     "data": {
      "text/html": [
       "<div>\n",
       "<style scoped>\n",
       "    .dataframe tbody tr th:only-of-type {\n",
       "        vertical-align: middle;\n",
       "    }\n",
       "\n",
       "    .dataframe tbody tr th {\n",
       "        vertical-align: top;\n",
       "    }\n",
       "\n",
       "    .dataframe thead th {\n",
       "        text-align: right;\n",
       "    }\n",
       "</style>\n",
       "<table border=\"1\" class=\"dataframe\">\n",
       "  <thead>\n",
       "    <tr style=\"text-align: right;\">\n",
       "      <th></th>\n",
       "      <th>state</th>\n",
       "      <th>pvi_538</th>\n",
       "    </tr>\n",
       "  </thead>\n",
       "  <tbody>\n",
       "    <tr>\n",
       "      <th>0</th>\n",
       "      <td>Alabama</td>\n",
       "      <td>R+27</td>\n",
       "    </tr>\n",
       "    <tr>\n",
       "      <th>1</th>\n",
       "      <td>Alaska</td>\n",
       "      <td>R+15</td>\n",
       "    </tr>\n",
       "    <tr>\n",
       "      <th>2</th>\n",
       "      <td>Arizona</td>\n",
       "      <td>R+9</td>\n",
       "    </tr>\n",
       "    <tr>\n",
       "      <th>3</th>\n",
       "      <td>Arkansas</td>\n",
       "      <td>R+24</td>\n",
       "    </tr>\n",
       "    <tr>\n",
       "      <th>4</th>\n",
       "      <td>California</td>\n",
       "      <td>D+24</td>\n",
       "    </tr>\n",
       "  </tbody>\n",
       "</table>\n",
       "</div>"
      ],
      "text/plain": [
       "        state pvi_538\n",
       "0     Alabama    R+27\n",
       "1      Alaska    R+15\n",
       "2     Arizona     R+9\n",
       "3    Arkansas    R+24\n",
       "4  California    D+24"
      ]
     },
     "execution_count": 1428,
     "metadata": {},
     "output_type": "execute_result"
    }
   ],
   "source": [
    "pvi = pd.read_csv(\"Relevant_Data/2020/fivethirtyeight_partisan_lean_STATES copy.csv\")\n",
    "pvi.head()"
   ]
  },
  {
   "cell_type": "code",
   "execution_count": 1429,
   "metadata": {},
   "outputs": [
    {
     "data": {
      "text/html": [
       "<div>\n",
       "<style scoped>\n",
       "    .dataframe tbody tr th:only-of-type {\n",
       "        vertical-align: middle;\n",
       "    }\n",
       "\n",
       "    .dataframe tbody tr th {\n",
       "        vertical-align: top;\n",
       "    }\n",
       "\n",
       "    .dataframe thead th {\n",
       "        text-align: right;\n",
       "    }\n",
       "</style>\n",
       "<table border=\"1\" class=\"dataframe\">\n",
       "  <thead>\n",
       "    <tr style=\"text-align: right;\">\n",
       "      <th></th>\n",
       "      <th>pvi_538</th>\n",
       "    </tr>\n",
       "    <tr>\n",
       "      <th>state</th>\n",
       "      <th></th>\n",
       "    </tr>\n",
       "  </thead>\n",
       "  <tbody>\n",
       "    <tr>\n",
       "      <th>Alabama</th>\n",
       "      <td>R+27</td>\n",
       "    </tr>\n",
       "    <tr>\n",
       "      <th>Alaska</th>\n",
       "      <td>R+15</td>\n",
       "    </tr>\n",
       "    <tr>\n",
       "      <th>Arizona</th>\n",
       "      <td>R+9</td>\n",
       "    </tr>\n",
       "    <tr>\n",
       "      <th>Arkansas</th>\n",
       "      <td>R+24</td>\n",
       "    </tr>\n",
       "    <tr>\n",
       "      <th>California</th>\n",
       "      <td>D+24</td>\n",
       "    </tr>\n",
       "  </tbody>\n",
       "</table>\n",
       "</div>"
      ],
      "text/plain": [
       "           pvi_538\n",
       "state             \n",
       "Alabama       R+27\n",
       "Alaska        R+15\n",
       "Arizona        R+9\n",
       "Arkansas      R+24\n",
       "California    D+24"
      ]
     },
     "execution_count": 1429,
     "metadata": {},
     "output_type": "execute_result"
    }
   ],
   "source": [
    "pvi.set_index(\"state\", inplace=True);\n",
    "pvi.head()"
   ]
  },
  {
   "cell_type": "code",
   "execution_count": 1430,
   "metadata": {},
   "outputs": [
    {
     "data": {
      "text/html": [
       "<div>\n",
       "<style scoped>\n",
       "    .dataframe tbody tr th:only-of-type {\n",
       "        vertical-align: middle;\n",
       "    }\n",
       "\n",
       "    .dataframe tbody tr th {\n",
       "        vertical-align: top;\n",
       "    }\n",
       "\n",
       "    .dataframe thead th {\n",
       "        text-align: right;\n",
       "    }\n",
       "</style>\n",
       "<table border=\"1\" class=\"dataframe\">\n",
       "  <thead>\n",
       "    <tr style=\"text-align: right;\">\n",
       "      <th></th>\n",
       "      <th>PVI</th>\n",
       "    </tr>\n",
       "    <tr>\n",
       "      <th>state</th>\n",
       "      <th></th>\n",
       "    </tr>\n",
       "  </thead>\n",
       "  <tbody>\n",
       "    <tr>\n",
       "      <th>Alabama</th>\n",
       "      <td>R+27</td>\n",
       "    </tr>\n",
       "    <tr>\n",
       "      <th>Alaska</th>\n",
       "      <td>R+15</td>\n",
       "    </tr>\n",
       "    <tr>\n",
       "      <th>Arizona</th>\n",
       "      <td>R+9</td>\n",
       "    </tr>\n",
       "    <tr>\n",
       "      <th>Arkansas</th>\n",
       "      <td>R+24</td>\n",
       "    </tr>\n",
       "    <tr>\n",
       "      <th>California</th>\n",
       "      <td>D+24</td>\n",
       "    </tr>\n",
       "  </tbody>\n",
       "</table>\n",
       "</div>"
      ],
      "text/plain": [
       "             PVI\n",
       "state           \n",
       "Alabama     R+27\n",
       "Alaska      R+15\n",
       "Arizona      R+9\n",
       "Arkansas    R+24\n",
       "California  D+24"
      ]
     },
     "execution_count": 1430,
     "metadata": {},
     "output_type": "execute_result"
    }
   ],
   "source": [
    "pvi.columns = ['PVI']\n",
    "pvi.head()"
   ]
  },
  {
   "cell_type": "code",
   "execution_count": 1431,
   "metadata": {},
   "outputs": [
    {
     "data": {
      "text/plain": [
       "state\n",
       "Alabama          -27.0\n",
       "Alaska           -15.0\n",
       "Arizona           -9.0\n",
       "Arkansas         -24.0\n",
       "California        24.0\n",
       "Colorado           1.0\n",
       "Connecticut       11.0\n",
       "Delaware          14.0\n",
       "Florida           -5.0\n",
       "Georgia          -12.0\n",
       "Hawaii            36.0\n",
       "Idaho            -35.0\n",
       "Illinois          13.0\n",
       "Indiana          -18.0\n",
       "Iowa              -6.0\n",
       "Kansas           -23.0\n",
       "Kentucky         -23.0\n",
       "Louisiana        -17.0\n",
       "Maine              5.0\n",
       "Maryland          23.0\n",
       "Massachusetts     29.0\n",
       "Michigan           1.0\n",
       "Minnesota          2.0\n",
       "Mississippi      -15.0\n",
       "Missouri         -19.0\n",
       "Montana          -18.0\n",
       "Nebraska         -24.0\n",
       "Nevada            -1.0\n",
       "New Hampshire     -2.0\n",
       "New Jersey        13.0\n",
       "New Mexico         7.0\n",
       "New York          22.0\n",
       "North Carolina    -5.0\n",
       "North Dakota     -33.0\n",
       "Ohio              -7.0\n",
       "Oklahoma         -34.0\n",
       "Oregon             9.0\n",
       "Pennsylvania      -1.0\n",
       "Rhode Island      26.0\n",
       "South Carolina   -17.0\n",
       "South Dakota     -31.0\n",
       "Tennessee        -28.0\n",
       "Texas            -17.0\n",
       "Utah             -31.0\n",
       "Vermont           24.0\n",
       "Virginia           0.0\n",
       "Washington        12.0\n",
       "West Virginia    -30.0\n",
       "Wisconsin         -1.0\n",
       "Wyoming          -47.0\n",
       "Name: PVI, dtype: float64"
      ]
     },
     "execution_count": 1431,
     "metadata": {},
     "output_type": "execute_result"
    }
   ],
   "source": [
    "pvi.PVI = pvi.PVI.replace({\"EVEN\" : \"0\"})\n",
    "pvi.PVI = pvi.PVI.str.replace(\"R\\+\", \"-\")\n",
    "pvi.PVI = pvi.PVI.str.replace(\"D\\+\", \"\")\n",
    "pvi.PVI = pvi.PVI.astype(float)\n",
    "pvi.PVI"
   ]
  },
  {
   "cell_type": "code",
   "execution_count": 1432,
   "metadata": {
    "scrolled": true
   },
   "outputs": [
    {
     "data": {
      "text/html": [
       "<div>\n",
       "<style scoped>\n",
       "    .dataframe tbody tr th:only-of-type {\n",
       "        vertical-align: middle;\n",
       "    }\n",
       "\n",
       "    .dataframe tbody tr th {\n",
       "        vertical-align: top;\n",
       "    }\n",
       "\n",
       "    .dataframe thead th {\n",
       "        text-align: right;\n",
       "    }\n",
       "</style>\n",
       "<table border=\"1\" class=\"dataframe\">\n",
       "  <thead>\n",
       "    <tr style=\"text-align: right;\">\n",
       "      <th></th>\n",
       "      <th>Democrat</th>\n",
       "      <th>Republican</th>\n",
       "      <th>Dem_Adv</th>\n",
       "      <th>N</th>\n",
       "      <th>Classification</th>\n",
       "    </tr>\n",
       "    <tr>\n",
       "      <th>State</th>\n",
       "      <th></th>\n",
       "      <th></th>\n",
       "      <th></th>\n",
       "      <th></th>\n",
       "      <th></th>\n",
       "    </tr>\n",
       "  </thead>\n",
       "  <tbody>\n",
       "    <tr>\n",
       "      <th>U.S.</th>\n",
       "      <td>45</td>\n",
       "      <td>38</td>\n",
       "      <td>7</td>\n",
       "      <td>180,106</td>\n",
       "      <td>Lean Dem</td>\n",
       "    </tr>\n",
       "    <tr>\n",
       "      <th>Maine</th>\n",
       "      <td>47</td>\n",
       "      <td>39</td>\n",
       "      <td>8</td>\n",
       "      <td>941</td>\n",
       "      <td>Lean Dem</td>\n",
       "    </tr>\n",
       "    <tr>\n",
       "      <th>New Hampshire</th>\n",
       "      <td>43</td>\n",
       "      <td>40</td>\n",
       "      <td>3</td>\n",
       "      <td>831</td>\n",
       "      <td>Competitive</td>\n",
       "    </tr>\n",
       "    <tr>\n",
       "      <th>Vermont</th>\n",
       "      <td>52</td>\n",
       "      <td>30</td>\n",
       "      <td>22</td>\n",
       "      <td>496</td>\n",
       "      <td>Solid Dem</td>\n",
       "    </tr>\n",
       "    <tr>\n",
       "      <th>Massachusetts</th>\n",
       "      <td>57</td>\n",
       "      <td>26</td>\n",
       "      <td>31</td>\n",
       "      <td>3,805</td>\n",
       "      <td>Solid Dem</td>\n",
       "    </tr>\n",
       "    <tr>\n",
       "      <th>Rhode Island</th>\n",
       "      <td>48</td>\n",
       "      <td>27</td>\n",
       "      <td>21</td>\n",
       "      <td>602</td>\n",
       "      <td>Solid Dem</td>\n",
       "    </tr>\n",
       "    <tr>\n",
       "      <th>Connecticut</th>\n",
       "      <td>51</td>\n",
       "      <td>32</td>\n",
       "      <td>19</td>\n",
       "      <td>2,020</td>\n",
       "      <td>Solid Dem</td>\n",
       "    </tr>\n",
       "    <tr>\n",
       "      <th>New York</th>\n",
       "      <td>52</td>\n",
       "      <td>29</td>\n",
       "      <td>23</td>\n",
       "      <td>10,864</td>\n",
       "      <td>Solid Dem</td>\n",
       "    </tr>\n",
       "    <tr>\n",
       "      <th>New Jersey</th>\n",
       "      <td>48</td>\n",
       "      <td>33</td>\n",
       "      <td>15</td>\n",
       "      <td>4,455</td>\n",
       "      <td>Solid Dem</td>\n",
       "    </tr>\n",
       "    <tr>\n",
       "      <th>Pennsylvania</th>\n",
       "      <td>46</td>\n",
       "      <td>41</td>\n",
       "      <td>5</td>\n",
       "      <td>7,974</td>\n",
       "      <td>Competitive</td>\n",
       "    </tr>\n",
       "    <tr>\n",
       "      <th>Maryland</th>\n",
       "      <td>56</td>\n",
       "      <td>28</td>\n",
       "      <td>28</td>\n",
       "      <td>3,193</td>\n",
       "      <td>Solid Dem</td>\n",
       "    </tr>\n",
       "    <tr>\n",
       "      <th>Delaware</th>\n",
       "      <td>45</td>\n",
       "      <td>33</td>\n",
       "      <td>12</td>\n",
       "      <td>500</td>\n",
       "      <td>Solid Dem</td>\n",
       "    </tr>\n",
       "    <tr>\n",
       "      <th>West Virginia</th>\n",
       "      <td>40</td>\n",
       "      <td>44</td>\n",
       "      <td>-4</td>\n",
       "      <td>1,011</td>\n",
       "      <td>Competitive</td>\n",
       "    </tr>\n",
       "    <tr>\n",
       "      <th>Ohio</th>\n",
       "      <td>41</td>\n",
       "      <td>42</td>\n",
       "      <td>-1</td>\n",
       "      <td>6,319</td>\n",
       "      <td>Competitive</td>\n",
       "    </tr>\n",
       "    <tr>\n",
       "      <th>Michigan</th>\n",
       "      <td>45</td>\n",
       "      <td>38</td>\n",
       "      <td>7</td>\n",
       "      <td>5,541</td>\n",
       "      <td>Lean Dem</td>\n",
       "    </tr>\n",
       "    <tr>\n",
       "      <th>Indiana</th>\n",
       "      <td>41</td>\n",
       "      <td>43</td>\n",
       "      <td>-2</td>\n",
       "      <td>3,578</td>\n",
       "      <td>Competitive</td>\n",
       "    </tr>\n",
       "    <tr>\n",
       "      <th>Illinois</th>\n",
       "      <td>50</td>\n",
       "      <td>33</td>\n",
       "      <td>17</td>\n",
       "      <td>5,712</td>\n",
       "      <td>Solid Dem</td>\n",
       "    </tr>\n",
       "    <tr>\n",
       "      <th>Wisconsin</th>\n",
       "      <td>43</td>\n",
       "      <td>41</td>\n",
       "      <td>2</td>\n",
       "      <td>3,353</td>\n",
       "      <td>Competitive</td>\n",
       "    </tr>\n",
       "    <tr>\n",
       "      <th>Minnesota</th>\n",
       "      <td>47</td>\n",
       "      <td>37</td>\n",
       "      <td>10</td>\n",
       "      <td>3,428</td>\n",
       "      <td>Solid Dem</td>\n",
       "    </tr>\n",
       "    <tr>\n",
       "      <th>Iowa</th>\n",
       "      <td>42</td>\n",
       "      <td>42</td>\n",
       "      <td>0</td>\n",
       "      <td>2,126</td>\n",
       "      <td>Competitive</td>\n",
       "    </tr>\n",
       "    <tr>\n",
       "      <th>Missouri</th>\n",
       "      <td>38</td>\n",
       "      <td>45</td>\n",
       "      <td>-7</td>\n",
       "      <td>3,602</td>\n",
       "      <td>Lean Rep</td>\n",
       "    </tr>\n",
       "    <tr>\n",
       "      <th>North Dakota</th>\n",
       "      <td>28</td>\n",
       "      <td>56</td>\n",
       "      <td>-28</td>\n",
       "      <td>536</td>\n",
       "      <td>Solid Rep</td>\n",
       "    </tr>\n",
       "    <tr>\n",
       "      <th>South Dakota</th>\n",
       "      <td>35</td>\n",
       "      <td>52</td>\n",
       "      <td>-17</td>\n",
       "      <td>579</td>\n",
       "      <td>Solid Rep</td>\n",
       "    </tr>\n",
       "    <tr>\n",
       "      <th>Nebraska</th>\n",
       "      <td>35</td>\n",
       "      <td>50</td>\n",
       "      <td>-15</td>\n",
       "      <td>1,437</td>\n",
       "      <td>Solid Rep</td>\n",
       "    </tr>\n",
       "    <tr>\n",
       "      <th>Kansas</th>\n",
       "      <td>34</td>\n",
       "      <td>48</td>\n",
       "      <td>-14</td>\n",
       "      <td>1,771</td>\n",
       "      <td>Solid Rep</td>\n",
       "    </tr>\n",
       "    <tr>\n",
       "      <th>Virginia</th>\n",
       "      <td>45</td>\n",
       "      <td>38</td>\n",
       "      <td>7</td>\n",
       "      <td>4,893</td>\n",
       "      <td>Lean Dem</td>\n",
       "    </tr>\n",
       "    <tr>\n",
       "      <th>North Carolina</th>\n",
       "      <td>44</td>\n",
       "      <td>39</td>\n",
       "      <td>5</td>\n",
       "      <td>5,774</td>\n",
       "      <td>Competitive</td>\n",
       "    </tr>\n",
       "    <tr>\n",
       "      <th>South Carolina</th>\n",
       "      <td>37</td>\n",
       "      <td>47</td>\n",
       "      <td>-10</td>\n",
       "      <td>2,821</td>\n",
       "      <td>Solid Rep</td>\n",
       "    </tr>\n",
       "    <tr>\n",
       "      <th>Georgia</th>\n",
       "      <td>42</td>\n",
       "      <td>40</td>\n",
       "      <td>2</td>\n",
       "      <td>5,458</td>\n",
       "      <td>Competitive</td>\n",
       "    </tr>\n",
       "    <tr>\n",
       "      <th>Florida</th>\n",
       "      <td>42</td>\n",
       "      <td>39</td>\n",
       "      <td>3</td>\n",
       "      <td>11,094</td>\n",
       "      <td>Competitive</td>\n",
       "    </tr>\n",
       "    <tr>\n",
       "      <th>Kentucky</th>\n",
       "      <td>41</td>\n",
       "      <td>45</td>\n",
       "      <td>-4</td>\n",
       "      <td>2,508</td>\n",
       "      <td>Competitive</td>\n",
       "    </tr>\n",
       "    <tr>\n",
       "      <th>Tennessee</th>\n",
       "      <td>35</td>\n",
       "      <td>47</td>\n",
       "      <td>-12</td>\n",
       "      <td>4,117</td>\n",
       "      <td>Solid Rep</td>\n",
       "    </tr>\n",
       "    <tr>\n",
       "      <th>Alabama</th>\n",
       "      <td>35</td>\n",
       "      <td>50</td>\n",
       "      <td>-15</td>\n",
       "      <td>3,057</td>\n",
       "      <td>Solid Rep</td>\n",
       "    </tr>\n",
       "    <tr>\n",
       "      <th>Mississippi</th>\n",
       "      <td>38</td>\n",
       "      <td>45</td>\n",
       "      <td>-7</td>\n",
       "      <td>1,654</td>\n",
       "      <td>Lean Rep</td>\n",
       "    </tr>\n",
       "    <tr>\n",
       "      <th>Arkansas</th>\n",
       "      <td>36</td>\n",
       "      <td>45</td>\n",
       "      <td>-9</td>\n",
       "      <td>1,883</td>\n",
       "      <td>Lean Rep</td>\n",
       "    </tr>\n",
       "    <tr>\n",
       "      <th>Louisiana</th>\n",
       "      <td>40</td>\n",
       "      <td>43</td>\n",
       "      <td>-3</td>\n",
       "      <td>2,589</td>\n",
       "      <td>Competitive</td>\n",
       "    </tr>\n",
       "    <tr>\n",
       "      <th>Oklahoma</th>\n",
       "      <td>35</td>\n",
       "      <td>49</td>\n",
       "      <td>-14</td>\n",
       "      <td>2,459</td>\n",
       "      <td>Solid Rep</td>\n",
       "    </tr>\n",
       "    <tr>\n",
       "      <th>Texas</th>\n",
       "      <td>38</td>\n",
       "      <td>41</td>\n",
       "      <td>-3</td>\n",
       "      <td>14,138</td>\n",
       "      <td>Competitive</td>\n",
       "    </tr>\n",
       "    <tr>\n",
       "      <th>Montana</th>\n",
       "      <td>37</td>\n",
       "      <td>51</td>\n",
       "      <td>-14</td>\n",
       "      <td>1,059</td>\n",
       "      <td>Solid Rep</td>\n",
       "    </tr>\n",
       "    <tr>\n",
       "      <th>Arizona</th>\n",
       "      <td>40</td>\n",
       "      <td>42</td>\n",
       "      <td>-2</td>\n",
       "      <td>3,669</td>\n",
       "      <td>Competitive</td>\n",
       "    </tr>\n",
       "    <tr>\n",
       "      <th>Colorado</th>\n",
       "      <td>46</td>\n",
       "      <td>37</td>\n",
       "      <td>9</td>\n",
       "      <td>3,574</td>\n",
       "      <td>Lean Dem</td>\n",
       "    </tr>\n",
       "    <tr>\n",
       "      <th>Idaho</th>\n",
       "      <td>31</td>\n",
       "      <td>53</td>\n",
       "      <td>-22</td>\n",
       "      <td>1,254</td>\n",
       "      <td>Solid Rep</td>\n",
       "    </tr>\n",
       "    <tr>\n",
       "      <th>Wyoming</th>\n",
       "      <td>27</td>\n",
       "      <td>56</td>\n",
       "      <td>-29</td>\n",
       "      <td>493</td>\n",
       "      <td>Solid Rep</td>\n",
       "    </tr>\n",
       "    <tr>\n",
       "      <th>Utah</th>\n",
       "      <td>29</td>\n",
       "      <td>56</td>\n",
       "      <td>-27</td>\n",
       "      <td>2,099</td>\n",
       "      <td>Solid Rep</td>\n",
       "    </tr>\n",
       "    <tr>\n",
       "      <th>Nevada</th>\n",
       "      <td>42</td>\n",
       "      <td>39</td>\n",
       "      <td>3</td>\n",
       "      <td>1,540</td>\n",
       "      <td>Competitive</td>\n",
       "    </tr>\n",
       "    <tr>\n",
       "      <th>New Mexico</th>\n",
       "      <td>48</td>\n",
       "      <td>34</td>\n",
       "      <td>14</td>\n",
       "      <td>1,454</td>\n",
       "      <td>Solid Dem</td>\n",
       "    </tr>\n",
       "    <tr>\n",
       "      <th>California</th>\n",
       "      <td>51</td>\n",
       "      <td>30</td>\n",
       "      <td>21</td>\n",
       "      <td>18,168</td>\n",
       "      <td>Solid Dem</td>\n",
       "    </tr>\n",
       "    <tr>\n",
       "      <th>Oregon</th>\n",
       "      <td>49</td>\n",
       "      <td>36</td>\n",
       "      <td>13</td>\n",
       "      <td>3,187</td>\n",
       "      <td>Solid Dem</td>\n",
       "    </tr>\n",
       "    <tr>\n",
       "      <th>Washington</th>\n",
       "      <td>49</td>\n",
       "      <td>34</td>\n",
       "      <td>15</td>\n",
       "      <td>4,686</td>\n",
       "      <td>Solid Dem</td>\n",
       "    </tr>\n",
       "    <tr>\n",
       "      <th>Hawaii</th>\n",
       "      <td>50</td>\n",
       "      <td>28</td>\n",
       "      <td>22</td>\n",
       "      <td>739</td>\n",
       "      <td>Solid Dem</td>\n",
       "    </tr>\n",
       "    <tr>\n",
       "      <th>Alaska</th>\n",
       "      <td>31</td>\n",
       "      <td>52</td>\n",
       "      <td>-21</td>\n",
       "      <td>553</td>\n",
       "      <td>Solid Rep</td>\n",
       "    </tr>\n",
       "    <tr>\n",
       "      <th>District of Columbia</th>\n",
       "      <td>70</td>\n",
       "      <td>11</td>\n",
       "      <td>59</td>\n",
       "      <td>512</td>\n",
       "      <td>Solid Dem</td>\n",
       "    </tr>\n",
       "  </tbody>\n",
       "</table>\n",
       "</div>"
      ],
      "text/plain": [
       "                     Democrat Republican Dem_Adv        N Classification\n",
       "State                                                                   \n",
       "U.S.                       45         38       7  180,106       Lean Dem\n",
       "Maine                      47         39       8      941       Lean Dem\n",
       "New Hampshire              43         40       3      831    Competitive\n",
       "Vermont                    52         30      22      496      Solid Dem\n",
       "Massachusetts              57         26      31    3,805      Solid Dem\n",
       "Rhode Island               48         27      21      602      Solid Dem\n",
       "Connecticut                51         32      19    2,020      Solid Dem\n",
       "New York                   52         29      23   10,864      Solid Dem\n",
       "New Jersey                 48         33      15    4,455      Solid Dem\n",
       "Pennsylvania               46         41       5    7,974    Competitive\n",
       "Maryland                   56         28      28    3,193      Solid Dem\n",
       "Delaware                   45         33      12      500      Solid Dem\n",
       "West Virginia              40         44      -4    1,011    Competitive\n",
       "Ohio                       41         42      -1    6,319    Competitive\n",
       "Michigan                   45         38       7    5,541       Lean Dem\n",
       "Indiana                    41         43      -2    3,578    Competitive\n",
       "Illinois                   50         33      17    5,712      Solid Dem\n",
       "Wisconsin                  43         41       2    3,353    Competitive\n",
       "Minnesota                  47         37      10    3,428      Solid Dem\n",
       "Iowa                       42         42       0    2,126    Competitive\n",
       "Missouri                   38         45      -7    3,602       Lean Rep\n",
       "North Dakota               28         56     -28      536      Solid Rep\n",
       "South Dakota               35         52     -17      579      Solid Rep\n",
       "Nebraska                   35         50     -15    1,437      Solid Rep\n",
       "Kansas                     34         48     -14    1,771      Solid Rep\n",
       "Virginia                   45         38       7    4,893       Lean Dem\n",
       "North Carolina             44         39       5    5,774    Competitive\n",
       "South Carolina             37         47     -10    2,821      Solid Rep\n",
       "Georgia                    42         40       2    5,458    Competitive\n",
       "Florida                    42         39       3   11,094    Competitive\n",
       "Kentucky                   41         45      -4    2,508    Competitive\n",
       "Tennessee                  35         47     -12    4,117      Solid Rep\n",
       "Alabama                    35         50     -15    3,057      Solid Rep\n",
       "Mississippi                38         45      -7    1,654       Lean Rep\n",
       "Arkansas                   36         45      -9    1,883       Lean Rep\n",
       "Louisiana                  40         43      -3    2,589    Competitive\n",
       "Oklahoma                   35         49     -14    2,459      Solid Rep\n",
       "Texas                      38         41      -3   14,138    Competitive\n",
       "Montana                    37         51     -14    1,059      Solid Rep\n",
       "Arizona                    40         42      -2    3,669    Competitive\n",
       "Colorado                   46         37       9    3,574       Lean Dem\n",
       "Idaho                      31         53     -22    1,254      Solid Rep\n",
       "Wyoming                    27         56     -29      493      Solid Rep\n",
       "Utah                       29         56     -27    2,099      Solid Rep\n",
       "Nevada                     42         39       3    1,540    Competitive\n",
       "New Mexico                 48         34      14    1,454      Solid Dem\n",
       "California                 51         30      21   18,168      Solid Dem\n",
       "Oregon                     49         36      13    3,187      Solid Dem\n",
       "Washington                 49         34      15    4,686      Solid Dem\n",
       "Hawaii                     50         28      22      739      Solid Dem\n",
       "Alaska                     31         52     -21      553      Solid Rep\n",
       "District of Columbia       70         11      59      512      Solid Dem"
      ]
     },
     "execution_count": 1432,
     "metadata": {},
     "output_type": "execute_result"
    }
   ],
   "source": [
    "party_affil = pd.read_csv(\"party_affiliation_by_state.csv\")\n",
    "party_affil =party_affil.rename(columns={'Unnamed: 0': \"State\", 'Democrat/Lean Democratic': 'Democrat', \n",
    "                           'Republican/Lean Republican': 'Republican', \n",
    "                            'Democratic advantage':'Dem_Adv'}).set_index(\"State\")[1:53]\n",
    "party_affil"
   ]
  },
  {
   "cell_type": "code",
   "execution_count": 1433,
   "metadata": {},
   "outputs": [
    {
     "data": {
      "text/plain": [
       "Index(['Democrat', 'Republican', 'Dem_Adv', 'N', 'Classification'], dtype='object')"
      ]
     },
     "execution_count": 1433,
     "metadata": {},
     "output_type": "execute_result"
    }
   ],
   "source": [
    "party_affil.columns"
   ]
  },
  {
   "cell_type": "code",
   "execution_count": 1434,
   "metadata": {},
   "outputs": [
    {
     "data": {
      "text/html": [
       "<div>\n",
       "<style scoped>\n",
       "    .dataframe tbody tr th:only-of-type {\n",
       "        vertical-align: middle;\n",
       "    }\n",
       "\n",
       "    .dataframe tbody tr th {\n",
       "        vertical-align: top;\n",
       "    }\n",
       "\n",
       "    .dataframe thead th {\n",
       "        text-align: right;\n",
       "    }\n",
       "</style>\n",
       "<table border=\"1\" class=\"dataframe\">\n",
       "  <thead>\n",
       "    <tr style=\"text-align: right;\">\n",
       "      <th></th>\n",
       "      <th>Democrat</th>\n",
       "      <th>Republican</th>\n",
       "      <th>Dem_Adv</th>\n",
       "      <th>N</th>\n",
       "      <th>Classification</th>\n",
       "      <th>no_party</th>\n",
       "    </tr>\n",
       "    <tr>\n",
       "      <th>State</th>\n",
       "      <th></th>\n",
       "      <th></th>\n",
       "      <th></th>\n",
       "      <th></th>\n",
       "      <th></th>\n",
       "      <th></th>\n",
       "    </tr>\n",
       "  </thead>\n",
       "  <tbody>\n",
       "    <tr>\n",
       "      <th>U.S.</th>\n",
       "      <td>45.0</td>\n",
       "      <td>38.0</td>\n",
       "      <td>7</td>\n",
       "      <td>180,106</td>\n",
       "      <td>Lean Dem</td>\n",
       "      <td>17.0</td>\n",
       "    </tr>\n",
       "    <tr>\n",
       "      <th>Maine</th>\n",
       "      <td>47.0</td>\n",
       "      <td>39.0</td>\n",
       "      <td>8</td>\n",
       "      <td>941</td>\n",
       "      <td>Lean Dem</td>\n",
       "      <td>14.0</td>\n",
       "    </tr>\n",
       "    <tr>\n",
       "      <th>New Hampshire</th>\n",
       "      <td>43.0</td>\n",
       "      <td>40.0</td>\n",
       "      <td>3</td>\n",
       "      <td>831</td>\n",
       "      <td>Competitive</td>\n",
       "      <td>17.0</td>\n",
       "    </tr>\n",
       "    <tr>\n",
       "      <th>Vermont</th>\n",
       "      <td>52.0</td>\n",
       "      <td>30.0</td>\n",
       "      <td>22</td>\n",
       "      <td>496</td>\n",
       "      <td>Solid Dem</td>\n",
       "      <td>18.0</td>\n",
       "    </tr>\n",
       "    <tr>\n",
       "      <th>Massachusetts</th>\n",
       "      <td>57.0</td>\n",
       "      <td>26.0</td>\n",
       "      <td>31</td>\n",
       "      <td>3,805</td>\n",
       "      <td>Solid Dem</td>\n",
       "      <td>17.0</td>\n",
       "    </tr>\n",
       "    <tr>\n",
       "      <th>Rhode Island</th>\n",
       "      <td>48.0</td>\n",
       "      <td>27.0</td>\n",
       "      <td>21</td>\n",
       "      <td>602</td>\n",
       "      <td>Solid Dem</td>\n",
       "      <td>25.0</td>\n",
       "    </tr>\n",
       "    <tr>\n",
       "      <th>Connecticut</th>\n",
       "      <td>51.0</td>\n",
       "      <td>32.0</td>\n",
       "      <td>19</td>\n",
       "      <td>2,020</td>\n",
       "      <td>Solid Dem</td>\n",
       "      <td>17.0</td>\n",
       "    </tr>\n",
       "    <tr>\n",
       "      <th>New York</th>\n",
       "      <td>52.0</td>\n",
       "      <td>29.0</td>\n",
       "      <td>23</td>\n",
       "      <td>10,864</td>\n",
       "      <td>Solid Dem</td>\n",
       "      <td>19.0</td>\n",
       "    </tr>\n",
       "    <tr>\n",
       "      <th>New Jersey</th>\n",
       "      <td>48.0</td>\n",
       "      <td>33.0</td>\n",
       "      <td>15</td>\n",
       "      <td>4,455</td>\n",
       "      <td>Solid Dem</td>\n",
       "      <td>19.0</td>\n",
       "    </tr>\n",
       "    <tr>\n",
       "      <th>Pennsylvania</th>\n",
       "      <td>46.0</td>\n",
       "      <td>41.0</td>\n",
       "      <td>5</td>\n",
       "      <td>7,974</td>\n",
       "      <td>Competitive</td>\n",
       "      <td>13.0</td>\n",
       "    </tr>\n",
       "    <tr>\n",
       "      <th>Maryland</th>\n",
       "      <td>56.0</td>\n",
       "      <td>28.0</td>\n",
       "      <td>28</td>\n",
       "      <td>3,193</td>\n",
       "      <td>Solid Dem</td>\n",
       "      <td>16.0</td>\n",
       "    </tr>\n",
       "    <tr>\n",
       "      <th>Delaware</th>\n",
       "      <td>45.0</td>\n",
       "      <td>33.0</td>\n",
       "      <td>12</td>\n",
       "      <td>500</td>\n",
       "      <td>Solid Dem</td>\n",
       "      <td>22.0</td>\n",
       "    </tr>\n",
       "    <tr>\n",
       "      <th>West Virginia</th>\n",
       "      <td>40.0</td>\n",
       "      <td>44.0</td>\n",
       "      <td>-4</td>\n",
       "      <td>1,011</td>\n",
       "      <td>Competitive</td>\n",
       "      <td>16.0</td>\n",
       "    </tr>\n",
       "    <tr>\n",
       "      <th>Ohio</th>\n",
       "      <td>41.0</td>\n",
       "      <td>42.0</td>\n",
       "      <td>-1</td>\n",
       "      <td>6,319</td>\n",
       "      <td>Competitive</td>\n",
       "      <td>17.0</td>\n",
       "    </tr>\n",
       "    <tr>\n",
       "      <th>Michigan</th>\n",
       "      <td>45.0</td>\n",
       "      <td>38.0</td>\n",
       "      <td>7</td>\n",
       "      <td>5,541</td>\n",
       "      <td>Lean Dem</td>\n",
       "      <td>17.0</td>\n",
       "    </tr>\n",
       "    <tr>\n",
       "      <th>Indiana</th>\n",
       "      <td>41.0</td>\n",
       "      <td>43.0</td>\n",
       "      <td>-2</td>\n",
       "      <td>3,578</td>\n",
       "      <td>Competitive</td>\n",
       "      <td>16.0</td>\n",
       "    </tr>\n",
       "    <tr>\n",
       "      <th>Illinois</th>\n",
       "      <td>50.0</td>\n",
       "      <td>33.0</td>\n",
       "      <td>17</td>\n",
       "      <td>5,712</td>\n",
       "      <td>Solid Dem</td>\n",
       "      <td>17.0</td>\n",
       "    </tr>\n",
       "    <tr>\n",
       "      <th>Wisconsin</th>\n",
       "      <td>43.0</td>\n",
       "      <td>41.0</td>\n",
       "      <td>2</td>\n",
       "      <td>3,353</td>\n",
       "      <td>Competitive</td>\n",
       "      <td>16.0</td>\n",
       "    </tr>\n",
       "    <tr>\n",
       "      <th>Minnesota</th>\n",
       "      <td>47.0</td>\n",
       "      <td>37.0</td>\n",
       "      <td>10</td>\n",
       "      <td>3,428</td>\n",
       "      <td>Solid Dem</td>\n",
       "      <td>16.0</td>\n",
       "    </tr>\n",
       "    <tr>\n",
       "      <th>Iowa</th>\n",
       "      <td>42.0</td>\n",
       "      <td>42.0</td>\n",
       "      <td>0</td>\n",
       "      <td>2,126</td>\n",
       "      <td>Competitive</td>\n",
       "      <td>16.0</td>\n",
       "    </tr>\n",
       "    <tr>\n",
       "      <th>Missouri</th>\n",
       "      <td>38.0</td>\n",
       "      <td>45.0</td>\n",
       "      <td>-7</td>\n",
       "      <td>3,602</td>\n",
       "      <td>Lean Rep</td>\n",
       "      <td>17.0</td>\n",
       "    </tr>\n",
       "    <tr>\n",
       "      <th>North Dakota</th>\n",
       "      <td>28.0</td>\n",
       "      <td>56.0</td>\n",
       "      <td>-28</td>\n",
       "      <td>536</td>\n",
       "      <td>Solid Rep</td>\n",
       "      <td>16.0</td>\n",
       "    </tr>\n",
       "    <tr>\n",
       "      <th>South Dakota</th>\n",
       "      <td>35.0</td>\n",
       "      <td>52.0</td>\n",
       "      <td>-17</td>\n",
       "      <td>579</td>\n",
       "      <td>Solid Rep</td>\n",
       "      <td>13.0</td>\n",
       "    </tr>\n",
       "    <tr>\n",
       "      <th>Nebraska</th>\n",
       "      <td>35.0</td>\n",
       "      <td>50.0</td>\n",
       "      <td>-15</td>\n",
       "      <td>1,437</td>\n",
       "      <td>Solid Rep</td>\n",
       "      <td>15.0</td>\n",
       "    </tr>\n",
       "    <tr>\n",
       "      <th>Kansas</th>\n",
       "      <td>34.0</td>\n",
       "      <td>48.0</td>\n",
       "      <td>-14</td>\n",
       "      <td>1,771</td>\n",
       "      <td>Solid Rep</td>\n",
       "      <td>18.0</td>\n",
       "    </tr>\n",
       "    <tr>\n",
       "      <th>Virginia</th>\n",
       "      <td>45.0</td>\n",
       "      <td>38.0</td>\n",
       "      <td>7</td>\n",
       "      <td>4,893</td>\n",
       "      <td>Lean Dem</td>\n",
       "      <td>17.0</td>\n",
       "    </tr>\n",
       "    <tr>\n",
       "      <th>North Carolina</th>\n",
       "      <td>44.0</td>\n",
       "      <td>39.0</td>\n",
       "      <td>5</td>\n",
       "      <td>5,774</td>\n",
       "      <td>Competitive</td>\n",
       "      <td>17.0</td>\n",
       "    </tr>\n",
       "    <tr>\n",
       "      <th>South Carolina</th>\n",
       "      <td>37.0</td>\n",
       "      <td>47.0</td>\n",
       "      <td>-10</td>\n",
       "      <td>2,821</td>\n",
       "      <td>Solid Rep</td>\n",
       "      <td>16.0</td>\n",
       "    </tr>\n",
       "    <tr>\n",
       "      <th>Georgia</th>\n",
       "      <td>42.0</td>\n",
       "      <td>40.0</td>\n",
       "      <td>2</td>\n",
       "      <td>5,458</td>\n",
       "      <td>Competitive</td>\n",
       "      <td>18.0</td>\n",
       "    </tr>\n",
       "    <tr>\n",
       "      <th>Florida</th>\n",
       "      <td>42.0</td>\n",
       "      <td>39.0</td>\n",
       "      <td>3</td>\n",
       "      <td>11,094</td>\n",
       "      <td>Competitive</td>\n",
       "      <td>19.0</td>\n",
       "    </tr>\n",
       "    <tr>\n",
       "      <th>Kentucky</th>\n",
       "      <td>41.0</td>\n",
       "      <td>45.0</td>\n",
       "      <td>-4</td>\n",
       "      <td>2,508</td>\n",
       "      <td>Competitive</td>\n",
       "      <td>14.0</td>\n",
       "    </tr>\n",
       "    <tr>\n",
       "      <th>Tennessee</th>\n",
       "      <td>35.0</td>\n",
       "      <td>47.0</td>\n",
       "      <td>-12</td>\n",
       "      <td>4,117</td>\n",
       "      <td>Solid Rep</td>\n",
       "      <td>18.0</td>\n",
       "    </tr>\n",
       "    <tr>\n",
       "      <th>Alabama</th>\n",
       "      <td>35.0</td>\n",
       "      <td>50.0</td>\n",
       "      <td>-15</td>\n",
       "      <td>3,057</td>\n",
       "      <td>Solid Rep</td>\n",
       "      <td>15.0</td>\n",
       "    </tr>\n",
       "    <tr>\n",
       "      <th>Mississippi</th>\n",
       "      <td>38.0</td>\n",
       "      <td>45.0</td>\n",
       "      <td>-7</td>\n",
       "      <td>1,654</td>\n",
       "      <td>Lean Rep</td>\n",
       "      <td>17.0</td>\n",
       "    </tr>\n",
       "    <tr>\n",
       "      <th>Arkansas</th>\n",
       "      <td>36.0</td>\n",
       "      <td>45.0</td>\n",
       "      <td>-9</td>\n",
       "      <td>1,883</td>\n",
       "      <td>Lean Rep</td>\n",
       "      <td>19.0</td>\n",
       "    </tr>\n",
       "    <tr>\n",
       "      <th>Louisiana</th>\n",
       "      <td>40.0</td>\n",
       "      <td>43.0</td>\n",
       "      <td>-3</td>\n",
       "      <td>2,589</td>\n",
       "      <td>Competitive</td>\n",
       "      <td>17.0</td>\n",
       "    </tr>\n",
       "    <tr>\n",
       "      <th>Oklahoma</th>\n",
       "      <td>35.0</td>\n",
       "      <td>49.0</td>\n",
       "      <td>-14</td>\n",
       "      <td>2,459</td>\n",
       "      <td>Solid Rep</td>\n",
       "      <td>16.0</td>\n",
       "    </tr>\n",
       "    <tr>\n",
       "      <th>Texas</th>\n",
       "      <td>38.0</td>\n",
       "      <td>41.0</td>\n",
       "      <td>-3</td>\n",
       "      <td>14,138</td>\n",
       "      <td>Competitive</td>\n",
       "      <td>21.0</td>\n",
       "    </tr>\n",
       "    <tr>\n",
       "      <th>Montana</th>\n",
       "      <td>37.0</td>\n",
       "      <td>51.0</td>\n",
       "      <td>-14</td>\n",
       "      <td>1,059</td>\n",
       "      <td>Solid Rep</td>\n",
       "      <td>12.0</td>\n",
       "    </tr>\n",
       "    <tr>\n",
       "      <th>Arizona</th>\n",
       "      <td>40.0</td>\n",
       "      <td>42.0</td>\n",
       "      <td>-2</td>\n",
       "      <td>3,669</td>\n",
       "      <td>Competitive</td>\n",
       "      <td>18.0</td>\n",
       "    </tr>\n",
       "    <tr>\n",
       "      <th>Colorado</th>\n",
       "      <td>46.0</td>\n",
       "      <td>37.0</td>\n",
       "      <td>9</td>\n",
       "      <td>3,574</td>\n",
       "      <td>Lean Dem</td>\n",
       "      <td>17.0</td>\n",
       "    </tr>\n",
       "    <tr>\n",
       "      <th>Idaho</th>\n",
       "      <td>31.0</td>\n",
       "      <td>53.0</td>\n",
       "      <td>-22</td>\n",
       "      <td>1,254</td>\n",
       "      <td>Solid Rep</td>\n",
       "      <td>16.0</td>\n",
       "    </tr>\n",
       "    <tr>\n",
       "      <th>Wyoming</th>\n",
       "      <td>27.0</td>\n",
       "      <td>56.0</td>\n",
       "      <td>-29</td>\n",
       "      <td>493</td>\n",
       "      <td>Solid Rep</td>\n",
       "      <td>17.0</td>\n",
       "    </tr>\n",
       "    <tr>\n",
       "      <th>Utah</th>\n",
       "      <td>29.0</td>\n",
       "      <td>56.0</td>\n",
       "      <td>-27</td>\n",
       "      <td>2,099</td>\n",
       "      <td>Solid Rep</td>\n",
       "      <td>15.0</td>\n",
       "    </tr>\n",
       "    <tr>\n",
       "      <th>Nevada</th>\n",
       "      <td>42.0</td>\n",
       "      <td>39.0</td>\n",
       "      <td>3</td>\n",
       "      <td>1,540</td>\n",
       "      <td>Competitive</td>\n",
       "      <td>19.0</td>\n",
       "    </tr>\n",
       "    <tr>\n",
       "      <th>New Mexico</th>\n",
       "      <td>48.0</td>\n",
       "      <td>34.0</td>\n",
       "      <td>14</td>\n",
       "      <td>1,454</td>\n",
       "      <td>Solid Dem</td>\n",
       "      <td>18.0</td>\n",
       "    </tr>\n",
       "    <tr>\n",
       "      <th>California</th>\n",
       "      <td>51.0</td>\n",
       "      <td>30.0</td>\n",
       "      <td>21</td>\n",
       "      <td>18,168</td>\n",
       "      <td>Solid Dem</td>\n",
       "      <td>19.0</td>\n",
       "    </tr>\n",
       "    <tr>\n",
       "      <th>Oregon</th>\n",
       "      <td>49.0</td>\n",
       "      <td>36.0</td>\n",
       "      <td>13</td>\n",
       "      <td>3,187</td>\n",
       "      <td>Solid Dem</td>\n",
       "      <td>15.0</td>\n",
       "    </tr>\n",
       "    <tr>\n",
       "      <th>Washington</th>\n",
       "      <td>49.0</td>\n",
       "      <td>34.0</td>\n",
       "      <td>15</td>\n",
       "      <td>4,686</td>\n",
       "      <td>Solid Dem</td>\n",
       "      <td>17.0</td>\n",
       "    </tr>\n",
       "    <tr>\n",
       "      <th>Hawaii</th>\n",
       "      <td>50.0</td>\n",
       "      <td>28.0</td>\n",
       "      <td>22</td>\n",
       "      <td>739</td>\n",
       "      <td>Solid Dem</td>\n",
       "      <td>22.0</td>\n",
       "    </tr>\n",
       "    <tr>\n",
       "      <th>Alaska</th>\n",
       "      <td>31.0</td>\n",
       "      <td>52.0</td>\n",
       "      <td>-21</td>\n",
       "      <td>553</td>\n",
       "      <td>Solid Rep</td>\n",
       "      <td>17.0</td>\n",
       "    </tr>\n",
       "    <tr>\n",
       "      <th>District of Columbia</th>\n",
       "      <td>70.0</td>\n",
       "      <td>11.0</td>\n",
       "      <td>59</td>\n",
       "      <td>512</td>\n",
       "      <td>Solid Dem</td>\n",
       "      <td>19.0</td>\n",
       "    </tr>\n",
       "  </tbody>\n",
       "</table>\n",
       "</div>"
      ],
      "text/plain": [
       "                      Democrat  Republican Dem_Adv        N Classification  \\\n",
       "State                                                                        \n",
       "U.S.                      45.0        38.0       7  180,106       Lean Dem   \n",
       "Maine                     47.0        39.0       8      941       Lean Dem   \n",
       "New Hampshire             43.0        40.0       3      831    Competitive   \n",
       "Vermont                   52.0        30.0      22      496      Solid Dem   \n",
       "Massachusetts             57.0        26.0      31    3,805      Solid Dem   \n",
       "Rhode Island              48.0        27.0      21      602      Solid Dem   \n",
       "Connecticut               51.0        32.0      19    2,020      Solid Dem   \n",
       "New York                  52.0        29.0      23   10,864      Solid Dem   \n",
       "New Jersey                48.0        33.0      15    4,455      Solid Dem   \n",
       "Pennsylvania              46.0        41.0       5    7,974    Competitive   \n",
       "Maryland                  56.0        28.0      28    3,193      Solid Dem   \n",
       "Delaware                  45.0        33.0      12      500      Solid Dem   \n",
       "West Virginia             40.0        44.0      -4    1,011    Competitive   \n",
       "Ohio                      41.0        42.0      -1    6,319    Competitive   \n",
       "Michigan                  45.0        38.0       7    5,541       Lean Dem   \n",
       "Indiana                   41.0        43.0      -2    3,578    Competitive   \n",
       "Illinois                  50.0        33.0      17    5,712      Solid Dem   \n",
       "Wisconsin                 43.0        41.0       2    3,353    Competitive   \n",
       "Minnesota                 47.0        37.0      10    3,428      Solid Dem   \n",
       "Iowa                      42.0        42.0       0    2,126    Competitive   \n",
       "Missouri                  38.0        45.0      -7    3,602       Lean Rep   \n",
       "North Dakota              28.0        56.0     -28      536      Solid Rep   \n",
       "South Dakota              35.0        52.0     -17      579      Solid Rep   \n",
       "Nebraska                  35.0        50.0     -15    1,437      Solid Rep   \n",
       "Kansas                    34.0        48.0     -14    1,771      Solid Rep   \n",
       "Virginia                  45.0        38.0       7    4,893       Lean Dem   \n",
       "North Carolina            44.0        39.0       5    5,774    Competitive   \n",
       "South Carolina            37.0        47.0     -10    2,821      Solid Rep   \n",
       "Georgia                   42.0        40.0       2    5,458    Competitive   \n",
       "Florida                   42.0        39.0       3   11,094    Competitive   \n",
       "Kentucky                  41.0        45.0      -4    2,508    Competitive   \n",
       "Tennessee                 35.0        47.0     -12    4,117      Solid Rep   \n",
       "Alabama                   35.0        50.0     -15    3,057      Solid Rep   \n",
       "Mississippi               38.0        45.0      -7    1,654       Lean Rep   \n",
       "Arkansas                  36.0        45.0      -9    1,883       Lean Rep   \n",
       "Louisiana                 40.0        43.0      -3    2,589    Competitive   \n",
       "Oklahoma                  35.0        49.0     -14    2,459      Solid Rep   \n",
       "Texas                     38.0        41.0      -3   14,138    Competitive   \n",
       "Montana                   37.0        51.0     -14    1,059      Solid Rep   \n",
       "Arizona                   40.0        42.0      -2    3,669    Competitive   \n",
       "Colorado                  46.0        37.0       9    3,574       Lean Dem   \n",
       "Idaho                     31.0        53.0     -22    1,254      Solid Rep   \n",
       "Wyoming                   27.0        56.0     -29      493      Solid Rep   \n",
       "Utah                      29.0        56.0     -27    2,099      Solid Rep   \n",
       "Nevada                    42.0        39.0       3    1,540    Competitive   \n",
       "New Mexico                48.0        34.0      14    1,454      Solid Dem   \n",
       "California                51.0        30.0      21   18,168      Solid Dem   \n",
       "Oregon                    49.0        36.0      13    3,187      Solid Dem   \n",
       "Washington                49.0        34.0      15    4,686      Solid Dem   \n",
       "Hawaii                    50.0        28.0      22      739      Solid Dem   \n",
       "Alaska                    31.0        52.0     -21      553      Solid Rep   \n",
       "District of Columbia      70.0        11.0      59      512      Solid Dem   \n",
       "\n",
       "                      no_party  \n",
       "State                           \n",
       "U.S.                      17.0  \n",
       "Maine                     14.0  \n",
       "New Hampshire             17.0  \n",
       "Vermont                   18.0  \n",
       "Massachusetts             17.0  \n",
       "Rhode Island              25.0  \n",
       "Connecticut               17.0  \n",
       "New York                  19.0  \n",
       "New Jersey                19.0  \n",
       "Pennsylvania              13.0  \n",
       "Maryland                  16.0  \n",
       "Delaware                  22.0  \n",
       "West Virginia             16.0  \n",
       "Ohio                      17.0  \n",
       "Michigan                  17.0  \n",
       "Indiana                   16.0  \n",
       "Illinois                  17.0  \n",
       "Wisconsin                 16.0  \n",
       "Minnesota                 16.0  \n",
       "Iowa                      16.0  \n",
       "Missouri                  17.0  \n",
       "North Dakota              16.0  \n",
       "South Dakota              13.0  \n",
       "Nebraska                  15.0  \n",
       "Kansas                    18.0  \n",
       "Virginia                  17.0  \n",
       "North Carolina            17.0  \n",
       "South Carolina            16.0  \n",
       "Georgia                   18.0  \n",
       "Florida                   19.0  \n",
       "Kentucky                  14.0  \n",
       "Tennessee                 18.0  \n",
       "Alabama                   15.0  \n",
       "Mississippi               17.0  \n",
       "Arkansas                  19.0  \n",
       "Louisiana                 17.0  \n",
       "Oklahoma                  16.0  \n",
       "Texas                     21.0  \n",
       "Montana                   12.0  \n",
       "Arizona                   18.0  \n",
       "Colorado                  17.0  \n",
       "Idaho                     16.0  \n",
       "Wyoming                   17.0  \n",
       "Utah                      15.0  \n",
       "Nevada                    19.0  \n",
       "New Mexico                18.0  \n",
       "California                19.0  \n",
       "Oregon                    15.0  \n",
       "Washington                17.0  \n",
       "Hawaii                    22.0  \n",
       "Alaska                    17.0  \n",
       "District of Columbia      19.0  "
      ]
     },
     "execution_count": 1434,
     "metadata": {},
     "output_type": "execute_result"
    }
   ],
   "source": [
    "party_affil['Democrat'] = party_affil.Democrat.str.replace(\"%\", \"\").astype(float)\n",
    "party_affil.Republican = party_affil.Republican.str.replace(\"%\", \"\").astype(float)\n",
    "party_affil[\"no_party\"] = 100 - party_affil.Democrat - party_affil.Republican\n",
    "party_affil"
   ]
  },
  {
   "cell_type": "code",
   "execution_count": 1435,
   "metadata": {},
   "outputs": [
    {
     "data": {
      "text/html": [
       "<div>\n",
       "<style scoped>\n",
       "    .dataframe tbody tr th:only-of-type {\n",
       "        vertical-align: middle;\n",
       "    }\n",
       "\n",
       "    .dataframe tbody tr th {\n",
       "        vertical-align: top;\n",
       "    }\n",
       "\n",
       "    .dataframe thead th {\n",
       "        text-align: right;\n",
       "    }\n",
       "</style>\n",
       "<table border=\"1\" class=\"dataframe\">\n",
       "  <thead>\n",
       "    <tr style=\"text-align: right;\">\n",
       "      <th></th>\n",
       "      <th>State</th>\n",
       "      <th>Total_Pop_2019</th>\n",
       "      <th>Under_18</th>\n",
       "      <th>Over_65</th>\n",
       "      <th>Black</th>\n",
       "      <th>Native American</th>\n",
       "      <th>Hispanic</th>\n",
       "      <th>Non-Hispanic</th>\n",
       "      <th>High_School_Grad</th>\n",
       "      <th>Bachelor_Degree</th>\n",
       "      <th>Per_Capita_Income</th>\n",
       "      <th>Median_Household_Income_2018</th>\n",
       "      <th>Pop_Per_Sq_Mile_2010</th>\n",
       "    </tr>\n",
       "  </thead>\n",
       "  <tbody>\n",
       "    <tr>\n",
       "      <th>0</th>\n",
       "      <td>Alabama</td>\n",
       "      <td>4,903,185</td>\n",
       "      <td>22.30%</td>\n",
       "      <td>16.90%</td>\n",
       "      <td>26.80%</td>\n",
       "      <td>0.70%</td>\n",
       "      <td>4.40%</td>\n",
       "      <td>65.40%</td>\n",
       "      <td>85.80%</td>\n",
       "      <td>24.90%</td>\n",
       "      <td>$26,846</td>\n",
       "      <td>$48,486</td>\n",
       "      <td>94.4</td>\n",
       "    </tr>\n",
       "    <tr>\n",
       "      <th>1</th>\n",
       "      <td>Alaska</td>\n",
       "      <td>731,545</td>\n",
       "      <td>24.90%</td>\n",
       "      <td>11.80%</td>\n",
       "      <td>3.80%</td>\n",
       "      <td>15.40%</td>\n",
       "      <td>7.20%</td>\n",
       "      <td>60.30%</td>\n",
       "      <td>92.70%</td>\n",
       "      <td>29.20%</td>\n",
       "      <td>$35,874</td>\n",
       "      <td>$76,715</td>\n",
       "      <td>1.2</td>\n",
       "    </tr>\n",
       "    <tr>\n",
       "      <th>2</th>\n",
       "      <td>Arizona</td>\n",
       "      <td>7,278,717</td>\n",
       "      <td>22.90%</td>\n",
       "      <td>17.50%</td>\n",
       "      <td>5.10%</td>\n",
       "      <td>5.30%</td>\n",
       "      <td>31.60%</td>\n",
       "      <td>54.40%</td>\n",
       "      <td>86.80%</td>\n",
       "      <td>28.90%</td>\n",
       "      <td>$29,265</td>\n",
       "      <td>$56,213</td>\n",
       "      <td>56.3</td>\n",
       "    </tr>\n",
       "    <tr>\n",
       "      <th>3</th>\n",
       "      <td>Arkansas</td>\n",
       "      <td>3,017,804</td>\n",
       "      <td>23.30%</td>\n",
       "      <td>17.00%</td>\n",
       "      <td>15.70%</td>\n",
       "      <td>1.00%</td>\n",
       "      <td>7.70%</td>\n",
       "      <td>72.20%</td>\n",
       "      <td>86.20%</td>\n",
       "      <td>22.60%</td>\n",
       "      <td>$25,635</td>\n",
       "      <td>$45,726</td>\n",
       "      <td>56</td>\n",
       "    </tr>\n",
       "    <tr>\n",
       "      <th>4</th>\n",
       "      <td>California</td>\n",
       "      <td>39,512,223</td>\n",
       "      <td>22.70%</td>\n",
       "      <td>14.30%</td>\n",
       "      <td>6.50%</td>\n",
       "      <td>1.60%</td>\n",
       "      <td>39.30%</td>\n",
       "      <td>36.80%</td>\n",
       "      <td>82.90%</td>\n",
       "      <td>33.30%</td>\n",
       "      <td>$35,021</td>\n",
       "      <td>$71,228</td>\n",
       "      <td>239.1</td>\n",
       "    </tr>\n",
       "  </tbody>\n",
       "</table>\n",
       "</div>"
      ],
      "text/plain": [
       "        State Total_Pop_2019 Under_18 Over_65   Black Native American  \\\n",
       "0     Alabama      4,903,185   22.30%  16.90%  26.80%           0.70%   \n",
       "1      Alaska        731,545   24.90%  11.80%   3.80%          15.40%   \n",
       "2     Arizona      7,278,717   22.90%  17.50%   5.10%           5.30%   \n",
       "3    Arkansas      3,017,804   23.30%  17.00%  15.70%           1.00%   \n",
       "4  California     39,512,223   22.70%  14.30%   6.50%           1.60%   \n",
       "\n",
       "  Hispanic Non-Hispanic  High_School_Grad Bachelor_Degree Per_Capita_Income  \\\n",
       "0    4.40%        65.40%           85.80%          24.90%           $26,846   \n",
       "1    7.20%        60.30%           92.70%          29.20%           $35,874   \n",
       "2   31.60%        54.40%           86.80%          28.90%           $29,265   \n",
       "3    7.70%        72.20%           86.20%          22.60%           $25,635   \n",
       "4   39.30%        36.80%           82.90%          33.30%           $35,021   \n",
       "\n",
       "  Median_Household_Income_2018 Pop_Per_Sq_Mile_2010  \n",
       "0                      $48,486                 94.4  \n",
       "1                      $76,715                  1.2  \n",
       "2                      $56,213                 56.3  \n",
       "3                      $45,726                   56  \n",
       "4                      $71,228                239.1  "
      ]
     },
     "execution_count": 1435,
     "metadata": {},
     "output_type": "execute_result"
    }
   ],
   "source": [
    "#Census\n",
    "census_data = pd.read_csv(\"Census_Data.csv\")\n",
    "census_data.head()"
   ]
  },
  {
   "cell_type": "code",
   "execution_count": 1436,
   "metadata": {},
   "outputs": [
    {
     "data": {
      "text/html": [
       "<div>\n",
       "<style scoped>\n",
       "    .dataframe tbody tr th:only-of-type {\n",
       "        vertical-align: middle;\n",
       "    }\n",
       "\n",
       "    .dataframe tbody tr th {\n",
       "        vertical-align: top;\n",
       "    }\n",
       "\n",
       "    .dataframe thead th {\n",
       "        text-align: right;\n",
       "    }\n",
       "</style>\n",
       "<table border=\"1\" class=\"dataframe\">\n",
       "  <thead>\n",
       "    <tr style=\"text-align: right;\">\n",
       "      <th></th>\n",
       "      <th>state</th>\n",
       "      <th>Total_Pop_2019</th>\n",
       "      <th>Under_18</th>\n",
       "      <th>Over_65</th>\n",
       "      <th>per_black</th>\n",
       "      <th>Native American</th>\n",
       "      <th>per_hisp</th>\n",
       "      <th>per_white</th>\n",
       "      <th>educ_hs</th>\n",
       "      <th>educ_coll</th>\n",
       "      <th>average_income</th>\n",
       "      <th>median_income</th>\n",
       "      <th>pop_density</th>\n",
       "    </tr>\n",
       "  </thead>\n",
       "  <tbody>\n",
       "    <tr>\n",
       "      <th>0</th>\n",
       "      <td>Alabama</td>\n",
       "      <td>4,903,185</td>\n",
       "      <td>22.30%</td>\n",
       "      <td>16.90%</td>\n",
       "      <td>26.80%</td>\n",
       "      <td>0.70%</td>\n",
       "      <td>4.40%</td>\n",
       "      <td>65.40%</td>\n",
       "      <td>85.80%</td>\n",
       "      <td>24.90%</td>\n",
       "      <td>$26,846</td>\n",
       "      <td>$48,486</td>\n",
       "      <td>94.4</td>\n",
       "    </tr>\n",
       "    <tr>\n",
       "      <th>1</th>\n",
       "      <td>Alaska</td>\n",
       "      <td>731,545</td>\n",
       "      <td>24.90%</td>\n",
       "      <td>11.80%</td>\n",
       "      <td>3.80%</td>\n",
       "      <td>15.40%</td>\n",
       "      <td>7.20%</td>\n",
       "      <td>60.30%</td>\n",
       "      <td>92.70%</td>\n",
       "      <td>29.20%</td>\n",
       "      <td>$35,874</td>\n",
       "      <td>$76,715</td>\n",
       "      <td>1.2</td>\n",
       "    </tr>\n",
       "    <tr>\n",
       "      <th>2</th>\n",
       "      <td>Arizona</td>\n",
       "      <td>7,278,717</td>\n",
       "      <td>22.90%</td>\n",
       "      <td>17.50%</td>\n",
       "      <td>5.10%</td>\n",
       "      <td>5.30%</td>\n",
       "      <td>31.60%</td>\n",
       "      <td>54.40%</td>\n",
       "      <td>86.80%</td>\n",
       "      <td>28.90%</td>\n",
       "      <td>$29,265</td>\n",
       "      <td>$56,213</td>\n",
       "      <td>56.3</td>\n",
       "    </tr>\n",
       "    <tr>\n",
       "      <th>3</th>\n",
       "      <td>Arkansas</td>\n",
       "      <td>3,017,804</td>\n",
       "      <td>23.30%</td>\n",
       "      <td>17.00%</td>\n",
       "      <td>15.70%</td>\n",
       "      <td>1.00%</td>\n",
       "      <td>7.70%</td>\n",
       "      <td>72.20%</td>\n",
       "      <td>86.20%</td>\n",
       "      <td>22.60%</td>\n",
       "      <td>$25,635</td>\n",
       "      <td>$45,726</td>\n",
       "      <td>56</td>\n",
       "    </tr>\n",
       "    <tr>\n",
       "      <th>4</th>\n",
       "      <td>California</td>\n",
       "      <td>39,512,223</td>\n",
       "      <td>22.70%</td>\n",
       "      <td>14.30%</td>\n",
       "      <td>6.50%</td>\n",
       "      <td>1.60%</td>\n",
       "      <td>39.30%</td>\n",
       "      <td>36.80%</td>\n",
       "      <td>82.90%</td>\n",
       "      <td>33.30%</td>\n",
       "      <td>$35,021</td>\n",
       "      <td>$71,228</td>\n",
       "      <td>239.1</td>\n",
       "    </tr>\n",
       "  </tbody>\n",
       "</table>\n",
       "</div>"
      ],
      "text/plain": [
       "        state Total_Pop_2019 Under_18 Over_65 per_black Native American  \\\n",
       "0     Alabama      4,903,185   22.30%  16.90%    26.80%           0.70%   \n",
       "1      Alaska        731,545   24.90%  11.80%     3.80%          15.40%   \n",
       "2     Arizona      7,278,717   22.90%  17.50%     5.10%           5.30%   \n",
       "3    Arkansas      3,017,804   23.30%  17.00%    15.70%           1.00%   \n",
       "4  California     39,512,223   22.70%  14.30%     6.50%           1.60%   \n",
       "\n",
       "  per_hisp per_white educ_hs educ_coll average_income median_income  \\\n",
       "0    4.40%    65.40%  85.80%    24.90%        $26,846       $48,486   \n",
       "1    7.20%    60.30%  92.70%    29.20%        $35,874       $76,715   \n",
       "2   31.60%    54.40%  86.80%    28.90%        $29,265       $56,213   \n",
       "3    7.70%    72.20%  86.20%    22.60%        $25,635       $45,726   \n",
       "4   39.30%    36.80%  82.90%    33.30%        $35,021       $71,228   \n",
       "\n",
       "  pop_density  \n",
       "0        94.4  \n",
       "1         1.2  \n",
       "2        56.3  \n",
       "3          56  \n",
       "4       239.1  "
      ]
     },
     "execution_count": 1436,
     "metadata": {},
     "output_type": "execute_result"
    }
   ],
   "source": [
    "census_refined = pd.DataFrame({})\n",
    "\n",
    "census_data.rename(columns={\n",
    "                        \"Median_Household_Income_2018\" : \"median_income\",\n",
    "                        \"Per_Capita_Income\" : \"average_income\",\n",
    "                        \"Pop_Per_Sq_Mile_2010\" : \"pop_density\",\n",
    "                        \"High_School_Grad\" : \"educ_hs\",\n",
    "                        \"Bachelor_Degree\" : \"educ_coll\",\n",
    "                        \"Non-Hispanic \" : \"per_white\",\n",
    "                        \"Hispanic\" : \"per_hisp\",\n",
    "                        \"State\" : \"state\",\n",
    "                        \"Black\" : \"per_black\",\n",
    "                                }, inplace=True)\n",
    "\n",
    "census_data.head(5)"
   ]
  },
  {
   "cell_type": "code",
   "execution_count": null,
   "metadata": {},
   "outputs": [],
   "source": []
  },
  {
   "cell_type": "code",
   "execution_count": 1437,
   "metadata": {},
   "outputs": [],
   "source": [
    "tot_pop = census_data[\"Total_Pop_2019\"].str.replace(\",\",\"\").astype(float)\n",
    "per_18 = census_data[\"Under_18\"].str.strip('%').astype(float)/100 # under 18\n",
    "per_65 = census_data[\"Over_65\"].str.strip('%').astype(float)/100 # over 65\n",
    "older_pop = per_65*tot_pop\n",
    "vote_pop = tot_pop - per_18*tot_pop - older_pop\n",
    "census_data[\"vote_pop\"] = vote_pop\n",
    "census_data[\"older_pop\"] = older_pop\n",
    "census_data[\"per_older\"] = older_pop / tot_pop\n",
    "census_data[\"per_vote\"] = vote_pop / tot_pop\n",
    "\n",
    "\n",
    "del census_data[\"Total_Pop_2019\"]\n",
    "del census_data[\"Under_18\"]\n",
    "del census_data[\"Over_65\"]\n",
    "del census_data[\"Native American\"]"
   ]
  },
  {
   "cell_type": "code",
   "execution_count": 1438,
   "metadata": {},
   "outputs": [],
   "source": [
    "columns = ['per_black', 'per_hisp', 'per_white', 'educ_hs', 'educ_coll']\n",
    "columns_1 = ['average_income', 'median_income']\n",
    "\n",
    "for i in columns:\n",
    "    census_data[i] = census_data[i].str.strip('%').astype(float)\n",
    "    \n",
    "for i in columns_1:\n",
    "    census_data[i] = census_data[i].str.strip('$')\n",
    "    census_data[i] = census_data[i].str.replace(',','').astype(float)"
   ]
  },
  {
   "cell_type": "code",
   "execution_count": 1439,
   "metadata": {},
   "outputs": [
    {
     "data": {
      "text/html": [
       "<div>\n",
       "<style scoped>\n",
       "    .dataframe tbody tr th:only-of-type {\n",
       "        vertical-align: middle;\n",
       "    }\n",
       "\n",
       "    .dataframe tbody tr th {\n",
       "        vertical-align: top;\n",
       "    }\n",
       "\n",
       "    .dataframe thead th {\n",
       "        text-align: right;\n",
       "    }\n",
       "</style>\n",
       "<table border=\"1\" class=\"dataframe\">\n",
       "  <thead>\n",
       "    <tr style=\"text-align: right;\">\n",
       "      <th></th>\n",
       "      <th>state</th>\n",
       "      <th>per_black</th>\n",
       "      <th>per_hisp</th>\n",
       "      <th>per_white</th>\n",
       "      <th>educ_hs</th>\n",
       "      <th>educ_coll</th>\n",
       "      <th>average_income</th>\n",
       "      <th>median_income</th>\n",
       "      <th>pop_density</th>\n",
       "      <th>vote_pop</th>\n",
       "      <th>older_pop</th>\n",
       "      <th>per_older</th>\n",
       "      <th>per_vote</th>\n",
       "    </tr>\n",
       "  </thead>\n",
       "  <tbody>\n",
       "    <tr>\n",
       "      <th>0</th>\n",
       "      <td>Alabama</td>\n",
       "      <td>26.8</td>\n",
       "      <td>4.4</td>\n",
       "      <td>65.4</td>\n",
       "      <td>85.8</td>\n",
       "      <td>24.9</td>\n",
       "      <td>26846.0</td>\n",
       "      <td>48486.0</td>\n",
       "      <td>94.4</td>\n",
       "      <td>2.981136e+06</td>\n",
       "      <td>828638.265</td>\n",
       "      <td>0.169</td>\n",
       "      <td>0.608</td>\n",
       "    </tr>\n",
       "    <tr>\n",
       "      <th>1</th>\n",
       "      <td>Alaska</td>\n",
       "      <td>3.8</td>\n",
       "      <td>7.2</td>\n",
       "      <td>60.3</td>\n",
       "      <td>92.7</td>\n",
       "      <td>29.2</td>\n",
       "      <td>35874.0</td>\n",
       "      <td>76715.0</td>\n",
       "      <td>1.2</td>\n",
       "      <td>4.630680e+05</td>\n",
       "      <td>86322.310</td>\n",
       "      <td>0.118</td>\n",
       "      <td>0.633</td>\n",
       "    </tr>\n",
       "    <tr>\n",
       "      <th>2</th>\n",
       "      <td>Arizona</td>\n",
       "      <td>5.1</td>\n",
       "      <td>31.6</td>\n",
       "      <td>54.4</td>\n",
       "      <td>86.8</td>\n",
       "      <td>28.9</td>\n",
       "      <td>29265.0</td>\n",
       "      <td>56213.0</td>\n",
       "      <td>56.3</td>\n",
       "      <td>4.338115e+06</td>\n",
       "      <td>1273775.475</td>\n",
       "      <td>0.175</td>\n",
       "      <td>0.596</td>\n",
       "    </tr>\n",
       "    <tr>\n",
       "      <th>3</th>\n",
       "      <td>Arkansas</td>\n",
       "      <td>15.7</td>\n",
       "      <td>7.7</td>\n",
       "      <td>72.2</td>\n",
       "      <td>86.2</td>\n",
       "      <td>22.6</td>\n",
       "      <td>25635.0</td>\n",
       "      <td>45726.0</td>\n",
       "      <td>56</td>\n",
       "      <td>1.801629e+06</td>\n",
       "      <td>513026.680</td>\n",
       "      <td>0.170</td>\n",
       "      <td>0.597</td>\n",
       "    </tr>\n",
       "    <tr>\n",
       "      <th>4</th>\n",
       "      <td>California</td>\n",
       "      <td>6.5</td>\n",
       "      <td>39.3</td>\n",
       "      <td>36.8</td>\n",
       "      <td>82.9</td>\n",
       "      <td>33.3</td>\n",
       "      <td>35021.0</td>\n",
       "      <td>71228.0</td>\n",
       "      <td>239.1</td>\n",
       "      <td>2.489270e+07</td>\n",
       "      <td>5650247.889</td>\n",
       "      <td>0.143</td>\n",
       "      <td>0.630</td>\n",
       "    </tr>\n",
       "  </tbody>\n",
       "</table>\n",
       "</div>"
      ],
      "text/plain": [
       "        state  per_black  per_hisp  per_white  educ_hs  educ_coll  \\\n",
       "0     Alabama       26.8       4.4       65.4     85.8       24.9   \n",
       "1      Alaska        3.8       7.2       60.3     92.7       29.2   \n",
       "2     Arizona        5.1      31.6       54.4     86.8       28.9   \n",
       "3    Arkansas       15.7       7.7       72.2     86.2       22.6   \n",
       "4  California        6.5      39.3       36.8     82.9       33.3   \n",
       "\n",
       "   average_income  median_income pop_density      vote_pop    older_pop  \\\n",
       "0         26846.0        48486.0        94.4  2.981136e+06   828638.265   \n",
       "1         35874.0        76715.0         1.2  4.630680e+05    86322.310   \n",
       "2         29265.0        56213.0        56.3  4.338115e+06  1273775.475   \n",
       "3         25635.0        45726.0          56  1.801629e+06   513026.680   \n",
       "4         35021.0        71228.0       239.1  2.489270e+07  5650247.889   \n",
       "\n",
       "   per_older  per_vote  \n",
       "0      0.169     0.608  \n",
       "1      0.118     0.633  \n",
       "2      0.175     0.596  \n",
       "3      0.170     0.597  \n",
       "4      0.143     0.630  "
      ]
     },
     "execution_count": 1439,
     "metadata": {},
     "output_type": "execute_result"
    }
   ],
   "source": [
    "census_data.head()"
   ]
  },
  {
   "cell_type": "code",
   "execution_count": 1440,
   "metadata": {},
   "outputs": [],
   "source": [
    "census_data.set_index(\"state\", inplace=True)"
   ]
  },
  {
   "cell_type": "code",
   "execution_count": 1441,
   "metadata": {},
   "outputs": [
    {
     "data": {
      "text/html": [
       "<div>\n",
       "<style scoped>\n",
       "    .dataframe tbody tr th:only-of-type {\n",
       "        vertical-align: middle;\n",
       "    }\n",
       "\n",
       "    .dataframe tbody tr th {\n",
       "        vertical-align: top;\n",
       "    }\n",
       "\n",
       "    .dataframe thead th {\n",
       "        text-align: right;\n",
       "    }\n",
       "</style>\n",
       "<table border=\"1\" class=\"dataframe\">\n",
       "  <thead>\n",
       "    <tr style=\"text-align: right;\">\n",
       "      <th></th>\n",
       "      <th>per_black</th>\n",
       "      <th>per_hisp</th>\n",
       "      <th>per_white</th>\n",
       "      <th>educ_hs</th>\n",
       "      <th>educ_coll</th>\n",
       "      <th>average_income</th>\n",
       "      <th>median_income</th>\n",
       "      <th>pop_density</th>\n",
       "      <th>vote_pop</th>\n",
       "      <th>older_pop</th>\n",
       "      <th>per_older</th>\n",
       "      <th>per_vote</th>\n",
       "    </tr>\n",
       "    <tr>\n",
       "      <th>state</th>\n",
       "      <th></th>\n",
       "      <th></th>\n",
       "      <th></th>\n",
       "      <th></th>\n",
       "      <th></th>\n",
       "      <th></th>\n",
       "      <th></th>\n",
       "      <th></th>\n",
       "      <th></th>\n",
       "      <th></th>\n",
       "      <th></th>\n",
       "      <th></th>\n",
       "    </tr>\n",
       "  </thead>\n",
       "  <tbody>\n",
       "    <tr>\n",
       "      <th>Alabama</th>\n",
       "      <td>26.8</td>\n",
       "      <td>4.4</td>\n",
       "      <td>65.4</td>\n",
       "      <td>85.8</td>\n",
       "      <td>24.9</td>\n",
       "      <td>26846.0</td>\n",
       "      <td>48486.0</td>\n",
       "      <td>94.4</td>\n",
       "      <td>2.981136e+06</td>\n",
       "      <td>828638.265</td>\n",
       "      <td>0.169</td>\n",
       "      <td>0.608</td>\n",
       "    </tr>\n",
       "    <tr>\n",
       "      <th>Alaska</th>\n",
       "      <td>3.8</td>\n",
       "      <td>7.2</td>\n",
       "      <td>60.3</td>\n",
       "      <td>92.7</td>\n",
       "      <td>29.2</td>\n",
       "      <td>35874.0</td>\n",
       "      <td>76715.0</td>\n",
       "      <td>1.2</td>\n",
       "      <td>4.630680e+05</td>\n",
       "      <td>86322.310</td>\n",
       "      <td>0.118</td>\n",
       "      <td>0.633</td>\n",
       "    </tr>\n",
       "    <tr>\n",
       "      <th>Arizona</th>\n",
       "      <td>5.1</td>\n",
       "      <td>31.6</td>\n",
       "      <td>54.4</td>\n",
       "      <td>86.8</td>\n",
       "      <td>28.9</td>\n",
       "      <td>29265.0</td>\n",
       "      <td>56213.0</td>\n",
       "      <td>56.3</td>\n",
       "      <td>4.338115e+06</td>\n",
       "      <td>1273775.475</td>\n",
       "      <td>0.175</td>\n",
       "      <td>0.596</td>\n",
       "    </tr>\n",
       "    <tr>\n",
       "      <th>Arkansas</th>\n",
       "      <td>15.7</td>\n",
       "      <td>7.7</td>\n",
       "      <td>72.2</td>\n",
       "      <td>86.2</td>\n",
       "      <td>22.6</td>\n",
       "      <td>25635.0</td>\n",
       "      <td>45726.0</td>\n",
       "      <td>56</td>\n",
       "      <td>1.801629e+06</td>\n",
       "      <td>513026.680</td>\n",
       "      <td>0.170</td>\n",
       "      <td>0.597</td>\n",
       "    </tr>\n",
       "    <tr>\n",
       "      <th>California</th>\n",
       "      <td>6.5</td>\n",
       "      <td>39.3</td>\n",
       "      <td>36.8</td>\n",
       "      <td>82.9</td>\n",
       "      <td>33.3</td>\n",
       "      <td>35021.0</td>\n",
       "      <td>71228.0</td>\n",
       "      <td>239.1</td>\n",
       "      <td>2.489270e+07</td>\n",
       "      <td>5650247.889</td>\n",
       "      <td>0.143</td>\n",
       "      <td>0.630</td>\n",
       "    </tr>\n",
       "  </tbody>\n",
       "</table>\n",
       "</div>"
      ],
      "text/plain": [
       "            per_black  per_hisp  per_white  educ_hs  educ_coll  \\\n",
       "state                                                            \n",
       "Alabama          26.8       4.4       65.4     85.8       24.9   \n",
       "Alaska            3.8       7.2       60.3     92.7       29.2   \n",
       "Arizona           5.1      31.6       54.4     86.8       28.9   \n",
       "Arkansas         15.7       7.7       72.2     86.2       22.6   \n",
       "California        6.5      39.3       36.8     82.9       33.3   \n",
       "\n",
       "            average_income  median_income pop_density      vote_pop  \\\n",
       "state                                                                 \n",
       "Alabama            26846.0        48486.0        94.4  2.981136e+06   \n",
       "Alaska             35874.0        76715.0         1.2  4.630680e+05   \n",
       "Arizona            29265.0        56213.0        56.3  4.338115e+06   \n",
       "Arkansas           25635.0        45726.0          56  1.801629e+06   \n",
       "California         35021.0        71228.0       239.1  2.489270e+07   \n",
       "\n",
       "              older_pop  per_older  per_vote  \n",
       "state                                         \n",
       "Alabama      828638.265      0.169     0.608  \n",
       "Alaska        86322.310      0.118     0.633  \n",
       "Arizona     1273775.475      0.175     0.596  \n",
       "Arkansas     513026.680      0.170     0.597  \n",
       "California  5650247.889      0.143     0.630  "
      ]
     },
     "execution_count": 1441,
     "metadata": {},
     "output_type": "execute_result"
    }
   ],
   "source": [
    "census_data.head()"
   ]
  },
  {
   "cell_type": "code",
   "execution_count": 1442,
   "metadata": {},
   "outputs": [],
   "source": [
    "states_abbrev_dict = {\n",
    "        'AK': 'Alaska',\n",
    "        'AL': 'Alabama',\n",
    "        'AR': 'Arkansas',\n",
    "        'AS': 'American Samoa',\n",
    "        'AZ': 'Arizona',\n",
    "        'CA': 'California',\n",
    "        'CO': 'Colorado',\n",
    "        'CT': 'Connecticut',\n",
    "        'DC': 'District of Columbia',\n",
    "        'DE': 'Delaware',\n",
    "        'FL': 'Florida',\n",
    "        'GA': 'Georgia',\n",
    "        'GU': 'Guam',\n",
    "        'HI': 'Hawaii',\n",
    "        'IA': 'Iowa',\n",
    "        'ID': 'Idaho',\n",
    "        'IL': 'Illinois',\n",
    "        'IN': 'Indiana',\n",
    "        'KS': 'Kansas',\n",
    "        'KY': 'Kentucky',\n",
    "        'LA': 'Louisiana',\n",
    "        'MA': 'Massachusetts',\n",
    "        'MD': 'Maryland',\n",
    "        'ME': 'Maine',\n",
    "        'MI': 'Michigan',\n",
    "        'MN': 'Minnesota',\n",
    "        'MO': 'Missouri',\n",
    "        'MP': 'Northern Mariana Islands',\n",
    "        'MS': 'Mississippi',\n",
    "        'MT': 'Montana',\n",
    "        'NA': 'National',\n",
    "        'NC': 'North Carolina',\n",
    "        'ND': 'North Dakota',\n",
    "        'NE': 'Nebraska',\n",
    "        'NH': 'New Hampshire',\n",
    "        'NJ': 'New Jersey',\n",
    "        'NM': 'New Mexico',\n",
    "        'NV': 'Nevada',\n",
    "        'NY': 'New York',\n",
    "        'OH': 'Ohio',\n",
    "        'OK': 'Oklahoma',\n",
    "        'OR': 'Oregon',\n",
    "        'PA': 'Pennsylvania',\n",
    "        'PR': 'Puerto Rico',\n",
    "        'RI': 'Rhode Island',\n",
    "        'SC': 'South Carolina',\n",
    "        'SD': 'South Dakota',\n",
    "        'TN': 'Tennessee',\n",
    "        'TX': 'Texas',\n",
    "        'UT': 'Utah',\n",
    "        'VA': 'Virginia',\n",
    "        'VI': 'Virgin Islands',\n",
    "        'VT': 'Vermont',\n",
    "        'WA': 'Washington',\n",
    "        'WI': 'Wisconsin',\n",
    "        'WV': 'West Virginia',\n",
    "        'WY': 'Wyoming'\n",
    "}"
   ]
  },
  {
   "cell_type": "code",
   "execution_count": 1443,
   "metadata": {},
   "outputs": [
    {
     "name": "stderr",
     "output_type": "stream",
     "text": [
      "/Users/siddhipatel/opt/anaconda3/lib/python3.7/site-packages/IPython/core/interactiveshell.py:3063: DtypeWarning:\n",
      "\n",
      "Columns (4) have mixed types.Specify dtype option on import or set low_memory=False.\n",
      "\n"
     ]
    },
    {
     "data": {
      "text/html": [
       "<div>\n",
       "<style scoped>\n",
       "    .dataframe tbody tr th:only-of-type {\n",
       "        vertical-align: middle;\n",
       "    }\n",
       "\n",
       "    .dataframe tbody tr th {\n",
       "        vertical-align: top;\n",
       "    }\n",
       "\n",
       "    .dataframe thead th {\n",
       "        text-align: right;\n",
       "    }\n",
       "</style>\n",
       "<table border=\"1\" class=\"dataframe\">\n",
       "  <thead>\n",
       "    <tr style=\"text-align: right;\">\n",
       "      <th></th>\n",
       "      <th>amount</th>\n",
       "    </tr>\n",
       "    <tr>\n",
       "      <th>state</th>\n",
       "      <th></th>\n",
       "    </tr>\n",
       "  </thead>\n",
       "  <tbody>\n",
       "    <tr>\n",
       "      <th>AK</th>\n",
       "      <td>207571.54</td>\n",
       "    </tr>\n",
       "    <tr>\n",
       "      <th>AL</th>\n",
       "      <td>771455.87</td>\n",
       "    </tr>\n",
       "    <tr>\n",
       "      <th>AR</th>\n",
       "      <td>356147.43</td>\n",
       "    </tr>\n",
       "    <tr>\n",
       "      <th>AZ</th>\n",
       "      <td>1713691.27</td>\n",
       "    </tr>\n",
       "    <tr>\n",
       "      <th>CA</th>\n",
       "      <td>9474707.89</td>\n",
       "    </tr>\n",
       "  </tbody>\n",
       "</table>\n",
       "</div>"
      ],
      "text/plain": [
       "           amount\n",
       "state            \n",
       "AK      207571.54\n",
       "AL      771455.87\n",
       "AR      356147.43\n",
       "AZ     1713691.27\n",
       "CA     9474707.89"
      ]
     },
     "execution_count": 1443,
     "metadata": {},
     "output_type": "execute_result"
    }
   ],
   "source": [
    "#Campaign Contributions\n",
    "\n",
    "trump_contributions = pd.read_csv('Trump_Contributions.csv')\n",
    "trump_contributions = trump_contributions[['state','amount']]\n",
    "trump_give = trump_contributions.groupby('state').sum()\n",
    "trump_give.head()"
   ]
  },
  {
   "cell_type": "code",
   "execution_count": 1444,
   "metadata": {},
   "outputs": [
    {
     "name": "stderr",
     "output_type": "stream",
     "text": [
      "/Users/siddhipatel/opt/anaconda3/lib/python3.7/site-packages/IPython/core/interactiveshell.py:3063: DtypeWarning:\n",
      "\n",
      "Columns (4,22) have mixed types.Specify dtype option on import or set low_memory=False.\n",
      "\n"
     ]
    },
    {
     "data": {
      "text/html": [
       "<div>\n",
       "<style scoped>\n",
       "    .dataframe tbody tr th:only-of-type {\n",
       "        vertical-align: middle;\n",
       "    }\n",
       "\n",
       "    .dataframe tbody tr th {\n",
       "        vertical-align: top;\n",
       "    }\n",
       "\n",
       "    .dataframe thead th {\n",
       "        text-align: right;\n",
       "    }\n",
       "</style>\n",
       "<table border=\"1\" class=\"dataframe\">\n",
       "  <thead>\n",
       "    <tr style=\"text-align: right;\">\n",
       "      <th></th>\n",
       "      <th>amount</th>\n",
       "    </tr>\n",
       "    <tr>\n",
       "      <th>state</th>\n",
       "      <th></th>\n",
       "    </tr>\n",
       "  </thead>\n",
       "  <tbody>\n",
       "    <tr>\n",
       "      <th>AK</th>\n",
       "      <td>38290.30</td>\n",
       "    </tr>\n",
       "    <tr>\n",
       "      <th>AL</th>\n",
       "      <td>206558.37</td>\n",
       "    </tr>\n",
       "    <tr>\n",
       "      <th>AR</th>\n",
       "      <td>72624.75</td>\n",
       "    </tr>\n",
       "    <tr>\n",
       "      <th>AZ</th>\n",
       "      <td>287279.67</td>\n",
       "    </tr>\n",
       "    <tr>\n",
       "      <th>CA</th>\n",
       "      <td>7670810.88</td>\n",
       "    </tr>\n",
       "  </tbody>\n",
       "</table>\n",
       "</div>"
      ],
      "text/plain": [
       "           amount\n",
       "state            \n",
       "AK       38290.30\n",
       "AL      206558.37\n",
       "AR       72624.75\n",
       "AZ      287279.67\n",
       "CA     7670810.88"
      ]
     },
     "execution_count": 1444,
     "metadata": {},
     "output_type": "execute_result"
    }
   ],
   "source": [
    "biden_contributions = pd.read_csv('Biden_Contributions.csv')\n",
    "biden_contributions = biden_contributions[['state','amount']]\n",
    "biden_give = biden_contributions.groupby('state').sum()\n",
    "biden_give.head()"
   ]
  },
  {
   "cell_type": "code",
   "execution_count": 1445,
   "metadata": {},
   "outputs": [],
   "source": [
    "biden_give = biden_give.reset_index()\n",
    "biden_give['state'] = biden_give.state.replace(states_abbrev_dict)\n",
    "\n",
    "trump_give = trump_give.reset_index()\n",
    "trump_give['state'] = trump_give.state.replace(states_abbrev_dict)\n",
    "\n",
    "biden_give.set_index(\"state\", inplace=True)\n",
    "trump_give.set_index(\"state\", inplace=True);"
   ]
  },
  {
   "cell_type": "code",
   "execution_count": 1446,
   "metadata": {},
   "outputs": [
    {
     "data": {
      "text/plain": [
       "'California'"
      ]
     },
     "execution_count": 1446,
     "metadata": {},
     "output_type": "execute_result"
    }
   ],
   "source": [
    "biden_give.groupby('state').max().sort_values('amount', ascending=False).index[0]"
   ]
  },
  {
   "cell_type": "code",
   "execution_count": 1447,
   "metadata": {},
   "outputs": [
    {
     "data": {
      "text/plain": [
       "'Massachusetts'"
      ]
     },
     "execution_count": 1447,
     "metadata": {},
     "output_type": "execute_result"
    }
   ],
   "source": [
    "trump_give.groupby('state').max().sort_values('amount', ascending=False).index[0]"
   ]
  },
  {
   "cell_type": "code",
   "execution_count": 1448,
   "metadata": {},
   "outputs": [
    {
     "data": {
      "text/html": [
       "<div>\n",
       "<style scoped>\n",
       "    .dataframe tbody tr th:only-of-type {\n",
       "        vertical-align: middle;\n",
       "    }\n",
       "\n",
       "    .dataframe tbody tr th {\n",
       "        vertical-align: top;\n",
       "    }\n",
       "\n",
       "    .dataframe thead th {\n",
       "        text-align: right;\n",
       "    }\n",
       "</style>\n",
       "<table border=\"1\" class=\"dataframe\">\n",
       "  <thead>\n",
       "    <tr style=\"text-align: right;\">\n",
       "      <th></th>\n",
       "      <th>per_black</th>\n",
       "      <th>per_hisp</th>\n",
       "      <th>per_white</th>\n",
       "      <th>educ_hs</th>\n",
       "      <th>educ_coll</th>\n",
       "      <th>average_income</th>\n",
       "      <th>median_income</th>\n",
       "      <th>pop_density</th>\n",
       "      <th>vote_pop</th>\n",
       "      <th>older_pop</th>\n",
       "      <th>per_older</th>\n",
       "      <th>per_vote</th>\n",
       "      <th>Dem_Adv</th>\n",
       "      <th>no_party</th>\n",
       "      <th>PVI</th>\n",
       "    </tr>\n",
       "    <tr>\n",
       "      <th>state</th>\n",
       "      <th></th>\n",
       "      <th></th>\n",
       "      <th></th>\n",
       "      <th></th>\n",
       "      <th></th>\n",
       "      <th></th>\n",
       "      <th></th>\n",
       "      <th></th>\n",
       "      <th></th>\n",
       "      <th></th>\n",
       "      <th></th>\n",
       "      <th></th>\n",
       "      <th></th>\n",
       "      <th></th>\n",
       "      <th></th>\n",
       "    </tr>\n",
       "  </thead>\n",
       "  <tbody>\n",
       "    <tr>\n",
       "      <th>Alabama</th>\n",
       "      <td>26.8</td>\n",
       "      <td>4.4</td>\n",
       "      <td>65.4</td>\n",
       "      <td>85.8</td>\n",
       "      <td>24.9</td>\n",
       "      <td>26846.0</td>\n",
       "      <td>48486.0</td>\n",
       "      <td>94.4</td>\n",
       "      <td>2.981136e+06</td>\n",
       "      <td>828638.265</td>\n",
       "      <td>0.169</td>\n",
       "      <td>0.608</td>\n",
       "      <td>-15</td>\n",
       "      <td>15.0</td>\n",
       "      <td>-27.0</td>\n",
       "    </tr>\n",
       "    <tr>\n",
       "      <th>Alaska</th>\n",
       "      <td>3.8</td>\n",
       "      <td>7.2</td>\n",
       "      <td>60.3</td>\n",
       "      <td>92.7</td>\n",
       "      <td>29.2</td>\n",
       "      <td>35874.0</td>\n",
       "      <td>76715.0</td>\n",
       "      <td>1.2</td>\n",
       "      <td>4.630680e+05</td>\n",
       "      <td>86322.310</td>\n",
       "      <td>0.118</td>\n",
       "      <td>0.633</td>\n",
       "      <td>-21</td>\n",
       "      <td>17.0</td>\n",
       "      <td>-15.0</td>\n",
       "    </tr>\n",
       "    <tr>\n",
       "      <th>Arizona</th>\n",
       "      <td>5.1</td>\n",
       "      <td>31.6</td>\n",
       "      <td>54.4</td>\n",
       "      <td>86.8</td>\n",
       "      <td>28.9</td>\n",
       "      <td>29265.0</td>\n",
       "      <td>56213.0</td>\n",
       "      <td>56.3</td>\n",
       "      <td>4.338115e+06</td>\n",
       "      <td>1273775.475</td>\n",
       "      <td>0.175</td>\n",
       "      <td>0.596</td>\n",
       "      <td>-2</td>\n",
       "      <td>18.0</td>\n",
       "      <td>-9.0</td>\n",
       "    </tr>\n",
       "    <tr>\n",
       "      <th>Arkansas</th>\n",
       "      <td>15.7</td>\n",
       "      <td>7.7</td>\n",
       "      <td>72.2</td>\n",
       "      <td>86.2</td>\n",
       "      <td>22.6</td>\n",
       "      <td>25635.0</td>\n",
       "      <td>45726.0</td>\n",
       "      <td>56</td>\n",
       "      <td>1.801629e+06</td>\n",
       "      <td>513026.680</td>\n",
       "      <td>0.170</td>\n",
       "      <td>0.597</td>\n",
       "      <td>-9</td>\n",
       "      <td>19.0</td>\n",
       "      <td>-24.0</td>\n",
       "    </tr>\n",
       "    <tr>\n",
       "      <th>California</th>\n",
       "      <td>6.5</td>\n",
       "      <td>39.3</td>\n",
       "      <td>36.8</td>\n",
       "      <td>82.9</td>\n",
       "      <td>33.3</td>\n",
       "      <td>35021.0</td>\n",
       "      <td>71228.0</td>\n",
       "      <td>239.1</td>\n",
       "      <td>2.489270e+07</td>\n",
       "      <td>5650247.889</td>\n",
       "      <td>0.143</td>\n",
       "      <td>0.630</td>\n",
       "      <td>21</td>\n",
       "      <td>19.0</td>\n",
       "      <td>24.0</td>\n",
       "    </tr>\n",
       "  </tbody>\n",
       "</table>\n",
       "</div>"
      ],
      "text/plain": [
       "            per_black  per_hisp  per_white  educ_hs  educ_coll  \\\n",
       "state                                                            \n",
       "Alabama          26.8       4.4       65.4     85.8       24.9   \n",
       "Alaska            3.8       7.2       60.3     92.7       29.2   \n",
       "Arizona           5.1      31.6       54.4     86.8       28.9   \n",
       "Arkansas         15.7       7.7       72.2     86.2       22.6   \n",
       "California        6.5      39.3       36.8     82.9       33.3   \n",
       "\n",
       "            average_income  median_income pop_density      vote_pop  \\\n",
       "state                                                                 \n",
       "Alabama            26846.0        48486.0        94.4  2.981136e+06   \n",
       "Alaska             35874.0        76715.0         1.2  4.630680e+05   \n",
       "Arizona            29265.0        56213.0        56.3  4.338115e+06   \n",
       "Arkansas           25635.0        45726.0          56  1.801629e+06   \n",
       "California         35021.0        71228.0       239.1  2.489270e+07   \n",
       "\n",
       "              older_pop  per_older  per_vote Dem_Adv  no_party   PVI  \n",
       "state                                                                 \n",
       "Alabama      828638.265      0.169     0.608     -15      15.0 -27.0  \n",
       "Alaska        86322.310      0.118     0.633     -21      17.0 -15.0  \n",
       "Arizona     1273775.475      0.175     0.596      -2      18.0  -9.0  \n",
       "Arkansas     513026.680      0.170     0.597      -9      19.0 -24.0  \n",
       "California  5650247.889      0.143     0.630      21      19.0  24.0  "
      ]
     },
     "execution_count": 1448,
     "metadata": {},
     "output_type": "execute_result"
    }
   ],
   "source": [
    "demo_data = census_data.join(party_affil[[\"Dem_Adv\", \"no_party\"]]).join(pvi)\n",
    "demo_data.head()"
   ]
  },
  {
   "cell_type": "code",
   "execution_count": 1449,
   "metadata": {},
   "outputs": [
    {
     "data": {
      "text/plain": [
       "19276.960784313724"
      ]
     },
     "execution_count": 1449,
     "metadata": {},
     "output_type": "execute_result"
    }
   ],
   "source": [
    "demo_data[demo_data['Dem_Adv'].astype(float) >= 0]['average_income'].sum()/len(demo_data)"
   ]
  },
  {
   "cell_type": "code",
   "execution_count": 1450,
   "metadata": {},
   "outputs": [
    {
     "data": {
      "text/html": [
       "<div>\n",
       "<style scoped>\n",
       "    .dataframe tbody tr th:only-of-type {\n",
       "        vertical-align: middle;\n",
       "    }\n",
       "\n",
       "    .dataframe tbody tr th {\n",
       "        vertical-align: top;\n",
       "    }\n",
       "\n",
       "    .dataframe thead th {\n",
       "        text-align: right;\n",
       "    }\n",
       "</style>\n",
       "<table border=\"1\" class=\"dataframe\">\n",
       "  <thead>\n",
       "    <tr style=\"text-align: right;\">\n",
       "      <th></th>\n",
       "      <th>per_black</th>\n",
       "      <th>per_hisp</th>\n",
       "      <th>per_white</th>\n",
       "      <th>educ_hs</th>\n",
       "      <th>educ_coll</th>\n",
       "      <th>average_income</th>\n",
       "      <th>median_income</th>\n",
       "      <th>pop_density</th>\n",
       "      <th>vote_pop</th>\n",
       "      <th>older_pop</th>\n",
       "      <th>per_older</th>\n",
       "      <th>per_vote</th>\n",
       "      <th>Dem_Adv</th>\n",
       "      <th>no_party</th>\n",
       "      <th>PVI</th>\n",
       "      <th>amount</th>\n",
       "      <th>amount_trump</th>\n",
       "    </tr>\n",
       "    <tr>\n",
       "      <th>state</th>\n",
       "      <th></th>\n",
       "      <th></th>\n",
       "      <th></th>\n",
       "      <th></th>\n",
       "      <th></th>\n",
       "      <th></th>\n",
       "      <th></th>\n",
       "      <th></th>\n",
       "      <th></th>\n",
       "      <th></th>\n",
       "      <th></th>\n",
       "      <th></th>\n",
       "      <th></th>\n",
       "      <th></th>\n",
       "      <th></th>\n",
       "      <th></th>\n",
       "      <th></th>\n",
       "    </tr>\n",
       "  </thead>\n",
       "  <tbody>\n",
       "    <tr>\n",
       "      <th>Alabama</th>\n",
       "      <td>26.8</td>\n",
       "      <td>4.4</td>\n",
       "      <td>65.4</td>\n",
       "      <td>85.8</td>\n",
       "      <td>24.9</td>\n",
       "      <td>26846.0</td>\n",
       "      <td>48486.0</td>\n",
       "      <td>94.4</td>\n",
       "      <td>2.981136e+06</td>\n",
       "      <td>828638.265</td>\n",
       "      <td>0.169</td>\n",
       "      <td>0.608</td>\n",
       "      <td>-15</td>\n",
       "      <td>15.0</td>\n",
       "      <td>-27.0</td>\n",
       "      <td>206558.37</td>\n",
       "      <td>771455.87</td>\n",
       "    </tr>\n",
       "    <tr>\n",
       "      <th>Alaska</th>\n",
       "      <td>3.8</td>\n",
       "      <td>7.2</td>\n",
       "      <td>60.3</td>\n",
       "      <td>92.7</td>\n",
       "      <td>29.2</td>\n",
       "      <td>35874.0</td>\n",
       "      <td>76715.0</td>\n",
       "      <td>1.2</td>\n",
       "      <td>4.630680e+05</td>\n",
       "      <td>86322.310</td>\n",
       "      <td>0.118</td>\n",
       "      <td>0.633</td>\n",
       "      <td>-21</td>\n",
       "      <td>17.0</td>\n",
       "      <td>-15.0</td>\n",
       "      <td>38290.30</td>\n",
       "      <td>207571.54</td>\n",
       "    </tr>\n",
       "    <tr>\n",
       "      <th>Arizona</th>\n",
       "      <td>5.1</td>\n",
       "      <td>31.6</td>\n",
       "      <td>54.4</td>\n",
       "      <td>86.8</td>\n",
       "      <td>28.9</td>\n",
       "      <td>29265.0</td>\n",
       "      <td>56213.0</td>\n",
       "      <td>56.3</td>\n",
       "      <td>4.338115e+06</td>\n",
       "      <td>1273775.475</td>\n",
       "      <td>0.175</td>\n",
       "      <td>0.596</td>\n",
       "      <td>-2</td>\n",
       "      <td>18.0</td>\n",
       "      <td>-9.0</td>\n",
       "      <td>287279.67</td>\n",
       "      <td>1713691.27</td>\n",
       "    </tr>\n",
       "    <tr>\n",
       "      <th>Arkansas</th>\n",
       "      <td>15.7</td>\n",
       "      <td>7.7</td>\n",
       "      <td>72.2</td>\n",
       "      <td>86.2</td>\n",
       "      <td>22.6</td>\n",
       "      <td>25635.0</td>\n",
       "      <td>45726.0</td>\n",
       "      <td>56</td>\n",
       "      <td>1.801629e+06</td>\n",
       "      <td>513026.680</td>\n",
       "      <td>0.170</td>\n",
       "      <td>0.597</td>\n",
       "      <td>-9</td>\n",
       "      <td>19.0</td>\n",
       "      <td>-24.0</td>\n",
       "      <td>72624.75</td>\n",
       "      <td>356147.43</td>\n",
       "    </tr>\n",
       "    <tr>\n",
       "      <th>California</th>\n",
       "      <td>6.5</td>\n",
       "      <td>39.3</td>\n",
       "      <td>36.8</td>\n",
       "      <td>82.9</td>\n",
       "      <td>33.3</td>\n",
       "      <td>35021.0</td>\n",
       "      <td>71228.0</td>\n",
       "      <td>239.1</td>\n",
       "      <td>2.489270e+07</td>\n",
       "      <td>5650247.889</td>\n",
       "      <td>0.143</td>\n",
       "      <td>0.630</td>\n",
       "      <td>21</td>\n",
       "      <td>19.0</td>\n",
       "      <td>24.0</td>\n",
       "      <td>7670810.88</td>\n",
       "      <td>9474707.89</td>\n",
       "    </tr>\n",
       "  </tbody>\n",
       "</table>\n",
       "</div>"
      ],
      "text/plain": [
       "            per_black  per_hisp  per_white  educ_hs  educ_coll  \\\n",
       "state                                                            \n",
       "Alabama          26.8       4.4       65.4     85.8       24.9   \n",
       "Alaska            3.8       7.2       60.3     92.7       29.2   \n",
       "Arizona           5.1      31.6       54.4     86.8       28.9   \n",
       "Arkansas         15.7       7.7       72.2     86.2       22.6   \n",
       "California        6.5      39.3       36.8     82.9       33.3   \n",
       "\n",
       "            average_income  median_income pop_density      vote_pop  \\\n",
       "state                                                                 \n",
       "Alabama            26846.0        48486.0        94.4  2.981136e+06   \n",
       "Alaska             35874.0        76715.0         1.2  4.630680e+05   \n",
       "Arizona            29265.0        56213.0        56.3  4.338115e+06   \n",
       "Arkansas           25635.0        45726.0          56  1.801629e+06   \n",
       "California         35021.0        71228.0       239.1  2.489270e+07   \n",
       "\n",
       "              older_pop  per_older  per_vote Dem_Adv  no_party   PVI  \\\n",
       "state                                                                  \n",
       "Alabama      828638.265      0.169     0.608     -15      15.0 -27.0   \n",
       "Alaska        86322.310      0.118     0.633     -21      17.0 -15.0   \n",
       "Arizona     1273775.475      0.175     0.596      -2      18.0  -9.0   \n",
       "Arkansas     513026.680      0.170     0.597      -9      19.0 -24.0   \n",
       "California  5650247.889      0.143     0.630      21      19.0  24.0   \n",
       "\n",
       "                amount  amount_trump  \n",
       "state                                 \n",
       "Alabama      206558.37     771455.87  \n",
       "Alaska        38290.30     207571.54  \n",
       "Arizona      287279.67    1713691.27  \n",
       "Arkansas      72624.75     356147.43  \n",
       "California  7670810.88    9474707.89  "
      ]
     },
     "execution_count": 1450,
     "metadata": {},
     "output_type": "execute_result"
    }
   ],
   "source": [
    "demo_data = demo_data.join(biden_give, on='state',rsuffix = '_biden')\n",
    "demo_data = demo_data.join(trump_give, on='state', rsuffix = '_trump')\n",
    "demo_data.head()"
   ]
  },
  {
   "cell_type": "code",
   "execution_count": 1451,
   "metadata": {},
   "outputs": [
    {
     "data": {
      "text/plain": [
       "Index(['per_black', 'per_hisp', 'per_white', 'educ_hs', 'educ_coll',\n",
       "       'average_income', 'median_income', 'pop_density', 'vote_pop',\n",
       "       'older_pop', 'per_older', 'per_vote', 'Dem_Adv', 'no_party', 'PVI',\n",
       "       'amount', 'amount_trump'],\n",
       "      dtype='object')"
      ]
     },
     "execution_count": 1451,
     "metadata": {},
     "output_type": "execute_result"
    }
   ],
   "source": [
    "demo_data.columns"
   ]
  },
  {
   "cell_type": "code",
   "execution_count": 1452,
   "metadata": {},
   "outputs": [
    {
     "name": "stderr",
     "output_type": "stream",
     "text": [
      "'c' argument looks like a single numeric RGB or RGBA sequence, which should be avoided as value-mapping will have precedence in case its length matches with 'x' & 'y'.  Please use a 2-D array with a single row if you really want to specify the same RGB or RGBA value for all points.\n"
     ]
    },
    {
     "data": {
      "text/plain": [
       "<matplotlib.axes._subplots.AxesSubplot at 0x1a3afc0d90>"
      ]
     },
     "execution_count": 1452,
     "metadata": {},
     "output_type": "execute_result"
    },
    {
     "data": {
      "image/png": "[encoded data removed]",
      "text/plain": [
       "<Figure size 432x288 with 1 Axes>"
      ]
     },
     "metadata": {},
     "output_type": "display_data"
    }
   ],
   "source": [
    "demo_data.plot.scatter(x=\"average_income\", y=\"amount\")"
   ]
  },
  {
   "cell_type": "code",
   "execution_count": 1453,
   "metadata": {},
   "outputs": [],
   "source": [
    "#pip install plotly"
   ]
  },
  {
   "cell_type": "code",
   "execution_count": 1454,
   "metadata": {},
   "outputs": [],
   "source": [
    "import plotly as py\n",
    "import plotly.graph_objs as go\n",
    "import plotly.express as px\n",
    "import plotly.figure_factory as ff"
   ]
  },
  {
   "cell_type": "code",
   "execution_count": 1455,
   "metadata": {},
   "outputs": [
    {
     "data": {
      "text/html": [
       "<div>\n",
       "<style scoped>\n",
       "    .dataframe tbody tr th:only-of-type {\n",
       "        vertical-align: middle;\n",
       "    }\n",
       "\n",
       "    .dataframe tbody tr th {\n",
       "        vertical-align: top;\n",
       "    }\n",
       "\n",
       "    .dataframe thead th {\n",
       "        text-align: right;\n",
       "    }\n",
       "</style>\n",
       "<table border=\"1\" class=\"dataframe\">\n",
       "  <thead>\n",
       "    <tr style=\"text-align: right;\">\n",
       "      <th></th>\n",
       "      <th>White, Non-Hispanic</th>\n",
       "      <th>Asian</th>\n",
       "      <th>Black</th>\n",
       "      <th>Hispanic</th>\n",
       "      <th>Total</th>\n",
       "    </tr>\n",
       "    <tr>\n",
       "      <th>Location</th>\n",
       "      <th></th>\n",
       "      <th></th>\n",
       "      <th></th>\n",
       "      <th></th>\n",
       "      <th></th>\n",
       "    </tr>\n",
       "  </thead>\n",
       "  <tbody>\n",
       "    <tr>\n",
       "      <th>Alabama</th>\n",
       "      <td>0.526</td>\n",
       "      <td>0.000</td>\n",
       "      <td>0.496</td>\n",
       "      <td>0.291</td>\n",
       "      <td>0.507</td>\n",
       "    </tr>\n",
       "    <tr>\n",
       "      <th>Alaska</th>\n",
       "      <td>0.603</td>\n",
       "      <td>0.000</td>\n",
       "      <td>0.000</td>\n",
       "      <td>0.000</td>\n",
       "      <td>0.528</td>\n",
       "    </tr>\n",
       "    <tr>\n",
       "      <th>Arizona</th>\n",
       "      <td>0.653</td>\n",
       "      <td>0.574</td>\n",
       "      <td>0.509</td>\n",
       "      <td>0.488</td>\n",
       "      <td>0.589</td>\n",
       "    </tr>\n",
       "    <tr>\n",
       "      <th>Arkansas</th>\n",
       "      <td>0.440</td>\n",
       "      <td>0.000</td>\n",
       "      <td>0.416</td>\n",
       "      <td>0.208</td>\n",
       "      <td>0.426</td>\n",
       "    </tr>\n",
       "    <tr>\n",
       "      <th>California</th>\n",
       "      <td>0.614</td>\n",
       "      <td>0.415</td>\n",
       "      <td>0.499</td>\n",
       "      <td>0.433</td>\n",
       "      <td>0.519</td>\n",
       "    </tr>\n",
       "  </tbody>\n",
       "</table>\n",
       "</div>"
      ],
      "text/plain": [
       "            White, Non-Hispanic  Asian  Black  Hispanic  Total\n",
       "Location                                                      \n",
       "Alabama                   0.526  0.000  0.496     0.291  0.507\n",
       "Alaska                    0.603  0.000  0.000     0.000  0.528\n",
       "Arizona                   0.653  0.574  0.509     0.488  0.589\n",
       "Arkansas                  0.440  0.000  0.416     0.208  0.426\n",
       "California                0.614  0.415  0.499     0.433  0.519"
      ]
     },
     "execution_count": 1455,
     "metadata": {},
     "output_type": "execute_result"
    }
   ],
   "source": [
    "demo = pd.read_csv('demographics - raw_data (1).csv')\n",
    "demo = demo.sort_values('Location').set_index('Location')\n",
    "demo = demo.replace({'NSD': 0})\n",
    "\n",
    "for i in demo.columns:\n",
    "    demo[i] = demo[i].astype(float)\n",
    "    \n",
    "demo.head()"
   ]
  },
  {
   "cell_type": "code",
   "execution_count": 1456,
   "metadata": {},
   "outputs": [
    {
     "data": {
      "text/html": [
       "<div>\n",
       "<style scoped>\n",
       "    .dataframe tbody tr th:only-of-type {\n",
       "        vertical-align: middle;\n",
       "    }\n",
       "\n",
       "    .dataframe tbody tr th {\n",
       "        vertical-align: top;\n",
       "    }\n",
       "\n",
       "    .dataframe thead th {\n",
       "        text-align: right;\n",
       "    }\n",
       "</style>\n",
       "<table border=\"1\" class=\"dataframe\">\n",
       "  <thead>\n",
       "    <tr style=\"text-align: right;\">\n",
       "      <th></th>\n",
       "      <th>White, Non-Hispanic</th>\n",
       "      <th>Asian</th>\n",
       "      <th>Black</th>\n",
       "      <th>Hispanic</th>\n",
       "      <th>Total</th>\n",
       "    </tr>\n",
       "  </thead>\n",
       "  <tbody>\n",
       "    <tr>\n",
       "      <th>White, Non-Hispanic</th>\n",
       "      <td>1.000000</td>\n",
       "      <td>0.298730</td>\n",
       "      <td>0.045282</td>\n",
       "      <td>0.123442</td>\n",
       "      <td>0.871658</td>\n",
       "    </tr>\n",
       "    <tr>\n",
       "      <th>Asian</th>\n",
       "      <td>0.298730</td>\n",
       "      <td>1.000000</td>\n",
       "      <td>0.492456</td>\n",
       "      <td>0.589665</td>\n",
       "      <td>0.212472</td>\n",
       "    </tr>\n",
       "    <tr>\n",
       "      <th>Black</th>\n",
       "      <td>0.045282</td>\n",
       "      <td>0.492456</td>\n",
       "      <td>1.000000</td>\n",
       "      <td>0.400770</td>\n",
       "      <td>0.109167</td>\n",
       "    </tr>\n",
       "    <tr>\n",
       "      <th>Hispanic</th>\n",
       "      <td>0.123442</td>\n",
       "      <td>0.589665</td>\n",
       "      <td>0.400770</td>\n",
       "      <td>1.000000</td>\n",
       "      <td>-0.030190</td>\n",
       "    </tr>\n",
       "    <tr>\n",
       "      <th>Total</th>\n",
       "      <td>0.871658</td>\n",
       "      <td>0.212472</td>\n",
       "      <td>0.109167</td>\n",
       "      <td>-0.030190</td>\n",
       "      <td>1.000000</td>\n",
       "    </tr>\n",
       "  </tbody>\n",
       "</table>\n",
       "</div>"
      ],
      "text/plain": [
       "                     White, Non-Hispanic     Asian     Black  Hispanic  \\\n",
       "White, Non-Hispanic             1.000000  0.298730  0.045282  0.123442   \n",
       "Asian                           0.298730  1.000000  0.492456  0.589665   \n",
       "Black                           0.045282  0.492456  1.000000  0.400770   \n",
       "Hispanic                        0.123442  0.589665  0.400770  1.000000   \n",
       "Total                           0.871658  0.212472  0.109167 -0.030190   \n",
       "\n",
       "                        Total  \n",
       "White, Non-Hispanic  0.871658  \n",
       "Asian                0.212472  \n",
       "Black                0.109167  \n",
       "Hispanic            -0.030190  \n",
       "Total                1.000000  "
      ]
     },
     "execution_count": 1456,
     "metadata": {},
     "output_type": "execute_result"
    }
   ],
   "source": [
    "demo.corr()"
   ]
  },
  {
   "cell_type": "code",
   "execution_count": 1457,
   "metadata": {},
   "outputs": [
    {
     "data": {
      "text/plain": [
       "<matplotlib.axes._subplots.AxesSubplot at 0x1a34ef2450>"
      ]
     },
     "execution_count": 1457,
     "metadata": {},
     "output_type": "execute_result"
    },
    {
     "data": {
      "image/png": "[encoded data removed]",
      "text/plain": [
       "<Figure size 792x648 with 2 Axes>"
      ]
     },
     "metadata": {},
     "output_type": "display_data"
    }
   ],
   "source": [
    "# from string import ascii_letters\n",
    "import numpy as np\n",
    "import pandas as pd\n",
    "import seaborn as sns\n",
    "import matplotlib.pyplot as plt\n",
    "\n",
    "sns.set(style=\"white\")\n",
    "\n",
    "# Generate a large random dataset\n",
    "rs = np.random.RandomState(33)\n",
    "d = pd.DataFrame(data=rs.normal(size=(100, 26)),\n",
    "                 columns=list(ascii_letters[26:]))\n",
    "\n",
    "# Compute the correlation matrix\n",
    "corr = demo.corr()#[['amount', 'amount_trump']]\n",
    "\n",
    "# Generate a mask for the upper triangle\n",
    "mask = np.triu(np.ones_like(corr, dtype=np.bool))\n",
    "\n",
    "# Set up the matplotlib figure\n",
    "f, ax = plt.subplots(figsize=(11, 9))\n",
    "\n",
    "# Draw the heatmap with the mask and correct aspect ratio\n",
    "sns.heatmap(corr, mask=mask, cmap=\"Blues\", vmax=1, center=0,square=True, linewidths=.5, annot = True)"
   ]
  },
  {
   "cell_type": "markdown",
   "metadata": {},
   "source": [
    "#### White, Non-Hispanic demographic visualization"
   ]
  },
  {
   "cell_type": "code",
   "execution_count": 1458,
   "metadata": {},
   "outputs": [
    {
     "data": {
      "application/vnd.plotly.v1+json": {
       "config": {
        "plotlyServerURL": "https://plot.ly"
       },
       "data": [
        {
         "colorbar": {
          "title": {
           "text": "Proportion"
          }
         },
         "colorscale": [
          [
           0,
           "rgb(255,245,240)"
          ],
          [
           0.125,
           "rgb(254,224,210)"
          ],
          [
           0.25,
           "rgb(252,187,161)"
          ],
          [
           0.375,
           "rgb(252,146,114)"
          ],
          [
           0.5,
           "rgb(251,106,74)"
          ],
          [
           0.625,
           "rgb(239,59,44)"
          ],
          [
           0.75,
           "rgb(203,24,29)"
          ],
          [
           0.875,
           "rgb(165,15,21)"
          ],
          [
           1,
           "rgb(103,0,13)"
          ]
         ],
         "locationmode": "USA-states",
         "locations": [
          "AL",
          "AK",
          "AZ",
          "AR",
          "CA",
          "CO",
          "CT",
          "DE",
          "FL",
          "GA",
          "HI",
          "ID",
          "IL",
          "IN",
          "IA",
          "KS",
          "KY",
          "LA",
          "ME",
          "MD",
          "MA",
          "MI",
          "MN",
          "MS",
          "MO",
          "MT",
          "NE",
          "NV",
          "NH",
          "NJ",
          "NM",
          "NY",
          "NC",
          "ND",
          "OH",
          "OK",
          "OR",
          "PA",
          "RI",
          "SC",
          "SD",
          "TN",
          "TX",
          "UT",
          "VT",
          "VA",
          "WA",
          "WV",
          "WI",
          "WY"
         ],
         "type": "choropleth",
         "z": [
          0.526,
          0.603,
          0.653,
          0.44,
          0.614,
          0.626,
          0.5770000000000001,
          0.527,
          0.695,
          0.57,
          0.561,
          0.504,
          0.509,
          0.5710000000000001,
          0.509,
          0.608,
          0.591,
          0.541,
          0.517,
          0.67,
          0.584,
          0.5870000000000001,
          0.611,
          0.648,
          0.517,
          0.5670000000000001,
          0.653,
          0.547,
          0.5660000000000001,
          0.57,
          0.579,
          0.613,
          0.529,
          0.544,
          0.643,
          0.539,
          0.53,
          0.659,
          0.5660000000000001,
          0.545,
          0.486,
          0.5429999999999999,
          0.517,
          0.5770000000000001,
          0.575,
          0.612,
          0.5529999999999999,
          0.608,
          0.655,
          0.452,
          0.669,
          0.5489999999999999
         ],
         "zmax": 0.695
        }
       ],
       "layout": {
        "geo": {
         "scope": "usa"
        },
        "template": {
         "data": {
          "bar": [
           {
            "error_x": {
             "color": "#2a3f5f"
            },
            "error_y": {
             "color": "#2a3f5f"
            },
            "marker": {
             "line": {
              "color": "#E5ECF6",
              "width": 0.5
             }
            },
            "type": "bar"
           }
          ],
          "barpolar": [
           {
            "marker": {
             "line": {
              "color": "#E5ECF6",
              "width": 0.5
             }
            },
            "type": "barpolar"
           }
          ],
          "carpet": [
           {
            "aaxis": {
             "endlinecolor": "#2a3f5f",
             "gridcolor": "white",
             "linecolor": "white",
             "minorgridcolor": "white",
             "startlinecolor": "#2a3f5f"
            },
            "baxis": {
             "endlinecolor": "#2a3f5f",
             "gridcolor": "white",
             "linecolor": "white",
             "minorgridcolor": "white",
             "startlinecolor": "#2a3f5f"
            },
            "type": "carpet"
           }
          ],
          "choropleth": [
           {
            "colorbar": {
             "outlinewidth": 0,
             "ticks": ""
            },
            "type": "choropleth"
           }
          ],
          "contour": [
           {
            "colorbar": {
             "outlinewidth": 0,
             "ticks": ""
            },
            "colorscale": [
             [
              0,
              "#0d0887"
             ],
             [
              0.1111111111111111,
              "#46039f"
             ],
             [
              0.2222222222222222,
              "#7201a8"
             ],
             [
              0.3333333333333333,
              "#9c179e"
             ],
             [
              0.4444444444444444,
              "#bd3786"
             ],
             [
              0.5555555555555556,
              "#d8576b"
             ],
             [
              0.6666666666666666,
              "#ed7953"
             ],
             [
              0.7777777777777778,
              "#fb9f3a"
             ],
             [
              0.8888888888888888,
              "#fdca26"
             ],
             [
              1,
              "#f0f921"
             ]
            ],
            "type": "contour"
           }
          ],
          "contourcarpet": [
           {
            "colorbar": {
             "outlinewidth": 0,
             "ticks": ""
            },
            "type": "contourcarpet"
           }
          ],
          "heatmap": [
           {
            "colorbar": {
             "outlinewidth": 0,
             "ticks": ""
            },
            "colorscale": [
             [
              0,
              "#0d0887"
             ],
             [
              0.1111111111111111,
              "#46039f"
             ],
             [
              0.2222222222222222,
              "#7201a8"
             ],
             [
              0.3333333333333333,
              "#9c179e"
             ],
             [
              0.4444444444444444,
              "#bd3786"
             ],
             [
              0.5555555555555556,
              "#d8576b"
             ],
             [
              0.6666666666666666,
              "#ed7953"
             ],
             [
              0.7777777777777778,
              "#fb9f3a"
             ],
             [
              0.8888888888888888,
              "#fdca26"
             ],
             [
              1,
              "#f0f921"
             ]
            ],
            "type": "heatmap"
           }
          ],
          "heatmapgl": [
           {
            "colorbar": {
             "outlinewidth": 0,
             "ticks": ""
            },
            "colorscale": [
             [
              0,
              "#0d0887"
             ],
             [
              0.1111111111111111,
              "#46039f"
             ],
             [
              0.2222222222222222,
              "#7201a8"
             ],
             [
              0.3333333333333333,
              "#9c179e"
             ],
             [
              0.4444444444444444,
              "#bd3786"
             ],
             [
              0.5555555555555556,
              "#d8576b"
             ],
             [
              0.6666666666666666,
              "#ed7953"
             ],
             [
              0.7777777777777778,
              "#fb9f3a"
             ],
             [
              0.8888888888888888,
              "#fdca26"
             ],
             [
              1,
              "#f0f921"
             ]
            ],
            "type": "heatmapgl"
           }
          ],
          "histogram": [
           {
            "marker": {
             "colorbar": {
              "outlinewidth": 0,
              "ticks": ""
             }
            },
            "type": "histogram"
           }
          ],
          "histogram2d": [
           {
            "colorbar": {
             "outlinewidth": 0,
             "ticks": ""
            },
            "colorscale": [
             [
              0,
              "#0d0887"
             ],
             [
              0.1111111111111111,
              "#46039f"
             ],
             [
              0.2222222222222222,
              "#7201a8"
             ],
             [
              0.3333333333333333,
              "#9c179e"
             ],
             [
              0.4444444444444444,
              "#bd3786"
             ],
             [
              0.5555555555555556,
              "#d8576b"
             ],
             [
              0.6666666666666666,
              "#ed7953"
             ],
             [
              0.7777777777777778,
              "#fb9f3a"
             ],
             [
              0.8888888888888888,
              "#fdca26"
             ],
             [
              1,
              "#f0f921"
             ]
            ],
            "type": "histogram2d"
           }
          ],
          "histogram2dcontour": [
           {
            "colorbar": {
             "outlinewidth": 0,
             "ticks": ""
            },
            "colorscale": [
             [
              0,
              "#0d0887"
             ],
             [
              0.1111111111111111,
              "#46039f"
             ],
             [
              0.2222222222222222,
              "#7201a8"
             ],
             [
              0.3333333333333333,
              "#9c179e"
             ],
             [
              0.4444444444444444,
              "#bd3786"
             ],
             [
              0.5555555555555556,
              "#d8576b"
             ],
             [
              0.6666666666666666,
              "#ed7953"
             ],
             [
              0.7777777777777778,
              "#fb9f3a"
             ],
             [
              0.8888888888888888,
              "#fdca26"
             ],
             [
              1,
              "#f0f921"
             ]
            ],
            "type": "histogram2dcontour"
           }
          ],
          "mesh3d": [
           {
            "colorbar": {
             "outlinewidth": 0,
             "ticks": ""
            },
            "type": "mesh3d"
           }
          ],
          "parcoords": [
           {
            "line": {
             "colorbar": {
              "outlinewidth": 0,
              "ticks": ""
             }
            },
            "type": "parcoords"
           }
          ],
          "pie": [
           {
            "automargin": true,
            "type": "pie"
           }
          ],
          "scatter": [
           {
            "marker": {
             "colorbar": {
              "outlinewidth": 0,
              "ticks": ""
             }
            },
            "type": "scatter"
           }
          ],
          "scatter3d": [
           {
            "line": {
             "colorbar": {
              "outlinewidth": 0,
              "ticks": ""
             }
            },
            "marker": {
             "colorbar": {
              "outlinewidth": 0,
              "ticks": ""
             }
            },
            "type": "scatter3d"
           }
          ],
          "scattercarpet": [
           {
            "marker": {
             "colorbar": {
              "outlinewidth": 0,
              "ticks": ""
             }
            },
            "type": "scattercarpet"
           }
          ],
          "scattergeo": [
           {
            "marker": {
             "colorbar": {
              "outlinewidth": 0,
              "ticks": ""
             }
            },
            "type": "scattergeo"
           }
          ],
          "scattergl": [
           {
            "marker": {
             "colorbar": {
              "outlinewidth": 0,
              "ticks": ""
             }
            },
            "type": "scattergl"
           }
          ],
          "scattermapbox": [
           {
            "marker": {
             "colorbar": {
              "outlinewidth": 0,
              "ticks": ""
             }
            },
            "type": "scattermapbox"
           }
          ],
          "scatterpolar": [
           {
            "marker": {
             "colorbar": {
              "outlinewidth": 0,
              "ticks": ""
             }
            },
            "type": "scatterpolar"
           }
          ],
          "scatterpolargl": [
           {
            "marker": {
             "colorbar": {
              "outlinewidth": 0,
              "ticks": ""
             }
            },
            "type": "scatterpolargl"
           }
          ],
          "scatterternary": [
           {
            "marker": {
             "colorbar": {
              "outlinewidth": 0,
              "ticks": ""
             }
            },
            "type": "scatterternary"
           }
          ],
          "surface": [
           {
            "colorbar": {
             "outlinewidth": 0,
             "ticks": ""
            },
            "colorscale": [
             [
              0,
              "#0d0887"
             ],
             [
              0.1111111111111111,
              "#46039f"
             ],
             [
              0.2222222222222222,
              "#7201a8"
             ],
             [
              0.3333333333333333,
              "#9c179e"
             ],
             [
              0.4444444444444444,
              "#bd3786"
             ],
             [
              0.5555555555555556,
              "#d8576b"
             ],
             [
              0.6666666666666666,
              "#ed7953"
             ],
             [
              0.7777777777777778,
              "#fb9f3a"
             ],
             [
              0.8888888888888888,
              "#fdca26"
             ],
             [
              1,
              "#f0f921"
             ]
            ],
            "type": "surface"
           }
          ],
          "table": [
           {
            "cells": {
             "fill": {
              "color": "#EBF0F8"
             },
             "line": {
              "color": "white"
             }
            },
            "header": {
             "fill": {
              "color": "#C8D4E3"
             },
             "line": {
              "color": "white"
             }
            },
            "type": "table"
           }
          ]
         },
         "layout": {
          "annotationdefaults": {
           "arrowcolor": "#2a3f5f",
           "arrowhead": 0,
           "arrowwidth": 1
          },
          "coloraxis": {
           "colorbar": {
            "outlinewidth": 0,
            "ticks": ""
           }
          },
          "colorscale": {
           "diverging": [
            [
             0,
             "#8e0152"
            ],
            [
             0.1,
             "#c51b7d"
            ],
            [
             0.2,
             "#de77ae"
            ],
            [
             0.3,
             "#f1b6da"
            ],
            [
             0.4,
             "#fde0ef"
            ],
            [
             0.5,
             "#f7f7f7"
            ],
            [
             0.6,
             "#e6f5d0"
            ],
            [
             0.7,
             "#b8e186"
            ],
            [
             0.8,
             "#7fbc41"
            ],
            [
             0.9,
             "#4d9221"
            ],
            [
             1,
             "#276419"
            ]
           ],
           "sequential": [
            [
             0,
             "#0d0887"
            ],
            [
             0.1111111111111111,
             "#46039f"
            ],
            [
             0.2222222222222222,
             "#7201a8"
            ],
            [
             0.3333333333333333,
             "#9c179e"
            ],
            [
             0.4444444444444444,
             "#bd3786"
            ],
            [
             0.5555555555555556,
             "#d8576b"
            ],
            [
             0.6666666666666666,
             "#ed7953"
            ],
            [
             0.7777777777777778,
             "#fb9f3a"
            ],
            [
             0.8888888888888888,
             "#fdca26"
            ],
            [
             1,
             "#f0f921"
            ]
           ],
           "sequentialminus": [
            [
             0,
             "#0d0887"
            ],
            [
             0.1111111111111111,
             "#46039f"
            ],
            [
             0.2222222222222222,
             "#7201a8"
            ],
            [
             0.3333333333333333,
             "#9c179e"
            ],
            [
             0.4444444444444444,
             "#bd3786"
            ],
            [
             0.5555555555555556,
             "#d8576b"
            ],
            [
             0.6666666666666666,
             "#ed7953"
            ],
            [
             0.7777777777777778,
             "#fb9f3a"
            ],
            [
             0.8888888888888888,
             "#fdca26"
            ],
            [
             1,
             "#f0f921"
            ]
           ]
          },
          "colorway": [
           "#636efa",
           "#EF553B",
           "#00cc96",
           "#ab63fa",
           "#FFA15A",
           "#19d3f3",
           "#FF6692",
           "#B6E880",
           "#FF97FF",
           "#FECB52"
          ],
          "font": {
           "color": "#2a3f5f"
          },
          "geo": {
           "bgcolor": "white",
           "lakecolor": "white",
           "landcolor": "#E5ECF6",
           "showlakes": true,
           "showland": true,
           "subunitcolor": "white"
          },
          "hoverlabel": {
           "align": "left"
          },
          "hovermode": "closest",
          "mapbox": {
           "style": "light"
          },
          "paper_bgcolor": "white",
          "plot_bgcolor": "#E5ECF6",
          "polar": {
           "angularaxis": {
            "gridcolor": "white",
            "linecolor": "white",
            "ticks": ""
           },
           "bgcolor": "#E5ECF6",
           "radialaxis": {
            "gridcolor": "white",
            "linecolor": "white",
            "ticks": ""
           }
          },
          "scene": {
           "xaxis": {
            "backgroundcolor": "#E5ECF6",
            "gridcolor": "white",
            "gridwidth": 2,
            "linecolor": "white",
            "showbackground": true,
            "ticks": "",
            "zerolinecolor": "white"
           },
           "yaxis": {
            "backgroundcolor": "#E5ECF6",
            "gridcolor": "white",
            "gridwidth": 2,
            "linecolor": "white",
            "showbackground": true,
            "ticks": "",
            "zerolinecolor": "white"
           },
           "zaxis": {
            "backgroundcolor": "#E5ECF6",
            "gridcolor": "white",
            "gridwidth": 2,
            "linecolor": "white",
            "showbackground": true,
            "ticks": "",
            "zerolinecolor": "white"
           }
          },
          "shapedefaults": {
           "line": {
            "color": "#2a3f5f"
           }
          },
          "ternary": {
           "aaxis": {
            "gridcolor": "white",
            "linecolor": "white",
            "ticks": ""
           },
           "baxis": {
            "gridcolor": "white",
            "linecolor": "white",
            "ticks": ""
           },
           "bgcolor": "#E5ECF6",
           "caxis": {
            "gridcolor": "white",
            "linecolor": "white",
            "ticks": ""
           }
          },
          "title": {
           "x": 0.05
          },
          "xaxis": {
           "automargin": true,
           "gridcolor": "white",
           "linecolor": "white",
           "ticks": "",
           "title": {
            "standoff": 15
           },
           "zerolinecolor": "white",
           "zerolinewidth": 2
          },
          "yaxis": {
           "automargin": true,
           "gridcolor": "white",
           "linecolor": "white",
           "ticks": "",
           "title": {
            "standoff": 15
           },
           "zerolinecolor": "white",
           "zerolinewidth": 2
          }
         }
        },
        "title": {
         "text": "Proportion of White Non-Hispanic Voters by State"
        }
       }
      },
      "text/html": [
       "<div>\n",
       "        \n",
       "        \n",
       "            <div id=\"4492b08c-10eb-4eda-b7dc-0e37fe3b97d0\" class=\"plotly-graph-div\" style=\"height:525px; width:100%;\"></div>\n",
       "            <script type=\"text/javascript\">\n",
       "                require([\"plotly\"], function(Plotly) {\n",
       "                    window.PLOTLYENV=window.PLOTLYENV || {};\n",
       "                    \n",
       "                if (document.getElementById(\"4492b08c-10eb-4eda-b7dc-0e37fe3b97d0\")) {\n",
       "                    Plotly.newPlot(\n",
       "                        '4492b08c-10eb-4eda-b7dc-0e37fe3b97d0',\n",
       "                        [{\"colorbar\": {\"title\": {\"text\": \"Proportion\"}}, \"colorscale\": [[0.0, \"rgb(255,245,240)\"], [0.125, \"rgb(254,224,210)\"], [0.25, \"rgb(252,187,161)\"], [0.375, \"rgb(252,146,114)\"], [0.5, \"rgb(251,106,74)\"], [0.625, \"rgb(239,59,44)\"], [0.75, \"rgb(203,24,29)\"], [0.875, \"rgb(165,15,21)\"], [1.0, \"rgb(103,0,13)\"]], \"locationmode\": \"USA-states\", \"locations\": [\"AL\", \"AK\", \"AZ\", \"AR\", \"CA\", \"CO\", \"CT\", \"DE\", \"FL\", \"GA\", \"HI\", \"ID\", \"IL\", \"IN\", \"IA\", \"KS\", \"KY\", \"LA\", \"ME\", \"MD\", \"MA\", \"MI\", \"MN\", \"MS\", \"MO\", \"MT\", \"NE\", \"NV\", \"NH\", \"NJ\", \"NM\", \"NY\", \"NC\", \"ND\", \"OH\", \"OK\", \"OR\", \"PA\", \"RI\", \"SC\", \"SD\", \"TN\", \"TX\", \"UT\", \"VT\", \"VA\", \"WA\", \"WV\", \"WI\", \"WY\"], \"type\": \"choropleth\", \"z\": [0.526, 0.603, 0.653, 0.44, 0.614, 0.626, 0.5770000000000001, 0.527, 0.695, 0.57, 0.561, 0.504, 0.509, 0.5710000000000001, 0.509, 0.608, 0.591, 0.541, 0.517, 0.67, 0.584, 0.5870000000000001, 0.611, 0.648, 0.517, 0.5670000000000001, 0.653, 0.547, 0.5660000000000001, 0.57, 0.579, 0.613, 0.529, 0.544, 0.643, 0.539, 0.53, 0.659, 0.5660000000000001, 0.545, 0.486, 0.5429999999999999, 0.517, 0.5770000000000001, 0.575, 0.612, 0.5529999999999999, 0.608, 0.655, 0.452, 0.669, 0.5489999999999999], \"zmax\": 0.695}],\n",
       "                        {\"geo\": {\"scope\": \"usa\"}, \"template\": {\"data\": {\"bar\": [{\"error_x\": {\"color\": \"#2a3f5f\"}, \"error_y\": {\"color\": \"#2a3f5f\"}, \"marker\": {\"line\": {\"color\": \"#E5ECF6\", \"width\": 0.5}}, \"type\": \"bar\"}], \"barpolar\": [{\"marker\": {\"line\": {\"color\": \"#E5ECF6\", \"width\": 0.5}}, \"type\": \"barpolar\"}], \"carpet\": [{\"aaxis\": {\"endlinecolor\": \"#2a3f5f\", \"gridcolor\": \"white\", \"linecolor\": \"white\", \"minorgridcolor\": \"white\", \"startlinecolor\": \"#2a3f5f\"}, \"baxis\": {\"endlinecolor\": \"#2a3f5f\", \"gridcolor\": \"white\", \"linecolor\": \"white\", \"minorgridcolor\": \"white\", \"startlinecolor\": \"#2a3f5f\"}, \"type\": \"carpet\"}], \"choropleth\": [{\"colorbar\": {\"outlinewidth\": 0, \"ticks\": \"\"}, \"type\": \"choropleth\"}], \"contour\": [{\"colorbar\": {\"outlinewidth\": 0, \"ticks\": \"\"}, \"colorscale\": [[0.0, \"#0d0887\"], [0.1111111111111111, \"#46039f\"], [0.2222222222222222, \"#7201a8\"], [0.3333333333333333, \"#9c179e\"], [0.4444444444444444, \"#bd3786\"], [0.5555555555555556, \"#d8576b\"], [0.6666666666666666, \"#ed7953\"], [0.7777777777777778, \"#fb9f3a\"], [0.8888888888888888, \"#fdca26\"], [1.0, \"#f0f921\"]], \"type\": \"contour\"}], \"contourcarpet\": [{\"colorbar\": {\"outlinewidth\": 0, \"ticks\": \"\"}, \"type\": \"contourcarpet\"}], \"heatmap\": [{\"colorbar\": {\"outlinewidth\": 0, \"ticks\": \"\"}, \"colorscale\": [[0.0, \"#0d0887\"], [0.1111111111111111, \"#46039f\"], [0.2222222222222222, \"#7201a8\"], [0.3333333333333333, \"#9c179e\"], [0.4444444444444444, \"#bd3786\"], [0.5555555555555556, \"#d8576b\"], [0.6666666666666666, \"#ed7953\"], [0.7777777777777778, \"#fb9f3a\"], [0.8888888888888888, \"#fdca26\"], [1.0, \"#f0f921\"]], \"type\": \"heatmap\"}], \"heatmapgl\": [{\"colorbar\": {\"outlinewidth\": 0, \"ticks\": \"\"}, \"colorscale\": [[0.0, \"#0d0887\"], [0.1111111111111111, \"#46039f\"], [0.2222222222222222, \"#7201a8\"], [0.3333333333333333, \"#9c179e\"], [0.4444444444444444, \"#bd3786\"], [0.5555555555555556, \"#d8576b\"], [0.6666666666666666, \"#ed7953\"], [0.7777777777777778, \"#fb9f3a\"], [0.8888888888888888, \"#fdca26\"], [1.0, \"#f0f921\"]], \"type\": \"heatmapgl\"}], \"histogram\": [{\"marker\": {\"colorbar\": {\"outlinewidth\": 0, \"ticks\": \"\"}}, \"type\": \"histogram\"}], \"histogram2d\": [{\"colorbar\": {\"outlinewidth\": 0, \"ticks\": \"\"}, \"colorscale\": [[0.0, \"#0d0887\"], [0.1111111111111111, \"#46039f\"], [0.2222222222222222, \"#7201a8\"], [0.3333333333333333, \"#9c179e\"], [0.4444444444444444, \"#bd3786\"], [0.5555555555555556, \"#d8576b\"], [0.6666666666666666, \"#ed7953\"], [0.7777777777777778, \"#fb9f3a\"], [0.8888888888888888, \"#fdca26\"], [1.0, \"#f0f921\"]], \"type\": \"histogram2d\"}], \"histogram2dcontour\": [{\"colorbar\": {\"outlinewidth\": 0, \"ticks\": \"\"}, \"colorscale\": [[0.0, \"#0d0887\"], [0.1111111111111111, \"#46039f\"], [0.2222222222222222, \"#7201a8\"], [0.3333333333333333, \"#9c179e\"], [0.4444444444444444, \"#bd3786\"], [0.5555555555555556, \"#d8576b\"], [0.6666666666666666, \"#ed7953\"], [0.7777777777777778, \"#fb9f3a\"], [0.8888888888888888, \"#fdca26\"], [1.0, \"#f0f921\"]], \"type\": \"histogram2dcontour\"}], \"mesh3d\": [{\"colorbar\": {\"outlinewidth\": 0, \"ticks\": \"\"}, \"type\": \"mesh3d\"}], \"parcoords\": [{\"line\": {\"colorbar\": {\"outlinewidth\": 0, \"ticks\": \"\"}}, \"type\": \"parcoords\"}], \"pie\": [{\"automargin\": true, \"type\": \"pie\"}], \"scatter\": [{\"marker\": {\"colorbar\": {\"outlinewidth\": 0, \"ticks\": \"\"}}, \"type\": \"scatter\"}], \"scatter3d\": [{\"line\": {\"colorbar\": {\"outlinewidth\": 0, \"ticks\": \"\"}}, \"marker\": {\"colorbar\": {\"outlinewidth\": 0, \"ticks\": \"\"}}, \"type\": \"scatter3d\"}], \"scattercarpet\": [{\"marker\": {\"colorbar\": {\"outlinewidth\": 0, \"ticks\": \"\"}}, \"type\": \"scattercarpet\"}], \"scattergeo\": [{\"marker\": {\"colorbar\": {\"outlinewidth\": 0, \"ticks\": \"\"}}, \"type\": \"scattergeo\"}], \"scattergl\": [{\"marker\": {\"colorbar\": {\"outlinewidth\": 0, \"ticks\": \"\"}}, \"type\": \"scattergl\"}], \"scattermapbox\": [{\"marker\": {\"colorbar\": {\"outlinewidth\": 0, \"ticks\": \"\"}}, \"type\": \"scattermapbox\"}], \"scatterpolar\": [{\"marker\": {\"colorbar\": {\"outlinewidth\": 0, \"ticks\": \"\"}}, \"type\": \"scatterpolar\"}], \"scatterpolargl\": [{\"marker\": {\"colorbar\": {\"outlinewidth\": 0, \"ticks\": \"\"}}, \"type\": \"scatterpolargl\"}], \"scatterternary\": [{\"marker\": {\"colorbar\": {\"outlinewidth\": 0, \"ticks\": \"\"}}, \"type\": \"scatterternary\"}], \"surface\": [{\"colorbar\": {\"outlinewidth\": 0, \"ticks\": \"\"}, \"colorscale\": [[0.0, \"#0d0887\"], [0.1111111111111111, \"#46039f\"], [0.2222222222222222, \"#7201a8\"], [0.3333333333333333, \"#9c179e\"], [0.4444444444444444, \"#bd3786\"], [0.5555555555555556, \"#d8576b\"], [0.6666666666666666, \"#ed7953\"], [0.7777777777777778, \"#fb9f3a\"], [0.8888888888888888, \"#fdca26\"], [1.0, \"#f0f921\"]], \"type\": \"surface\"}], \"table\": [{\"cells\": {\"fill\": {\"color\": \"#EBF0F8\"}, \"line\": {\"color\": \"white\"}}, \"header\": {\"fill\": {\"color\": \"#C8D4E3\"}, \"line\": {\"color\": \"white\"}}, \"type\": \"table\"}]}, \"layout\": {\"annotationdefaults\": {\"arrowcolor\": \"#2a3f5f\", \"arrowhead\": 0, \"arrowwidth\": 1}, \"coloraxis\": {\"colorbar\": {\"outlinewidth\": 0, \"ticks\": \"\"}}, \"colorscale\": {\"diverging\": [[0, \"#8e0152\"], [0.1, \"#c51b7d\"], [0.2, \"#de77ae\"], [0.3, \"#f1b6da\"], [0.4, \"#fde0ef\"], [0.5, \"#f7f7f7\"], [0.6, \"#e6f5d0\"], [0.7, \"#b8e186\"], [0.8, \"#7fbc41\"], [0.9, \"#4d9221\"], [1, \"#276419\"]], \"sequential\": [[0.0, \"#0d0887\"], [0.1111111111111111, \"#46039f\"], [0.2222222222222222, \"#7201a8\"], [0.3333333333333333, \"#9c179e\"], [0.4444444444444444, \"#bd3786\"], [0.5555555555555556, \"#d8576b\"], [0.6666666666666666, \"#ed7953\"], [0.7777777777777778, \"#fb9f3a\"], [0.8888888888888888, \"#fdca26\"], [1.0, \"#f0f921\"]], \"sequentialminus\": [[0.0, \"#0d0887\"], [0.1111111111111111, \"#46039f\"], [0.2222222222222222, \"#7201a8\"], [0.3333333333333333, \"#9c179e\"], [0.4444444444444444, \"#bd3786\"], [0.5555555555555556, \"#d8576b\"], [0.6666666666666666, \"#ed7953\"], [0.7777777777777778, \"#fb9f3a\"], [0.8888888888888888, \"#fdca26\"], [1.0, \"#f0f921\"]]}, \"colorway\": [\"#636efa\", \"#EF553B\", \"#00cc96\", \"#ab63fa\", \"#FFA15A\", \"#19d3f3\", \"#FF6692\", \"#B6E880\", \"#FF97FF\", \"#FECB52\"], \"font\": {\"color\": \"#2a3f5f\"}, \"geo\": {\"bgcolor\": \"white\", \"lakecolor\": \"white\", \"landcolor\": \"#E5ECF6\", \"showlakes\": true, \"showland\": true, \"subunitcolor\": \"white\"}, \"hoverlabel\": {\"align\": \"left\"}, \"hovermode\": \"closest\", \"mapbox\": {\"style\": \"light\"}, \"paper_bgcolor\": \"white\", \"plot_bgcolor\": \"#E5ECF6\", \"polar\": {\"angularaxis\": {\"gridcolor\": \"white\", \"linecolor\": \"white\", \"ticks\": \"\"}, \"bgcolor\": \"#E5ECF6\", \"radialaxis\": {\"gridcolor\": \"white\", \"linecolor\": \"white\", \"ticks\": \"\"}}, \"scene\": {\"xaxis\": {\"backgroundcolor\": \"#E5ECF6\", \"gridcolor\": \"white\", \"gridwidth\": 2, \"linecolor\": \"white\", \"showbackground\": true, \"ticks\": \"\", \"zerolinecolor\": \"white\"}, \"yaxis\": {\"backgroundcolor\": \"#E5ECF6\", \"gridcolor\": \"white\", \"gridwidth\": 2, \"linecolor\": \"white\", \"showbackground\": true, \"ticks\": \"\", \"zerolinecolor\": \"white\"}, \"zaxis\": {\"backgroundcolor\": \"#E5ECF6\", \"gridcolor\": \"white\", \"gridwidth\": 2, \"linecolor\": \"white\", \"showbackground\": true, \"ticks\": \"\", \"zerolinecolor\": \"white\"}}, \"shapedefaults\": {\"line\": {\"color\": \"#2a3f5f\"}}, \"ternary\": {\"aaxis\": {\"gridcolor\": \"white\", \"linecolor\": \"white\", \"ticks\": \"\"}, \"baxis\": {\"gridcolor\": \"white\", \"linecolor\": \"white\", \"ticks\": \"\"}, \"bgcolor\": \"#E5ECF6\", \"caxis\": {\"gridcolor\": \"white\", \"linecolor\": \"white\", \"ticks\": \"\"}}, \"title\": {\"x\": 0.05}, \"xaxis\": {\"automargin\": true, \"gridcolor\": \"white\", \"linecolor\": \"white\", \"ticks\": \"\", \"title\": {\"standoff\": 15}, \"zerolinecolor\": \"white\", \"zerolinewidth\": 2}, \"yaxis\": {\"automargin\": true, \"gridcolor\": \"white\", \"linecolor\": \"white\", \"ticks\": \"\", \"title\": {\"standoff\": 15}, \"zerolinecolor\": \"white\", \"zerolinewidth\": 2}}}, \"title\": {\"text\": \"Proportion of White Non-Hispanic Voters by State\"}},\n",
       "                        {\"responsive\": true}\n",
       "                    ).then(function(){\n",
       "                            \n",
       "var gd = document.getElementById('4492b08c-10eb-4eda-b7dc-0e37fe3b97d0');\n",
       "var x = new MutationObserver(function (mutations, observer) {{\n",
       "        var display = window.getComputedStyle(gd).display;\n",
       "        if (!display || display === 'none') {{\n",
       "            console.log([gd, 'removed!']);\n",
       "            Plotly.purge(gd);\n",
       "            observer.disconnect();\n",
       "        }}\n",
       "}});\n",
       "\n",
       "// Listen for the removal of the full notebook cells\n",
       "var notebookContainer = gd.closest('#notebook-container');\n",
       "if (notebookContainer) {{\n",
       "    x.observe(notebookContainer, {childList: true});\n",
       "}}\n",
       "\n",
       "// Listen for the clearing of the current output cell\n",
       "var outputEl = gd.closest('.output');\n",
       "if (outputEl) {{\n",
       "    x.observe(outputEl, {childList: true});\n",
       "}}\n",
       "\n",
       "                        })\n",
       "                };\n",
       "                });\n",
       "            </script>\n",
       "        </div>"
      ]
     },
     "metadata": {},
     "output_type": "display_data"
    }
   ],
   "source": [
    "df = pd.read_csv('https://raw.githubusercontent.com/plotly/datasets/master/2011_us_ag_exports.csv')\n",
    "\n",
    "fig = go.Figure(data=go.Choropleth(\n",
    "    locations = df['code'], # Spatial coordinates\n",
    "    z = demo['White, Non-Hispanic'].astype(float), # Data to be color-coded\n",
    "    locationmode = 'USA-states', # set of locations match entries in `locations`\n",
    "    colorscale = 'Reds',\n",
    "    colorbar_title = \"Proportion\",\n",
    "    zmax = max(demo['White, Non-Hispanic']),\n",
    "))\n",
    "\n",
    "fig.update_layout(\n",
    "    title_text = 'Proportion of White Non-Hispanic Voters by State',\n",
    "    geo_scope='usa',\n",
    ")\n",
    "\n",
    "fig.show()"
   ]
  },
  {
   "cell_type": "markdown",
   "metadata": {},
   "source": [
    "#### Asian demographic visualization"
   ]
  },
  {
   "cell_type": "code",
   "execution_count": 1459,
   "metadata": {},
   "outputs": [
    {
     "data": {
      "application/vnd.plotly.v1+json": {
       "config": {
        "plotlyServerURL": "https://plot.ly"
       },
       "data": [
        {
         "colorbar": {
          "title": {
           "text": "Proportion"
          }
         },
         "colorscale": [
          [
           0,
           "rgb(255,245,240)"
          ],
          [
           0.125,
           "rgb(254,224,210)"
          ],
          [
           0.25,
           "rgb(252,187,161)"
          ],
          [
           0.375,
           "rgb(252,146,114)"
          ],
          [
           0.5,
           "rgb(251,106,74)"
          ],
          [
           0.625,
           "rgb(239,59,44)"
          ],
          [
           0.75,
           "rgb(203,24,29)"
          ],
          [
           0.875,
           "rgb(165,15,21)"
          ],
          [
           1,
           "rgb(103,0,13)"
          ]
         ],
         "locationmode": "USA-states",
         "locations": [
          "AL",
          "AK",
          "AZ",
          "AR",
          "CA",
          "CO",
          "CT",
          "DE",
          "FL",
          "GA",
          "HI",
          "ID",
          "IL",
          "IN",
          "IA",
          "KS",
          "KY",
          "LA",
          "ME",
          "MD",
          "MA",
          "MI",
          "MN",
          "MS",
          "MO",
          "MT",
          "NE",
          "NV",
          "NH",
          "NJ",
          "NM",
          "NY",
          "NC",
          "ND",
          "OH",
          "OK",
          "OR",
          "PA",
          "RI",
          "SC",
          "SD",
          "TN",
          "TX",
          "UT",
          "VT",
          "VA",
          "WA",
          "WV",
          "WI",
          "WY"
         ],
         "type": "choropleth",
         "z": [
          0,
          0,
          0.574,
          0,
          0.415,
          0.6,
          0.337,
          0,
          0,
          0.401,
          0.419,
          0.457,
          0,
          0.34,
          0.311,
          0,
          0,
          0,
          0,
          0,
          0.443,
          0.441,
          0.61,
          0.482,
          0,
          0,
          0,
          0,
          0.297,
          0,
          0.39,
          0,
          0.33,
          0.458,
          0,
          0.477,
          0,
          0.264,
          0.422,
          0,
          0,
          0,
          0.309,
          0.426,
          0.417,
          0,
          0,
          0.504,
          0.616,
          0,
          0.678,
          0
         ],
         "zmax": 0.695,
         "zmin": 0
        }
       ],
       "layout": {
        "geo": {
         "scope": "usa"
        },
        "template": {
         "data": {
          "bar": [
           {
            "error_x": {
             "color": "#2a3f5f"
            },
            "error_y": {
             "color": "#2a3f5f"
            },
            "marker": {
             "line": {
              "color": "#E5ECF6",
              "width": 0.5
             }
            },
            "type": "bar"
           }
          ],
          "barpolar": [
           {
            "marker": {
             "line": {
              "color": "#E5ECF6",
              "width": 0.5
             }
            },
            "type": "barpolar"
           }
          ],
          "carpet": [
           {
            "aaxis": {
             "endlinecolor": "#2a3f5f",
             "gridcolor": "white",
             "linecolor": "white",
             "minorgridcolor": "white",
             "startlinecolor": "#2a3f5f"
            },
            "baxis": {
             "endlinecolor": "#2a3f5f",
             "gridcolor": "white",
             "linecolor": "white",
             "minorgridcolor": "white",
             "startlinecolor": "#2a3f5f"
            },
            "type": "carpet"
           }
          ],
          "choropleth": [
           {
            "colorbar": {
             "outlinewidth": 0,
             "ticks": ""
            },
            "type": "choropleth"
           }
          ],
          "contour": [
           {
            "colorbar": {
             "outlinewidth": 0,
             "ticks": ""
            },
            "colorscale": [
             [
              0,
              "#0d0887"
             ],
             [
              0.1111111111111111,
              "#46039f"
             ],
             [
              0.2222222222222222,
              "#7201a8"
             ],
             [
              0.3333333333333333,
              "#9c179e"
             ],
             [
              0.4444444444444444,
              "#bd3786"
             ],
             [
              0.5555555555555556,
              "#d8576b"
             ],
             [
              0.6666666666666666,
              "#ed7953"
             ],
             [
              0.7777777777777778,
              "#fb9f3a"
             ],
             [
              0.8888888888888888,
              "#fdca26"
             ],
             [
              1,
              "#f0f921"
             ]
            ],
            "type": "contour"
           }
          ],
          "contourcarpet": [
           {
            "colorbar": {
             "outlinewidth": 0,
             "ticks": ""
            },
            "type": "contourcarpet"
           }
          ],
          "heatmap": [
           {
            "colorbar": {
             "outlinewidth": 0,
             "ticks": ""
            },
            "colorscale": [
             [
              0,
              "#0d0887"
             ],
             [
              0.1111111111111111,
              "#46039f"
             ],
             [
              0.2222222222222222,
              "#7201a8"
             ],
             [
              0.3333333333333333,
              "#9c179e"
             ],
             [
              0.4444444444444444,
              "#bd3786"
             ],
             [
              0.5555555555555556,
              "#d8576b"
             ],
             [
              0.6666666666666666,
              "#ed7953"
             ],
             [
              0.7777777777777778,
              "#fb9f3a"
             ],
             [
              0.8888888888888888,
              "#fdca26"
             ],
             [
              1,
              "#f0f921"
             ]
            ],
            "type": "heatmap"
           }
          ],
          "heatmapgl": [
           {
            "colorbar": {
             "outlinewidth": 0,
             "ticks": ""
            },
            "colorscale": [
             [
              0,
              "#0d0887"
             ],
             [
              0.1111111111111111,
              "#46039f"
             ],
             [
              0.2222222222222222,
              "#7201a8"
             ],
             [
              0.3333333333333333,
              "#9c179e"
             ],
             [
              0.4444444444444444,
              "#bd3786"
             ],
             [
              0.5555555555555556,
              "#d8576b"
             ],
             [
              0.6666666666666666,
              "#ed7953"
             ],
             [
              0.7777777777777778,
              "#fb9f3a"
             ],
             [
              0.8888888888888888,
              "#fdca26"
             ],
             [
              1,
              "#f0f921"
             ]
            ],
            "type": "heatmapgl"
           }
          ],
          "histogram": [
           {
            "marker": {
             "colorbar": {
              "outlinewidth": 0,
              "ticks": ""
             }
            },
            "type": "histogram"
           }
          ],
          "histogram2d": [
           {
            "colorbar": {
             "outlinewidth": 0,
             "ticks": ""
            },
            "colorscale": [
             [
              0,
              "#0d0887"
             ],
             [
              0.1111111111111111,
              "#46039f"
             ],
             [
              0.2222222222222222,
              "#7201a8"
             ],
             [
              0.3333333333333333,
              "#9c179e"
             ],
             [
              0.4444444444444444,
              "#bd3786"
             ],
             [
              0.5555555555555556,
              "#d8576b"
             ],
             [
              0.6666666666666666,
              "#ed7953"
             ],
             [
              0.7777777777777778,
              "#fb9f3a"
             ],
             [
              0.8888888888888888,
              "#fdca26"
             ],
             [
              1,
              "#f0f921"
             ]
            ],
            "type": "histogram2d"
           }
          ],
          "histogram2dcontour": [
           {
            "colorbar": {
             "outlinewidth": 0,
             "ticks": ""
            },
            "colorscale": [
             [
              0,
              "#0d0887"
             ],
             [
              0.1111111111111111,
              "#46039f"
             ],
             [
              0.2222222222222222,
              "#7201a8"
             ],
             [
              0.3333333333333333,
              "#9c179e"
             ],
             [
              0.4444444444444444,
              "#bd3786"
             ],
             [
              0.5555555555555556,
              "#d8576b"
             ],
             [
              0.6666666666666666,
              "#ed7953"
             ],
             [
              0.7777777777777778,
              "#fb9f3a"
             ],
             [
              0.8888888888888888,
              "#fdca26"
             ],
             [
              1,
              "#f0f921"
             ]
            ],
            "type": "histogram2dcontour"
           }
          ],
          "mesh3d": [
           {
            "colorbar": {
             "outlinewidth": 0,
             "ticks": ""
            },
            "type": "mesh3d"
           }
          ],
          "parcoords": [
           {
            "line": {
             "colorbar": {
              "outlinewidth": 0,
              "ticks": ""
             }
            },
            "type": "parcoords"
           }
          ],
          "pie": [
           {
            "automargin": true,
            "type": "pie"
           }
          ],
          "scatter": [
           {
            "marker": {
             "colorbar": {
              "outlinewidth": 0,
              "ticks": ""
             }
            },
            "type": "scatter"
           }
          ],
          "scatter3d": [
           {
            "line": {
             "colorbar": {
              "outlinewidth": 0,
              "ticks": ""
             }
            },
            "marker": {
             "colorbar": {
              "outlinewidth": 0,
              "ticks": ""
             }
            },
            "type": "scatter3d"
           }
          ],
          "scattercarpet": [
           {
            "marker": {
             "colorbar": {
              "outlinewidth": 0,
              "ticks": ""
             }
            },
            "type": "scattercarpet"
           }
          ],
          "scattergeo": [
           {
            "marker": {
             "colorbar": {
              "outlinewidth": 0,
              "ticks": ""
             }
            },
            "type": "scattergeo"
           }
          ],
          "scattergl": [
           {
            "marker": {
             "colorbar": {
              "outlinewidth": 0,
              "ticks": ""
             }
            },
            "type": "scattergl"
           }
          ],
          "scattermapbox": [
           {
            "marker": {
             "colorbar": {
              "outlinewidth": 0,
              "ticks": ""
             }
            },
            "type": "scattermapbox"
           }
          ],
          "scatterpolar": [
           {
            "marker": {
             "colorbar": {
              "outlinewidth": 0,
              "ticks": ""
             }
            },
            "type": "scatterpolar"
           }
          ],
          "scatterpolargl": [
           {
            "marker": {
             "colorbar": {
              "outlinewidth": 0,
              "ticks": ""
             }
            },
            "type": "scatterpolargl"
           }
          ],
          "scatterternary": [
           {
            "marker": {
             "colorbar": {
              "outlinewidth": 0,
              "ticks": ""
             }
            },
            "type": "scatterternary"
           }
          ],
          "surface": [
           {
            "colorbar": {
             "outlinewidth": 0,
             "ticks": ""
            },
            "colorscale": [
             [
              0,
              "#0d0887"
             ],
             [
              0.1111111111111111,
              "#46039f"
             ],
             [
              0.2222222222222222,
              "#7201a8"
             ],
             [
              0.3333333333333333,
              "#9c179e"
             ],
             [
              0.4444444444444444,
              "#bd3786"
             ],
             [
              0.5555555555555556,
              "#d8576b"
             ],
             [
              0.6666666666666666,
              "#ed7953"
             ],
             [
              0.7777777777777778,
              "#fb9f3a"
             ],
             [
              0.8888888888888888,
              "#fdca26"
             ],
             [
              1,
              "#f0f921"
             ]
            ],
            "type": "surface"
           }
          ],
          "table": [
           {
            "cells": {
             "fill": {
              "color": "#EBF0F8"
             },
             "line": {
              "color": "white"
             }
            },
            "header": {
             "fill": {
              "color": "#C8D4E3"
             },
             "line": {
              "color": "white"
             }
            },
            "type": "table"
           }
          ]
         },
         "layout": {
          "annotationdefaults": {
           "arrowcolor": "#2a3f5f",
           "arrowhead": 0,
           "arrowwidth": 1
          },
          "coloraxis": {
           "colorbar": {
            "outlinewidth": 0,
            "ticks": ""
           }
          },
          "colorscale": {
           "diverging": [
            [
             0,
             "#8e0152"
            ],
            [
             0.1,
             "#c51b7d"
            ],
            [
             0.2,
             "#de77ae"
            ],
            [
             0.3,
             "#f1b6da"
            ],
            [
             0.4,
             "#fde0ef"
            ],
            [
             0.5,
             "#f7f7f7"
            ],
            [
             0.6,
             "#e6f5d0"
            ],
            [
             0.7,
             "#b8e186"
            ],
            [
             0.8,
             "#7fbc41"
            ],
            [
             0.9,
             "#4d9221"
            ],
            [
             1,
             "#276419"
            ]
           ],
           "sequential": [
            [
             0,
             "#0d0887"
            ],
            [
             0.1111111111111111,
             "#46039f"
            ],
            [
             0.2222222222222222,
             "#7201a8"
            ],
            [
             0.3333333333333333,
             "#9c179e"
            ],
            [
             0.4444444444444444,
             "#bd3786"
            ],
            [
             0.5555555555555556,
             "#d8576b"
            ],
            [
             0.6666666666666666,
             "#ed7953"
            ],
            [
             0.7777777777777778,
             "#fb9f3a"
            ],
            [
             0.8888888888888888,
             "#fdca26"
            ],
            [
             1,
             "#f0f921"
            ]
           ],
           "sequentialminus": [
            [
             0,
             "#0d0887"
            ],
            [
             0.1111111111111111,
             "#46039f"
            ],
            [
             0.2222222222222222,
             "#7201a8"
            ],
            [
             0.3333333333333333,
             "#9c179e"
            ],
            [
             0.4444444444444444,
             "#bd3786"
            ],
            [
             0.5555555555555556,
             "#d8576b"
            ],
            [
             0.6666666666666666,
             "#ed7953"
            ],
            [
             0.7777777777777778,
             "#fb9f3a"
            ],
            [
             0.8888888888888888,
             "#fdca26"
            ],
            [
             1,
             "#f0f921"
            ]
           ]
          },
          "colorway": [
           "#636efa",
           "#EF553B",
           "#00cc96",
           "#ab63fa",
           "#FFA15A",
           "#19d3f3",
           "#FF6692",
           "#B6E880",
           "#FF97FF",
           "#FECB52"
          ],
          "font": {
           "color": "#2a3f5f"
          },
          "geo": {
           "bgcolor": "white",
           "lakecolor": "white",
           "landcolor": "#E5ECF6",
           "showlakes": true,
           "showland": true,
           "subunitcolor": "white"
          },
          "hoverlabel": {
           "align": "left"
          },
          "hovermode": "closest",
          "mapbox": {
           "style": "light"
          },
          "paper_bgcolor": "white",
          "plot_bgcolor": "#E5ECF6",
          "polar": {
           "angularaxis": {
            "gridcolor": "white",
            "linecolor": "white",
            "ticks": ""
           },
           "bgcolor": "#E5ECF6",
           "radialaxis": {
            "gridcolor": "white",
            "linecolor": "white",
            "ticks": ""
           }
          },
          "scene": {
           "xaxis": {
            "backgroundcolor": "#E5ECF6",
            "gridcolor": "white",
            "gridwidth": 2,
            "linecolor": "white",
            "showbackground": true,
            "ticks": "",
            "zerolinecolor": "white"
           },
           "yaxis": {
            "backgroundcolor": "#E5ECF6",
            "gridcolor": "white",
            "gridwidth": 2,
            "linecolor": "white",
            "showbackground": true,
            "ticks": "",
            "zerolinecolor": "white"
           },
           "zaxis": {
            "backgroundcolor": "#E5ECF6",
            "gridcolor": "white",
            "gridwidth": 2,
            "linecolor": "white",
            "showbackground": true,
            "ticks": "",
            "zerolinecolor": "white"
           }
          },
          "shapedefaults": {
           "line": {
            "color": "#2a3f5f"
           }
          },
          "ternary": {
           "aaxis": {
            "gridcolor": "white",
            "linecolor": "white",
            "ticks": ""
           },
           "baxis": {
            "gridcolor": "white",
            "linecolor": "white",
            "ticks": ""
           },
           "bgcolor": "#E5ECF6",
           "caxis": {
            "gridcolor": "white",
            "linecolor": "white",
            "ticks": ""
           }
          },
          "title": {
           "x": 0.05
          },
          "xaxis": {
           "automargin": true,
           "gridcolor": "white",
           "linecolor": "white",
           "ticks": "",
           "title": {
            "standoff": 15
           },
           "zerolinecolor": "white",
           "zerolinewidth": 2
          },
          "yaxis": {
           "automargin": true,
           "gridcolor": "white",
           "linecolor": "white",
           "ticks": "",
           "title": {
            "standoff": 15
           },
           "zerolinecolor": "white",
           "zerolinewidth": 2
          }
         }
        },
        "title": {
         "text": "Proportion of Asian Voters by State"
        }
       }
      },
      "text/html": [
       "<div>\n",
       "        \n",
       "        \n",
       "            <div id=\"e66613a1-00f4-4393-ba6b-da294ad55f88\" class=\"plotly-graph-div\" style=\"height:525px; width:100%;\"></div>\n",
       "            <script type=\"text/javascript\">\n",
       "                require([\"plotly\"], function(Plotly) {\n",
       "                    window.PLOTLYENV=window.PLOTLYENV || {};\n",
       "                    \n",
       "                if (document.getElementById(\"e66613a1-00f4-4393-ba6b-da294ad55f88\")) {\n",
       "                    Plotly.newPlot(\n",
       "                        'e66613a1-00f4-4393-ba6b-da294ad55f88',\n",
       "                        [{\"colorbar\": {\"title\": {\"text\": \"Proportion\"}}, \"colorscale\": [[0.0, \"rgb(255,245,240)\"], [0.125, \"rgb(254,224,210)\"], [0.25, \"rgb(252,187,161)\"], [0.375, \"rgb(252,146,114)\"], [0.5, \"rgb(251,106,74)\"], [0.625, \"rgb(239,59,44)\"], [0.75, \"rgb(203,24,29)\"], [0.875, \"rgb(165,15,21)\"], [1.0, \"rgb(103,0,13)\"]], \"locationmode\": \"USA-states\", \"locations\": [\"AL\", \"AK\", \"AZ\", \"AR\", \"CA\", \"CO\", \"CT\", \"DE\", \"FL\", \"GA\", \"HI\", \"ID\", \"IL\", \"IN\", \"IA\", \"KS\", \"KY\", \"LA\", \"ME\", \"MD\", \"MA\", \"MI\", \"MN\", \"MS\", \"MO\", \"MT\", \"NE\", \"NV\", \"NH\", \"NJ\", \"NM\", \"NY\", \"NC\", \"ND\", \"OH\", \"OK\", \"OR\", \"PA\", \"RI\", \"SC\", \"SD\", \"TN\", \"TX\", \"UT\", \"VT\", \"VA\", \"WA\", \"WV\", \"WI\", \"WY\"], \"type\": \"choropleth\", \"z\": [0.0, 0.0, 0.574, 0.0, 0.415, 0.6, 0.337, 0.0, 0.0, 0.401, 0.419, 0.457, 0.0, 0.34, 0.311, 0.0, 0.0, 0.0, 0.0, 0.0, 0.443, 0.441, 0.61, 0.482, 0.0, 0.0, 0.0, 0.0, 0.297, 0.0, 0.39, 0.0, 0.33, 0.458, 0.0, 0.477, 0.0, 0.264, 0.422, 0.0, 0.0, 0.0, 0.309, 0.426, 0.417, 0.0, 0.0, 0.504, 0.616, 0.0, 0.678, 0.0], \"zmax\": 0.695, \"zmin\": 0}],\n",
       "                        {\"geo\": {\"scope\": \"usa\"}, \"template\": {\"data\": {\"bar\": [{\"error_x\": {\"color\": \"#2a3f5f\"}, \"error_y\": {\"color\": \"#2a3f5f\"}, \"marker\": {\"line\": {\"color\": \"#E5ECF6\", \"width\": 0.5}}, \"type\": \"bar\"}], \"barpolar\": [{\"marker\": {\"line\": {\"color\": \"#E5ECF6\", \"width\": 0.5}}, \"type\": \"barpolar\"}], \"carpet\": [{\"aaxis\": {\"endlinecolor\": \"#2a3f5f\", \"gridcolor\": \"white\", \"linecolor\": \"white\", \"minorgridcolor\": \"white\", \"startlinecolor\": \"#2a3f5f\"}, \"baxis\": {\"endlinecolor\": \"#2a3f5f\", \"gridcolor\": \"white\", \"linecolor\": \"white\", \"minorgridcolor\": \"white\", \"startlinecolor\": \"#2a3f5f\"}, \"type\": \"carpet\"}], \"choropleth\": [{\"colorbar\": {\"outlinewidth\": 0, \"ticks\": \"\"}, \"type\": \"choropleth\"}], \"contour\": [{\"colorbar\": {\"outlinewidth\": 0, \"ticks\": \"\"}, \"colorscale\": [[0.0, \"#0d0887\"], [0.1111111111111111, \"#46039f\"], [0.2222222222222222, \"#7201a8\"], [0.3333333333333333, \"#9c179e\"], [0.4444444444444444, \"#bd3786\"], [0.5555555555555556, \"#d8576b\"], [0.6666666666666666, \"#ed7953\"], [0.7777777777777778, \"#fb9f3a\"], [0.8888888888888888, \"#fdca26\"], [1.0, \"#f0f921\"]], \"type\": \"contour\"}], \"contourcarpet\": [{\"colorbar\": {\"outlinewidth\": 0, \"ticks\": \"\"}, \"type\": \"contourcarpet\"}], \"heatmap\": [{\"colorbar\": {\"outlinewidth\": 0, \"ticks\": \"\"}, \"colorscale\": [[0.0, \"#0d0887\"], [0.1111111111111111, \"#46039f\"], [0.2222222222222222, \"#7201a8\"], [0.3333333333333333, \"#9c179e\"], [0.4444444444444444, \"#bd3786\"], [0.5555555555555556, \"#d8576b\"], [0.6666666666666666, \"#ed7953\"], [0.7777777777777778, \"#fb9f3a\"], [0.8888888888888888, \"#fdca26\"], [1.0, \"#f0f921\"]], \"type\": \"heatmap\"}], \"heatmapgl\": [{\"colorbar\": {\"outlinewidth\": 0, \"ticks\": \"\"}, \"colorscale\": [[0.0, \"#0d0887\"], [0.1111111111111111, \"#46039f\"], [0.2222222222222222, \"#7201a8\"], [0.3333333333333333, \"#9c179e\"], [0.4444444444444444, \"#bd3786\"], [0.5555555555555556, \"#d8576b\"], [0.6666666666666666, \"#ed7953\"], [0.7777777777777778, \"#fb9f3a\"], [0.8888888888888888, \"#fdca26\"], [1.0, \"#f0f921\"]], \"type\": \"heatmapgl\"}], \"histogram\": [{\"marker\": {\"colorbar\": {\"outlinewidth\": 0, \"ticks\": \"\"}}, \"type\": \"histogram\"}], \"histogram2d\": [{\"colorbar\": {\"outlinewidth\": 0, \"ticks\": \"\"}, \"colorscale\": [[0.0, \"#0d0887\"], [0.1111111111111111, \"#46039f\"], [0.2222222222222222, \"#7201a8\"], [0.3333333333333333, \"#9c179e\"], [0.4444444444444444, \"#bd3786\"], [0.5555555555555556, \"#d8576b\"], [0.6666666666666666, \"#ed7953\"], [0.7777777777777778, \"#fb9f3a\"], [0.8888888888888888, \"#fdca26\"], [1.0, \"#f0f921\"]], \"type\": \"histogram2d\"}], \"histogram2dcontour\": [{\"colorbar\": {\"outlinewidth\": 0, \"ticks\": \"\"}, \"colorscale\": [[0.0, \"#0d0887\"], [0.1111111111111111, \"#46039f\"], [0.2222222222222222, \"#7201a8\"], [0.3333333333333333, \"#9c179e\"], [0.4444444444444444, \"#bd3786\"], [0.5555555555555556, \"#d8576b\"], [0.6666666666666666, \"#ed7953\"], [0.7777777777777778, \"#fb9f3a\"], [0.8888888888888888, \"#fdca26\"], [1.0, \"#f0f921\"]], \"type\": \"histogram2dcontour\"}], \"mesh3d\": [{\"colorbar\": {\"outlinewidth\": 0, \"ticks\": \"\"}, \"type\": \"mesh3d\"}], \"parcoords\": [{\"line\": {\"colorbar\": {\"outlinewidth\": 0, \"ticks\": \"\"}}, \"type\": \"parcoords\"}], \"pie\": [{\"automargin\": true, \"type\": \"pie\"}], \"scatter\": [{\"marker\": {\"colorbar\": {\"outlinewidth\": 0, \"ticks\": \"\"}}, \"type\": \"scatter\"}], \"scatter3d\": [{\"line\": {\"colorbar\": {\"outlinewidth\": 0, \"ticks\": \"\"}}, \"marker\": {\"colorbar\": {\"outlinewidth\": 0, \"ticks\": \"\"}}, \"type\": \"scatter3d\"}], \"scattercarpet\": [{\"marker\": {\"colorbar\": {\"outlinewidth\": 0, \"ticks\": \"\"}}, \"type\": \"scattercarpet\"}], \"scattergeo\": [{\"marker\": {\"colorbar\": {\"outlinewidth\": 0, \"ticks\": \"\"}}, \"type\": \"scattergeo\"}], \"scattergl\": [{\"marker\": {\"colorbar\": {\"outlinewidth\": 0, \"ticks\": \"\"}}, \"type\": \"scattergl\"}], \"scattermapbox\": [{\"marker\": {\"colorbar\": {\"outlinewidth\": 0, \"ticks\": \"\"}}, \"type\": \"scattermapbox\"}], \"scatterpolar\": [{\"marker\": {\"colorbar\": {\"outlinewidth\": 0, \"ticks\": \"\"}}, \"type\": \"scatterpolar\"}], \"scatterpolargl\": [{\"marker\": {\"colorbar\": {\"outlinewidth\": 0, \"ticks\": \"\"}}, \"type\": \"scatterpolargl\"}], \"scatterternary\": [{\"marker\": {\"colorbar\": {\"outlinewidth\": 0, \"ticks\": \"\"}}, \"type\": \"scatterternary\"}], \"surface\": [{\"colorbar\": {\"outlinewidth\": 0, \"ticks\": \"\"}, \"colorscale\": [[0.0, \"#0d0887\"], [0.1111111111111111, \"#46039f\"], [0.2222222222222222, \"#7201a8\"], [0.3333333333333333, \"#9c179e\"], [0.4444444444444444, \"#bd3786\"], [0.5555555555555556, \"#d8576b\"], [0.6666666666666666, \"#ed7953\"], [0.7777777777777778, \"#fb9f3a\"], [0.8888888888888888, \"#fdca26\"], [1.0, \"#f0f921\"]], \"type\": \"surface\"}], \"table\": [{\"cells\": {\"fill\": {\"color\": \"#EBF0F8\"}, \"line\": {\"color\": \"white\"}}, \"header\": {\"fill\": {\"color\": \"#C8D4E3\"}, \"line\": {\"color\": \"white\"}}, \"type\": \"table\"}]}, \"layout\": {\"annotationdefaults\": {\"arrowcolor\": \"#2a3f5f\", \"arrowhead\": 0, \"arrowwidth\": 1}, \"coloraxis\": {\"colorbar\": {\"outlinewidth\": 0, \"ticks\": \"\"}}, \"colorscale\": {\"diverging\": [[0, \"#8e0152\"], [0.1, \"#c51b7d\"], [0.2, \"#de77ae\"], [0.3, \"#f1b6da\"], [0.4, \"#fde0ef\"], [0.5, \"#f7f7f7\"], [0.6, \"#e6f5d0\"], [0.7, \"#b8e186\"], [0.8, \"#7fbc41\"], [0.9, \"#4d9221\"], [1, \"#276419\"]], \"sequential\": [[0.0, \"#0d0887\"], [0.1111111111111111, \"#46039f\"], [0.2222222222222222, \"#7201a8\"], [0.3333333333333333, \"#9c179e\"], [0.4444444444444444, \"#bd3786\"], [0.5555555555555556, \"#d8576b\"], [0.6666666666666666, \"#ed7953\"], [0.7777777777777778, \"#fb9f3a\"], [0.8888888888888888, \"#fdca26\"], [1.0, \"#f0f921\"]], \"sequentialminus\": [[0.0, \"#0d0887\"], [0.1111111111111111, \"#46039f\"], [0.2222222222222222, \"#7201a8\"], [0.3333333333333333, \"#9c179e\"], [0.4444444444444444, \"#bd3786\"], [0.5555555555555556, \"#d8576b\"], [0.6666666666666666, \"#ed7953\"], [0.7777777777777778, \"#fb9f3a\"], [0.8888888888888888, \"#fdca26\"], [1.0, \"#f0f921\"]]}, \"colorway\": [\"#636efa\", \"#EF553B\", \"#00cc96\", \"#ab63fa\", \"#FFA15A\", \"#19d3f3\", \"#FF6692\", \"#B6E880\", \"#FF97FF\", \"#FECB52\"], \"font\": {\"color\": \"#2a3f5f\"}, \"geo\": {\"bgcolor\": \"white\", \"lakecolor\": \"white\", \"landcolor\": \"#E5ECF6\", \"showlakes\": true, \"showland\": true, \"subunitcolor\": \"white\"}, \"hoverlabel\": {\"align\": \"left\"}, \"hovermode\": \"closest\", \"mapbox\": {\"style\": \"light\"}, \"paper_bgcolor\": \"white\", \"plot_bgcolor\": \"#E5ECF6\", \"polar\": {\"angularaxis\": {\"gridcolor\": \"white\", \"linecolor\": \"white\", \"ticks\": \"\"}, \"bgcolor\": \"#E5ECF6\", \"radialaxis\": {\"gridcolor\": \"white\", \"linecolor\": \"white\", \"ticks\": \"\"}}, \"scene\": {\"xaxis\": {\"backgroundcolor\": \"#E5ECF6\", \"gridcolor\": \"white\", \"gridwidth\": 2, \"linecolor\": \"white\", \"showbackground\": true, \"ticks\": \"\", \"zerolinecolor\": \"white\"}, \"yaxis\": {\"backgroundcolor\": \"#E5ECF6\", \"gridcolor\": \"white\", \"gridwidth\": 2, \"linecolor\": \"white\", \"showbackground\": true, \"ticks\": \"\", \"zerolinecolor\": \"white\"}, \"zaxis\": {\"backgroundcolor\": \"#E5ECF6\", \"gridcolor\": \"white\", \"gridwidth\": 2, \"linecolor\": \"white\", \"showbackground\": true, \"ticks\": \"\", \"zerolinecolor\": \"white\"}}, \"shapedefaults\": {\"line\": {\"color\": \"#2a3f5f\"}}, \"ternary\": {\"aaxis\": {\"gridcolor\": \"white\", \"linecolor\": \"white\", \"ticks\": \"\"}, \"baxis\": {\"gridcolor\": \"white\", \"linecolor\": \"white\", \"ticks\": \"\"}, \"bgcolor\": \"#E5ECF6\", \"caxis\": {\"gridcolor\": \"white\", \"linecolor\": \"white\", \"ticks\": \"\"}}, \"title\": {\"x\": 0.05}, \"xaxis\": {\"automargin\": true, \"gridcolor\": \"white\", \"linecolor\": \"white\", \"ticks\": \"\", \"title\": {\"standoff\": 15}, \"zerolinecolor\": \"white\", \"zerolinewidth\": 2}, \"yaxis\": {\"automargin\": true, \"gridcolor\": \"white\", \"linecolor\": \"white\", \"ticks\": \"\", \"title\": {\"standoff\": 15}, \"zerolinecolor\": \"white\", \"zerolinewidth\": 2}}}, \"title\": {\"text\": \"Proportion of Asian Voters by State\"}},\n",
       "                        {\"responsive\": true}\n",
       "                    ).then(function(){\n",
       "                            \n",
       "var gd = document.getElementById('e66613a1-00f4-4393-ba6b-da294ad55f88');\n",
       "var x = new MutationObserver(function (mutations, observer) {{\n",
       "        var display = window.getComputedStyle(gd).display;\n",
       "        if (!display || display === 'none') {{\n",
       "            console.log([gd, 'removed!']);\n",
       "            Plotly.purge(gd);\n",
       "            observer.disconnect();\n",
       "        }}\n",
       "}});\n",
       "\n",
       "// Listen for the removal of the full notebook cells\n",
       "var notebookContainer = gd.closest('#notebook-container');\n",
       "if (notebookContainer) {{\n",
       "    x.observe(notebookContainer, {childList: true});\n",
       "}}\n",
       "\n",
       "// Listen for the clearing of the current output cell\n",
       "var outputEl = gd.closest('.output');\n",
       "if (outputEl) {{\n",
       "    x.observe(outputEl, {childList: true});\n",
       "}}\n",
       "\n",
       "                        })\n",
       "                };\n",
       "                });\n",
       "            </script>\n",
       "        </div>"
      ]
     },
     "metadata": {},
     "output_type": "display_data"
    }
   ],
   "source": [
    "df = pd.read_csv('https://raw.githubusercontent.com/plotly/datasets/master/2011_us_ag_exports.csv')\n",
    "\n",
    "fig = go.Figure(data=go.Choropleth(\n",
    "    locations = df['code'], # Spatial coordinates\n",
    "    z = demo['Asian'].astype(float), # Data to be color-coded\n",
    "    locationmode = 'USA-states', # set of locations match entries in `locations`\n",
    "    colorscale = 'Reds',\n",
    "    colorbar_title = \"Proportion\",\n",
    "    zmax = max(demo['White, Non-Hispanic']),\n",
    "    zmin = 0\n",
    "))\n",
    "\n",
    "fig.update_layout(\n",
    "    title_text = 'Proportion of Asian Voters by State',\n",
    "    geo_scope='usa',\n",
    ")\n",
    "\n",
    "fig.show()"
   ]
  },
  {
   "cell_type": "markdown",
   "metadata": {},
   "source": [
    "#### Black demographic visualization"
   ]
  },
  {
   "cell_type": "code",
   "execution_count": null,
   "metadata": {},
   "outputs": [],
   "source": []
  },
  {
   "cell_type": "code",
   "execution_count": 1460,
   "metadata": {},
   "outputs": [
    {
     "data": {
      "application/vnd.plotly.v1+json": {
       "config": {
        "plotlyServerURL": "https://plot.ly"
       },
       "data": [
        {
         "colorbar": {
          "title": {
           "text": "Proportion"
          }
         },
         "colorscale": [
          [
           0,
           "rgb(255,245,240)"
          ],
          [
           0.125,
           "rgb(254,224,210)"
          ],
          [
           0.25,
           "rgb(252,187,161)"
          ],
          [
           0.375,
           "rgb(252,146,114)"
          ],
          [
           0.5,
           "rgb(251,106,74)"
          ],
          [
           0.625,
           "rgb(239,59,44)"
          ],
          [
           0.75,
           "rgb(203,24,29)"
          ],
          [
           0.875,
           "rgb(165,15,21)"
          ],
          [
           1,
           "rgb(103,0,13)"
          ]
         ],
         "locationmode": "USA-states",
         "locations": [
          "AL",
          "AK",
          "AZ",
          "AR",
          "CA",
          "CO",
          "CT",
          "DE",
          "FL",
          "GA",
          "HI",
          "ID",
          "IL",
          "IN",
          "IA",
          "KS",
          "KY",
          "LA",
          "ME",
          "MD",
          "MA",
          "MI",
          "MN",
          "MS",
          "MO",
          "MT",
          "NE",
          "NV",
          "NH",
          "NJ",
          "NM",
          "NY",
          "NC",
          "ND",
          "OH",
          "OK",
          "OR",
          "PA",
          "RI",
          "SC",
          "SD",
          "TN",
          "TX",
          "UT",
          "VT",
          "VA",
          "WA",
          "WV",
          "WI",
          "WY"
         ],
         "type": "choropleth",
         "z": [
          0.496,
          0,
          0.509,
          0.416,
          0.499,
          0.31,
          0.483,
          0.552,
          0.545,
          0.474,
          0.585,
          0,
          0,
          0.56,
          0.472,
          0.513,
          0.454,
          0.555,
          0.491,
          0,
          0.484,
          0.437,
          0.545,
          0.582,
          0.598,
          0.472,
          0,
          0,
          0.371,
          0,
          0.523,
          0,
          0.512,
          0.514,
          0,
          0.486,
          0.359,
          0.577,
          0.529,
          0,
          0.52,
          0,
          0.45,
          0.476,
          0.506,
          0,
          0,
          0.558,
          0.457,
          0,
          0.461,
          0
         ],
         "zmax": 0.695,
         "zmin": 0
        }
       ],
       "layout": {
        "geo": {
         "scope": "usa"
        },
        "template": {
         "data": {
          "bar": [
           {
            "error_x": {
             "color": "#2a3f5f"
            },
            "error_y": {
             "color": "#2a3f5f"
            },
            "marker": {
             "line": {
              "color": "#E5ECF6",
              "width": 0.5
             }
            },
            "type": "bar"
           }
          ],
          "barpolar": [
           {
            "marker": {
             "line": {
              "color": "#E5ECF6",
              "width": 0.5
             }
            },
            "type": "barpolar"
           }
          ],
          "carpet": [
           {
            "aaxis": {
             "endlinecolor": "#2a3f5f",
             "gridcolor": "white",
             "linecolor": "white",
             "minorgridcolor": "white",
             "startlinecolor": "#2a3f5f"
            },
            "baxis": {
             "endlinecolor": "#2a3f5f",
             "gridcolor": "white",
             "linecolor": "white",
             "minorgridcolor": "white",
             "startlinecolor": "#2a3f5f"
            },
            "type": "carpet"
           }
          ],
          "choropleth": [
           {
            "colorbar": {
             "outlinewidth": 0,
             "ticks": ""
            },
            "type": "choropleth"
           }
          ],
          "contour": [
           {
            "colorbar": {
             "outlinewidth": 0,
             "ticks": ""
            },
            "colorscale": [
             [
              0,
              "#0d0887"
             ],
             [
              0.1111111111111111,
              "#46039f"
             ],
             [
              0.2222222222222222,
              "#7201a8"
             ],
             [
              0.3333333333333333,
              "#9c179e"
             ],
             [
              0.4444444444444444,
              "#bd3786"
             ],
             [
              0.5555555555555556,
              "#d8576b"
             ],
             [
              0.6666666666666666,
              "#ed7953"
             ],
             [
              0.7777777777777778,
              "#fb9f3a"
             ],
             [
              0.8888888888888888,
              "#fdca26"
             ],
             [
              1,
              "#f0f921"
             ]
            ],
            "type": "contour"
           }
          ],
          "contourcarpet": [
           {
            "colorbar": {
             "outlinewidth": 0,
             "ticks": ""
            },
            "type": "contourcarpet"
           }
          ],
          "heatmap": [
           {
            "colorbar": {
             "outlinewidth": 0,
             "ticks": ""
            },
            "colorscale": [
             [
              0,
              "#0d0887"
             ],
             [
              0.1111111111111111,
              "#46039f"
             ],
             [
              0.2222222222222222,
              "#7201a8"
             ],
             [
              0.3333333333333333,
              "#9c179e"
             ],
             [
              0.4444444444444444,
              "#bd3786"
             ],
             [
              0.5555555555555556,
              "#d8576b"
             ],
             [
              0.6666666666666666,
              "#ed7953"
             ],
             [
              0.7777777777777778,
              "#fb9f3a"
             ],
             [
              0.8888888888888888,
              "#fdca26"
             ],
             [
              1,
              "#f0f921"
             ]
            ],
            "type": "heatmap"
           }
          ],
          "heatmapgl": [
           {
            "colorbar": {
             "outlinewidth": 0,
             "ticks": ""
            },
            "colorscale": [
             [
              0,
              "#0d0887"
             ],
             [
              0.1111111111111111,
              "#46039f"
             ],
             [
              0.2222222222222222,
              "#7201a8"
             ],
             [
              0.3333333333333333,
              "#9c179e"
             ],
             [
              0.4444444444444444,
              "#bd3786"
             ],
             [
              0.5555555555555556,
              "#d8576b"
             ],
             [
              0.6666666666666666,
              "#ed7953"
             ],
             [
              0.7777777777777778,
              "#fb9f3a"
             ],
             [
              0.8888888888888888,
              "#fdca26"
             ],
             [
              1,
              "#f0f921"
             ]
            ],
            "type": "heatmapgl"
           }
          ],
          "histogram": [
           {
            "marker": {
             "colorbar": {
              "outlinewidth": 0,
              "ticks": ""
             }
            },
            "type": "histogram"
           }
          ],
          "histogram2d": [
           {
            "colorbar": {
             "outlinewidth": 0,
             "ticks": ""
            },
            "colorscale": [
             [
              0,
              "#0d0887"
             ],
             [
              0.1111111111111111,
              "#46039f"
             ],
             [
              0.2222222222222222,
              "#7201a8"
             ],
             [
              0.3333333333333333,
              "#9c179e"
             ],
             [
              0.4444444444444444,
              "#bd3786"
             ],
             [
              0.5555555555555556,
              "#d8576b"
             ],
             [
              0.6666666666666666,
              "#ed7953"
             ],
             [
              0.7777777777777778,
              "#fb9f3a"
             ],
             [
              0.8888888888888888,
              "#fdca26"
             ],
             [
              1,
              "#f0f921"
             ]
            ],
            "type": "histogram2d"
           }
          ],
          "histogram2dcontour": [
           {
            "colorbar": {
             "outlinewidth": 0,
             "ticks": ""
            },
            "colorscale": [
             [
              0,
              "#0d0887"
             ],
             [
              0.1111111111111111,
              "#46039f"
             ],
             [
              0.2222222222222222,
              "#7201a8"
             ],
             [
              0.3333333333333333,
              "#9c179e"
             ],
             [
              0.4444444444444444,
              "#bd3786"
             ],
             [
              0.5555555555555556,
              "#d8576b"
             ],
             [
              0.6666666666666666,
              "#ed7953"
             ],
             [
              0.7777777777777778,
              "#fb9f3a"
             ],
             [
              0.8888888888888888,
              "#fdca26"
             ],
             [
              1,
              "#f0f921"
             ]
            ],
            "type": "histogram2dcontour"
           }
          ],
          "mesh3d": [
           {
            "colorbar": {
             "outlinewidth": 0,
             "ticks": ""
            },
            "type": "mesh3d"
           }
          ],
          "parcoords": [
           {
            "line": {
             "colorbar": {
              "outlinewidth": 0,
              "ticks": ""
             }
            },
            "type": "parcoords"
           }
          ],
          "pie": [
           {
            "automargin": true,
            "type": "pie"
           }
          ],
          "scatter": [
           {
            "marker": {
             "colorbar": {
              "outlinewidth": 0,
              "ticks": ""
             }
            },
            "type": "scatter"
           }
          ],
          "scatter3d": [
           {
            "line": {
             "colorbar": {
              "outlinewidth": 0,
              "ticks": ""
             }
            },
            "marker": {
             "colorbar": {
              "outlinewidth": 0,
              "ticks": ""
             }
            },
            "type": "scatter3d"
           }
          ],
          "scattercarpet": [
           {
            "marker": {
             "colorbar": {
              "outlinewidth": 0,
              "ticks": ""
             }
            },
            "type": "scattercarpet"
           }
          ],
          "scattergeo": [
           {
            "marker": {
             "colorbar": {
              "outlinewidth": 0,
              "ticks": ""
             }
            },
            "type": "scattergeo"
           }
          ],
          "scattergl": [
           {
            "marker": {
             "colorbar": {
              "outlinewidth": 0,
              "ticks": ""
             }
            },
            "type": "scattergl"
           }
          ],
          "scattermapbox": [
           {
            "marker": {
             "colorbar": {
              "outlinewidth": 0,
              "ticks": ""
             }
            },
            "type": "scattermapbox"
           }
          ],
          "scatterpolar": [
           {
            "marker": {
             "colorbar": {
              "outlinewidth": 0,
              "ticks": ""
             }
            },
            "type": "scatterpolar"
           }
          ],
          "scatterpolargl": [
           {
            "marker": {
             "colorbar": {
              "outlinewidth": 0,
              "ticks": ""
             }
            },
            "type": "scatterpolargl"
           }
          ],
          "scatterternary": [
           {
            "marker": {
             "colorbar": {
              "outlinewidth": 0,
              "ticks": ""
             }
            },
            "type": "scatterternary"
           }
          ],
          "surface": [
           {
            "colorbar": {
             "outlinewidth": 0,
             "ticks": ""
            },
            "colorscale": [
             [
              0,
              "#0d0887"
             ],
             [
              0.1111111111111111,
              "#46039f"
             ],
             [
              0.2222222222222222,
              "#7201a8"
             ],
             [
              0.3333333333333333,
              "#9c179e"
             ],
             [
              0.4444444444444444,
              "#bd3786"
             ],
             [
              0.5555555555555556,
              "#d8576b"
             ],
             [
              0.6666666666666666,
              "#ed7953"
             ],
             [
              0.7777777777777778,
              "#fb9f3a"
             ],
             [
              0.8888888888888888,
              "#fdca26"
             ],
             [
              1,
              "#f0f921"
             ]
            ],
            "type": "surface"
           }
          ],
          "table": [
           {
            "cells": {
             "fill": {
              "color": "#EBF0F8"
             },
             "line": {
              "color": "white"
             }
            },
            "header": {
             "fill": {
              "color": "#C8D4E3"
             },
             "line": {
              "color": "white"
             }
            },
            "type": "table"
           }
          ]
         },
         "layout": {
          "annotationdefaults": {
           "arrowcolor": "#2a3f5f",
           "arrowhead": 0,
           "arrowwidth": 1
          },
          "coloraxis": {
           "colorbar": {
            "outlinewidth": 0,
            "ticks": ""
           }
          },
          "colorscale": {
           "diverging": [
            [
             0,
             "#8e0152"
            ],
            [
             0.1,
             "#c51b7d"
            ],
            [
             0.2,
             "#de77ae"
            ],
            [
             0.3,
             "#f1b6da"
            ],
            [
             0.4,
             "#fde0ef"
            ],
            [
             0.5,
             "#f7f7f7"
            ],
            [
             0.6,
             "#e6f5d0"
            ],
            [
             0.7,
             "#b8e186"
            ],
            [
             0.8,
             "#7fbc41"
            ],
            [
             0.9,
             "#4d9221"
            ],
            [
             1,
             "#276419"
            ]
           ],
           "sequential": [
            [
             0,
             "#0d0887"
            ],
            [
             0.1111111111111111,
             "#46039f"
            ],
            [
             0.2222222222222222,
             "#7201a8"
            ],
            [
             0.3333333333333333,
             "#9c179e"
            ],
            [
             0.4444444444444444,
             "#bd3786"
            ],
            [
             0.5555555555555556,
             "#d8576b"
            ],
            [
             0.6666666666666666,
             "#ed7953"
            ],
            [
             0.7777777777777778,
             "#fb9f3a"
            ],
            [
             0.8888888888888888,
             "#fdca26"
            ],
            [
             1,
             "#f0f921"
            ]
           ],
           "sequentialminus": [
            [
             0,
             "#0d0887"
            ],
            [
             0.1111111111111111,
             "#46039f"
            ],
            [
             0.2222222222222222,
             "#7201a8"
            ],
            [
             0.3333333333333333,
             "#9c179e"
            ],
            [
             0.4444444444444444,
             "#bd3786"
            ],
            [
             0.5555555555555556,
             "#d8576b"
            ],
            [
             0.6666666666666666,
             "#ed7953"
            ],
            [
             0.7777777777777778,
             "#fb9f3a"
            ],
            [
             0.8888888888888888,
             "#fdca26"
            ],
            [
             1,
             "#f0f921"
            ]
           ]
          },
          "colorway": [
           "#636efa",
           "#EF553B",
           "#00cc96",
           "#ab63fa",
           "#FFA15A",
           "#19d3f3",
           "#FF6692",
           "#B6E880",
           "#FF97FF",
           "#FECB52"
          ],
          "font": {
           "color": "#2a3f5f"
          },
          "geo": {
           "bgcolor": "white",
           "lakecolor": "white",
           "landcolor": "#E5ECF6",
           "showlakes": true,
           "showland": true,
           "subunitcolor": "white"
          },
          "hoverlabel": {
           "align": "left"
          },
          "hovermode": "closest",
          "mapbox": {
           "style": "light"
          },
          "paper_bgcolor": "white",
          "plot_bgcolor": "#E5ECF6",
          "polar": {
           "angularaxis": {
            "gridcolor": "white",
            "linecolor": "white",
            "ticks": ""
           },
           "bgcolor": "#E5ECF6",
           "radialaxis": {
            "gridcolor": "white",
            "linecolor": "white",
            "ticks": ""
           }
          },
          "scene": {
           "xaxis": {
            "backgroundcolor": "#E5ECF6",
            "gridcolor": "white",
            "gridwidth": 2,
            "linecolor": "white",
            "showbackground": true,
            "ticks": "",
            "zerolinecolor": "white"
           },
           "yaxis": {
            "backgroundcolor": "#E5ECF6",
            "gridcolor": "white",
            "gridwidth": 2,
            "linecolor": "white",
            "showbackground": true,
            "ticks": "",
            "zerolinecolor": "white"
           },
           "zaxis": {
            "backgroundcolor": "#E5ECF6",
            "gridcolor": "white",
            "gridwidth": 2,
            "linecolor": "white",
            "showbackground": true,
            "ticks": "",
            "zerolinecolor": "white"
           }
          },
          "shapedefaults": {
           "line": {
            "color": "#2a3f5f"
           }
          },
          "ternary": {
           "aaxis": {
            "gridcolor": "white",
            "linecolor": "white",
            "ticks": ""
           },
           "baxis": {
            "gridcolor": "white",
            "linecolor": "white",
            "ticks": ""
           },
           "bgcolor": "#E5ECF6",
           "caxis": {
            "gridcolor": "white",
            "linecolor": "white",
            "ticks": ""
           }
          },
          "title": {
           "x": 0.05
          },
          "xaxis": {
           "automargin": true,
           "gridcolor": "white",
           "linecolor": "white",
           "ticks": "",
           "title": {
            "standoff": 15
           },
           "zerolinecolor": "white",
           "zerolinewidth": 2
          },
          "yaxis": {
           "automargin": true,
           "gridcolor": "white",
           "linecolor": "white",
           "ticks": "",
           "title": {
            "standoff": 15
           },
           "zerolinecolor": "white",
           "zerolinewidth": 2
          }
         }
        },
        "title": {
         "text": "Proportion of Black Voters by State"
        }
       }
      },
      "text/html": [
       "<div>\n",
       "        \n",
       "        \n",
       "            <div id=\"a08d1baf-3f58-45be-86c5-8f981e620a54\" class=\"plotly-graph-div\" style=\"height:525px; width:100%;\"></div>\n",
       "            <script type=\"text/javascript\">\n",
       "                require([\"plotly\"], function(Plotly) {\n",
       "                    window.PLOTLYENV=window.PLOTLYENV || {};\n",
       "                    \n",
       "                if (document.getElementById(\"a08d1baf-3f58-45be-86c5-8f981e620a54\")) {\n",
       "                    Plotly.newPlot(\n",
       "                        'a08d1baf-3f58-45be-86c5-8f981e620a54',\n",
       "                        [{\"colorbar\": {\"title\": {\"text\": \"Proportion\"}}, \"colorscale\": [[0.0, \"rgb(255,245,240)\"], [0.125, \"rgb(254,224,210)\"], [0.25, \"rgb(252,187,161)\"], [0.375, \"rgb(252,146,114)\"], [0.5, \"rgb(251,106,74)\"], [0.625, \"rgb(239,59,44)\"], [0.75, \"rgb(203,24,29)\"], [0.875, \"rgb(165,15,21)\"], [1.0, \"rgb(103,0,13)\"]], \"locationmode\": \"USA-states\", \"locations\": [\"AL\", \"AK\", \"AZ\", \"AR\", \"CA\", \"CO\", \"CT\", \"DE\", \"FL\", \"GA\", \"HI\", \"ID\", \"IL\", \"IN\", \"IA\", \"KS\", \"KY\", \"LA\", \"ME\", \"MD\", \"MA\", \"MI\", \"MN\", \"MS\", \"MO\", \"MT\", \"NE\", \"NV\", \"NH\", \"NJ\", \"NM\", \"NY\", \"NC\", \"ND\", \"OH\", \"OK\", \"OR\", \"PA\", \"RI\", \"SC\", \"SD\", \"TN\", \"TX\", \"UT\", \"VT\", \"VA\", \"WA\", \"WV\", \"WI\", \"WY\"], \"type\": \"choropleth\", \"z\": [0.496, 0.0, 0.509, 0.416, 0.499, 0.31, 0.483, 0.552, 0.545, 0.474, 0.585, 0.0, 0.0, 0.56, 0.472, 0.513, 0.454, 0.555, 0.491, 0.0, 0.484, 0.437, 0.545, 0.582, 0.598, 0.472, 0.0, 0.0, 0.371, 0.0, 0.523, 0.0, 0.512, 0.514, 0.0, 0.486, 0.359, 0.577, 0.529, 0.0, 0.52, 0.0, 0.45, 0.476, 0.506, 0.0, 0.0, 0.558, 0.457, 0.0, 0.461, 0.0], \"zmax\": 0.695, \"zmin\": 0}],\n",
       "                        {\"geo\": {\"scope\": \"usa\"}, \"template\": {\"data\": {\"bar\": [{\"error_x\": {\"color\": \"#2a3f5f\"}, \"error_y\": {\"color\": \"#2a3f5f\"}, \"marker\": {\"line\": {\"color\": \"#E5ECF6\", \"width\": 0.5}}, \"type\": \"bar\"}], \"barpolar\": [{\"marker\": {\"line\": {\"color\": \"#E5ECF6\", \"width\": 0.5}}, \"type\": \"barpolar\"}], \"carpet\": [{\"aaxis\": {\"endlinecolor\": \"#2a3f5f\", \"gridcolor\": \"white\", \"linecolor\": \"white\", \"minorgridcolor\": \"white\", \"startlinecolor\": \"#2a3f5f\"}, \"baxis\": {\"endlinecolor\": \"#2a3f5f\", \"gridcolor\": \"white\", \"linecolor\": \"white\", \"minorgridcolor\": \"white\", \"startlinecolor\": \"#2a3f5f\"}, \"type\": \"carpet\"}], \"choropleth\": [{\"colorbar\": {\"outlinewidth\": 0, \"ticks\": \"\"}, \"type\": \"choropleth\"}], \"contour\": [{\"colorbar\": {\"outlinewidth\": 0, \"ticks\": \"\"}, \"colorscale\": [[0.0, \"#0d0887\"], [0.1111111111111111, \"#46039f\"], [0.2222222222222222, \"#7201a8\"], [0.3333333333333333, \"#9c179e\"], [0.4444444444444444, \"#bd3786\"], [0.5555555555555556, \"#d8576b\"], [0.6666666666666666, \"#ed7953\"], [0.7777777777777778, \"#fb9f3a\"], [0.8888888888888888, \"#fdca26\"], [1.0, \"#f0f921\"]], \"type\": \"contour\"}], \"contourcarpet\": [{\"colorbar\": {\"outlinewidth\": 0, \"ticks\": \"\"}, \"type\": \"contourcarpet\"}], \"heatmap\": [{\"colorbar\": {\"outlinewidth\": 0, \"ticks\": \"\"}, \"colorscale\": [[0.0, \"#0d0887\"], [0.1111111111111111, \"#46039f\"], [0.2222222222222222, \"#7201a8\"], [0.3333333333333333, \"#9c179e\"], [0.4444444444444444, \"#bd3786\"], [0.5555555555555556, \"#d8576b\"], [0.6666666666666666, \"#ed7953\"], [0.7777777777777778, \"#fb9f3a\"], [0.8888888888888888, \"#fdca26\"], [1.0, \"#f0f921\"]], \"type\": \"heatmap\"}], \"heatmapgl\": [{\"colorbar\": {\"outlinewidth\": 0, \"ticks\": \"\"}, \"colorscale\": [[0.0, \"#0d0887\"], [0.1111111111111111, \"#46039f\"], [0.2222222222222222, \"#7201a8\"], [0.3333333333333333, \"#9c179e\"], [0.4444444444444444, \"#bd3786\"], [0.5555555555555556, \"#d8576b\"], [0.6666666666666666, \"#ed7953\"], [0.7777777777777778, \"#fb9f3a\"], [0.8888888888888888, \"#fdca26\"], [1.0, \"#f0f921\"]], \"type\": \"heatmapgl\"}], \"histogram\": [{\"marker\": {\"colorbar\": {\"outlinewidth\": 0, \"ticks\": \"\"}}, \"type\": \"histogram\"}], \"histogram2d\": [{\"colorbar\": {\"outlinewidth\": 0, \"ticks\": \"\"}, \"colorscale\": [[0.0, \"#0d0887\"], [0.1111111111111111, \"#46039f\"], [0.2222222222222222, \"#7201a8\"], [0.3333333333333333, \"#9c179e\"], [0.4444444444444444, \"#bd3786\"], [0.5555555555555556, \"#d8576b\"], [0.6666666666666666, \"#ed7953\"], [0.7777777777777778, \"#fb9f3a\"], [0.8888888888888888, \"#fdca26\"], [1.0, \"#f0f921\"]], \"type\": \"histogram2d\"}], \"histogram2dcontour\": [{\"colorbar\": {\"outlinewidth\": 0, \"ticks\": \"\"}, \"colorscale\": [[0.0, \"#0d0887\"], [0.1111111111111111, \"#46039f\"], [0.2222222222222222, \"#7201a8\"], [0.3333333333333333, \"#9c179e\"], [0.4444444444444444, \"#bd3786\"], [0.5555555555555556, \"#d8576b\"], [0.6666666666666666, \"#ed7953\"], [0.7777777777777778, \"#fb9f3a\"], [0.8888888888888888, \"#fdca26\"], [1.0, \"#f0f921\"]], \"type\": \"histogram2dcontour\"}], \"mesh3d\": [{\"colorbar\": {\"outlinewidth\": 0, \"ticks\": \"\"}, \"type\": \"mesh3d\"}], \"parcoords\": [{\"line\": {\"colorbar\": {\"outlinewidth\": 0, \"ticks\": \"\"}}, \"type\": \"parcoords\"}], \"pie\": [{\"automargin\": true, \"type\": \"pie\"}], \"scatter\": [{\"marker\": {\"colorbar\": {\"outlinewidth\": 0, \"ticks\": \"\"}}, \"type\": \"scatter\"}], \"scatter3d\": [{\"line\": {\"colorbar\": {\"outlinewidth\": 0, \"ticks\": \"\"}}, \"marker\": {\"colorbar\": {\"outlinewidth\": 0, \"ticks\": \"\"}}, \"type\": \"scatter3d\"}], \"scattercarpet\": [{\"marker\": {\"colorbar\": {\"outlinewidth\": 0, \"ticks\": \"\"}}, \"type\": \"scattercarpet\"}], \"scattergeo\": [{\"marker\": {\"colorbar\": {\"outlinewidth\": 0, \"ticks\": \"\"}}, \"type\": \"scattergeo\"}], \"scattergl\": [{\"marker\": {\"colorbar\": {\"outlinewidth\": 0, \"ticks\": \"\"}}, \"type\": \"scattergl\"}], \"scattermapbox\": [{\"marker\": {\"colorbar\": {\"outlinewidth\": 0, \"ticks\": \"\"}}, \"type\": \"scattermapbox\"}], \"scatterpolar\": [{\"marker\": {\"colorbar\": {\"outlinewidth\": 0, \"ticks\": \"\"}}, \"type\": \"scatterpolar\"}], \"scatterpolargl\": [{\"marker\": {\"colorbar\": {\"outlinewidth\": 0, \"ticks\": \"\"}}, \"type\": \"scatterpolargl\"}], \"scatterternary\": [{\"marker\": {\"colorbar\": {\"outlinewidth\": 0, \"ticks\": \"\"}}, \"type\": \"scatterternary\"}], \"surface\": [{\"colorbar\": {\"outlinewidth\": 0, \"ticks\": \"\"}, \"colorscale\": [[0.0, \"#0d0887\"], [0.1111111111111111, \"#46039f\"], [0.2222222222222222, \"#7201a8\"], [0.3333333333333333, \"#9c179e\"], [0.4444444444444444, \"#bd3786\"], [0.5555555555555556, \"#d8576b\"], [0.6666666666666666, \"#ed7953\"], [0.7777777777777778, \"#fb9f3a\"], [0.8888888888888888, \"#fdca26\"], [1.0, \"#f0f921\"]], \"type\": \"surface\"}], \"table\": [{\"cells\": {\"fill\": {\"color\": \"#EBF0F8\"}, \"line\": {\"color\": \"white\"}}, \"header\": {\"fill\": {\"color\": \"#C8D4E3\"}, \"line\": {\"color\": \"white\"}}, \"type\": \"table\"}]}, \"layout\": {\"annotationdefaults\": {\"arrowcolor\": \"#2a3f5f\", \"arrowhead\": 0, \"arrowwidth\": 1}, \"coloraxis\": {\"colorbar\": {\"outlinewidth\": 0, \"ticks\": \"\"}}, \"colorscale\": {\"diverging\": [[0, \"#8e0152\"], [0.1, \"#c51b7d\"], [0.2, \"#de77ae\"], [0.3, \"#f1b6da\"], [0.4, \"#fde0ef\"], [0.5, \"#f7f7f7\"], [0.6, \"#e6f5d0\"], [0.7, \"#b8e186\"], [0.8, \"#7fbc41\"], [0.9, \"#4d9221\"], [1, \"#276419\"]], \"sequential\": [[0.0, \"#0d0887\"], [0.1111111111111111, \"#46039f\"], [0.2222222222222222, \"#7201a8\"], [0.3333333333333333, \"#9c179e\"], [0.4444444444444444, \"#bd3786\"], [0.5555555555555556, \"#d8576b\"], [0.6666666666666666, \"#ed7953\"], [0.7777777777777778, \"#fb9f3a\"], [0.8888888888888888, \"#fdca26\"], [1.0, \"#f0f921\"]], \"sequentialminus\": [[0.0, \"#0d0887\"], [0.1111111111111111, \"#46039f\"], [0.2222222222222222, \"#7201a8\"], [0.3333333333333333, \"#9c179e\"], [0.4444444444444444, \"#bd3786\"], [0.5555555555555556, \"#d8576b\"], [0.6666666666666666, \"#ed7953\"], [0.7777777777777778, \"#fb9f3a\"], [0.8888888888888888, \"#fdca26\"], [1.0, \"#f0f921\"]]}, \"colorway\": [\"#636efa\", \"#EF553B\", \"#00cc96\", \"#ab63fa\", \"#FFA15A\", \"#19d3f3\", \"#FF6692\", \"#B6E880\", \"#FF97FF\", \"#FECB52\"], \"font\": {\"color\": \"#2a3f5f\"}, \"geo\": {\"bgcolor\": \"white\", \"lakecolor\": \"white\", \"landcolor\": \"#E5ECF6\", \"showlakes\": true, \"showland\": true, \"subunitcolor\": \"white\"}, \"hoverlabel\": {\"align\": \"left\"}, \"hovermode\": \"closest\", \"mapbox\": {\"style\": \"light\"}, \"paper_bgcolor\": \"white\", \"plot_bgcolor\": \"#E5ECF6\", \"polar\": {\"angularaxis\": {\"gridcolor\": \"white\", \"linecolor\": \"white\", \"ticks\": \"\"}, \"bgcolor\": \"#E5ECF6\", \"radialaxis\": {\"gridcolor\": \"white\", \"linecolor\": \"white\", \"ticks\": \"\"}}, \"scene\": {\"xaxis\": {\"backgroundcolor\": \"#E5ECF6\", \"gridcolor\": \"white\", \"gridwidth\": 2, \"linecolor\": \"white\", \"showbackground\": true, \"ticks\": \"\", \"zerolinecolor\": \"white\"}, \"yaxis\": {\"backgroundcolor\": \"#E5ECF6\", \"gridcolor\": \"white\", \"gridwidth\": 2, \"linecolor\": \"white\", \"showbackground\": true, \"ticks\": \"\", \"zerolinecolor\": \"white\"}, \"zaxis\": {\"backgroundcolor\": \"#E5ECF6\", \"gridcolor\": \"white\", \"gridwidth\": 2, \"linecolor\": \"white\", \"showbackground\": true, \"ticks\": \"\", \"zerolinecolor\": \"white\"}}, \"shapedefaults\": {\"line\": {\"color\": \"#2a3f5f\"}}, \"ternary\": {\"aaxis\": {\"gridcolor\": \"white\", \"linecolor\": \"white\", \"ticks\": \"\"}, \"baxis\": {\"gridcolor\": \"white\", \"linecolor\": \"white\", \"ticks\": \"\"}, \"bgcolor\": \"#E5ECF6\", \"caxis\": {\"gridcolor\": \"white\", \"linecolor\": \"white\", \"ticks\": \"\"}}, \"title\": {\"x\": 0.05}, \"xaxis\": {\"automargin\": true, \"gridcolor\": \"white\", \"linecolor\": \"white\", \"ticks\": \"\", \"title\": {\"standoff\": 15}, \"zerolinecolor\": \"white\", \"zerolinewidth\": 2}, \"yaxis\": {\"automargin\": true, \"gridcolor\": \"white\", \"linecolor\": \"white\", \"ticks\": \"\", \"title\": {\"standoff\": 15}, \"zerolinecolor\": \"white\", \"zerolinewidth\": 2}}}, \"title\": {\"text\": \"Proportion of Black Voters by State\"}},\n",
       "                        {\"responsive\": true}\n",
       "                    ).then(function(){\n",
       "                            \n",
       "var gd = document.getElementById('a08d1baf-3f58-45be-86c5-8f981e620a54');\n",
       "var x = new MutationObserver(function (mutations, observer) {{\n",
       "        var display = window.getComputedStyle(gd).display;\n",
       "        if (!display || display === 'none') {{\n",
       "            console.log([gd, 'removed!']);\n",
       "            Plotly.purge(gd);\n",
       "            observer.disconnect();\n",
       "        }}\n",
       "}});\n",
       "\n",
       "// Listen for the removal of the full notebook cells\n",
       "var notebookContainer = gd.closest('#notebook-container');\n",
       "if (notebookContainer) {{\n",
       "    x.observe(notebookContainer, {childList: true});\n",
       "}}\n",
       "\n",
       "// Listen for the clearing of the current output cell\n",
       "var outputEl = gd.closest('.output');\n",
       "if (outputEl) {{\n",
       "    x.observe(outputEl, {childList: true});\n",
       "}}\n",
       "\n",
       "                        })\n",
       "                };\n",
       "                });\n",
       "            </script>\n",
       "        </div>"
      ]
     },
     "metadata": {},
     "output_type": "display_data"
    }
   ],
   "source": [
    "df = pd.read_csv('https://raw.githubusercontent.com/plotly/datasets/master/2011_us_ag_exports.csv')\n",
    "\n",
    "fig = go.Figure(data=go.Choropleth(\n",
    "    locations = df['code'], # Spatial coordinates\n",
    "    z = demo['Black'].astype(float), # Data to be color-coded\n",
    "    locationmode = 'USA-states', # set of locations match entries in `locations`\n",
    "    colorscale = 'Reds',\n",
    "    colorbar_title = \"Proportion\",\n",
    "    zmax = max(demo['White, Non-Hispanic']),\n",
    "    zmin = 0\n",
    "    \n",
    "))\n",
    "\n",
    "fig.update_layout(\n",
    "    title_text = 'Proportion of Black Voters by State',\n",
    "    geo_scope='usa',\n",
    ")\n",
    "\n",
    "fig.show()"
   ]
  },
  {
   "cell_type": "markdown",
   "metadata": {},
   "source": [
    "#### Hispanic visualization"
   ]
  },
  {
   "cell_type": "code",
   "execution_count": 1461,
   "metadata": {},
   "outputs": [
    {
     "data": {
      "application/vnd.plotly.v1+json": {
       "config": {
        "plotlyServerURL": "https://plot.ly"
       },
       "data": [
        {
         "colorbar": {
          "title": {
           "text": "Proportion"
          }
         },
         "colorscale": [
          [
           0,
           "rgb(255,245,240)"
          ],
          [
           0.125,
           "rgb(254,224,210)"
          ],
          [
           0.25,
           "rgb(252,187,161)"
          ],
          [
           0.375,
           "rgb(252,146,114)"
          ],
          [
           0.5,
           "rgb(251,106,74)"
          ],
          [
           0.625,
           "rgb(239,59,44)"
          ],
          [
           0.75,
           "rgb(203,24,29)"
          ],
          [
           0.875,
           "rgb(165,15,21)"
          ],
          [
           1,
           "rgb(103,0,13)"
          ]
         ],
         "locationmode": "USA-states",
         "locations": [
          "AL",
          "AK",
          "AZ",
          "AR",
          "CA",
          "CO",
          "CT",
          "DE",
          "FL",
          "GA",
          "HI",
          "ID",
          "IL",
          "IN",
          "IA",
          "KS",
          "KY",
          "LA",
          "ME",
          "MD",
          "MA",
          "MI",
          "MN",
          "MS",
          "MO",
          "MT",
          "NE",
          "NV",
          "NH",
          "NJ",
          "NM",
          "NY",
          "NC",
          "ND",
          "OH",
          "OK",
          "OR",
          "PA",
          "RI",
          "SC",
          "SD",
          "TN",
          "TX",
          "UT",
          "VT",
          "VA",
          "WA",
          "WV",
          "WI",
          "WY"
         ],
         "type": "choropleth",
         "z": [
          0.291,
          0,
          0.488,
          0.208,
          0.433,
          0.439,
          0.411,
          0,
          0,
          0.443,
          0.382,
          0.309,
          0.238,
          0.333,
          0.365,
          0.467,
          0.414,
          0,
          0.311,
          0,
          0.483,
          0.427,
          0.401,
          0,
          0,
          0.433,
          0,
          0.328,
          0.377,
          0,
          0.512,
          0.405,
          0.409,
          0.386,
          0,
          0.326,
          0.337,
          0.348,
          0.291,
          0.378,
          0.176,
          0,
          0.287,
          0.343,
          0.404,
          0.436,
          0,
          0.346,
          0.437,
          0,
          0.594,
          0
         ],
         "zmax": 0.695,
         "zmin": 0
        }
       ],
       "layout": {
        "geo": {
         "scope": "usa"
        },
        "template": {
         "data": {
          "bar": [
           {
            "error_x": {
             "color": "#2a3f5f"
            },
            "error_y": {
             "color": "#2a3f5f"
            },
            "marker": {
             "line": {
              "color": "#E5ECF6",
              "width": 0.5
             }
            },
            "type": "bar"
           }
          ],
          "barpolar": [
           {
            "marker": {
             "line": {
              "color": "#E5ECF6",
              "width": 0.5
             }
            },
            "type": "barpolar"
           }
          ],
          "carpet": [
           {
            "aaxis": {
             "endlinecolor": "#2a3f5f",
             "gridcolor": "white",
             "linecolor": "white",
             "minorgridcolor": "white",
             "startlinecolor": "#2a3f5f"
            },
            "baxis": {
             "endlinecolor": "#2a3f5f",
             "gridcolor": "white",
             "linecolor": "white",
             "minorgridcolor": "white",
             "startlinecolor": "#2a3f5f"
            },
            "type": "carpet"
           }
          ],
          "choropleth": [
           {
            "colorbar": {
             "outlinewidth": 0,
             "ticks": ""
            },
            "type": "choropleth"
           }
          ],
          "contour": [
           {
            "colorbar": {
             "outlinewidth": 0,
             "ticks": ""
            },
            "colorscale": [
             [
              0,
              "#0d0887"
             ],
             [
              0.1111111111111111,
              "#46039f"
             ],
             [
              0.2222222222222222,
              "#7201a8"
             ],
             [
              0.3333333333333333,
              "#9c179e"
             ],
             [
              0.4444444444444444,
              "#bd3786"
             ],
             [
              0.5555555555555556,
              "#d8576b"
             ],
             [
              0.6666666666666666,
              "#ed7953"
             ],
             [
              0.7777777777777778,
              "#fb9f3a"
             ],
             [
              0.8888888888888888,
              "#fdca26"
             ],
             [
              1,
              "#f0f921"
             ]
            ],
            "type": "contour"
           }
          ],
          "contourcarpet": [
           {
            "colorbar": {
             "outlinewidth": 0,
             "ticks": ""
            },
            "type": "contourcarpet"
           }
          ],
          "heatmap": [
           {
            "colorbar": {
             "outlinewidth": 0,
             "ticks": ""
            },
            "colorscale": [
             [
              0,
              "#0d0887"
             ],
             [
              0.1111111111111111,
              "#46039f"
             ],
             [
              0.2222222222222222,
              "#7201a8"
             ],
             [
              0.3333333333333333,
              "#9c179e"
             ],
             [
              0.4444444444444444,
              "#bd3786"
             ],
             [
              0.5555555555555556,
              "#d8576b"
             ],
             [
              0.6666666666666666,
              "#ed7953"
             ],
             [
              0.7777777777777778,
              "#fb9f3a"
             ],
             [
              0.8888888888888888,
              "#fdca26"
             ],
             [
              1,
              "#f0f921"
             ]
            ],
            "type": "heatmap"
           }
          ],
          "heatmapgl": [
           {
            "colorbar": {
             "outlinewidth": 0,
             "ticks": ""
            },
            "colorscale": [
             [
              0,
              "#0d0887"
             ],
             [
              0.1111111111111111,
              "#46039f"
             ],
             [
              0.2222222222222222,
              "#7201a8"
             ],
             [
              0.3333333333333333,
              "#9c179e"
             ],
             [
              0.4444444444444444,
              "#bd3786"
             ],
             [
              0.5555555555555556,
              "#d8576b"
             ],
             [
              0.6666666666666666,
              "#ed7953"
             ],
             [
              0.7777777777777778,
              "#fb9f3a"
             ],
             [
              0.8888888888888888,
              "#fdca26"
             ],
             [
              1,
              "#f0f921"
             ]
            ],
            "type": "heatmapgl"
           }
          ],
          "histogram": [
           {
            "marker": {
             "colorbar": {
              "outlinewidth": 0,
              "ticks": ""
             }
            },
            "type": "histogram"
           }
          ],
          "histogram2d": [
           {
            "colorbar": {
             "outlinewidth": 0,
             "ticks": ""
            },
            "colorscale": [
             [
              0,
              "#0d0887"
             ],
             [
              0.1111111111111111,
              "#46039f"
             ],
             [
              0.2222222222222222,
              "#7201a8"
             ],
             [
              0.3333333333333333,
              "#9c179e"
             ],
             [
              0.4444444444444444,
              "#bd3786"
             ],
             [
              0.5555555555555556,
              "#d8576b"
             ],
             [
              0.6666666666666666,
              "#ed7953"
             ],
             [
              0.7777777777777778,
              "#fb9f3a"
             ],
             [
              0.8888888888888888,
              "#fdca26"
             ],
             [
              1,
              "#f0f921"
             ]
            ],
            "type": "histogram2d"
           }
          ],
          "histogram2dcontour": [
           {
            "colorbar": {
             "outlinewidth": 0,
             "ticks": ""
            },
            "colorscale": [
             [
              0,
              "#0d0887"
             ],
             [
              0.1111111111111111,
              "#46039f"
             ],
             [
              0.2222222222222222,
              "#7201a8"
             ],
             [
              0.3333333333333333,
              "#9c179e"
             ],
             [
              0.4444444444444444,
              "#bd3786"
             ],
             [
              0.5555555555555556,
              "#d8576b"
             ],
             [
              0.6666666666666666,
              "#ed7953"
             ],
             [
              0.7777777777777778,
              "#fb9f3a"
             ],
             [
              0.8888888888888888,
              "#fdca26"
             ],
             [
              1,
              "#f0f921"
             ]
            ],
            "type": "histogram2dcontour"
           }
          ],
          "mesh3d": [
           {
            "colorbar": {
             "outlinewidth": 0,
             "ticks": ""
            },
            "type": "mesh3d"
           }
          ],
          "parcoords": [
           {
            "line": {
             "colorbar": {
              "outlinewidth": 0,
              "ticks": ""
             }
            },
            "type": "parcoords"
           }
          ],
          "pie": [
           {
            "automargin": true,
            "type": "pie"
           }
          ],
          "scatter": [
           {
            "marker": {
             "colorbar": {
              "outlinewidth": 0,
              "ticks": ""
             }
            },
            "type": "scatter"
           }
          ],
          "scatter3d": [
           {
            "line": {
             "colorbar": {
              "outlinewidth": 0,
              "ticks": ""
             }
            },
            "marker": {
             "colorbar": {
              "outlinewidth": 0,
              "ticks": ""
             }
            },
            "type": "scatter3d"
           }
          ],
          "scattercarpet": [
           {
            "marker": {
             "colorbar": {
              "outlinewidth": 0,
              "ticks": ""
             }
            },
            "type": "scattercarpet"
           }
          ],
          "scattergeo": [
           {
            "marker": {
             "colorbar": {
              "outlinewidth": 0,
              "ticks": ""
             }
            },
            "type": "scattergeo"
           }
          ],
          "scattergl": [
           {
            "marker": {
             "colorbar": {
              "outlinewidth": 0,
              "ticks": ""
             }
            },
            "type": "scattergl"
           }
          ],
          "scattermapbox": [
           {
            "marker": {
             "colorbar": {
              "outlinewidth": 0,
              "ticks": ""
             }
            },
            "type": "scattermapbox"
           }
          ],
          "scatterpolar": [
           {
            "marker": {
             "colorbar": {
              "outlinewidth": 0,
              "ticks": ""
             }
            },
            "type": "scatterpolar"
           }
          ],
          "scatterpolargl": [
           {
            "marker": {
             "colorbar": {
              "outlinewidth": 0,
              "ticks": ""
             }
            },
            "type": "scatterpolargl"
           }
          ],
          "scatterternary": [
           {
            "marker": {
             "colorbar": {
              "outlinewidth": 0,
              "ticks": ""
             }
            },
            "type": "scatterternary"
           }
          ],
          "surface": [
           {
            "colorbar": {
             "outlinewidth": 0,
             "ticks": ""
            },
            "colorscale": [
             [
              0,
              "#0d0887"
             ],
             [
              0.1111111111111111,
              "#46039f"
             ],
             [
              0.2222222222222222,
              "#7201a8"
             ],
             [
              0.3333333333333333,
              "#9c179e"
             ],
             [
              0.4444444444444444,
              "#bd3786"
             ],
             [
              0.5555555555555556,
              "#d8576b"
             ],
             [
              0.6666666666666666,
              "#ed7953"
             ],
             [
              0.7777777777777778,
              "#fb9f3a"
             ],
             [
              0.8888888888888888,
              "#fdca26"
             ],
             [
              1,
              "#f0f921"
             ]
            ],
            "type": "surface"
           }
          ],
          "table": [
           {
            "cells": {
             "fill": {
              "color": "#EBF0F8"
             },
             "line": {
              "color": "white"
             }
            },
            "header": {
             "fill": {
              "color": "#C8D4E3"
             },
             "line": {
              "color": "white"
             }
            },
            "type": "table"
           }
          ]
         },
         "layout": {
          "annotationdefaults": {
           "arrowcolor": "#2a3f5f",
           "arrowhead": 0,
           "arrowwidth": 1
          },
          "coloraxis": {
           "colorbar": {
            "outlinewidth": 0,
            "ticks": ""
           }
          },
          "colorscale": {
           "diverging": [
            [
             0,
             "#8e0152"
            ],
            [
             0.1,
             "#c51b7d"
            ],
            [
             0.2,
             "#de77ae"
            ],
            [
             0.3,
             "#f1b6da"
            ],
            [
             0.4,
             "#fde0ef"
            ],
            [
             0.5,
             "#f7f7f7"
            ],
            [
             0.6,
             "#e6f5d0"
            ],
            [
             0.7,
             "#b8e186"
            ],
            [
             0.8,
             "#7fbc41"
            ],
            [
             0.9,
             "#4d9221"
            ],
            [
             1,
             "#276419"
            ]
           ],
           "sequential": [
            [
             0,
             "#0d0887"
            ],
            [
             0.1111111111111111,
             "#46039f"
            ],
            [
             0.2222222222222222,
             "#7201a8"
            ],
            [
             0.3333333333333333,
             "#9c179e"
            ],
            [
             0.4444444444444444,
             "#bd3786"
            ],
            [
             0.5555555555555556,
             "#d8576b"
            ],
            [
             0.6666666666666666,
             "#ed7953"
            ],
            [
             0.7777777777777778,
             "#fb9f3a"
            ],
            [
             0.8888888888888888,
             "#fdca26"
            ],
            [
             1,
             "#f0f921"
            ]
           ],
           "sequentialminus": [
            [
             0,
             "#0d0887"
            ],
            [
             0.1111111111111111,
             "#46039f"
            ],
            [
             0.2222222222222222,
             "#7201a8"
            ],
            [
             0.3333333333333333,
             "#9c179e"
            ],
            [
             0.4444444444444444,
             "#bd3786"
            ],
            [
             0.5555555555555556,
             "#d8576b"
            ],
            [
             0.6666666666666666,
             "#ed7953"
            ],
            [
             0.7777777777777778,
             "#fb9f3a"
            ],
            [
             0.8888888888888888,
             "#fdca26"
            ],
            [
             1,
             "#f0f921"
            ]
           ]
          },
          "colorway": [
           "#636efa",
           "#EF553B",
           "#00cc96",
           "#ab63fa",
           "#FFA15A",
           "#19d3f3",
           "#FF6692",
           "#B6E880",
           "#FF97FF",
           "#FECB52"
          ],
          "font": {
           "color": "#2a3f5f"
          },
          "geo": {
           "bgcolor": "white",
           "lakecolor": "white",
           "landcolor": "#E5ECF6",
           "showlakes": true,
           "showland": true,
           "subunitcolor": "white"
          },
          "hoverlabel": {
           "align": "left"
          },
          "hovermode": "closest",
          "mapbox": {
           "style": "light"
          },
          "paper_bgcolor": "white",
          "plot_bgcolor": "#E5ECF6",
          "polar": {
           "angularaxis": {
            "gridcolor": "white",
            "linecolor": "white",
            "ticks": ""
           },
           "bgcolor": "#E5ECF6",
           "radialaxis": {
            "gridcolor": "white",
            "linecolor": "white",
            "ticks": ""
           }
          },
          "scene": {
           "xaxis": {
            "backgroundcolor": "#E5ECF6",
            "gridcolor": "white",
            "gridwidth": 2,
            "linecolor": "white",
            "showbackground": true,
            "ticks": "",
            "zerolinecolor": "white"
           },
           "yaxis": {
            "backgroundcolor": "#E5ECF6",
            "gridcolor": "white",
            "gridwidth": 2,
            "linecolor": "white",
            "showbackground": true,
            "ticks": "",
            "zerolinecolor": "white"
           },
           "zaxis": {
            "backgroundcolor": "#E5ECF6",
            "gridcolor": "white",
            "gridwidth": 2,
            "linecolor": "white",
            "showbackground": true,
            "ticks": "",
            "zerolinecolor": "white"
           }
          },
          "shapedefaults": {
           "line": {
            "color": "#2a3f5f"
           }
          },
          "ternary": {
           "aaxis": {
            "gridcolor": "white",
            "linecolor": "white",
            "ticks": ""
           },
           "baxis": {
            "gridcolor": "white",
            "linecolor": "white",
            "ticks": ""
           },
           "bgcolor": "#E5ECF6",
           "caxis": {
            "gridcolor": "white",
            "linecolor": "white",
            "ticks": ""
           }
          },
          "title": {
           "x": 0.05
          },
          "xaxis": {
           "automargin": true,
           "gridcolor": "white",
           "linecolor": "white",
           "ticks": "",
           "title": {
            "standoff": 15
           },
           "zerolinecolor": "white",
           "zerolinewidth": 2
          },
          "yaxis": {
           "automargin": true,
           "gridcolor": "white",
           "linecolor": "white",
           "ticks": "",
           "title": {
            "standoff": 15
           },
           "zerolinecolor": "white",
           "zerolinewidth": 2
          }
         }
        },
        "title": {
         "text": "Proportion of Hispanic Voters by State"
        }
       }
      },
      "text/html": [
       "<div>\n",
       "        \n",
       "        \n",
       "            <div id=\"b8f3b040-798f-4da4-9446-62ea08e7570e\" class=\"plotly-graph-div\" style=\"height:525px; width:100%;\"></div>\n",
       "            <script type=\"text/javascript\">\n",
       "                require([\"plotly\"], function(Plotly) {\n",
       "                    window.PLOTLYENV=window.PLOTLYENV || {};\n",
       "                    \n",
       "                if (document.getElementById(\"b8f3b040-798f-4da4-9446-62ea08e7570e\")) {\n",
       "                    Plotly.newPlot(\n",
       "                        'b8f3b040-798f-4da4-9446-62ea08e7570e',\n",
       "                        [{\"colorbar\": {\"title\": {\"text\": \"Proportion\"}}, \"colorscale\": [[0.0, \"rgb(255,245,240)\"], [0.125, \"rgb(254,224,210)\"], [0.25, \"rgb(252,187,161)\"], [0.375, \"rgb(252,146,114)\"], [0.5, \"rgb(251,106,74)\"], [0.625, \"rgb(239,59,44)\"], [0.75, \"rgb(203,24,29)\"], [0.875, \"rgb(165,15,21)\"], [1.0, \"rgb(103,0,13)\"]], \"locationmode\": \"USA-states\", \"locations\": [\"AL\", \"AK\", \"AZ\", \"AR\", \"CA\", \"CO\", \"CT\", \"DE\", \"FL\", \"GA\", \"HI\", \"ID\", \"IL\", \"IN\", \"IA\", \"KS\", \"KY\", \"LA\", \"ME\", \"MD\", \"MA\", \"MI\", \"MN\", \"MS\", \"MO\", \"MT\", \"NE\", \"NV\", \"NH\", \"NJ\", \"NM\", \"NY\", \"NC\", \"ND\", \"OH\", \"OK\", \"OR\", \"PA\", \"RI\", \"SC\", \"SD\", \"TN\", \"TX\", \"UT\", \"VT\", \"VA\", \"WA\", \"WV\", \"WI\", \"WY\"], \"type\": \"choropleth\", \"z\": [0.291, 0.0, 0.488, 0.208, 0.433, 0.439, 0.411, 0.0, 0.0, 0.443, 0.382, 0.309, 0.238, 0.333, 0.365, 0.467, 0.414, 0.0, 0.311, 0.0, 0.483, 0.427, 0.401, 0.0, 0.0, 0.433, 0.0, 0.328, 0.377, 0.0, 0.512, 0.405, 0.409, 0.386, 0.0, 0.326, 0.337, 0.348, 0.291, 0.378, 0.176, 0.0, 0.287, 0.343, 0.404, 0.436, 0.0, 0.346, 0.437, 0.0, 0.594, 0.0], \"zmax\": 0.695, \"zmin\": 0}],\n",
       "                        {\"geo\": {\"scope\": \"usa\"}, \"template\": {\"data\": {\"bar\": [{\"error_x\": {\"color\": \"#2a3f5f\"}, \"error_y\": {\"color\": \"#2a3f5f\"}, \"marker\": {\"line\": {\"color\": \"#E5ECF6\", \"width\": 0.5}}, \"type\": \"bar\"}], \"barpolar\": [{\"marker\": {\"line\": {\"color\": \"#E5ECF6\", \"width\": 0.5}}, \"type\": \"barpolar\"}], \"carpet\": [{\"aaxis\": {\"endlinecolor\": \"#2a3f5f\", \"gridcolor\": \"white\", \"linecolor\": \"white\", \"minorgridcolor\": \"white\", \"startlinecolor\": \"#2a3f5f\"}, \"baxis\": {\"endlinecolor\": \"#2a3f5f\", \"gridcolor\": \"white\", \"linecolor\": \"white\", \"minorgridcolor\": \"white\", \"startlinecolor\": \"#2a3f5f\"}, \"type\": \"carpet\"}], \"choropleth\": [{\"colorbar\": {\"outlinewidth\": 0, \"ticks\": \"\"}, \"type\": \"choropleth\"}], \"contour\": [{\"colorbar\": {\"outlinewidth\": 0, \"ticks\": \"\"}, \"colorscale\": [[0.0, \"#0d0887\"], [0.1111111111111111, \"#46039f\"], [0.2222222222222222, \"#7201a8\"], [0.3333333333333333, \"#9c179e\"], [0.4444444444444444, \"#bd3786\"], [0.5555555555555556, \"#d8576b\"], [0.6666666666666666, \"#ed7953\"], [0.7777777777777778, \"#fb9f3a\"], [0.8888888888888888, \"#fdca26\"], [1.0, \"#f0f921\"]], \"type\": \"contour\"}], \"contourcarpet\": [{\"colorbar\": {\"outlinewidth\": 0, \"ticks\": \"\"}, \"type\": \"contourcarpet\"}], \"heatmap\": [{\"colorbar\": {\"outlinewidth\": 0, \"ticks\": \"\"}, \"colorscale\": [[0.0, \"#0d0887\"], [0.1111111111111111, \"#46039f\"], [0.2222222222222222, \"#7201a8\"], [0.3333333333333333, \"#9c179e\"], [0.4444444444444444, \"#bd3786\"], [0.5555555555555556, \"#d8576b\"], [0.6666666666666666, \"#ed7953\"], [0.7777777777777778, \"#fb9f3a\"], [0.8888888888888888, \"#fdca26\"], [1.0, \"#f0f921\"]], \"type\": \"heatmap\"}], \"heatmapgl\": [{\"colorbar\": {\"outlinewidth\": 0, \"ticks\": \"\"}, \"colorscale\": [[0.0, \"#0d0887\"], [0.1111111111111111, \"#46039f\"], [0.2222222222222222, \"#7201a8\"], [0.3333333333333333, \"#9c179e\"], [0.4444444444444444, \"#bd3786\"], [0.5555555555555556, \"#d8576b\"], [0.6666666666666666, \"#ed7953\"], [0.7777777777777778, \"#fb9f3a\"], [0.8888888888888888, \"#fdca26\"], [1.0, \"#f0f921\"]], \"type\": \"heatmapgl\"}], \"histogram\": [{\"marker\": {\"colorbar\": {\"outlinewidth\": 0, \"ticks\": \"\"}}, \"type\": \"histogram\"}], \"histogram2d\": [{\"colorbar\": {\"outlinewidth\": 0, \"ticks\": \"\"}, \"colorscale\": [[0.0, \"#0d0887\"], [0.1111111111111111, \"#46039f\"], [0.2222222222222222, \"#7201a8\"], [0.3333333333333333, \"#9c179e\"], [0.4444444444444444, \"#bd3786\"], [0.5555555555555556, \"#d8576b\"], [0.6666666666666666, \"#ed7953\"], [0.7777777777777778, \"#fb9f3a\"], [0.8888888888888888, \"#fdca26\"], [1.0, \"#f0f921\"]], \"type\": \"histogram2d\"}], \"histogram2dcontour\": [{\"colorbar\": {\"outlinewidth\": 0, \"ticks\": \"\"}, \"colorscale\": [[0.0, \"#0d0887\"], [0.1111111111111111, \"#46039f\"], [0.2222222222222222, \"#7201a8\"], [0.3333333333333333, \"#9c179e\"], [0.4444444444444444, \"#bd3786\"], [0.5555555555555556, \"#d8576b\"], [0.6666666666666666, \"#ed7953\"], [0.7777777777777778, \"#fb9f3a\"], [0.8888888888888888, \"#fdca26\"], [1.0, \"#f0f921\"]], \"type\": \"histogram2dcontour\"}], \"mesh3d\": [{\"colorbar\": {\"outlinewidth\": 0, \"ticks\": \"\"}, \"type\": \"mesh3d\"}], \"parcoords\": [{\"line\": {\"colorbar\": {\"outlinewidth\": 0, \"ticks\": \"\"}}, \"type\": \"parcoords\"}], \"pie\": [{\"automargin\": true, \"type\": \"pie\"}], \"scatter\": [{\"marker\": {\"colorbar\": {\"outlinewidth\": 0, \"ticks\": \"\"}}, \"type\": \"scatter\"}], \"scatter3d\": [{\"line\": {\"colorbar\": {\"outlinewidth\": 0, \"ticks\": \"\"}}, \"marker\": {\"colorbar\": {\"outlinewidth\": 0, \"ticks\": \"\"}}, \"type\": \"scatter3d\"}], \"scattercarpet\": [{\"marker\": {\"colorbar\": {\"outlinewidth\": 0, \"ticks\": \"\"}}, \"type\": \"scattercarpet\"}], \"scattergeo\": [{\"marker\": {\"colorbar\": {\"outlinewidth\": 0, \"ticks\": \"\"}}, \"type\": \"scattergeo\"}], \"scattergl\": [{\"marker\": {\"colorbar\": {\"outlinewidth\": 0, \"ticks\": \"\"}}, \"type\": \"scattergl\"}], \"scattermapbox\": [{\"marker\": {\"colorbar\": {\"outlinewidth\": 0, \"ticks\": \"\"}}, \"type\": \"scattermapbox\"}], \"scatterpolar\": [{\"marker\": {\"colorbar\": {\"outlinewidth\": 0, \"ticks\": \"\"}}, \"type\": \"scatterpolar\"}], \"scatterpolargl\": [{\"marker\": {\"colorbar\": {\"outlinewidth\": 0, \"ticks\": \"\"}}, \"type\": \"scatterpolargl\"}], \"scatterternary\": [{\"marker\": {\"colorbar\": {\"outlinewidth\": 0, \"ticks\": \"\"}}, \"type\": \"scatterternary\"}], \"surface\": [{\"colorbar\": {\"outlinewidth\": 0, \"ticks\": \"\"}, \"colorscale\": [[0.0, \"#0d0887\"], [0.1111111111111111, \"#46039f\"], [0.2222222222222222, \"#7201a8\"], [0.3333333333333333, \"#9c179e\"], [0.4444444444444444, \"#bd3786\"], [0.5555555555555556, \"#d8576b\"], [0.6666666666666666, \"#ed7953\"], [0.7777777777777778, \"#fb9f3a\"], [0.8888888888888888, \"#fdca26\"], [1.0, \"#f0f921\"]], \"type\": \"surface\"}], \"table\": [{\"cells\": {\"fill\": {\"color\": \"#EBF0F8\"}, \"line\": {\"color\": \"white\"}}, \"header\": {\"fill\": {\"color\": \"#C8D4E3\"}, \"line\": {\"color\": \"white\"}}, \"type\": \"table\"}]}, \"layout\": {\"annotationdefaults\": {\"arrowcolor\": \"#2a3f5f\", \"arrowhead\": 0, \"arrowwidth\": 1}, \"coloraxis\": {\"colorbar\": {\"outlinewidth\": 0, \"ticks\": \"\"}}, \"colorscale\": {\"diverging\": [[0, \"#8e0152\"], [0.1, \"#c51b7d\"], [0.2, \"#de77ae\"], [0.3, \"#f1b6da\"], [0.4, \"#fde0ef\"], [0.5, \"#f7f7f7\"], [0.6, \"#e6f5d0\"], [0.7, \"#b8e186\"], [0.8, \"#7fbc41\"], [0.9, \"#4d9221\"], [1, \"#276419\"]], \"sequential\": [[0.0, \"#0d0887\"], [0.1111111111111111, \"#46039f\"], [0.2222222222222222, \"#7201a8\"], [0.3333333333333333, \"#9c179e\"], [0.4444444444444444, \"#bd3786\"], [0.5555555555555556, \"#d8576b\"], [0.6666666666666666, \"#ed7953\"], [0.7777777777777778, \"#fb9f3a\"], [0.8888888888888888, \"#fdca26\"], [1.0, \"#f0f921\"]], \"sequentialminus\": [[0.0, \"#0d0887\"], [0.1111111111111111, \"#46039f\"], [0.2222222222222222, \"#7201a8\"], [0.3333333333333333, \"#9c179e\"], [0.4444444444444444, \"#bd3786\"], [0.5555555555555556, \"#d8576b\"], [0.6666666666666666, \"#ed7953\"], [0.7777777777777778, \"#fb9f3a\"], [0.8888888888888888, \"#fdca26\"], [1.0, \"#f0f921\"]]}, \"colorway\": [\"#636efa\", \"#EF553B\", \"#00cc96\", \"#ab63fa\", \"#FFA15A\", \"#19d3f3\", \"#FF6692\", \"#B6E880\", \"#FF97FF\", \"#FECB52\"], \"font\": {\"color\": \"#2a3f5f\"}, \"geo\": {\"bgcolor\": \"white\", \"lakecolor\": \"white\", \"landcolor\": \"#E5ECF6\", \"showlakes\": true, \"showland\": true, \"subunitcolor\": \"white\"}, \"hoverlabel\": {\"align\": \"left\"}, \"hovermode\": \"closest\", \"mapbox\": {\"style\": \"light\"}, \"paper_bgcolor\": \"white\", \"plot_bgcolor\": \"#E5ECF6\", \"polar\": {\"angularaxis\": {\"gridcolor\": \"white\", \"linecolor\": \"white\", \"ticks\": \"\"}, \"bgcolor\": \"#E5ECF6\", \"radialaxis\": {\"gridcolor\": \"white\", \"linecolor\": \"white\", \"ticks\": \"\"}}, \"scene\": {\"xaxis\": {\"backgroundcolor\": \"#E5ECF6\", \"gridcolor\": \"white\", \"gridwidth\": 2, \"linecolor\": \"white\", \"showbackground\": true, \"ticks\": \"\", \"zerolinecolor\": \"white\"}, \"yaxis\": {\"backgroundcolor\": \"#E5ECF6\", \"gridcolor\": \"white\", \"gridwidth\": 2, \"linecolor\": \"white\", \"showbackground\": true, \"ticks\": \"\", \"zerolinecolor\": \"white\"}, \"zaxis\": {\"backgroundcolor\": \"#E5ECF6\", \"gridcolor\": \"white\", \"gridwidth\": 2, \"linecolor\": \"white\", \"showbackground\": true, \"ticks\": \"\", \"zerolinecolor\": \"white\"}}, \"shapedefaults\": {\"line\": {\"color\": \"#2a3f5f\"}}, \"ternary\": {\"aaxis\": {\"gridcolor\": \"white\", \"linecolor\": \"white\", \"ticks\": \"\"}, \"baxis\": {\"gridcolor\": \"white\", \"linecolor\": \"white\", \"ticks\": \"\"}, \"bgcolor\": \"#E5ECF6\", \"caxis\": {\"gridcolor\": \"white\", \"linecolor\": \"white\", \"ticks\": \"\"}}, \"title\": {\"x\": 0.05}, \"xaxis\": {\"automargin\": true, \"gridcolor\": \"white\", \"linecolor\": \"white\", \"ticks\": \"\", \"title\": {\"standoff\": 15}, \"zerolinecolor\": \"white\", \"zerolinewidth\": 2}, \"yaxis\": {\"automargin\": true, \"gridcolor\": \"white\", \"linecolor\": \"white\", \"ticks\": \"\", \"title\": {\"standoff\": 15}, \"zerolinecolor\": \"white\", \"zerolinewidth\": 2}}}, \"title\": {\"text\": \"Proportion of Hispanic Voters by State\"}},\n",
       "                        {\"responsive\": true}\n",
       "                    ).then(function(){\n",
       "                            \n",
       "var gd = document.getElementById('b8f3b040-798f-4da4-9446-62ea08e7570e');\n",
       "var x = new MutationObserver(function (mutations, observer) {{\n",
       "        var display = window.getComputedStyle(gd).display;\n",
       "        if (!display || display === 'none') {{\n",
       "            console.log([gd, 'removed!']);\n",
       "            Plotly.purge(gd);\n",
       "            observer.disconnect();\n",
       "        }}\n",
       "}});\n",
       "\n",
       "// Listen for the removal of the full notebook cells\n",
       "var notebookContainer = gd.closest('#notebook-container');\n",
       "if (notebookContainer) {{\n",
       "    x.observe(notebookContainer, {childList: true});\n",
       "}}\n",
       "\n",
       "// Listen for the clearing of the current output cell\n",
       "var outputEl = gd.closest('.output');\n",
       "if (outputEl) {{\n",
       "    x.observe(outputEl, {childList: true});\n",
       "}}\n",
       "\n",
       "                        })\n",
       "                };\n",
       "                });\n",
       "            </script>\n",
       "        </div>"
      ]
     },
     "metadata": {},
     "output_type": "display_data"
    }
   ],
   "source": [
    "df = pd.read_csv('https://raw.githubusercontent.com/plotly/datasets/master/2011_us_ag_exports.csv')\n",
    "\n",
    "fig = go.Figure(data=go.Choropleth(\n",
    "    locations = df['code'], # Spatial coordinates\n",
    "    z = demo['Hispanic'].astype(float), # Data to be color-coded\n",
    "    locationmode = 'USA-states', # set of locations match entries in `locations`\n",
    "    colorscale = 'Reds',\n",
    "    colorbar_title = \"Proportion\",\n",
    "    zmax = max(demo['White, Non-Hispanic']),\n",
    "    zmin = 0\n",
    "))\n",
    "\n",
    "fig.update_layout(\n",
    "    title_text = 'Proportion of Hispanic Voters by State',\n",
    "    geo_scope='usa',\n",
    ")\n",
    "\n",
    "fig.show()"
   ]
  },
  {
   "cell_type": "code",
   "execution_count": null,
   "metadata": {},
   "outputs": [],
   "source": []
  },
  {
   "cell_type": "markdown",
   "metadata": {},
   "source": [
    "#### fec_trump visualization"
   ]
  },
  {
   "cell_type": "code",
   "execution_count": 1462,
   "metadata": {},
   "outputs": [
    {
     "data": {
      "application/vnd.plotly.v1+json": {
       "config": {
        "plotlyServerURL": "https://plot.ly"
       },
       "data": [
        {
         "colorbar": {
          "title": {
           "text": "Millions USD"
          }
         },
         "colorscale": [
          [
           0,
           "rgb(247,252,245)"
          ],
          [
           0.125,
           "rgb(229,245,224)"
          ],
          [
           0.25,
           "rgb(199,233,192)"
          ],
          [
           0.375,
           "rgb(161,217,155)"
          ],
          [
           0.5,
           "rgb(116,196,118)"
          ],
          [
           0.625,
           "rgb(65,171,93)"
          ],
          [
           0.75,
           "rgb(35,139,69)"
          ],
          [
           0.875,
           "rgb(0,109,44)"
          ],
          [
           1,
           "rgb(0,68,27)"
          ]
         ],
         "locationmode": "USA-states",
         "locations": [
          "AL",
          "AK",
          "AZ",
          "AR",
          "CA",
          "CO",
          "CT",
          "DE",
          "FL",
          "GA",
          "HI",
          "ID",
          "IL",
          "IN",
          "IA",
          "KS",
          "KY",
          "LA",
          "ME",
          "MD",
          "MA",
          "MI",
          "MN",
          "MS",
          "MO",
          "MT",
          "NE",
          "NV",
          "NH",
          "NJ",
          "NM",
          "NY",
          "NC",
          "ND",
          "OH",
          "OK",
          "OR",
          "PA",
          "RI",
          "SC",
          "SD",
          "TN",
          "TX",
          "UT",
          "VT",
          "VA",
          "WA",
          "WV",
          "WI",
          "WY"
         ],
         "type": "choropleth",
         "z": [
          771455.8700000016,
          207571.54,
          1713691.2700000165,
          356147.4300000001,
          9474707.890000036,
          1220995.6500000001,
          547935.7699999999,
          145807.4299999999,
          329166.9899999999,
          7123600.820000309,
          1671849.1700000013,
          196214.26000000004,
          348107.7600000002,
          1434145.2900000012,
          1017672.1500000006,
          353823.7099999996,
          435569.1499999997,
          546387.57,
          1175888.6200000013,
          135483.77999999982,
          827352.1499999991,
          67441875.72999994,
          1446731.620000004,
          660112.8599999987,
          413617.37999999954,
          774271.7300000008,
          233058.6700000001,
          295261.67999999976,
          785710.3700000007,
          314815.39000000025,
          1594806.590000013,
          430725.06999999995,
          3454170.900000037,
          1508129.2200000035,
          140553.82999999996,
          2370406.0000000037,
          666224.8700000006,
          581020.7599999995,
          1745660.3100000108,
          97885.21999999997,
          809392.7299999994,
          143168.03999999992,
          1227051.4100000018,
          7701293.9000000935,
          373166.08999999985,
          60534.63000000004,
          12560316.070000062,
          1448776.4800000058,
          363622.57999999996,
          903580.6100000003,
          232264.11999999994
         ]
        }
       ],
       "layout": {
        "geo": {
         "scope": "usa"
        },
        "template": {
         "data": {
          "bar": [
           {
            "error_x": {
             "color": "#2a3f5f"
            },
            "error_y": {
             "color": "#2a3f5f"
            },
            "marker": {
             "line": {
              "color": "#E5ECF6",
              "width": 0.5
             }
            },
            "type": "bar"
           }
          ],
          "barpolar": [
           {
            "marker": {
             "line": {
              "color": "#E5ECF6",
              "width": 0.5
             }
            },
            "type": "barpolar"
           }
          ],
          "carpet": [
           {
            "aaxis": {
             "endlinecolor": "#2a3f5f",
             "gridcolor": "white",
             "linecolor": "white",
             "minorgridcolor": "white",
             "startlinecolor": "#2a3f5f"
            },
            "baxis": {
             "endlinecolor": "#2a3f5f",
             "gridcolor": "white",
             "linecolor": "white",
             "minorgridcolor": "white",
             "startlinecolor": "#2a3f5f"
            },
            "type": "carpet"
           }
          ],
          "choropleth": [
           {
            "colorbar": {
             "outlinewidth": 0,
             "ticks": ""
            },
            "type": "choropleth"
           }
          ],
          "contour": [
           {
            "colorbar": {
             "outlinewidth": 0,
             "ticks": ""
            },
            "colorscale": [
             [
              0,
              "#0d0887"
             ],
             [
              0.1111111111111111,
              "#46039f"
             ],
             [
              0.2222222222222222,
              "#7201a8"
             ],
             [
              0.3333333333333333,
              "#9c179e"
             ],
             [
              0.4444444444444444,
              "#bd3786"
             ],
             [
              0.5555555555555556,
              "#d8576b"
             ],
             [
              0.6666666666666666,
              "#ed7953"
             ],
             [
              0.7777777777777778,
              "#fb9f3a"
             ],
             [
              0.8888888888888888,
              "#fdca26"
             ],
             [
              1,
              "#f0f921"
             ]
            ],
            "type": "contour"
           }
          ],
          "contourcarpet": [
           {
            "colorbar": {
             "outlinewidth": 0,
             "ticks": ""
            },
            "type": "contourcarpet"
           }
          ],
          "heatmap": [
           {
            "colorbar": {
             "outlinewidth": 0,
             "ticks": ""
            },
            "colorscale": [
             [
              0,
              "#0d0887"
             ],
             [
              0.1111111111111111,
              "#46039f"
             ],
             [
              0.2222222222222222,
              "#7201a8"
             ],
             [
              0.3333333333333333,
              "#9c179e"
             ],
             [
              0.4444444444444444,
              "#bd3786"
             ],
             [
              0.5555555555555556,
              "#d8576b"
             ],
             [
              0.6666666666666666,
              "#ed7953"
             ],
             [
              0.7777777777777778,
              "#fb9f3a"
             ],
             [
              0.8888888888888888,
              "#fdca26"
             ],
             [
              1,
              "#f0f921"
             ]
            ],
            "type": "heatmap"
           }
          ],
          "heatmapgl": [
           {
            "colorbar": {
             "outlinewidth": 0,
             "ticks": ""
            },
            "colorscale": [
             [
              0,
              "#0d0887"
             ],
             [
              0.1111111111111111,
              "#46039f"
             ],
             [
              0.2222222222222222,
              "#7201a8"
             ],
             [
              0.3333333333333333,
              "#9c179e"
             ],
             [
              0.4444444444444444,
              "#bd3786"
             ],
             [
              0.5555555555555556,
              "#d8576b"
             ],
             [
              0.6666666666666666,
              "#ed7953"
             ],
             [
              0.7777777777777778,
              "#fb9f3a"
             ],
             [
              0.8888888888888888,
              "#fdca26"
             ],
             [
              1,
              "#f0f921"
             ]
            ],
            "type": "heatmapgl"
           }
          ],
          "histogram": [
           {
            "marker": {
             "colorbar": {
              "outlinewidth": 0,
              "ticks": ""
             }
            },
            "type": "histogram"
           }
          ],
          "histogram2d": [
           {
            "colorbar": {
             "outlinewidth": 0,
             "ticks": ""
            },
            "colorscale": [
             [
              0,
              "#0d0887"
             ],
             [
              0.1111111111111111,
              "#46039f"
             ],
             [
              0.2222222222222222,
              "#7201a8"
             ],
             [
              0.3333333333333333,
              "#9c179e"
             ],
             [
              0.4444444444444444,
              "#bd3786"
             ],
             [
              0.5555555555555556,
              "#d8576b"
             ],
             [
              0.6666666666666666,
              "#ed7953"
             ],
             [
              0.7777777777777778,
              "#fb9f3a"
             ],
             [
              0.8888888888888888,
              "#fdca26"
             ],
             [
              1,
              "#f0f921"
             ]
            ],
            "type": "histogram2d"
           }
          ],
          "histogram2dcontour": [
           {
            "colorbar": {
             "outlinewidth": 0,
             "ticks": ""
            },
            "colorscale": [
             [
              0,
              "#0d0887"
             ],
             [
              0.1111111111111111,
              "#46039f"
             ],
             [
              0.2222222222222222,
              "#7201a8"
             ],
             [
              0.3333333333333333,
              "#9c179e"
             ],
             [
              0.4444444444444444,
              "#bd3786"
             ],
             [
              0.5555555555555556,
              "#d8576b"
             ],
             [
              0.6666666666666666,
              "#ed7953"
             ],
             [
              0.7777777777777778,
              "#fb9f3a"
             ],
             [
              0.8888888888888888,
              "#fdca26"
             ],
             [
              1,
              "#f0f921"
             ]
            ],
            "type": "histogram2dcontour"
           }
          ],
          "mesh3d": [
           {
            "colorbar": {
             "outlinewidth": 0,
             "ticks": ""
            },
            "type": "mesh3d"
           }
          ],
          "parcoords": [
           {
            "line": {
             "colorbar": {
              "outlinewidth": 0,
              "ticks": ""
             }
            },
            "type": "parcoords"
           }
          ],
          "pie": [
           {
            "automargin": true,
            "type": "pie"
           }
          ],
          "scatter": [
           {
            "marker": {
             "colorbar": {
              "outlinewidth": 0,
              "ticks": ""
             }
            },
            "type": "scatter"
           }
          ],
          "scatter3d": [
           {
            "line": {
             "colorbar": {
              "outlinewidth": 0,
              "ticks": ""
             }
            },
            "marker": {
             "colorbar": {
              "outlinewidth": 0,
              "ticks": ""
             }
            },
            "type": "scatter3d"
           }
          ],
          "scattercarpet": [
           {
            "marker": {
             "colorbar": {
              "outlinewidth": 0,
              "ticks": ""
             }
            },
            "type": "scattercarpet"
           }
          ],
          "scattergeo": [
           {
            "marker": {
             "colorbar": {
              "outlinewidth": 0,
              "ticks": ""
             }
            },
            "type": "scattergeo"
           }
          ],
          "scattergl": [
           {
            "marker": {
             "colorbar": {
              "outlinewidth": 0,
              "ticks": ""
             }
            },
            "type": "scattergl"
           }
          ],
          "scattermapbox": [
           {
            "marker": {
             "colorbar": {
              "outlinewidth": 0,
              "ticks": ""
             }
            },
            "type": "scattermapbox"
           }
          ],
          "scatterpolar": [
           {
            "marker": {
             "colorbar": {
              "outlinewidth": 0,
              "ticks": ""
             }
            },
            "type": "scatterpolar"
           }
          ],
          "scatterpolargl": [
           {
            "marker": {
             "colorbar": {
              "outlinewidth": 0,
              "ticks": ""
             }
            },
            "type": "scatterpolargl"
           }
          ],
          "scatterternary": [
           {
            "marker": {
             "colorbar": {
              "outlinewidth": 0,
              "ticks": ""
             }
            },
            "type": "scatterternary"
           }
          ],
          "surface": [
           {
            "colorbar": {
             "outlinewidth": 0,
             "ticks": ""
            },
            "colorscale": [
             [
              0,
              "#0d0887"
             ],
             [
              0.1111111111111111,
              "#46039f"
             ],
             [
              0.2222222222222222,
              "#7201a8"
             ],
             [
              0.3333333333333333,
              "#9c179e"
             ],
             [
              0.4444444444444444,
              "#bd3786"
             ],
             [
              0.5555555555555556,
              "#d8576b"
             ],
             [
              0.6666666666666666,
              "#ed7953"
             ],
             [
              0.7777777777777778,
              "#fb9f3a"
             ],
             [
              0.8888888888888888,
              "#fdca26"
             ],
             [
              1,
              "#f0f921"
             ]
            ],
            "type": "surface"
           }
          ],
          "table": [
           {
            "cells": {
             "fill": {
              "color": "#EBF0F8"
             },
             "line": {
              "color": "white"
             }
            },
            "header": {
             "fill": {
              "color": "#C8D4E3"
             },
             "line": {
              "color": "white"
             }
            },
            "type": "table"
           }
          ]
         },
         "layout": {
          "annotationdefaults": {
           "arrowcolor": "#2a3f5f",
           "arrowhead": 0,
           "arrowwidth": 1
          },
          "coloraxis": {
           "colorbar": {
            "outlinewidth": 0,
            "ticks": ""
           }
          },
          "colorscale": {
           "diverging": [
            [
             0,
             "#8e0152"
            ],
            [
             0.1,
             "#c51b7d"
            ],
            [
             0.2,
             "#de77ae"
            ],
            [
             0.3,
             "#f1b6da"
            ],
            [
             0.4,
             "#fde0ef"
            ],
            [
             0.5,
             "#f7f7f7"
            ],
            [
             0.6,
             "#e6f5d0"
            ],
            [
             0.7,
             "#b8e186"
            ],
            [
             0.8,
             "#7fbc41"
            ],
            [
             0.9,
             "#4d9221"
            ],
            [
             1,
             "#276419"
            ]
           ],
           "sequential": [
            [
             0,
             "#0d0887"
            ],
            [
             0.1111111111111111,
             "#46039f"
            ],
            [
             0.2222222222222222,
             "#7201a8"
            ],
            [
             0.3333333333333333,
             "#9c179e"
            ],
            [
             0.4444444444444444,
             "#bd3786"
            ],
            [
             0.5555555555555556,
             "#d8576b"
            ],
            [
             0.6666666666666666,
             "#ed7953"
            ],
            [
             0.7777777777777778,
             "#fb9f3a"
            ],
            [
             0.8888888888888888,
             "#fdca26"
            ],
            [
             1,
             "#f0f921"
            ]
           ],
           "sequentialminus": [
            [
             0,
             "#0d0887"
            ],
            [
             0.1111111111111111,
             "#46039f"
            ],
            [
             0.2222222222222222,
             "#7201a8"
            ],
            [
             0.3333333333333333,
             "#9c179e"
            ],
            [
             0.4444444444444444,
             "#bd3786"
            ],
            [
             0.5555555555555556,
             "#d8576b"
            ],
            [
             0.6666666666666666,
             "#ed7953"
            ],
            [
             0.7777777777777778,
             "#fb9f3a"
            ],
            [
             0.8888888888888888,
             "#fdca26"
            ],
            [
             1,
             "#f0f921"
            ]
           ]
          },
          "colorway": [
           "#636efa",
           "#EF553B",
           "#00cc96",
           "#ab63fa",
           "#FFA15A",
           "#19d3f3",
           "#FF6692",
           "#B6E880",
           "#FF97FF",
           "#FECB52"
          ],
          "font": {
           "color": "#2a3f5f"
          },
          "geo": {
           "bgcolor": "white",
           "lakecolor": "white",
           "landcolor": "#E5ECF6",
           "showlakes": true,
           "showland": true,
           "subunitcolor": "white"
          },
          "hoverlabel": {
           "align": "left"
          },
          "hovermode": "closest",
          "mapbox": {
           "style": "light"
          },
          "paper_bgcolor": "white",
          "plot_bgcolor": "#E5ECF6",
          "polar": {
           "angularaxis": {
            "gridcolor": "white",
            "linecolor": "white",
            "ticks": ""
           },
           "bgcolor": "#E5ECF6",
           "radialaxis": {
            "gridcolor": "white",
            "linecolor": "white",
            "ticks": ""
           }
          },
          "scene": {
           "xaxis": {
            "backgroundcolor": "#E5ECF6",
            "gridcolor": "white",
            "gridwidth": 2,
            "linecolor": "white",
            "showbackground": true,
            "ticks": "",
            "zerolinecolor": "white"
           },
           "yaxis": {
            "backgroundcolor": "#E5ECF6",
            "gridcolor": "white",
            "gridwidth": 2,
            "linecolor": "white",
            "showbackground": true,
            "ticks": "",
            "zerolinecolor": "white"
           },
           "zaxis": {
            "backgroundcolor": "#E5ECF6",
            "gridcolor": "white",
            "gridwidth": 2,
            "linecolor": "white",
            "showbackground": true,
            "ticks": "",
            "zerolinecolor": "white"
           }
          },
          "shapedefaults": {
           "line": {
            "color": "#2a3f5f"
           }
          },
          "ternary": {
           "aaxis": {
            "gridcolor": "white",
            "linecolor": "white",
            "ticks": ""
           },
           "baxis": {
            "gridcolor": "white",
            "linecolor": "white",
            "ticks": ""
           },
           "bgcolor": "#E5ECF6",
           "caxis": {
            "gridcolor": "white",
            "linecolor": "white",
            "ticks": ""
           }
          },
          "title": {
           "x": 0.05
          },
          "xaxis": {
           "automargin": true,
           "gridcolor": "white",
           "linecolor": "white",
           "ticks": "",
           "title": {
            "standoff": 15
           },
           "zerolinecolor": "white",
           "zerolinewidth": 2
          },
          "yaxis": {
           "automargin": true,
           "gridcolor": "white",
           "linecolor": "white",
           "ticks": "",
           "title": {
            "standoff": 15
           },
           "zerolinecolor": "white",
           "zerolinewidth": 2
          }
         }
        },
        "title": {
         "text": "2011 US Agriculture Exports by State"
        }
       }
      },
      "text/html": [
       "<div>\n",
       "        \n",
       "        \n",
       "            <div id=\"d130d72e-8a4a-436d-88c9-9b75edf241d8\" class=\"plotly-graph-div\" style=\"height:525px; width:100%;\"></div>\n",
       "            <script type=\"text/javascript\">\n",
       "                require([\"plotly\"], function(Plotly) {\n",
       "                    window.PLOTLYENV=window.PLOTLYENV || {};\n",
       "                    \n",
       "                if (document.getElementById(\"d130d72e-8a4a-436d-88c9-9b75edf241d8\")) {\n",
       "                    Plotly.newPlot(\n",
       "                        'd130d72e-8a4a-436d-88c9-9b75edf241d8',\n",
       "                        [{\"colorbar\": {\"title\": {\"text\": \"Millions USD\"}}, \"colorscale\": [[0.0, \"rgb(247,252,245)\"], [0.125, \"rgb(229,245,224)\"], [0.25, \"rgb(199,233,192)\"], [0.375, \"rgb(161,217,155)\"], [0.5, \"rgb(116,196,118)\"], [0.625, \"rgb(65,171,93)\"], [0.75, \"rgb(35,139,69)\"], [0.875, \"rgb(0,109,44)\"], [1.0, \"rgb(0,68,27)\"]], \"locationmode\": \"USA-states\", \"locations\": [\"AL\", \"AK\", \"AZ\", \"AR\", \"CA\", \"CO\", \"CT\", \"DE\", \"FL\", \"GA\", \"HI\", \"ID\", \"IL\", \"IN\", \"IA\", \"KS\", \"KY\", \"LA\", \"ME\", \"MD\", \"MA\", \"MI\", \"MN\", \"MS\", \"MO\", \"MT\", \"NE\", \"NV\", \"NH\", \"NJ\", \"NM\", \"NY\", \"NC\", \"ND\", \"OH\", \"OK\", \"OR\", \"PA\", \"RI\", \"SC\", \"SD\", \"TN\", \"TX\", \"UT\", \"VT\", \"VA\", \"WA\", \"WV\", \"WI\", \"WY\"], \"type\": \"choropleth\", \"z\": [771455.8700000016, 207571.54, 1713691.2700000165, 356147.4300000001, 9474707.890000036, 1220995.6500000001, 547935.7699999999, 145807.4299999999, 329166.9899999999, 7123600.820000309, 1671849.1700000013, 196214.26000000004, 348107.7600000002, 1434145.2900000012, 1017672.1500000006, 353823.7099999996, 435569.1499999997, 546387.57, 1175888.6200000013, 135483.77999999982, 827352.1499999991, 67441875.72999994, 1446731.620000004, 660112.8599999987, 413617.37999999954, 774271.7300000008, 233058.6700000001, 295261.67999999976, 785710.3700000007, 314815.39000000025, 1594806.590000013, 430725.06999999995, 3454170.900000037, 1508129.2200000035, 140553.82999999996, 2370406.0000000037, 666224.8700000006, 581020.7599999995, 1745660.3100000108, 97885.21999999997, 809392.7299999994, 143168.03999999992, 1227051.4100000018, 7701293.9000000935, 373166.08999999985, 60534.63000000004, 12560316.070000062, 1448776.4800000058, 363622.57999999996, 903580.6100000003, 232264.11999999994]}],\n",
       "                        {\"geo\": {\"scope\": \"usa\"}, \"template\": {\"data\": {\"bar\": [{\"error_x\": {\"color\": \"#2a3f5f\"}, \"error_y\": {\"color\": \"#2a3f5f\"}, \"marker\": {\"line\": {\"color\": \"#E5ECF6\", \"width\": 0.5}}, \"type\": \"bar\"}], \"barpolar\": [{\"marker\": {\"line\": {\"color\": \"#E5ECF6\", \"width\": 0.5}}, \"type\": \"barpolar\"}], \"carpet\": [{\"aaxis\": {\"endlinecolor\": \"#2a3f5f\", \"gridcolor\": \"white\", \"linecolor\": \"white\", \"minorgridcolor\": \"white\", \"startlinecolor\": \"#2a3f5f\"}, \"baxis\": {\"endlinecolor\": \"#2a3f5f\", \"gridcolor\": \"white\", \"linecolor\": \"white\", \"minorgridcolor\": \"white\", \"startlinecolor\": \"#2a3f5f\"}, \"type\": \"carpet\"}], \"choropleth\": [{\"colorbar\": {\"outlinewidth\": 0, \"ticks\": \"\"}, \"type\": \"choropleth\"}], \"contour\": [{\"colorbar\": {\"outlinewidth\": 0, \"ticks\": \"\"}, \"colorscale\": [[0.0, \"#0d0887\"], [0.1111111111111111, \"#46039f\"], [0.2222222222222222, \"#7201a8\"], [0.3333333333333333, \"#9c179e\"], [0.4444444444444444, \"#bd3786\"], [0.5555555555555556, \"#d8576b\"], [0.6666666666666666, \"#ed7953\"], [0.7777777777777778, \"#fb9f3a\"], [0.8888888888888888, \"#fdca26\"], [1.0, \"#f0f921\"]], \"type\": \"contour\"}], \"contourcarpet\": [{\"colorbar\": {\"outlinewidth\": 0, \"ticks\": \"\"}, \"type\": \"contourcarpet\"}], \"heatmap\": [{\"colorbar\": {\"outlinewidth\": 0, \"ticks\": \"\"}, \"colorscale\": [[0.0, \"#0d0887\"], [0.1111111111111111, \"#46039f\"], [0.2222222222222222, \"#7201a8\"], [0.3333333333333333, \"#9c179e\"], [0.4444444444444444, \"#bd3786\"], [0.5555555555555556, \"#d8576b\"], [0.6666666666666666, \"#ed7953\"], [0.7777777777777778, \"#fb9f3a\"], [0.8888888888888888, \"#fdca26\"], [1.0, \"#f0f921\"]], \"type\": \"heatmap\"}], \"heatmapgl\": [{\"colorbar\": {\"outlinewidth\": 0, \"ticks\": \"\"}, \"colorscale\": [[0.0, \"#0d0887\"], [0.1111111111111111, \"#46039f\"], [0.2222222222222222, \"#7201a8\"], [0.3333333333333333, \"#9c179e\"], [0.4444444444444444, \"#bd3786\"], [0.5555555555555556, \"#d8576b\"], [0.6666666666666666, \"#ed7953\"], [0.7777777777777778, \"#fb9f3a\"], [0.8888888888888888, \"#fdca26\"], [1.0, \"#f0f921\"]], \"type\": \"heatmapgl\"}], \"histogram\": [{\"marker\": {\"colorbar\": {\"outlinewidth\": 0, \"ticks\": \"\"}}, \"type\": \"histogram\"}], \"histogram2d\": [{\"colorbar\": {\"outlinewidth\": 0, \"ticks\": \"\"}, \"colorscale\": [[0.0, \"#0d0887\"], [0.1111111111111111, \"#46039f\"], [0.2222222222222222, \"#7201a8\"], [0.3333333333333333, \"#9c179e\"], [0.4444444444444444, \"#bd3786\"], [0.5555555555555556, \"#d8576b\"], [0.6666666666666666, \"#ed7953\"], [0.7777777777777778, \"#fb9f3a\"], [0.8888888888888888, \"#fdca26\"], [1.0, \"#f0f921\"]], \"type\": \"histogram2d\"}], \"histogram2dcontour\": [{\"colorbar\": {\"outlinewidth\": 0, \"ticks\": \"\"}, \"colorscale\": [[0.0, \"#0d0887\"], [0.1111111111111111, \"#46039f\"], [0.2222222222222222, \"#7201a8\"], [0.3333333333333333, \"#9c179e\"], [0.4444444444444444, \"#bd3786\"], [0.5555555555555556, \"#d8576b\"], [0.6666666666666666, \"#ed7953\"], [0.7777777777777778, \"#fb9f3a\"], [0.8888888888888888, \"#fdca26\"], [1.0, \"#f0f921\"]], \"type\": \"histogram2dcontour\"}], \"mesh3d\": [{\"colorbar\": {\"outlinewidth\": 0, \"ticks\": \"\"}, \"type\": \"mesh3d\"}], \"parcoords\": [{\"line\": {\"colorbar\": {\"outlinewidth\": 0, \"ticks\": \"\"}}, \"type\": \"parcoords\"}], \"pie\": [{\"automargin\": true, \"type\": \"pie\"}], \"scatter\": [{\"marker\": {\"colorbar\": {\"outlinewidth\": 0, \"ticks\": \"\"}}, \"type\": \"scatter\"}], \"scatter3d\": [{\"line\": {\"colorbar\": {\"outlinewidth\": 0, \"ticks\": \"\"}}, \"marker\": {\"colorbar\": {\"outlinewidth\": 0, \"ticks\": \"\"}}, \"type\": \"scatter3d\"}], \"scattercarpet\": [{\"marker\": {\"colorbar\": {\"outlinewidth\": 0, \"ticks\": \"\"}}, \"type\": \"scattercarpet\"}], \"scattergeo\": [{\"marker\": {\"colorbar\": {\"outlinewidth\": 0, \"ticks\": \"\"}}, \"type\": \"scattergeo\"}], \"scattergl\": [{\"marker\": {\"colorbar\": {\"outlinewidth\": 0, \"ticks\": \"\"}}, \"type\": \"scattergl\"}], \"scattermapbox\": [{\"marker\": {\"colorbar\": {\"outlinewidth\": 0, \"ticks\": \"\"}}, \"type\": \"scattermapbox\"}], \"scatterpolar\": [{\"marker\": {\"colorbar\": {\"outlinewidth\": 0, \"ticks\": \"\"}}, \"type\": \"scatterpolar\"}], \"scatterpolargl\": [{\"marker\": {\"colorbar\": {\"outlinewidth\": 0, \"ticks\": \"\"}}, \"type\": \"scatterpolargl\"}], \"scatterternary\": [{\"marker\": {\"colorbar\": {\"outlinewidth\": 0, \"ticks\": \"\"}}, \"type\": \"scatterternary\"}], \"surface\": [{\"colorbar\": {\"outlinewidth\": 0, \"ticks\": \"\"}, \"colorscale\": [[0.0, \"#0d0887\"], [0.1111111111111111, \"#46039f\"], [0.2222222222222222, \"#7201a8\"], [0.3333333333333333, \"#9c179e\"], [0.4444444444444444, \"#bd3786\"], [0.5555555555555556, \"#d8576b\"], [0.6666666666666666, \"#ed7953\"], [0.7777777777777778, \"#fb9f3a\"], [0.8888888888888888, \"#fdca26\"], [1.0, \"#f0f921\"]], \"type\": \"surface\"}], \"table\": [{\"cells\": {\"fill\": {\"color\": \"#EBF0F8\"}, \"line\": {\"color\": \"white\"}}, \"header\": {\"fill\": {\"color\": \"#C8D4E3\"}, \"line\": {\"color\": \"white\"}}, \"type\": \"table\"}]}, \"layout\": {\"annotationdefaults\": {\"arrowcolor\": \"#2a3f5f\", \"arrowhead\": 0, \"arrowwidth\": 1}, \"coloraxis\": {\"colorbar\": {\"outlinewidth\": 0, \"ticks\": \"\"}}, \"colorscale\": {\"diverging\": [[0, \"#8e0152\"], [0.1, \"#c51b7d\"], [0.2, \"#de77ae\"], [0.3, \"#f1b6da\"], [0.4, \"#fde0ef\"], [0.5, \"#f7f7f7\"], [0.6, \"#e6f5d0\"], [0.7, \"#b8e186\"], [0.8, \"#7fbc41\"], [0.9, \"#4d9221\"], [1, \"#276419\"]], \"sequential\": [[0.0, \"#0d0887\"], [0.1111111111111111, \"#46039f\"], [0.2222222222222222, \"#7201a8\"], [0.3333333333333333, \"#9c179e\"], [0.4444444444444444, \"#bd3786\"], [0.5555555555555556, \"#d8576b\"], [0.6666666666666666, \"#ed7953\"], [0.7777777777777778, \"#fb9f3a\"], [0.8888888888888888, \"#fdca26\"], [1.0, \"#f0f921\"]], \"sequentialminus\": [[0.0, \"#0d0887\"], [0.1111111111111111, \"#46039f\"], [0.2222222222222222, \"#7201a8\"], [0.3333333333333333, \"#9c179e\"], [0.4444444444444444, \"#bd3786\"], [0.5555555555555556, \"#d8576b\"], [0.6666666666666666, \"#ed7953\"], [0.7777777777777778, \"#fb9f3a\"], [0.8888888888888888, \"#fdca26\"], [1.0, \"#f0f921\"]]}, \"colorway\": [\"#636efa\", \"#EF553B\", \"#00cc96\", \"#ab63fa\", \"#FFA15A\", \"#19d3f3\", \"#FF6692\", \"#B6E880\", \"#FF97FF\", \"#FECB52\"], \"font\": {\"color\": \"#2a3f5f\"}, \"geo\": {\"bgcolor\": \"white\", \"lakecolor\": \"white\", \"landcolor\": \"#E5ECF6\", \"showlakes\": true, \"showland\": true, \"subunitcolor\": \"white\"}, \"hoverlabel\": {\"align\": \"left\"}, \"hovermode\": \"closest\", \"mapbox\": {\"style\": \"light\"}, \"paper_bgcolor\": \"white\", \"plot_bgcolor\": \"#E5ECF6\", \"polar\": {\"angularaxis\": {\"gridcolor\": \"white\", \"linecolor\": \"white\", \"ticks\": \"\"}, \"bgcolor\": \"#E5ECF6\", \"radialaxis\": {\"gridcolor\": \"white\", \"linecolor\": \"white\", \"ticks\": \"\"}}, \"scene\": {\"xaxis\": {\"backgroundcolor\": \"#E5ECF6\", \"gridcolor\": \"white\", \"gridwidth\": 2, \"linecolor\": \"white\", \"showbackground\": true, \"ticks\": \"\", \"zerolinecolor\": \"white\"}, \"yaxis\": {\"backgroundcolor\": \"#E5ECF6\", \"gridcolor\": \"white\", \"gridwidth\": 2, \"linecolor\": \"white\", \"showbackground\": true, \"ticks\": \"\", \"zerolinecolor\": \"white\"}, \"zaxis\": {\"backgroundcolor\": \"#E5ECF6\", \"gridcolor\": \"white\", \"gridwidth\": 2, \"linecolor\": \"white\", \"showbackground\": true, \"ticks\": \"\", \"zerolinecolor\": \"white\"}}, \"shapedefaults\": {\"line\": {\"color\": \"#2a3f5f\"}}, \"ternary\": {\"aaxis\": {\"gridcolor\": \"white\", \"linecolor\": \"white\", \"ticks\": \"\"}, \"baxis\": {\"gridcolor\": \"white\", \"linecolor\": \"white\", \"ticks\": \"\"}, \"bgcolor\": \"#E5ECF6\", \"caxis\": {\"gridcolor\": \"white\", \"linecolor\": \"white\", \"ticks\": \"\"}}, \"title\": {\"x\": 0.05}, \"xaxis\": {\"automargin\": true, \"gridcolor\": \"white\", \"linecolor\": \"white\", \"ticks\": \"\", \"title\": {\"standoff\": 15}, \"zerolinecolor\": \"white\", \"zerolinewidth\": 2}, \"yaxis\": {\"automargin\": true, \"gridcolor\": \"white\", \"linecolor\": \"white\", \"ticks\": \"\", \"title\": {\"standoff\": 15}, \"zerolinecolor\": \"white\", \"zerolinewidth\": 2}}}, \"title\": {\"text\": \"2011 US Agriculture Exports by State\"}},\n",
       "                        {\"responsive\": true}\n",
       "                    ).then(function(){\n",
       "                            \n",
       "var gd = document.getElementById('d130d72e-8a4a-436d-88c9-9b75edf241d8');\n",
       "var x = new MutationObserver(function (mutations, observer) {{\n",
       "        var display = window.getComputedStyle(gd).display;\n",
       "        if (!display || display === 'none') {{\n",
       "            console.log([gd, 'removed!']);\n",
       "            Plotly.purge(gd);\n",
       "            observer.disconnect();\n",
       "        }}\n",
       "}});\n",
       "\n",
       "// Listen for the removal of the full notebook cells\n",
       "var notebookContainer = gd.closest('#notebook-container');\n",
       "if (notebookContainer) {{\n",
       "    x.observe(notebookContainer, {childList: true});\n",
       "}}\n",
       "\n",
       "// Listen for the clearing of the current output cell\n",
       "var outputEl = gd.closest('.output');\n",
       "if (outputEl) {{\n",
       "    x.observe(outputEl, {childList: true});\n",
       "}}\n",
       "\n",
       "                        })\n",
       "                };\n",
       "                });\n",
       "            </script>\n",
       "        </div>"
      ]
     },
     "metadata": {},
     "output_type": "display_data"
    }
   ],
   "source": [
    "df = pd.read_csv('https://raw.githubusercontent.com/plotly/datasets/master/2011_us_ag_exports.csv')\n",
    "\n",
    "fig = go.Figure(data=go.Choropleth(\n",
    "    locations=df['code'], # Spatial coordinates\n",
    "    z = demo_data['amount_trump'].astype(float), # Data to be color-coded\n",
    "    locationmode = 'USA-states', # set of locations match entries in `locations`\n",
    "    colorscale = 'Greens',\n",
    "    colorbar_title = \"Millions USD\",\n",
    "))\n",
    "\n",
    "fig.update_layout(\n",
    "    title_text = '2011 US Agriculture Exports by State',\n",
    "    geo_scope='usa', # limite map scope to USA\n",
    ")\n",
    "\n",
    "fig.show()"
   ]
  },
  {
   "cell_type": "markdown",
   "metadata": {},
   "source": [
    "#### correlation matrix"
   ]
  },
  {
   "cell_type": "code",
   "execution_count": 1463,
   "metadata": {},
   "outputs": [
    {
     "data": {
      "text/html": [
       "<div>\n",
       "<style scoped>\n",
       "    .dataframe tbody tr th:only-of-type {\n",
       "        vertical-align: middle;\n",
       "    }\n",
       "\n",
       "    .dataframe tbody tr th {\n",
       "        vertical-align: top;\n",
       "    }\n",
       "\n",
       "    .dataframe thead th {\n",
       "        text-align: right;\n",
       "    }\n",
       "</style>\n",
       "<table border=\"1\" class=\"dataframe\">\n",
       "  <thead>\n",
       "    <tr style=\"text-align: right;\">\n",
       "      <th></th>\n",
       "      <th>per_black</th>\n",
       "      <th>per_hisp</th>\n",
       "      <th>per_white</th>\n",
       "      <th>educ_hs</th>\n",
       "      <th>educ_coll</th>\n",
       "      <th>average_income</th>\n",
       "      <th>median_income</th>\n",
       "      <th>vote_pop</th>\n",
       "      <th>older_pop</th>\n",
       "      <th>per_older</th>\n",
       "      <th>per_vote</th>\n",
       "      <th>no_party</th>\n",
       "      <th>PVI</th>\n",
       "      <th>amount</th>\n",
       "      <th>amount_trump</th>\n",
       "    </tr>\n",
       "  </thead>\n",
       "  <tbody>\n",
       "    <tr>\n",
       "      <th>per_black</th>\n",
       "      <td>1.000000</td>\n",
       "      <td>-0.106697</td>\n",
       "      <td>-0.452714</td>\n",
       "      <td>-0.454959</td>\n",
       "      <td>0.175171</td>\n",
       "      <td>0.162461</td>\n",
       "      <td>-0.021242</td>\n",
       "      <td>0.129315</td>\n",
       "      <td>0.139827</td>\n",
       "      <td>-0.234684</td>\n",
       "      <td>0.433406</td>\n",
       "      <td>0.197686</td>\n",
       "      <td>0.044183</td>\n",
       "      <td>0.172067</td>\n",
       "      <td>-0.002696</td>\n",
       "    </tr>\n",
       "    <tr>\n",
       "      <th>per_hisp</th>\n",
       "      <td>-0.106697</td>\n",
       "      <td>1.000000</td>\n",
       "      <td>-0.643081</td>\n",
       "      <td>-0.453786</td>\n",
       "      <td>0.111077</td>\n",
       "      <td>0.066612</td>\n",
       "      <td>0.139359</td>\n",
       "      <td>0.535567</td>\n",
       "      <td>0.499849</td>\n",
       "      <td>-0.218402</td>\n",
       "      <td>0.095951</td>\n",
       "      <td>0.422724</td>\n",
       "      <td>0.280766</td>\n",
       "      <td>0.489376</td>\n",
       "      <td>0.112234</td>\n",
       "    </tr>\n",
       "    <tr>\n",
       "      <th>per_white</th>\n",
       "      <td>-0.452714</td>\n",
       "      <td>-0.643081</td>\n",
       "      <td>1.000000</td>\n",
       "      <td>0.499271</td>\n",
       "      <td>-0.225969</td>\n",
       "      <td>-0.227952</td>\n",
       "      <td>-0.299782</td>\n",
       "      <td>-0.417270</td>\n",
       "      <td>-0.387200</td>\n",
       "      <td>0.337831</td>\n",
       "      <td>-0.339764</td>\n",
       "      <td>-0.550929</td>\n",
       "      <td>-0.407599</td>\n",
       "      <td>-0.444446</td>\n",
       "      <td>-0.064379</td>\n",
       "    </tr>\n",
       "    <tr>\n",
       "      <th>educ_hs</th>\n",
       "      <td>-0.454959</td>\n",
       "      <td>-0.453786</td>\n",
       "      <td>0.499271</td>\n",
       "      <td>1.000000</td>\n",
       "      <td>0.396163</td>\n",
       "      <td>0.399694</td>\n",
       "      <td>0.450768</td>\n",
       "      <td>-0.510008</td>\n",
       "      <td>-0.480089</td>\n",
       "      <td>0.107490</td>\n",
       "      <td>0.011944</td>\n",
       "      <td>-0.306684</td>\n",
       "      <td>0.039446</td>\n",
       "      <td>-0.382779</td>\n",
       "      <td>-0.039135</td>\n",
       "    </tr>\n",
       "    <tr>\n",
       "      <th>educ_coll</th>\n",
       "      <td>0.175171</td>\n",
       "      <td>0.111077</td>\n",
       "      <td>-0.225969</td>\n",
       "      <td>0.396163</td>\n",
       "      <td>1.000000</td>\n",
       "      <td>0.919931</td>\n",
       "      <td>0.816968</td>\n",
       "      <td>0.051610</td>\n",
       "      <td>0.029431</td>\n",
       "      <td>-0.271324</td>\n",
       "      <td>0.768654</td>\n",
       "      <td>0.171264</td>\n",
       "      <td>0.657400</td>\n",
       "      <td>0.276476</td>\n",
       "      <td>0.286717</td>\n",
       "    </tr>\n",
       "    <tr>\n",
       "      <th>average_income</th>\n",
       "      <td>0.162461</td>\n",
       "      <td>0.066612</td>\n",
       "      <td>-0.227952</td>\n",
       "      <td>0.399694</td>\n",
       "      <td>0.919931</td>\n",
       "      <td>1.000000</td>\n",
       "      <td>0.894979</td>\n",
       "      <td>0.048290</td>\n",
       "      <td>0.030165</td>\n",
       "      <td>-0.242707</td>\n",
       "      <td>0.790588</td>\n",
       "      <td>0.218326</td>\n",
       "      <td>0.630767</td>\n",
       "      <td>0.305785</td>\n",
       "      <td>0.268825</td>\n",
       "    </tr>\n",
       "    <tr>\n",
       "      <th>median_income</th>\n",
       "      <td>-0.021242</td>\n",
       "      <td>0.139359</td>\n",
       "      <td>-0.299782</td>\n",
       "      <td>0.450768</td>\n",
       "      <td>0.816968</td>\n",
       "      <td>0.894979</td>\n",
       "      <td>1.000000</td>\n",
       "      <td>0.071965</td>\n",
       "      <td>0.029604</td>\n",
       "      <td>-0.351335</td>\n",
       "      <td>0.599410</td>\n",
       "      <td>0.256427</td>\n",
       "      <td>0.579044</td>\n",
       "      <td>0.285828</td>\n",
       "      <td>0.259739</td>\n",
       "    </tr>\n",
       "    <tr>\n",
       "      <th>vote_pop</th>\n",
       "      <td>0.129315</td>\n",
       "      <td>0.535567</td>\n",
       "      <td>-0.417270</td>\n",
       "      <td>-0.510008</td>\n",
       "      <td>0.051610</td>\n",
       "      <td>0.048290</td>\n",
       "      <td>0.071965</td>\n",
       "      <td>1.000000</td>\n",
       "      <td>0.980175</td>\n",
       "      <td>-0.180314</td>\n",
       "      <td>0.183291</td>\n",
       "      <td>0.214682</td>\n",
       "      <td>0.260759</td>\n",
       "      <td>0.858827</td>\n",
       "      <td>0.207489</td>\n",
       "    </tr>\n",
       "    <tr>\n",
       "      <th>older_pop</th>\n",
       "      <td>0.139827</td>\n",
       "      <td>0.499849</td>\n",
       "      <td>-0.387200</td>\n",
       "      <td>-0.480089</td>\n",
       "      <td>0.029431</td>\n",
       "      <td>0.030165</td>\n",
       "      <td>0.029604</td>\n",
       "      <td>0.980175</td>\n",
       "      <td>1.000000</td>\n",
       "      <td>-0.065312</td>\n",
       "      <td>0.158135</td>\n",
       "      <td>0.188841</td>\n",
       "      <td>0.266698</td>\n",
       "      <td>0.858228</td>\n",
       "      <td>0.204933</td>\n",
       "    </tr>\n",
       "    <tr>\n",
       "      <th>per_older</th>\n",
       "      <td>-0.234684</td>\n",
       "      <td>-0.218402</td>\n",
       "      <td>0.337831</td>\n",
       "      <td>0.107490</td>\n",
       "      <td>-0.271324</td>\n",
       "      <td>-0.242707</td>\n",
       "      <td>-0.351335</td>\n",
       "      <td>-0.180314</td>\n",
       "      <td>-0.065312</td>\n",
       "      <td>1.000000</td>\n",
       "      <td>-0.377947</td>\n",
       "      <td>-0.069801</td>\n",
       "      <td>0.198523</td>\n",
       "      <td>-0.120084</td>\n",
       "      <td>-0.032716</td>\n",
       "    </tr>\n",
       "    <tr>\n",
       "      <th>per_vote</th>\n",
       "      <td>0.433406</td>\n",
       "      <td>0.095951</td>\n",
       "      <td>-0.339764</td>\n",
       "      <td>0.011944</td>\n",
       "      <td>0.768654</td>\n",
       "      <td>0.790588</td>\n",
       "      <td>0.599410</td>\n",
       "      <td>0.183291</td>\n",
       "      <td>0.158135</td>\n",
       "      <td>-0.377947</td>\n",
       "      <td>1.000000</td>\n",
       "      <td>0.321060</td>\n",
       "      <td>0.592560</td>\n",
       "      <td>0.355494</td>\n",
       "      <td>0.237567</td>\n",
       "    </tr>\n",
       "    <tr>\n",
       "      <th>no_party</th>\n",
       "      <td>0.197686</td>\n",
       "      <td>0.422724</td>\n",
       "      <td>-0.550929</td>\n",
       "      <td>-0.306684</td>\n",
       "      <td>0.171264</td>\n",
       "      <td>0.218326</td>\n",
       "      <td>0.256427</td>\n",
       "      <td>0.214682</td>\n",
       "      <td>0.188841</td>\n",
       "      <td>-0.069801</td>\n",
       "      <td>0.321060</td>\n",
       "      <td>1.000000</td>\n",
       "      <td>0.445480</td>\n",
       "      <td>0.234278</td>\n",
       "      <td>0.045826</td>\n",
       "    </tr>\n",
       "    <tr>\n",
       "      <th>PVI</th>\n",
       "      <td>0.044183</td>\n",
       "      <td>0.280766</td>\n",
       "      <td>-0.407599</td>\n",
       "      <td>0.039446</td>\n",
       "      <td>0.657400</td>\n",
       "      <td>0.630767</td>\n",
       "      <td>0.579044</td>\n",
       "      <td>0.260759</td>\n",
       "      <td>0.266698</td>\n",
       "      <td>0.198523</td>\n",
       "      <td>0.592560</td>\n",
       "      <td>0.445480</td>\n",
       "      <td>1.000000</td>\n",
       "      <td>0.425935</td>\n",
       "      <td>0.293637</td>\n",
       "    </tr>\n",
       "    <tr>\n",
       "      <th>amount</th>\n",
       "      <td>0.172067</td>\n",
       "      <td>0.489376</td>\n",
       "      <td>-0.444446</td>\n",
       "      <td>-0.382779</td>\n",
       "      <td>0.276476</td>\n",
       "      <td>0.305785</td>\n",
       "      <td>0.285828</td>\n",
       "      <td>0.858827</td>\n",
       "      <td>0.858228</td>\n",
       "      <td>-0.120084</td>\n",
       "      <td>0.355494</td>\n",
       "      <td>0.234278</td>\n",
       "      <td>0.425935</td>\n",
       "      <td>1.000000</td>\n",
       "      <td>0.271460</td>\n",
       "    </tr>\n",
       "    <tr>\n",
       "      <th>amount_trump</th>\n",
       "      <td>-0.002696</td>\n",
       "      <td>0.112234</td>\n",
       "      <td>-0.064379</td>\n",
       "      <td>-0.039135</td>\n",
       "      <td>0.286717</td>\n",
       "      <td>0.268825</td>\n",
       "      <td>0.259739</td>\n",
       "      <td>0.207489</td>\n",
       "      <td>0.204933</td>\n",
       "      <td>-0.032716</td>\n",
       "      <td>0.237567</td>\n",
       "      <td>0.045826</td>\n",
       "      <td>0.293637</td>\n",
       "      <td>0.271460</td>\n",
       "      <td>1.000000</td>\n",
       "    </tr>\n",
       "  </tbody>\n",
       "</table>\n",
       "</div>"
      ],
      "text/plain": [
       "                per_black  per_hisp  per_white   educ_hs  educ_coll  \\\n",
       "per_black        1.000000 -0.106697  -0.452714 -0.454959   0.175171   \n",
       "per_hisp        -0.106697  1.000000  -0.643081 -0.453786   0.111077   \n",
       "per_white       -0.452714 -0.643081   1.000000  0.499271  -0.225969   \n",
       "educ_hs         -0.454959 -0.453786   0.499271  1.000000   0.396163   \n",
       "educ_coll        0.175171  0.111077  -0.225969  0.396163   1.000000   \n",
       "average_income   0.162461  0.066612  -0.227952  0.399694   0.919931   \n",
       "median_income   -0.021242  0.139359  -0.299782  0.450768   0.816968   \n",
       "vote_pop         0.129315  0.535567  -0.417270 -0.510008   0.051610   \n",
       "older_pop        0.139827  0.499849  -0.387200 -0.480089   0.029431   \n",
       "per_older       -0.234684 -0.218402   0.337831  0.107490  -0.271324   \n",
       "per_vote         0.433406  0.095951  -0.339764  0.011944   0.768654   \n",
       "no_party         0.197686  0.422724  -0.550929 -0.306684   0.171264   \n",
       "PVI              0.044183  0.280766  -0.407599  0.039446   0.657400   \n",
       "amount           0.172067  0.489376  -0.444446 -0.382779   0.276476   \n",
       "amount_trump    -0.002696  0.112234  -0.064379 -0.039135   0.286717   \n",
       "\n",
       "                average_income  median_income  vote_pop  older_pop  per_older  \\\n",
       "per_black             0.162461      -0.021242  0.129315   0.139827  -0.234684   \n",
       "per_hisp              0.066612       0.139359  0.535567   0.499849  -0.218402   \n",
       "per_white            -0.227952      -0.299782 -0.417270  -0.387200   0.337831   \n",
       "educ_hs               0.399694       0.450768 -0.510008  -0.480089   0.107490   \n",
       "educ_coll             0.919931       0.816968  0.051610   0.029431  -0.271324   \n",
       "average_income        1.000000       0.894979  0.048290   0.030165  -0.242707   \n",
       "median_income         0.894979       1.000000  0.071965   0.029604  -0.351335   \n",
       "vote_pop              0.048290       0.071965  1.000000   0.980175  -0.180314   \n",
       "older_pop             0.030165       0.029604  0.980175   1.000000  -0.065312   \n",
       "per_older            -0.242707      -0.351335 -0.180314  -0.065312   1.000000   \n",
       "per_vote              0.790588       0.599410  0.183291   0.158135  -0.377947   \n",
       "no_party              0.218326       0.256427  0.214682   0.188841  -0.069801   \n",
       "PVI                   0.630767       0.579044  0.260759   0.266698   0.198523   \n",
       "amount                0.305785       0.285828  0.858827   0.858228  -0.120084   \n",
       "amount_trump          0.268825       0.259739  0.207489   0.204933  -0.032716   \n",
       "\n",
       "                per_vote  no_party       PVI    amount  amount_trump  \n",
       "per_black       0.433406  0.197686  0.044183  0.172067     -0.002696  \n",
       "per_hisp        0.095951  0.422724  0.280766  0.489376      0.112234  \n",
       "per_white      -0.339764 -0.550929 -0.407599 -0.444446     -0.064379  \n",
       "educ_hs         0.011944 -0.306684  0.039446 -0.382779     -0.039135  \n",
       "educ_coll       0.768654  0.171264  0.657400  0.276476      0.286717  \n",
       "average_income  0.790588  0.218326  0.630767  0.305785      0.268825  \n",
       "median_income   0.599410  0.256427  0.579044  0.285828      0.259739  \n",
       "vote_pop        0.183291  0.214682  0.260759  0.858827      0.207489  \n",
       "older_pop       0.158135  0.188841  0.266698  0.858228      0.204933  \n",
       "per_older      -0.377947 -0.069801  0.198523 -0.120084     -0.032716  \n",
       "per_vote        1.000000  0.321060  0.592560  0.355494      0.237567  \n",
       "no_party        0.321060  1.000000  0.445480  0.234278      0.045826  \n",
       "PVI             0.592560  0.445480  1.000000  0.425935      0.293637  \n",
       "amount          0.355494  0.234278  0.425935  1.000000      0.271460  \n",
       "amount_trump    0.237567  0.045826  0.293637  0.271460      1.000000  "
      ]
     },
     "execution_count": 1463,
     "metadata": {},
     "output_type": "execute_result"
    }
   ],
   "source": [
    "demo_data.corr()#[['amount', 'amount_trump']]"
   ]
  },
  {
   "cell_type": "markdown",
   "metadata": {},
   "source": [
    "There are weak correlations between all the demographics data to the fec contributions for each candidate."
   ]
  },
  {
   "cell_type": "code",
   "execution_count": 1464,
   "metadata": {},
   "outputs": [
    {
     "data": {
      "text/plain": [
       "<matplotlib.axes._subplots.AxesSubplot at 0x1a3c5aad50>"
      ]
     },
     "execution_count": 1464,
     "metadata": {},
     "output_type": "execute_result"
    },
    {
     "data": {
      "image/png": "[encoded data removed]",
      "text/plain": [
       "<Figure size 1440x1440 with 2 Axes>"
      ]
     },
     "metadata": {},
     "output_type": "display_data"
    }
   ],
   "source": [
    "# from string import ascii_letters\n",
    "import numpy as np\n",
    "import pandas as pd\n",
    "import seaborn as sns\n",
    "import matplotlib.pyplot as plt\n",
    "\n",
    "sns.set(style=\"white\")\n",
    "\n",
    "# Generate a large random dataset\n",
    "rs = np.random.RandomState(33)\n",
    "d = pd.DataFrame(data=rs.normal(size=(100, 26)),\n",
    "                 columns=list(ascii_letters[26:]))\n",
    "\n",
    "# Compute the correlation matrix\n",
    "corr = demo_data.corr()#[['amount', 'amount_trump']]\n",
    "\n",
    "# Generate a mask for the upper triangle\n",
    "mask = np.triu(np.ones_like(corr, dtype=np.bool))\n",
    "\n",
    "# Set up the matplotlib figure\n",
    "f, ax = plt.subplots(figsize=(20, 20))\n",
    "\n",
    "# Draw the heatmap with the mask and correct aspect ratio\n",
    "sns.heatmap(corr, mask=mask, cmap=\"Blues\", vmax=1, center=0,square=True, linewidths=.5, annot = True)"
   ]
  },
  {
   "cell_type": "code",
   "execution_count": 1465,
   "metadata": {},
   "outputs": [
    {
     "data": {
      "text/html": [
       "<div>\n",
       "<style scoped>\n",
       "    .dataframe tbody tr th:only-of-type {\n",
       "        vertical-align: middle;\n",
       "    }\n",
       "\n",
       "    .dataframe tbody tr th {\n",
       "        vertical-align: top;\n",
       "    }\n",
       "\n",
       "    .dataframe thead th {\n",
       "        text-align: right;\n",
       "    }\n",
       "</style>\n",
       "<table border=\"1\" class=\"dataframe\">\n",
       "  <thead>\n",
       "    <tr style=\"text-align: right;\">\n",
       "      <th></th>\n",
       "      <th>amount</th>\n",
       "      <th>amount_trump</th>\n",
       "    </tr>\n",
       "    <tr>\n",
       "      <th>state</th>\n",
       "      <th></th>\n",
       "      <th></th>\n",
       "    </tr>\n",
       "  </thead>\n",
       "  <tbody>\n",
       "    <tr>\n",
       "      <th>Alabama</th>\n",
       "      <td>0.054218</td>\n",
       "      <td>0.202494</td>\n",
       "    </tr>\n",
       "    <tr>\n",
       "      <th>Alaska</th>\n",
       "      <td>0.069696</td>\n",
       "      <td>0.377822</td>\n",
       "    </tr>\n",
       "    <tr>\n",
       "      <th>Arizona</th>\n",
       "      <td>0.051191</td>\n",
       "      <td>0.305368</td>\n",
       "    </tr>\n",
       "    <tr>\n",
       "      <th>Arkansas</th>\n",
       "      <td>0.031376</td>\n",
       "      <td>0.153866</td>\n",
       "    </tr>\n",
       "    <tr>\n",
       "      <th>California</th>\n",
       "      <td>0.251148</td>\n",
       "      <td>0.310209</td>\n",
       "    </tr>\n",
       "  </tbody>\n",
       "</table>\n",
       "</div>"
      ],
      "text/plain": [
       "              amount  amount_trump\n",
       "state                             \n",
       "Alabama     0.054218      0.202494\n",
       "Alaska      0.069696      0.377822\n",
       "Arizona     0.051191      0.305368\n",
       "Arkansas    0.031376      0.153866\n",
       "California  0.251148      0.310209"
      ]
     },
     "execution_count": 1465,
     "metadata": {},
     "output_type": "execute_result"
    }
   ],
   "source": [
    "giving = demo_data[[\"amount\", \"amount_trump\"]].div(demo_data[[\"vote_pop\", \"older_pop\"]].sum(1), axis=0)\n",
    "giving.head()"
   ]
  },
  {
   "cell_type": "code",
   "execution_count": 1466,
   "metadata": {},
   "outputs": [],
   "source": [
    "demo_data[[\"amount\", \"amount_trump\"]] = giving"
   ]
  },
  {
   "cell_type": "code",
   "execution_count": 1467,
   "metadata": {},
   "outputs": [
    {
     "data": {
      "text/plain": [
       "array([[      26.8   ,        4.4   ,       65.4   ,       85.8   ,\n",
       "              24.9   ,    26846.    ,    48486.    ,       94.4   ,\n",
       "         2981136.48  ,   828638.265 ,        0.169 ,        0.608 ,\n",
       "             -15.    ,       15.    ,      -27.    ,        0.0542,\n",
       "               0.2025],\n",
       "       [       3.8   ,        7.2   ,       60.3   ,       92.7   ,\n",
       "              29.2   ,    35874.    ,    76715.    ,        1.2   ,\n",
       "          463067.985 ,    86322.31  ,        0.118 ,        0.633 ,\n",
       "             -21.    ,       17.    ,      -15.    ,        0.0697,\n",
       "               0.3778],\n",
       "       [       5.1   ,       31.6   ,       54.4   ,       86.8   ,\n",
       "              28.9   ,    29265.    ,    56213.    ,       56.3   ,\n",
       "         4338115.332 ,  1273775.475 ,        0.175 ,        0.596 ,\n",
       "              -2.    ,       18.    ,       -9.    ,        0.0512,\n",
       "               0.3054],\n",
       "       [      15.7   ,        7.7   ,       72.2   ,       86.2   ,\n",
       "              22.6   ,    25635.    ,    45726.    ,       56.    ,\n",
       "         1801628.988 ,   513026.68  ,        0.17  ,        0.597 ,\n",
       "              -9.    ,       19.    ,      -24.    ,        0.0314,\n",
       "               0.1539],\n",
       "       [       6.5   ,       39.3   ,       36.8   ,       82.9   ,\n",
       "              33.3   ,    35021.    ,    71228.    ,      239.1   ,\n",
       "        24892700.49  ,  5650247.889 ,        0.143 ,        0.63  ,\n",
       "              21.    ,       19.    ,       24.    ,        0.2511,\n",
       "               0.3102],\n",
       "       [       4.6   ,       21.7   ,       67.9   ,       91.4   ,\n",
       "              40.1   ,    36415.    ,    68811.    ,       48.5   ,\n",
       "         3662556.096 ,   817740.512 ,        0.142 ,        0.636 ,\n",
       "               9.    ,       17.    ,        1.    ,        0.1565,\n",
       "               0.2725],\n",
       "       [      12.    ,       16.5   ,       66.5   ,       90.5   ,\n",
       "              38.9   ,    43056.    ,    76106.    ,      738.1   ,\n",
       "         2217608.514 ,   613229.364 ,        0.172 ,        0.622 ,\n",
       "              19.    ,       17.    ,       11.    ,        0.3169,\n",
       "               0.1936],\n",
       "       [      23.    ,        9.5   ,       61.9   ,       89.8   ,\n",
       "              31.4   ,    33989.    ,    65627.    ,      460.8   ,\n",
       "          586205.928 ,   182093.868 ,        0.187 ,        0.602 ,\n",
       "              12.    ,       22.    ,       14.    ,        1.2599,\n",
       "               0.1898],\n",
       "       [      16.9   ,       26.1   ,       53.5   ,       88.    ,\n",
       "              29.2   ,    30197.    ,    53267.    ,      350.6   ,\n",
       "        13187330.518 ,  4402936.085 ,        0.205 ,        0.614 ,\n",
       "               3.    ,       19.    ,       -5.    ,        0.2063,\n",
       "               0.405 ],\n",
       "       [      32.4   ,        9.8   ,       52.4   ,       86.7   ,\n",
       "              30.7   ,    29523.    ,    55679.    ,      168.4   ,\n",
       "         6614654.529 ,  1475821.797 ,        0.139 ,        0.623 ,\n",
       "               2.    ,       18.    ,      -12.    ,        0.0912,\n",
       "               0.2066],\n",
       "       [       2.2   ,       10.7   ,       21.8   ,       91.8   ,\n",
       "              32.5   ,    34035.    ,    78084.    ,      211.8   ,\n",
       "          852354.944 ,   260520.448 ,        0.184 ,        0.602 ,\n",
       "              22.    ,       22.    ,       36.    ,        0.0518,\n",
       "               0.1763],\n",
       "       [       0.9   ,       12.7   ,       81.7   ,       90.6   ,\n",
       "              26.9   ,    26772.    ,    53089.    ,       19.    ,\n",
       "         1047220.09  ,   284143.335 ,        0.159 ,        0.586 ,\n",
       "             -22.    ,       16.    ,      -35.    ,        0.1435,\n",
       "               0.2615],\n",
       "       [      14.6   ,       17.4   ,       61.    ,       88.9   ,\n",
       "              34.1   ,    34463.    ,    63575.    ,      231.1   ,\n",
       "         7856529.02  ,  1976804.076 ,        0.156 ,        0.62  ,\n",
       "              17.    ,       17.    ,       13.    ,        0.1744,\n",
       "               0.1458],\n",
       "       [       9.8   ,        7.1   ,       78.9   ,       88.6   ,\n",
       "              25.9   ,    28461.    ,    54325.    ,      231.1   ,\n",
       "         4093189.152 ,  1063690.602 ,        0.158 ,        0.608 ,\n",
       "              -2.    ,       16.    ,      -18.    ,        0.0283,\n",
       "               0.1973],\n",
       "       [       4.    ,        6.2   ,       85.3   ,       92.    ,\n",
       "              28.2   ,    31085.    ,    58580.    ,       54.5   ,\n",
       "         1883576.79  ,   539516.97  ,        0.171 ,        0.597 ,\n",
       "               0.    ,       16.    ,       -6.    ,        0.0764,\n",
       "               0.146 ],\n",
       "       [       6.1   ,       12.1   ,       75.7   ,       90.7   ,\n",
       "              32.9   ,    30757.    ,    57422.    ,       34.9   ,\n",
       "         1774208.226 ,   463216.926 ,        0.159 ,        0.609 ,\n",
       "             -14.    ,       18.    ,      -23.    ,        0.0228,\n",
       "               0.1947],\n",
       "       [       8.4   ,        3.8   ,       84.3   ,       85.7   ,\n",
       "              23.6   ,    26948.    ,    48392.    ,      109.9   ,\n",
       "         2725280.53  ,   732698.372 ,        0.164 ,        0.61  ,\n",
       "              -4.    ,       14.    ,      -23.    ,        0.0342,\n",
       "               0.158 ],\n",
       "       [      32.7   ,        5.2   ,       58.6   ,       84.8   ,\n",
       "              23.7   ,    27027.    ,    47942.    ,      104.9   ,\n",
       "         2840413.134 ,   715914.276 ,        0.154 ,        0.611 ,\n",
       "              -3.    ,       17.    ,      -17.    ,        0.109 ,\n",
       "               0.3306],\n",
       "       [       1.6   ,        1.7   ,       93.1   ,       92.3   ,\n",
       "              30.9   ,    31253.    ,    55425.    ,       43.1   ,\n",
       "          815936.684 ,   276907.672 ,        0.206 ,        0.607 ,\n",
       "               8.    ,       14.    ,        5.    ,        0.0642,\n",
       "               0.124 ],\n",
       "       [      30.9   ,       10.4   ,       50.5   ,       90.    ,\n",
       "              39.6   ,    40517.    ,    81868.    ,      594.8   ,\n",
       "         3772504.32  ,   931034.72  ,        0.154 ,        0.624 ,\n",
       "              28.    ,       16.    ,       23.    ,        0.3783,\n",
       "               0.1759],\n",
       "       [       8.9   ,       12.3   ,       71.4   ,       90.4   ,\n",
       "              42.9   ,    41794.    ,    77378.    ,      839.4   ,\n",
       "         4390524.411 ,  1137262.995 ,        0.165 ,        0.637 ,\n",
       "              31.    ,       17.    ,       29.    ,        0.3424,\n",
       "              12.2005],\n",
       "       [      14.1   ,        5.2   ,       74.9   ,       90.5   ,\n",
       "              28.6   ,    30336.    ,    54938.    ,      174.8   ,\n",
       "         6101969.627 ,  1717739.404 ,        0.172 ,        0.611 ,\n",
       "               7.    ,       17.    ,        1.    ,        0.0608,\n",
       "               0.185 ],\n",
       "       [       6.8   ,        5.5   ,       79.5   ,       93.    ,\n",
       "              35.4   ,    36245.    ,    68411.    ,       66.6   ,\n",
       "         3434535.888 ,   896701.488 ,        0.159 ,        0.609 ,\n",
       "              10.    ,       16.    ,        2.    ,        0.0472,\n",
       "               0.1524],\n",
       "       [      37.8   ,        3.4   ,       56.5   ,       83.9   ,\n",
       "              21.8   ,    23434.    ,    43567.    ,       63.2   ,\n",
       "         1800570.145 ,   473207.691 ,        0.159 ,        0.605 ,\n",
       "              -7.    ,       17.    ,      -15.    ,        0.0228,\n",
       "               0.1819],\n",
       "       [      11.8   ,        4.3   ,       79.3   ,       89.6   ,\n",
       "              28.6   ,    29537.    ,    53560.    ,       87.1   ,\n",
       "         3719281.368 ,  1037225.332 ,        0.169 ,        0.606 ,\n",
       "              -7.    ,       17.    ,      -19.    ,        0.0811,\n",
       "               0.1628],\n",
       "       [       0.6   ,        4.    ,       85.9   ,       93.2   ,\n",
       "              31.2   ,    29765.    ,    52559.    ,        6.8   ,\n",
       "          638060.466 ,   199861.486 ,        0.187 ,        0.597 ,\n",
       "             -14.    ,       12.    ,      -18.    ,        0.0519,\n",
       "               0.2781],\n",
       "       [       5.1   ,       11.2   ,       78.6   ,       91.1   ,\n",
       "              31.3   ,    31101.    ,    59116.    ,       23.8   ,\n",
       "         1152907.168 ,   303702.056 ,        0.157 ,        0.596 ,\n",
       "             -15.    ,       15.    ,      -24.    ,        0.0285,\n",
       "               0.2027],\n",
       "       [      10.1   ,       29.    ,       48.7   ,       86.3   ,\n",
       "              24.2   ,    29961.    ,    57598.    ,       24.6   ,\n",
       "         1897376.096 ,   483584.492 ,        0.157 ,        0.616 ,\n",
       "               3.    ,       19.    ,       -1.    ,        0.3441,\n",
       "               0.33  ],\n",
       "       [       1.7   ,        3.9   ,       90.    ,       92.9   ,\n",
       "              36.5   ,    38548.    ,    74057.    ,      147.    ,\n",
       "          855258.219 ,   246107.691 ,        0.181 ,        0.629 ,\n",
       "               3.    ,       17.    ,       -2.    ,        0.1985,\n",
       "               0.2858],\n",
       "       [      15.    ,       20.6   ,       54.9   ,       89.5   ,\n",
       "              38.9   ,    40895.    ,    79363.    ,     1195.5   ,\n",
       "         5506957.8   ,  1430032.59  ,        0.161 ,        0.62  ,\n",
       "              15.    ,       19.    ,       13.    ,        0.143 ,\n",
       "               0.2299],\n",
       "       [       2.6   ,       49.1   ,       37.1   ,       85.3   ,\n",
       "              27.1   ,    26085.    ,    48059.    ,       17.    ,\n",
       "         1247613.255 ,   366945.075 ,        0.175 ,        0.595 ,\n",
       "              14.    ,       18.    ,        7.    ,        0.0849,\n",
       "               0.2668],\n",
       "       [      17.6   ,       19.2   ,       55.4   ,       86.5   ,\n",
       "              35.9   ,    37470.    ,    65323.    ,      411.2   ,\n",
       "        12216836.308 ,  3190384.004 ,        0.164 ,        0.628 ,\n",
       "              23.    ,       19.    ,       22.    ,        0.3782,\n",
       "               0.2242],\n",
       "       [      22.2   ,        9.6   ,       62.8   ,       87.4   ,\n",
       "              30.5   ,    29456.    ,    52413.    ,      196.1   ,\n",
       "         6450171.66  ,  1709557.692 ,        0.163 ,        0.615 ,\n",
       "               5.    ,       17.    ,       -5.    ,        0.0925,\n",
       "               0.1848],\n",
       "       [       3.4   ,        3.9   ,       84.    ,       92.5   ,\n",
       "              29.5   ,    35373.    ,    63473.    ,        9.7   ,\n",
       "          466381.944 ,   116595.486 ,        0.153 ,        0.612 ,\n",
       "             -28.    ,       16.    ,      -33.    ,        0.0087,\n",
       "               0.2411],\n",
       "       [      13.    ,        3.9   ,       78.7   ,       90.1   ,\n",
       "              27.8   ,    30304.    ,    54533.    ,      282.3   ,\n",
       "         7095283.7   ,  1998836.1   ,        0.171 ,        0.607 ,\n",
       "              -1.    ,       17.    ,       -7.    ,        0.0469,\n",
       "               0.2607],\n",
       "       [       7.8   ,       10.9   ,       65.3   ,       87.8   ,\n",
       "              25.2   ,    27432.    ,    51424.    ,       54.7   ,\n",
       "         2374182.6   ,   621244.447 ,        0.157 ,        0.6   ,\n",
       "             -14.    ,       16.    ,      -34.    ,        0.0263,\n",
       "               0.2224],\n",
       "       [       2.2   ,       13.3   ,       75.3   ,       90.4   ,\n",
       "              32.9   ,    32045.    ,    59393.    ,       39.9   ,\n",
       "         2598125.992 ,   742321.712 ,        0.176 ,        0.616 ,\n",
       "              13.    ,       15.    ,        9.    ,        0.0926,\n",
       "               0.1739],\n",
       "       [      12.    ,        7.6   ,       76.1   ,       90.2   ,\n",
       "              30.8   ,    32889.    ,    59445.    ,      283.9   ,\n",
       "         7822015.279 ,  2329961.998 ,        0.182 ,        0.611 ,\n",
       "               5.    ,       13.    ,       -1.    ,        0.2391,\n",
       "               0.172 ],\n",
       "       [       8.4   ,       15.9   ,       72.    ,       88.    ,\n",
       "              33.3   ,    34619.    ,    63296.    ,     1018.1   ,\n",
       "          671634.874 ,   182210.092 ,        0.172 ,        0.634 ,\n",
       "              21.    ,       25.    ,       26.    ,        0.1726,\n",
       "               0.1146],\n",
       "       [      27.1   ,        5.8   ,       63.7   ,       87.1   ,\n",
       "              27.4   ,    27986.    ,    51015.    ,      153.9   ,\n",
       "         3114971.97  ,   911322.378 ,        0.177 ,        0.605 ,\n",
       "             -10.    ,       16.    ,      -17.    ,        0.1294,\n",
       "               0.201 ],\n",
       "       [       2.4   ,        4.1   ,       81.4   ,       91.7   ,\n",
       "              28.5   ,    29801.    ,    56499.    ,       10.7   ,\n",
       "          519294.833 ,   146853.394 ,        0.166 ,        0.587 ,\n",
       "             -17.    ,       13.    ,      -31.    ,        0.0185,\n",
       "               0.2149],\n",
       "       [      17.1   ,        5.6   ,       73.7   ,       87.    ,\n",
       "              26.6   ,    28511.    ,    50972.    ,      153.9   ,\n",
       "         4193112.836 ,  1119984.536 ,        0.164 ,        0.614 ,\n",
       "             -12.    ,       18.    ,      -28.    ,        0.1006,\n",
       "               0.2309],\n",
       "       [      12.8   ,       39.6   ,       41.5   ,       83.2   ,\n",
       "              29.3   ,    30143.    ,    59570.    ,       96.3   ,\n",
       "        17861462.696 ,  3653481.006 ,        0.126 ,        0.616 ,\n",
       "              -3.    ,       21.    ,      -17.    ,        0.1069,\n",
       "               0.358 ],\n",
       "       [       1.4   ,       14.2   ,       78.    ,       92.    ,\n",
       "              33.3   ,    28239.    ,    68374.    ,       33.6   ,\n",
       "         1904339.052 ,   355861.338 ,        0.111 ,        0.594 ,\n",
       "             -27.    ,       15.    ,      -31.    ,        0.08  ,\n",
       "               0.1651],\n",
       "       [       1.4   ,        2.    ,       92.5   ,       92.6   ,\n",
       "              37.3   ,    33238.    ,    60076.    ,       67.9   ,\n",
       "          387497.169 ,   121053.866 ,        0.194 ,        0.621 ,\n",
       "              22.    ,       18.    ,       24.    ,        0.2402,\n",
       "               0.119 ],\n",
       "       [      19.9   ,        9.6   ,       61.5   ,       89.3   ,\n",
       "              38.2   ,    37763.    ,    71564.    ,      202.6   ,\n",
       "         5343234.894 ,  1314469.926 ,        0.154 ,        0.626 ,\n",
       "               7.    ,       17.    ,        0.    ,        0.2314,\n",
       "               1.8866],\n",
       "       [       4.3   ,       12.9   ,       68.    ,       91.1   ,\n",
       "              35.3   ,    36888.    ,    70116.    ,      101.2   ,\n",
       "         4759308.125 ,  1172693.522 ,        0.154 ,        0.625 ,\n",
       "              15.    ,       17.    ,       12.    ,        0.199 ,\n",
       "               0.2442],\n",
       "       [       3.6   ,        1.7   ,       92.1   ,       86.5   ,\n",
       "              20.3   ,    25479.    ,    44921.    ,       77.1   ,\n",
       "         1073496.053 ,   356637.253 ,        0.199 ,        0.599 ,\n",
       "              -4.    ,       16.    ,      -30.    ,        0.029 ,\n",
       "               0.2543],\n",
       "       [       6.7   ,        6.9   ,       81.1   ,       91.9   ,\n",
       "              29.5   ,    32018.    ,    59209.    ,      105.    ,\n",
       "         3551684.74  ,   989813.78  ,        0.17  ,        0.61  ,\n",
       "               2.    ,       16.    ,       -1.    ,        0.0296,\n",
       "               0.199 ],\n",
       "       [       1.3   ,       10.1   ,       83.8   ,       92.9   ,\n",
       "              26.9   ,    32295.    ,    62268.    ,        5.8   ,\n",
       "          345519.123 ,    98389.03  ,        0.17  ,        0.597 ,\n",
       "             -29.    ,       17.    ,      -47.    ,        0.0825,\n",
       "               0.5232]])"
      ]
     },
     "execution_count": 1467,
     "metadata": {},
     "output_type": "execute_result"
    }
   ],
   "source": [
    "#pop_density\n",
    "#Dem_adv\n",
    "demo_data['pop_density'] = demo_data['pop_density'].str.replace(',','').astype(float)\n",
    "demo_data['Dem_Adv'] = demo_data['Dem_Adv'].astype(float)\n",
    "demo_data = demo_data.drop('District of Columbia', axis = 0)\n",
    "demo_data.values"
   ]
  },
  {
   "cell_type": "code",
   "execution_count": 1468,
   "metadata": {},
   "outputs": [],
   "source": [
    "from scipy import cluster as sp_cluster\n",
    "from sklearn import cluster, neighbors"
   ]
  },
  {
   "cell_type": "code",
   "execution_count": 1469,
   "metadata": {},
   "outputs": [
    {
     "data": {
      "text/plain": [
       "array([[ 2.8162,  0.4261,  4.2035, 30.8143,  4.8975,  5.9334,  4.9441,\n",
       "         0.3652,  0.6526,  0.7444,  9.0604, 47.8624, -1.0029,  6.5676,\n",
       "        -1.3844,  0.288 ,  0.1199],\n",
       "       [ 0.3993,  0.6972,  3.8757, 33.2924,  5.7433,  7.9287,  7.8226,\n",
       "         0.0046,  0.1014,  0.0775,  6.3262, 49.8304, -1.4041,  7.4433,\n",
       "        -0.7691,  0.3702,  0.2236],\n",
       "       [ 0.5359,  3.0601,  3.4965, 31.1735,  5.6843,  6.468 ,  5.732 ,\n",
       "         0.2178,  0.9496,  1.1442,  9.3821, 46.9177, -0.1337,  7.8811,\n",
       "        -0.4615,  0.2719,  0.1808],\n",
       "       [ 1.6498,  0.7457,  4.6405, 30.958 ,  4.4451,  5.6658,  4.6626,\n",
       "         0.2166,  0.3944,  0.4609,  9.114 , 46.9965, -0.6018,  8.3189,\n",
       "        -1.2306,  0.1666,  0.0911],\n",
       "       [ 0.683 ,  3.8058,  2.3653, 29.7728,  6.5497,  7.7402,  7.263 ,\n",
       "         0.9249,  5.4489,  5.0757,  7.6665, 49.5942,  1.4041,  8.3189,\n",
       "         1.2306,  1.3339,  0.1836],\n",
       "       [ 0.4834,  2.1014,  4.3642, 32.8255,  7.8871,  8.0483,  7.0166,\n",
       "         0.1876,  0.8017,  0.7346,  7.6129, 50.0666,  0.6018,  7.4433,\n",
       "         0.0513,  0.831 ,  0.1613],\n",
       "       [ 1.261 ,  1.5978,  4.2742, 32.5023,  7.6511,  9.5161,  7.7605,\n",
       "         2.8552,  0.4854,  0.5509,  9.2212, 48.9645,  1.2704,  7.4433,\n",
       "         0.564 ,  1.6831,  0.1146],\n",
       "       [ 2.4169,  0.92  ,  3.9785, 32.2509,  6.176 ,  7.5121,  6.6919,\n",
       "         1.7825,  0.1283,  0.1636, 10.0254, 47.3901,  0.8024,  9.6325,\n",
       "         0.7178,  6.6917,  0.1123],\n",
       "       [ 1.7759,  2.5275,  3.4386, 31.6044,  5.7433,  6.674 ,  5.4316,\n",
       "         1.3562,  2.8867,  3.9552, 10.9904, 48.3347,  0.2006,  8.3189,\n",
       "        -0.2564,  1.0955,  0.2397],\n",
       "       [ 3.4046,  0.949 ,  3.3679, 31.1375,  6.0383,  6.5251,  5.6775,\n",
       "         0.6514,  1.4479,  1.3257,  7.452 , 49.0432,  0.1337,  7.8811,\n",
       "        -0.6153,  0.4845,  0.1223],\n",
       "       [ 0.2312,  1.0362,  1.4012, 32.9692,  6.3923,  7.5223,  7.9621,\n",
       "         0.8193,  0.1866,  0.234 ,  9.8646, 47.3901,  1.471 ,  9.6325,\n",
       "         1.8458,  0.2752,  0.1044],\n",
       "       [ 0.0946,  1.2299,  5.2511, 32.5382,  5.2909,  5.917 ,  5.4134,\n",
       "         0.0735,  0.2292,  0.2552,  8.5243, 46.1305, -1.471 ,  7.0054,\n",
       "        -1.7946,  0.7621,  0.1548],\n",
       "       [ 1.5342,  1.685 ,  3.9207, 31.9277,  6.707 ,  7.6169,  6.4827,\n",
       "         0.894 ,  1.7198,  1.7758,  8.3634, 48.807 ,  1.1367,  7.4433,\n",
       "         0.6666,  0.9265,  0.0863],\n",
       "       [ 1.0298,  0.6876,  5.0712, 31.8199,  5.0942,  6.2903,  5.5395,\n",
       "         0.894 ,  0.896 ,  0.9555,  8.4707, 47.8624, -0.1337,  7.0054,\n",
       "        -0.9229,  0.1501,  0.1168],\n",
       "       [ 0.4203,  0.6004,  5.4825, 33.041 ,  5.5466,  6.8703,  5.9733,\n",
       "         0.2108,  0.4123,  0.4847,  9.1676, 46.9965,  0.    ,  7.0054,\n",
       "        -0.3076,  0.4056,  0.0864],\n",
       "       [ 0.641 ,  1.1718,  4.8655, 32.5741,  6.471 ,  6.7978,  5.8553,\n",
       "         0.135 ,  0.3884,  0.4161,  8.5243, 47.9411, -0.9361,  7.8811,\n",
       "        -1.1793,  0.1209,  0.1152],\n",
       "       [ 0.8827,  0.368 ,  5.4182, 30.7784,  4.6418,  5.9559,  4.9345,\n",
       "         0.4251,  0.5966,  0.6582,  8.7923, 48.0198, -0.2675,  6.1297,\n",
       "        -1.1793,  0.1817,  0.0935],\n",
       "       [ 3.4361,  0.5036,  3.7664, 30.4552,  4.6615,  5.9734,  4.8886,\n",
       "         0.4058,  0.6218,  0.6431,  8.2562, 48.0985, -0.2006,  7.4433,\n",
       "        -0.8717,  0.5791,  0.1957],\n",
       "       [ 0.1681,  0.1646,  5.9838, 33.1487,  6.0776,  6.9074,  5.6516,\n",
       "         0.1667,  0.1786,  0.2487, 11.044 , 47.7837,  0.5349,  6.1297,\n",
       "         0.2564,  0.3409,  0.0734],\n",
       "       [ 3.247 ,  1.0071,  3.2458, 32.3227,  7.7888,  8.9549,  8.348 ,\n",
       "         2.3009,  0.8258,  0.8364,  8.2562, 49.1219,  1.8722,  7.0054,\n",
       "         1.1793,  2.0091,  0.1041],\n",
       "       [ 0.9352,  1.1911,  4.5891, 32.4664,  8.4379,  9.2372,  7.8902,\n",
       "         3.2471,  0.9611,  1.0216,  8.8459, 50.1453,  2.0728,  7.4433,\n",
       "         1.4869,  1.8187,  7.2219],\n",
       "       [ 1.4816,  0.5036,  4.8141, 32.5023,  5.6252,  6.7048,  5.602 ,\n",
       "         0.6762,  1.3357,  1.5431,  9.2212, 48.0985,  0.468 ,  7.4433,\n",
       "         0.0513,  0.3227,  0.1095],\n",
       "       [ 0.7145,  0.5326,  5.1097, 33.4001,  6.9627,  8.0107,  6.9758,\n",
       "         0.2576,  0.7518,  0.8055,  8.5243, 47.9411,  0.6686,  7.0054,\n",
       "         0.1025,  0.2506,  0.0902],\n",
       "       [ 3.9721,  0.3293,  3.6314, 30.1319,  4.2878,  5.1793,  4.4425,\n",
       "         0.2445,  0.3941,  0.4251,  8.5243, 47.6262, -0.468 ,  7.4433,\n",
       "        -0.7691,  0.1209,  0.1077],\n",
       "       [ 1.24  ,  0.4164,  5.0969, 32.1791,  5.6252,  6.5282,  5.4615,\n",
       "         0.3369,  0.8141,  0.9318,  9.0604, 47.7049, -0.468 ,  7.4433,\n",
       "        -0.9742,  0.4307,  0.0964],\n",
       "       [ 0.063 ,  0.3874,  5.5211, 33.472 ,  6.1366,  6.5786,  5.3594,\n",
       "         0.0263,  0.1397,  0.1795, 10.0254, 46.9965, -0.9361,  5.2541,\n",
       "        -0.9229,  0.2758,  0.1646],\n",
       "       [ 0.5359,  1.0846,  5.0519, 32.7178,  6.1563,  6.8738,  6.028 ,\n",
       "         0.0921,  0.2524,  0.2728,  8.4171, 46.9177, -1.0029,  6.5676,\n",
       "        -1.2306,  0.1512,  0.12  ],\n",
       "       [ 1.0613,  2.8083,  3.1301, 30.9939,  4.7598,  6.6219,  5.8732,\n",
       "         0.0952,  0.4153,  0.4344,  8.4171, 48.4922,  0.2006,  8.3189,\n",
       "        -0.0513,  1.8279,  0.1953],\n",
       "       [ 0.1786,  0.3777,  5.7846, 33.3642,  7.1791,  8.5197,  7.5515,\n",
       "         0.5686,  0.1872,  0.2211,  9.7037, 49.5155,  0.2006,  7.4433,\n",
       "        -0.1025,  1.0543,  0.1692],\n",
       "       [ 1.5762,  1.9949,  3.5286, 32.1431,  7.6511,  9.0385,  8.0926,\n",
       "         4.6246,  1.2055,  1.2846,  8.6315, 48.807 ,  1.0029,  8.3189,\n",
       "         0.6666,  0.7593,  0.1361],\n",
       "       [ 0.2732,  4.7548,  2.3845, 30.6347,  5.3302,  5.7652,  4.9005,\n",
       "         0.0658,  0.2731,  0.3296,  9.3821, 46.839 ,  0.9361,  7.8811,\n",
       "         0.3589,  0.4509,  0.1579],\n",
       "       [ 1.8494,  1.8593,  3.5607, 31.0657,  7.0611,  8.2815,  6.6609,\n",
       "         1.5907,  2.6742,  2.866 ,  8.7923, 49.4368,  1.5378,  8.3189,\n",
       "         1.128 ,  2.0085,  0.1327],\n",
       "       [ 2.3328,  0.9297,  4.0364, 31.3889,  5.999 ,  6.5103,  5.3445,\n",
       "         0.7586,  1.4119,  1.5357,  8.7387, 48.4134,  0.3343,  7.4433,\n",
       "        -0.2564,  0.4915,  0.1094],\n",
       "       [ 0.3573,  0.3777,  5.399 , 33.2206,  5.8023,  7.818 ,  6.4723,\n",
       "         0.0375,  0.1021,  0.1047,  8.2026, 48.1773, -1.8722,  7.0054,\n",
       "        -1.692 ,  0.046 ,  0.1427],\n",
       "       [ 1.366 ,  0.3777,  5.0583, 32.3586,  5.4679,  6.6977,  5.5607,\n",
       "         1.092 ,  1.5531,  1.7956,  9.1676, 47.7837, -0.0669,  7.4433,\n",
       "        -0.3589,  0.2491,  0.1543],\n",
       "       [ 0.8196,  1.0555,  4.197 , 31.5326,  4.9565,  6.0629,  5.2437,\n",
       "         0.2116,  0.5197,  0.5581,  8.4171, 47.2326, -0.9361,  7.0054,\n",
       "        -1.7433,  0.1394,  0.1317],\n",
       "       [ 0.2312,  1.288 ,  4.8398, 32.4664,  6.471 ,  7.0825,  6.0562,\n",
       "         0.1543,  0.5687,  0.6668,  9.4357, 48.4922,  0.8692,  6.5676,\n",
       "         0.4615,  0.4918,  0.103 ],\n",
       "       [ 1.261 ,  0.736 ,  4.8912, 32.3945,  6.058 ,  7.269 ,  6.0615,\n",
       "         1.0982,  1.7122,  2.093 ,  9.7573, 48.0985,  0.3343,  5.6919,\n",
       "        -0.0513,  1.2698,  0.1018],\n",
       "       [ 0.8827,  1.5397,  4.6277, 31.6044,  6.5497,  7.6514,  6.4542,\n",
       "         3.9384,  0.147 ,  0.1637,  9.2212, 49.9091,  1.4041, 10.946 ,\n",
       "         1.3331,  0.9169,  0.0679],\n",
       "       [ 2.8477,  0.5617,  4.0942, 31.2812,  5.3892,  6.1854,  5.2019,\n",
       "         0.5953,  0.6819,  0.8187,  9.4893, 47.6262, -0.6686,  7.0054,\n",
       "        -0.8717,  0.6874,  0.119 ],\n",
       "       [ 0.2522,  0.397 ,  5.2318, 32.9332,  5.6056,  6.5865,  5.7611,\n",
       "         0.0414,  0.1137,  0.1319,  8.8996, 46.2092, -1.1367,  5.6919,\n",
       "        -1.5895,  0.0984,  0.1272],\n",
       "       [ 1.7969,  0.5423,  4.7369, 31.2453,  5.2319,  6.3014,  5.1976,\n",
       "         0.5953,  0.9179,  1.0061,  8.7923, 48.3347, -0.8024,  7.8811,\n",
       "        -1.4357,  0.5341,  0.1367],\n",
       "       [ 1.345 ,  3.8348,  2.6673, 29.8805,  5.7629,  6.6621,  6.0743,\n",
       "         0.3725,  3.9098,  3.282 ,  6.7551, 48.4922, -0.2006,  9.1946,\n",
       "        -0.8717,  0.5678,  0.2119],\n",
       "       [ 0.1471,  1.3751,  5.0133, 33.041 ,  6.5497,  6.2413,  6.972 ,\n",
       "         0.13  ,  0.4169,  0.3197,  5.9509, 46.7603, -1.8053,  6.5676,\n",
       "        -1.5895,  0.4249,  0.0977],\n",
       "       [ 0.1471,  0.1937,  5.9453, 33.2565,  7.3364,  7.3461,  6.1259,\n",
       "         0.2627,  0.0848,  0.1087, 10.4007, 48.8858,  1.471 ,  7.8811,\n",
       "         1.2306,  1.276 ,  0.0705],\n",
       "       [ 2.0911,  0.9297,  3.9528, 32.0713,  7.5134,  8.3462,  7.2973,\n",
       "         0.7837,  1.1696,  1.1808,  8.2562, 49.2794,  0.468 ,  7.4433,\n",
       "         0.    ,  1.2293,  1.1167],\n",
       "       [ 0.4518,  1.2492,  4.3706, 32.7178,  6.9431,  8.1528,  7.1497,\n",
       "         0.3915,  1.0418,  1.0534,  8.2562, 49.2006,  1.0029,  7.4433,\n",
       "         0.6153,  1.057 ,  0.1446],\n",
       "       [ 0.3783,  0.1646,  5.9196, 31.0657,  3.9927,  5.6313,  4.5805,\n",
       "         0.2982,  0.235 ,  0.3204, 10.6687, 47.1539, -0.2675,  7.0054,\n",
       "        -1.5382,  0.154 ,  0.1505],\n",
       "       [ 0.704 ,  0.6682,  5.2126, 33.0051,  5.8023,  7.0765,  6.0375,\n",
       "         0.4062,  0.7775,  0.8892,  9.114 , 48.0198,  0.1337,  7.0054,\n",
       "        -0.0513,  0.157 ,  0.1178],\n",
       "       [ 0.1366,  0.9781,  5.3861, 33.3642,  5.2909,  7.1377,  6.3494,\n",
       "         0.0224,  0.0756,  0.0884,  9.114 , 46.9965, -1.939 ,  7.4433,\n",
       "        -2.4099,  0.4382,  0.3097]])"
      ]
     },
     "execution_count": 1469,
     "metadata": {},
     "output_type": "execute_result"
    }
   ],
   "source": [
    "#Normalize a group of observations on a per feature basis.\n",
    "clean_data = sp_cluster.vq.whiten(demo_data.values)\n",
    "clean_data"
   ]
  },
  {
   "cell_type": "code",
   "execution_count": 1470,
   "metadata": {},
   "outputs": [
    {
     "data": {
      "text/plain": [
       "array([1., 1., 1., 1., 1., 1., 1., 1., 1., 1., 1., 1., 1., 1., 1., 1., 1.])"
      ]
     },
     "execution_count": 1470,
     "metadata": {},
     "output_type": "execute_result"
    }
   ],
   "source": [
    "clean_data.var(axis=0)"
   ]
  },
  {
   "cell_type": "code",
   "execution_count": 1471,
   "metadata": {},
   "outputs": [
    {
     "data": {
      "text/plain": [
       "(array([[0.    , 1.283 , 1.8028, 2.0372, 2.3057, 2.4864, 2.4938]]),\n",
       " array([[ 0, 39, 17, 41, 23, 16,  3]]))"
      ]
     },
     "execution_count": 1471,
     "metadata": {},
     "output_type": "execute_result"
    }
   ],
   "source": [
    "KNN = neighbors.NearestNeighbors(n_neighbors=7)\n",
    "KNN.fit(clean_data)\n",
    "KNN.kneighbors(clean_data[0].reshape(1,-1), return_distance=True)"
   ]
  },
  {
   "cell_type": "code",
   "execution_count": 1472,
   "metadata": {},
   "outputs": [
    {
     "data": {
      "text/plain": [
       "('Alabama',\n",
       " Index(['Alabama', 'South Carolina', 'Louisiana', 'Tennessee', 'Mississippi',\n",
       "        'Kentucky', 'Arkansas'],\n",
       "       dtype='object', name='state'))"
      ]
     },
     "execution_count": 1472,
     "metadata": {},
     "output_type": "execute_result"
    }
   ],
   "source": [
    "demo_data.index[0], demo_data.index[KNN.kneighbors(clean_data[0].reshape(1,-1), return_distance=True)[1][0]]"
   ]
  },
  {
   "cell_type": "code",
   "execution_count": 1473,
   "metadata": {},
   "outputs": [
    {
     "name": "stderr",
     "output_type": "stream",
     "text": [
      "/Users/siddhipatel/opt/anaconda3/lib/python3.7/site-packages/ipykernel_launcher.py:4: DeprecationWarning:\n",
      "\n",
      "Support for multi-dimensional indexing (e.g. `index[:, None]`) on an Index is deprecated and will be removed in a future version.  Convert to a numpy array before indexing instead.\n",
      "\n",
      "/Users/siddhipatel/opt/anaconda3/lib/python3.7/site-packages/ipykernel_launcher.py:4: DeprecationWarning:\n",
      "\n",
      "Support for multi-dimensional indexing (e.g. `index[:, None]`) on an Index is deprecated and will be removed in a future version.  Convert to a numpy array before indexing instead.\n",
      "\n",
      "/Users/siddhipatel/opt/anaconda3/lib/python3.7/site-packages/ipykernel_launcher.py:4: DeprecationWarning:\n",
      "\n",
      "Support for multi-dimensional indexing (e.g. `index[:, None]`) on an Index is deprecated and will be removed in a future version.  Convert to a numpy array before indexing instead.\n",
      "\n",
      "/Users/siddhipatel/opt/anaconda3/lib/python3.7/site-packages/ipykernel_launcher.py:4: DeprecationWarning:\n",
      "\n",
      "Support for multi-dimensional indexing (e.g. `index[:, None]`) on an Index is deprecated and will be removed in a future version.  Convert to a numpy array before indexing instead.\n",
      "\n",
      "/Users/siddhipatel/opt/anaconda3/lib/python3.7/site-packages/ipykernel_launcher.py:4: DeprecationWarning:\n",
      "\n",
      "Support for multi-dimensional indexing (e.g. `index[:, None]`) on an Index is deprecated and will be removed in a future version.  Convert to a numpy array before indexing instead.\n",
      "\n",
      "/Users/siddhipatel/opt/anaconda3/lib/python3.7/site-packages/ipykernel_launcher.py:4: DeprecationWarning:\n",
      "\n",
      "Support for multi-dimensional indexing (e.g. `index[:, None]`) on an Index is deprecated and will be removed in a future version.  Convert to a numpy array before indexing instead.\n",
      "\n",
      "/Users/siddhipatel/opt/anaconda3/lib/python3.7/site-packages/ipykernel_launcher.py:4: DeprecationWarning:\n",
      "\n",
      "Support for multi-dimensional indexing (e.g. `index[:, None]`) on an Index is deprecated and will be removed in a future version.  Convert to a numpy array before indexing instead.\n",
      "\n",
      "/Users/siddhipatel/opt/anaconda3/lib/python3.7/site-packages/ipykernel_launcher.py:4: DeprecationWarning:\n",
      "\n",
      "Support for multi-dimensional indexing (e.g. `index[:, None]`) on an Index is deprecated and will be removed in a future version.  Convert to a numpy array before indexing instead.\n",
      "\n",
      "/Users/siddhipatel/opt/anaconda3/lib/python3.7/site-packages/ipykernel_launcher.py:4: DeprecationWarning:\n",
      "\n",
      "Support for multi-dimensional indexing (e.g. `index[:, None]`) on an Index is deprecated and will be removed in a future version.  Convert to a numpy array before indexing instead.\n",
      "\n",
      "/Users/siddhipatel/opt/anaconda3/lib/python3.7/site-packages/ipykernel_launcher.py:4: DeprecationWarning:\n",
      "\n",
      "Support for multi-dimensional indexing (e.g. `index[:, None]`) on an Index is deprecated and will be removed in a future version.  Convert to a numpy array before indexing instead.\n",
      "\n",
      "/Users/siddhipatel/opt/anaconda3/lib/python3.7/site-packages/ipykernel_launcher.py:4: DeprecationWarning:\n",
      "\n",
      "Support for multi-dimensional indexing (e.g. `index[:, None]`) on an Index is deprecated and will be removed in a future version.  Convert to a numpy array before indexing instead.\n",
      "\n",
      "/Users/siddhipatel/opt/anaconda3/lib/python3.7/site-packages/ipykernel_launcher.py:4: DeprecationWarning:\n",
      "\n",
      "Support for multi-dimensional indexing (e.g. `index[:, None]`) on an Index is deprecated and will be removed in a future version.  Convert to a numpy array before indexing instead.\n",
      "\n",
      "/Users/siddhipatel/opt/anaconda3/lib/python3.7/site-packages/ipykernel_launcher.py:4: DeprecationWarning:\n",
      "\n",
      "Support for multi-dimensional indexing (e.g. `index[:, None]`) on an Index is deprecated and will be removed in a future version.  Convert to a numpy array before indexing instead.\n",
      "\n",
      "/Users/siddhipatel/opt/anaconda3/lib/python3.7/site-packages/ipykernel_launcher.py:4: DeprecationWarning:\n",
      "\n",
      "Support for multi-dimensional indexing (e.g. `index[:, None]`) on an Index is deprecated and will be removed in a future version.  Convert to a numpy array before indexing instead.\n",
      "\n",
      "/Users/siddhipatel/opt/anaconda3/lib/python3.7/site-packages/ipykernel_launcher.py:4: DeprecationWarning:\n",
      "\n",
      "Support for multi-dimensional indexing (e.g. `index[:, None]`) on an Index is deprecated and will be removed in a future version.  Convert to a numpy array before indexing instead.\n",
      "\n",
      "/Users/siddhipatel/opt/anaconda3/lib/python3.7/site-packages/ipykernel_launcher.py:4: DeprecationWarning:\n",
      "\n",
      "Support for multi-dimensional indexing (e.g. `index[:, None]`) on an Index is deprecated and will be removed in a future version.  Convert to a numpy array before indexing instead.\n",
      "\n",
      "/Users/siddhipatel/opt/anaconda3/lib/python3.7/site-packages/ipykernel_launcher.py:4: DeprecationWarning:\n",
      "\n",
      "Support for multi-dimensional indexing (e.g. `index[:, None]`) on an Index is deprecated and will be removed in a future version.  Convert to a numpy array before indexing instead.\n",
      "\n",
      "/Users/siddhipatel/opt/anaconda3/lib/python3.7/site-packages/ipykernel_launcher.py:4: DeprecationWarning:\n",
      "\n",
      "Support for multi-dimensional indexing (e.g. `index[:, None]`) on an Index is deprecated and will be removed in a future version.  Convert to a numpy array before indexing instead.\n",
      "\n",
      "/Users/siddhipatel/opt/anaconda3/lib/python3.7/site-packages/ipykernel_launcher.py:4: DeprecationWarning:\n",
      "\n",
      "Support for multi-dimensional indexing (e.g. `index[:, None]`) on an Index is deprecated and will be removed in a future version.  Convert to a numpy array before indexing instead.\n",
      "\n",
      "/Users/siddhipatel/opt/anaconda3/lib/python3.7/site-packages/ipykernel_launcher.py:4: DeprecationWarning:\n",
      "\n",
      "Support for multi-dimensional indexing (e.g. `index[:, None]`) on an Index is deprecated and will be removed in a future version.  Convert to a numpy array before indexing instead.\n",
      "\n",
      "/Users/siddhipatel/opt/anaconda3/lib/python3.7/site-packages/ipykernel_launcher.py:4: DeprecationWarning:\n",
      "\n",
      "Support for multi-dimensional indexing (e.g. `index[:, None]`) on an Index is deprecated and will be removed in a future version.  Convert to a numpy array before indexing instead.\n",
      "\n",
      "/Users/siddhipatel/opt/anaconda3/lib/python3.7/site-packages/ipykernel_launcher.py:4: DeprecationWarning:\n",
      "\n",
      "Support for multi-dimensional indexing (e.g. `index[:, None]`) on an Index is deprecated and will be removed in a future version.  Convert to a numpy array before indexing instead.\n",
      "\n",
      "/Users/siddhipatel/opt/anaconda3/lib/python3.7/site-packages/ipykernel_launcher.py:4: DeprecationWarning:\n",
      "\n",
      "Support for multi-dimensional indexing (e.g. `index[:, None]`) on an Index is deprecated and will be removed in a future version.  Convert to a numpy array before indexing instead.\n",
      "\n",
      "/Users/siddhipatel/opt/anaconda3/lib/python3.7/site-packages/ipykernel_launcher.py:4: DeprecationWarning:\n",
      "\n",
      "Support for multi-dimensional indexing (e.g. `index[:, None]`) on an Index is deprecated and will be removed in a future version.  Convert to a numpy array before indexing instead.\n",
      "\n",
      "/Users/siddhipatel/opt/anaconda3/lib/python3.7/site-packages/ipykernel_launcher.py:4: DeprecationWarning:\n",
      "\n",
      "Support for multi-dimensional indexing (e.g. `index[:, None]`) on an Index is deprecated and will be removed in a future version.  Convert to a numpy array before indexing instead.\n",
      "\n",
      "/Users/siddhipatel/opt/anaconda3/lib/python3.7/site-packages/ipykernel_launcher.py:4: DeprecationWarning:\n",
      "\n",
      "Support for multi-dimensional indexing (e.g. `index[:, None]`) on an Index is deprecated and will be removed in a future version.  Convert to a numpy array before indexing instead.\n",
      "\n",
      "/Users/siddhipatel/opt/anaconda3/lib/python3.7/site-packages/ipykernel_launcher.py:4: DeprecationWarning:\n",
      "\n",
      "Support for multi-dimensional indexing (e.g. `index[:, None]`) on an Index is deprecated and will be removed in a future version.  Convert to a numpy array before indexing instead.\n",
      "\n",
      "/Users/siddhipatel/opt/anaconda3/lib/python3.7/site-packages/ipykernel_launcher.py:4: DeprecationWarning:\n",
      "\n",
      "Support for multi-dimensional indexing (e.g. `index[:, None]`) on an Index is deprecated and will be removed in a future version.  Convert to a numpy array before indexing instead.\n",
      "\n",
      "/Users/siddhipatel/opt/anaconda3/lib/python3.7/site-packages/ipykernel_launcher.py:4: DeprecationWarning:\n",
      "\n",
      "Support for multi-dimensional indexing (e.g. `index[:, None]`) on an Index is deprecated and will be removed in a future version.  Convert to a numpy array before indexing instead.\n",
      "\n",
      "/Users/siddhipatel/opt/anaconda3/lib/python3.7/site-packages/ipykernel_launcher.py:4: DeprecationWarning:\n",
      "\n",
      "Support for multi-dimensional indexing (e.g. `index[:, None]`) on an Index is deprecated and will be removed in a future version.  Convert to a numpy array before indexing instead.\n",
      "\n",
      "/Users/siddhipatel/opt/anaconda3/lib/python3.7/site-packages/ipykernel_launcher.py:4: DeprecationWarning:\n",
      "\n",
      "Support for multi-dimensional indexing (e.g. `index[:, None]`) on an Index is deprecated and will be removed in a future version.  Convert to a numpy array before indexing instead.\n",
      "\n",
      "/Users/siddhipatel/opt/anaconda3/lib/python3.7/site-packages/ipykernel_launcher.py:4: DeprecationWarning:\n",
      "\n",
      "Support for multi-dimensional indexing (e.g. `index[:, None]`) on an Index is deprecated and will be removed in a future version.  Convert to a numpy array before indexing instead.\n",
      "\n",
      "/Users/siddhipatel/opt/anaconda3/lib/python3.7/site-packages/ipykernel_launcher.py:4: DeprecationWarning:\n",
      "\n",
      "Support for multi-dimensional indexing (e.g. `index[:, None]`) on an Index is deprecated and will be removed in a future version.  Convert to a numpy array before indexing instead.\n",
      "\n",
      "/Users/siddhipatel/opt/anaconda3/lib/python3.7/site-packages/ipykernel_launcher.py:4: DeprecationWarning:\n",
      "\n",
      "Support for multi-dimensional indexing (e.g. `index[:, None]`) on an Index is deprecated and will be removed in a future version.  Convert to a numpy array before indexing instead.\n",
      "\n",
      "/Users/siddhipatel/opt/anaconda3/lib/python3.7/site-packages/ipykernel_launcher.py:4: DeprecationWarning:\n",
      "\n",
      "Support for multi-dimensional indexing (e.g. `index[:, None]`) on an Index is deprecated and will be removed in a future version.  Convert to a numpy array before indexing instead.\n",
      "\n",
      "/Users/siddhipatel/opt/anaconda3/lib/python3.7/site-packages/ipykernel_launcher.py:4: DeprecationWarning:\n",
      "\n",
      "Support for multi-dimensional indexing (e.g. `index[:, None]`) on an Index is deprecated and will be removed in a future version.  Convert to a numpy array before indexing instead.\n",
      "\n",
      "/Users/siddhipatel/opt/anaconda3/lib/python3.7/site-packages/ipykernel_launcher.py:4: DeprecationWarning:\n",
      "\n",
      "Support for multi-dimensional indexing (e.g. `index[:, None]`) on an Index is deprecated and will be removed in a future version.  Convert to a numpy array before indexing instead.\n",
      "\n",
      "/Users/siddhipatel/opt/anaconda3/lib/python3.7/site-packages/ipykernel_launcher.py:4: DeprecationWarning:\n",
      "\n",
      "Support for multi-dimensional indexing (e.g. `index[:, None]`) on an Index is deprecated and will be removed in a future version.  Convert to a numpy array before indexing instead.\n",
      "\n",
      "/Users/siddhipatel/opt/anaconda3/lib/python3.7/site-packages/ipykernel_launcher.py:4: DeprecationWarning:\n",
      "\n",
      "Support for multi-dimensional indexing (e.g. `index[:, None]`) on an Index is deprecated and will be removed in a future version.  Convert to a numpy array before indexing instead.\n",
      "\n",
      "/Users/siddhipatel/opt/anaconda3/lib/python3.7/site-packages/ipykernel_launcher.py:4: DeprecationWarning:\n",
      "\n",
      "Support for multi-dimensional indexing (e.g. `index[:, None]`) on an Index is deprecated and will be removed in a future version.  Convert to a numpy array before indexing instead.\n",
      "\n",
      "/Users/siddhipatel/opt/anaconda3/lib/python3.7/site-packages/ipykernel_launcher.py:4: DeprecationWarning:\n",
      "\n",
      "Support for multi-dimensional indexing (e.g. `index[:, None]`) on an Index is deprecated and will be removed in a future version.  Convert to a numpy array before indexing instead.\n",
      "\n",
      "/Users/siddhipatel/opt/anaconda3/lib/python3.7/site-packages/ipykernel_launcher.py:4: DeprecationWarning:\n",
      "\n",
      "Support for multi-dimensional indexing (e.g. `index[:, None]`) on an Index is deprecated and will be removed in a future version.  Convert to a numpy array before indexing instead.\n",
      "\n",
      "/Users/siddhipatel/opt/anaconda3/lib/python3.7/site-packages/ipykernel_launcher.py:4: DeprecationWarning:\n",
      "\n",
      "Support for multi-dimensional indexing (e.g. `index[:, None]`) on an Index is deprecated and will be removed in a future version.  Convert to a numpy array before indexing instead.\n",
      "\n",
      "/Users/siddhipatel/opt/anaconda3/lib/python3.7/site-packages/ipykernel_launcher.py:4: DeprecationWarning:\n",
      "\n",
      "Support for multi-dimensional indexing (e.g. `index[:, None]`) on an Index is deprecated and will be removed in a future version.  Convert to a numpy array before indexing instead.\n",
      "\n",
      "/Users/siddhipatel/opt/anaconda3/lib/python3.7/site-packages/ipykernel_launcher.py:4: DeprecationWarning:\n",
      "\n",
      "Support for multi-dimensional indexing (e.g. `index[:, None]`) on an Index is deprecated and will be removed in a future version.  Convert to a numpy array before indexing instead.\n",
      "\n",
      "/Users/siddhipatel/opt/anaconda3/lib/python3.7/site-packages/ipykernel_launcher.py:4: DeprecationWarning:\n",
      "\n",
      "Support for multi-dimensional indexing (e.g. `index[:, None]`) on an Index is deprecated and will be removed in a future version.  Convert to a numpy array before indexing instead.\n",
      "\n",
      "/Users/siddhipatel/opt/anaconda3/lib/python3.7/site-packages/ipykernel_launcher.py:4: DeprecationWarning:\n",
      "\n",
      "Support for multi-dimensional indexing (e.g. `index[:, None]`) on an Index is deprecated and will be removed in a future version.  Convert to a numpy array before indexing instead.\n",
      "\n",
      "/Users/siddhipatel/opt/anaconda3/lib/python3.7/site-packages/ipykernel_launcher.py:4: DeprecationWarning:\n",
      "\n",
      "Support for multi-dimensional indexing (e.g. `index[:, None]`) on an Index is deprecated and will be removed in a future version.  Convert to a numpy array before indexing instead.\n",
      "\n",
      "/Users/siddhipatel/opt/anaconda3/lib/python3.7/site-packages/ipykernel_launcher.py:4: DeprecationWarning:\n",
      "\n",
      "Support for multi-dimensional indexing (e.g. `index[:, None]`) on an Index is deprecated and will be removed in a future version.  Convert to a numpy array before indexing instead.\n",
      "\n",
      "/Users/siddhipatel/opt/anaconda3/lib/python3.7/site-packages/ipykernel_launcher.py:4: DeprecationWarning:\n",
      "\n",
      "Support for multi-dimensional indexing (e.g. `index[:, None]`) on an Index is deprecated and will be removed in a future version.  Convert to a numpy array before indexing instead.\n",
      "\n"
     ]
    }
   ],
   "source": [
    "nearest_neighbor = {}\n",
    "for i, state in enumerate(demo_data.index):\n",
    "    neighborhood = KNN.kneighbors(clean_data[i].reshape(1,-1), return_distance=True)\n",
    "    nearest_neighbor.update({state : (demo_data.index[neighborhood[1]],\n",
    "                                     neighborhood[0])})"
   ]
  },
  {
   "cell_type": "code",
   "execution_count": 1474,
   "metadata": {},
   "outputs": [
    {
     "data": {
      "text/plain": [
       "{'Alabama': (array([['Alabama', 'South Carolina', 'Louisiana', 'Tennessee',\n",
       "          'Mississippi', 'Kentucky', 'Arkansas']], dtype=object),\n",
       "  array([[0.    , 1.283 , 1.8028, 2.0372, 2.3057, 2.4864, 2.4938]])),\n",
       " 'Alaska': (array([['Alaska', 'North Dakota', 'Colorado', 'Kansas', 'Washington',\n",
       "          'Utah', 'Minnesota']], dtype=object),\n",
       "  array([[0.    , 3.4494, 3.9084, 4.0897, 4.1378, 4.1787, 4.3093]])),\n",
       " 'Arizona': (array([['Arizona', 'Nevada', 'New Mexico', 'Oklahoma', 'Kansas',\n",
       "          'North Carolina', 'Indiana']], dtype=object),\n",
       "  array([[0.    , 2.9175, 2.9629, 3.2068, 3.4608, 3.489 , 3.522 ]])),\n",
       " 'Arkansas': (array([['Arkansas', 'Tennessee', 'Oklahoma', 'Alabama', 'South Carolina',\n",
       "          'Missouri', 'Indiana']], dtype=object),\n",
       "  array([[0.    , 2.1176, 2.1767, 2.4938, 2.5191, 2.5666, 2.6562]])),\n",
       " 'California': (array([['California', 'Texas', 'New York', 'Florida', 'Illinois',\n",
       "          'Virginia', 'Washington']], dtype=object),\n",
       "  array([[0.    , 4.4746, 4.896 , 6.0694, 6.3378, 7.5726, 7.5759]])),\n",
       " 'Colorado': (array([['Colorado', 'Washington', 'Virginia', 'Illinois', 'Minnesota',\n",
       "          'Oregon', 'New Hampshire']], dtype=object),\n",
       "  array([[0.    , 1.8852, 2.7961, 3.0658, 3.1874, 3.4536, 3.4754]])),\n",
       " 'Connecticut': (array([['Connecticut', 'New Jersey', 'Maryland', 'Virginia',\n",
       "          'Washington', 'New Hampshire', 'Illinois']], dtype=object),\n",
       "  array([[0.    , 2.7465, 2.926 , 3.3742, 3.4134, 3.8592, 3.8602]])),\n",
       " 'Delaware': (array([['Delaware', 'Connecticut', 'Nevada', 'Maryland', 'New York',\n",
       "          'Virginia', 'Vermont']], dtype=object),\n",
       "  array([[0.    , 6.6298, 6.6572, 6.7961, 6.9323, 7.0052, 7.0749]])),\n",
       " 'Florida': (array([['Florida', 'North Carolina', 'New York', 'Ohio', 'Illinois',\n",
       "          'Michigan', 'Pennsylvania']], dtype=object),\n",
       "  array([[0.    , 4.2421, 4.2978, 4.4481, 4.4748, 4.5104, 4.5342]])),\n",
       " 'Georgia': (array([['Georgia', 'North Carolina', 'Louisiana', 'Tennessee',\n",
       "          'South Carolina', 'Illinois', 'Alabama']], dtype=object),\n",
       "  array([[0.    , 2.0596, 2.6034, 3.131 , 3.2084, 3.3936, 3.5061]])),\n",
       " 'Hawaii': (array([['Hawaii', 'Washington', 'Illinois', 'Minnesota', 'Oregon',\n",
       "          'Connecticut', 'Arizona']], dtype=object),\n",
       "  array([[0.    , 4.9925, 5.25  , 5.4415, 5.4649, 5.5798, 5.6206]])),\n",
       " 'Idaho': (array([['Idaho', 'South Dakota', 'Nebraska', 'Oklahoma', 'Wyoming',\n",
       "          'Iowa', 'Kansas']], dtype=object),\n",
       "  array([[0.    , 2.01  , 2.0163, 2.2223, 2.2807, 2.8056, 2.8272]])),\n",
       " 'Illinois': (array([['Illinois', 'Washington', 'Virginia', 'North Carolina',\n",
       "          'New York', 'Michigan', 'Oregon']], dtype=object),\n",
       "  array([[0.    , 2.1017, 2.3867, 2.5856, 2.6608, 2.8253, 2.9889]])),\n",
       " 'Indiana': (array([['Indiana', 'Missouri', 'Ohio', 'Tennessee', 'Kentucky',\n",
       "          'Oklahoma', 'Michigan']], dtype=object),\n",
       "  array([[0.    , 1.2913, 1.732 , 1.7974, 1.8411, 1.9147, 1.9913]])),\n",
       " 'Iowa': (array([['Iowa', 'Wisconsin', 'Nebraska', 'Missouri', 'Indiana', 'Kansas',\n",
       "          'South Dakota']], dtype=object),\n",
       "  array([[0.    , 1.3427, 1.9188, 1.9311, 2.3214, 2.3769, 2.442 ]])),\n",
       " 'Kansas': (array([['Kansas', 'Nebraska', 'Missouri', 'Wisconsin', 'North Dakota',\n",
       "          'Iowa', 'Indiana']], dtype=object),\n",
       "  array([[0.    , 1.744 , 1.8607, 2.2604, 2.3542, 2.3769, 2.4208]])),\n",
       " 'Kentucky': (array([['Kentucky', 'Indiana', 'Oklahoma', 'Missouri', 'Tennessee',\n",
       "          'Alabama', 'West Virginia']], dtype=object),\n",
       "  array([[0.    , 1.8411, 2.2584, 2.4368, 2.4459, 2.4864, 2.5909]])),\n",
       " 'Louisiana': (array([['Louisiana', 'Mississippi', 'Alabama', 'South Carolina',\n",
       "          'Tennessee', 'Georgia', 'North Carolina']], dtype=object),\n",
       "  array([[0.    , 1.4593, 1.8028, 2.0136, 2.5018, 2.6034, 2.6807]])),\n",
       " 'Maine': (array([['Maine', 'Iowa', 'Montana', 'Wisconsin', 'Oregon', 'Vermont',\n",
       "          'Michigan']], dtype=object),\n",
       "  array([[0.    , 2.5557, 2.5678, 2.6598, 2.6785, 3.074 , 3.5133]])),\n",
       " 'Maryland': (array([['Maryland', 'Connecticut', 'Virginia', 'New Jersey', 'Illinois',\n",
       "          'Washington', 'New York']], dtype=object),\n",
       "  array([[0.    , 2.926 , 3.3476, 3.7765, 4.0478, 4.2434, 4.296 ]])),\n",
       " 'Massachusetts': (array([['Massachusetts', 'Virginia', 'Connecticut', 'New Jersey',\n",
       "          'Maryland', 'Washington', 'New York']], dtype=object),\n",
       "  array([[0.    , 7.3216, 7.4331, 7.7952, 7.8283, 8.1414, 8.3475]])),\n",
       " 'Michigan': (array([['Michigan', 'Ohio', 'Wisconsin', 'Missouri', 'North Carolina',\n",
       "          'Indiana', 'Pennsylvania']], dtype=object),\n",
       "  array([[0.    , 0.9919, 1.6043, 1.784 , 1.8654, 1.9913, 2.3958]])),\n",
       " 'Minnesota': (array([['Minnesota', 'Wisconsin', 'Washington', 'Oregon', 'Iowa',\n",
       "          'New Hampshire', 'Michigan']], dtype=object),\n",
       "  array([[0.    , 1.997 , 2.1649, 2.3054, 2.6146, 2.6716, 2.9454]])),\n",
       " 'Mississippi': (array([['Mississippi', 'Louisiana', 'Alabama', 'South Carolina',\n",
       "          'Arkansas', 'Tennessee', 'Georgia']], dtype=object),\n",
       "  array([[0.    , 1.4593, 2.3057, 2.7406, 3.0534, 3.491 , 3.7606]])),\n",
       " 'Missouri': (array([['Missouri', 'Indiana', 'Ohio', 'Tennessee', 'Michigan',\n",
       "          'Wisconsin', 'Kansas']], dtype=object),\n",
       "  array([[0.    , 1.2913, 1.6033, 1.6382, 1.784 , 1.8169, 1.8607]])),\n",
       " 'Montana': (array([['Montana', 'South Dakota', 'Iowa', 'Nebraska', 'Maine',\n",
       "          'Wisconsin', 'Idaho']], dtype=object),\n",
       "  array([[0.    , 1.8582, 2.5402, 2.5483, 2.5678, 3.0892, 3.1907]])),\n",
       " 'Nebraska': (array([['Nebraska', 'South Dakota', 'Kansas', 'Iowa', 'Idaho',\n",
       "          'North Dakota', 'Missouri']], dtype=object),\n",
       "  array([[0.    , 1.6679, 1.744 , 1.9188, 2.0163, 2.2309, 2.2355]])),\n",
       " 'Nevada': (array([['Nevada', 'Arizona', 'North Carolina', 'New Mexico', 'Tennessee',\n",
       "          'Illinois', 'Oklahoma']], dtype=object),\n",
       "  array([[0.    , 2.9175, 3.6506, 3.6871, 3.8587, 3.9191, 3.9583]])),\n",
       " 'New Hampshire': (array([['New Hampshire', 'Minnesota', 'Vermont', 'Washington', 'Oregon',\n",
       "          'Wisconsin', 'Colorado']], dtype=object),\n",
       "  array([[0.    , 2.6716, 2.8544, 2.9004, 3.2895, 3.3912, 3.4754]])),\n",
       " 'New Jersey': (array([['New Jersey', 'Connecticut', 'Maryland', 'Rhode Island',\n",
       "          'Virginia', 'New York', 'Illinois']], dtype=object),\n",
       "  array([[0.    , 2.7465, 3.7765, 4.467 , 4.5303, 4.5355, 4.5948]])),\n",
       " 'New Mexico': (array([['New Mexico', 'Arizona', 'Nevada', 'Oklahoma', 'Arkansas',\n",
       "          'North Carolina', 'Oregon']], dtype=object),\n",
       "  array([[0.    , 2.9629, 3.6871, 5.3319, 5.4159, 5.5164, 5.5196]])),\n",
       " 'New York': (array([['New York', 'Illinois', 'Virginia', 'Washington', 'Maryland',\n",
       "          'Florida', 'North Carolina']], dtype=object),\n",
       "  array([[0.    , 2.6608, 3.678 , 3.9916, 4.296 , 4.2978, 4.355 ]])),\n",
       " 'North Carolina': (array([['North Carolina', 'Michigan', 'Georgia', 'Ohio',\n",
       "          'South Carolina', 'Tennessee', 'Indiana']], dtype=object),\n",
       "  array([[0.    , 1.8654, 2.0596, 2.1446, 2.1874, 2.2449, 2.4262]])),\n",
       " 'North Dakota': (array([['North Dakota', 'Wyoming', 'Nebraska', 'Kansas', 'South Dakota',\n",
       "          'Iowa', 'Missouri']], dtype=object),\n",
       "  array([[0.    , 2.0709, 2.2309, 2.3542, 2.9703, 3.075 , 3.1212]])),\n",
       " 'Ohio': (array([['Ohio', 'Michigan', 'Missouri', 'Indiana', 'Wisconsin',\n",
       "          'North Carolina', 'Tennessee']], dtype=object),\n",
       "  array([[0.    , 0.9919, 1.6033, 1.732 , 1.9328, 2.1446, 2.3647]])),\n",
       " 'Oklahoma': (array([['Oklahoma', 'Indiana', 'Missouri', 'Tennessee', 'Arkansas',\n",
       "          'Idaho', 'Kentucky']], dtype=object),\n",
       "  array([[0.    , 1.9147, 2.1193, 2.1504, 2.1767, 2.2223, 2.2584]])),\n",
       " 'Oregon': (array([['Oregon', 'Wisconsin', 'Minnesota', 'Iowa', 'Michigan',\n",
       "          'Washington', 'Maine']], dtype=object),\n",
       "  array([[0.    , 1.7537, 2.3054, 2.4647, 2.4898, 2.5199, 2.6785]])),\n",
       " 'Pennsylvania': (array([['Pennsylvania', 'Michigan', 'Ohio', 'Wisconsin', 'Oregon',\n",
       "          'North Carolina', 'Illinois']], dtype=object),\n",
       "  array([[0.    , 2.3958, 2.454 , 2.6684, 2.8267, 3.0643, 3.1284]])),\n",
       " 'Rhode Island': (array([['Rhode Island', 'New Jersey', 'Connecticut', 'Illinois',\n",
       "          'New York', 'Washington', 'Vermont']], dtype=object),\n",
       "  array([[0.    , 4.467 , 4.8241, 5.4912, 5.5616, 5.5715, 5.756 ]])),\n",
       " 'South Carolina': (array([['South Carolina', 'Alabama', 'Tennessee', 'Louisiana',\n",
       "          'North Carolina', 'Missouri', 'Arkansas']], dtype=object),\n",
       "  array([[0.    , 1.283 , 1.9397, 2.0136, 2.1874, 2.2922, 2.5191]])),\n",
       " 'South Dakota': (array([['South Dakota', 'Nebraska', 'Montana', 'Idaho', 'Iowa',\n",
       "          'Wyoming', 'Oklahoma']], dtype=object),\n",
       "  array([[0.    , 1.6679, 1.8582, 2.01  , 2.442 , 2.5518, 2.8632]])),\n",
       " 'Tennessee': (array([['Tennessee', 'Missouri', 'Indiana', 'South Carolina', 'Alabama',\n",
       "          'Arkansas', 'Oklahoma']], dtype=object),\n",
       "  array([[0.    , 1.6382, 1.7974, 1.9397, 2.0372, 2.1176, 2.1504]])),\n",
       " 'Texas': (array([['Texas', 'California', 'Georgia', 'Florida', 'Arizona',\n",
       "          'New York', 'Illinois']], dtype=object),\n",
       "  array([[0.    , 4.4746, 5.2503, 5.2812, 5.3384, 5.3952, 5.4569]])),\n",
       " 'Utah': (array([['Utah', 'Nebraska', 'Idaho', 'North Dakota', 'Kansas',\n",
       "          'South Dakota', 'Wyoming']], dtype=object),\n",
       "  array([[0.    , 2.9619, 3.4606, 3.4783, 3.5856, 3.7361, 3.8629]])),\n",
       " 'Vermont': (array([['Vermont', 'New Hampshire', 'Oregon', 'Maine', 'Minnesota',\n",
       "          'Wisconsin', 'Washington']], dtype=object),\n",
       "  array([[0.    , 2.8544, 2.9686, 3.074 , 3.3968, 3.5408, 3.6326]])),\n",
       " 'Virginia': (array([['Virginia', 'Washington', 'Illinois', 'Colorado', 'Minnesota',\n",
       "          'Maryland', 'Connecticut']], dtype=object),\n",
       "  array([[0.    , 2.3661, 2.3867, 2.7961, 3.2226, 3.3476, 3.3742]])),\n",
       " 'Washington': (array([['Washington', 'Colorado', 'Illinois', 'Minnesota', 'Virginia',\n",
       "          'Oregon', 'New Hampshire']], dtype=object),\n",
       "  array([[0.    , 1.8852, 2.1017, 2.1649, 2.3661, 2.5199, 2.9004]])),\n",
       " 'West Virginia': (array([['West Virginia', 'Kentucky', 'Arkansas', 'Missouri', 'Oklahoma',\n",
       "          'Indiana', 'Tennessee']], dtype=object),\n",
       "  array([[0.    , 2.5909, 2.8712, 3.3464, 3.3822, 3.3882, 3.6193]])),\n",
       " 'Wisconsin': (array([['Wisconsin', 'Iowa', 'Michigan', 'Oregon', 'Missouri', 'Ohio',\n",
       "          'Minnesota']], dtype=object),\n",
       "  array([[0.    , 1.3427, 1.6043, 1.7537, 1.8169, 1.9328, 1.997 ]])),\n",
       " 'Wyoming': (array([['Wyoming', 'North Dakota', 'Idaho', 'Nebraska', 'South Dakota',\n",
       "          'Kansas', 'Iowa']], dtype=object),\n",
       "  array([[0.    , 2.0709, 2.2807, 2.3101, 2.5518, 2.6922, 3.0571]]))}"
      ]
     },
     "execution_count": 1474,
     "metadata": {},
     "output_type": "execute_result"
    }
   ],
   "source": [
    "nearest_neighbor"
   ]
  },
  {
   "cell_type": "code",
   "execution_count": 1475,
   "metadata": {},
   "outputs": [
    {
     "data": {
      "text/plain": [
       "array([2, 0, 2, 2, 1, 3, 3, 3, 1, 2, 3, 0, 3, 2, 0, 0, 2, 2, 0, 3, 4, 2,\n",
       "       0, 2, 2, 0, 0, 2, 3, 3, 2, 1, 2, 0, 2, 2, 0, 2, 3, 2, 0, 2, 1, 0,\n",
       "       3, 3, 3, 2, 0, 0], dtype=int32)"
      ]
     },
     "execution_count": 1475,
     "metadata": {},
     "output_type": "execute_result"
    }
   ],
   "source": [
    "k_means = cluster.KMeans(n_clusters=5, n_init=50)\n",
    "k_means.fit(clean_data)\n",
    "values = k_means.cluster_centers_.squeeze()\n",
    "labels = k_means.labels_\n",
    "labels"
   ]
  },
  {
   "cell_type": "code",
   "execution_count": 1476,
   "metadata": {},
   "outputs": [
    {
     "data": {
      "text/plain": [
       "array([[ 0.3205,  0.9139,  5.0093, 32.9602,  5.8637,  6.9126,  6.3343,\n",
       "         0.0671,  0.2099,  0.2083,  7.9949, 47.3704, -1.4459,  6.9507,\n",
       "        -1.5318,  0.3015,  0.1614],\n",
       "       [ 1.4133,  1.426 ,  3.8178, 32.2389,  7.2299,  8.3232,  7.3172,\n",
       "         1.9513,  0.9456,  0.9888,  8.7789, 49.0432,  1.2203,  8.2095,\n",
       "         0.8546,  1.6839,  0.7919],\n",
       "       [ 0.9457,  3.4652,  2.9137, 30.6766,  5.6384,  6.6552,  5.8791,\n",
       "         0.5054,  2.3139,  2.3702,  8.7655, 48.1117,  0.4012,  8.3189,\n",
       "        -0.0085,  0.9246,  0.1949],\n",
       "       [ 1.9636,  0.5707,  4.5368, 31.3099,  5.0903,  6.143 ,  5.1521,\n",
       "         0.5178,  0.8315,  0.9148,  8.8817, 47.8571, -0.3299,  7.2973,\n",
       "        -0.94  ,  0.332 ,  0.1236],\n",
       "       [ 0.432 ,  0.5498,  5.419 , 33.0609,  6.3967,  7.2957,  6.1992,\n",
       "         0.3502,  0.5348,  0.633 ,  9.6859, 48.0811,  0.364 ,  6.6649,\n",
       "         0.0684,  0.6135,  0.1085]])"
      ]
     },
     "execution_count": 1476,
     "metadata": {},
     "output_type": "execute_result"
    }
   ],
   "source": [
    "clusters = sp_cluster.vq.kmeans(clean_data, 5)[0]\n",
    "clusters"
   ]
  },
  {
   "cell_type": "code",
   "execution_count": 1477,
   "metadata": {},
   "outputs": [],
   "source": [
    "def choose_group(data, clusters):\n",
    "    \"\"\"\n",
    "    Return the index of the cluster to which the rows in data\n",
    "    are \"closest\" (in the sense of the L2-norm)\n",
    "    \"\"\"\n",
    "    data = data[:,None] # add an axis for broadcasting\n",
    "    distances = data - clusters\n",
    "    groups = []\n",
    "    for row in distances:\n",
    "        dists = map(np.linalg.norm, row)\n",
    "        groups.append(np.argmin(list(dists)))\n",
    "    return groups"
   ]
  },
  {
   "cell_type": "code",
   "execution_count": 1478,
   "metadata": {},
   "outputs": [
    {
     "data": {
      "text/plain": [
       "array([3, 0, 2, 3, 2, 1, 1, 1, 2, 3, 1, 0, 1, 3, 4, 0, 3, 3, 4, 1, 1, 3,\n",
       "       4, 3, 3, 4, 0, 2, 4, 1, 2, 1, 3, 0, 3, 3, 4, 4, 1, 3, 0, 3, 2, 0,\n",
       "       4, 1, 1, 3, 4, 0])"
      ]
     },
     "execution_count": 1478,
     "metadata": {},
     "output_type": "execute_result"
    }
   ],
   "source": [
    "groups = choose_group(clean_data, clusters)\n",
    "np.array(groups)"
   ]
  },
  {
   "cell_type": "code",
   "execution_count": 1479,
   "metadata": {},
   "outputs": [],
   "source": [
    "demo_data[\"kmeans_group\"] = groups\n",
    "demo_data[\"kmeans_labels\"] = labels"
   ]
  },
  {
   "cell_type": "code",
   "execution_count": 1480,
   "metadata": {},
   "outputs": [
    {
     "name": "stdout",
     "output_type": "stream",
     "text": [
      "['Alaska' 'Idaho' 'Kansas' 'Nebraska' 'North Dakota' 'South Dakota' 'Utah'\n",
      " 'Wyoming']\n",
      "['Colorado' 'Connecticut' 'Delaware' 'Hawaii' 'Illinois' 'Maryland'\n",
      " 'Massachusetts' 'New Jersey' 'New York' 'Rhode Island' 'Virginia'\n",
      " 'Washington']\n",
      "['Arizona' 'California' 'Florida' 'Nevada' 'New Mexico' 'Texas']\n",
      "['Alabama' 'Arkansas' 'Georgia' 'Indiana' 'Kentucky' 'Louisiana'\n",
      " 'Michigan' 'Mississippi' 'Missouri' 'North Carolina' 'Ohio' 'Oklahoma'\n",
      " 'South Carolina' 'Tennessee' 'West Virginia']\n",
      "['Iowa' 'Maine' 'Minnesota' 'Montana' 'New Hampshire' 'Oregon'\n",
      " 'Pennsylvania' 'Vermont' 'Wisconsin']\n"
     ]
    }
   ],
   "source": [
    "for _, group in demo_data.groupby(\"kmeans_group\"):\n",
    "    group = group.index\n",
    "    group.values.sort()\n",
    "    print (group.values)"
   ]
  },
  {
   "cell_type": "code",
   "execution_count": 1481,
   "metadata": {},
   "outputs": [
    {
     "name": "stdout",
     "output_type": "stream",
     "text": [
      "['Alaska' 'Idaho' 'Iowa' 'Kansas' 'Maine' 'Minnesota' 'Montana' 'Nebraska'\n",
      " 'North Dakota' 'Oregon' 'South Dakota' 'Utah' 'Wisconsin' 'Wyoming']\n",
      "['California' 'Florida' 'New York' 'Texas']\n",
      "['Alabama' 'Arizona' 'Arkansas' 'Georgia' 'Indiana' 'Kentucky' 'Louisiana'\n",
      " 'Michigan' 'Mississippi' 'Missouri' 'Nevada' 'New Mexico'\n",
      " 'North Carolina' 'Ohio' 'Oklahoma' 'Pennsylvania' 'South Carolina'\n",
      " 'Tennessee' 'West Virginia']\n",
      "['Colorado' 'Connecticut' 'Delaware' 'Hawaii' 'Illinois' 'Maryland'\n",
      " 'New Hampshire' 'New Jersey' 'Rhode Island' 'Vermont' 'Virginia'\n",
      " 'Washington']\n",
      "['Massachusetts']\n"
     ]
    }
   ],
   "source": [
    "demo_data[\"kmeans_labels\"] = labels\n",
    "for _, group in demo_data.groupby(\"kmeans_labels\"):\n",
    "    group = group.index.copy()\n",
    "    group.values.sort()\n",
    "    print (group.values)"
   ]
  },
  {
   "cell_type": "code",
   "execution_count": 1482,
   "metadata": {},
   "outputs": [
    {
     "data": {
      "text/html": [
       "<div>\n",
       "<style scoped>\n",
       "    .dataframe tbody tr th:only-of-type {\n",
       "        vertical-align: middle;\n",
       "    }\n",
       "\n",
       "    .dataframe tbody tr th {\n",
       "        vertical-align: top;\n",
       "    }\n",
       "\n",
       "    .dataframe thead th {\n",
       "        text-align: right;\n",
       "    }\n",
       "</style>\n",
       "<table border=\"1\" class=\"dataframe\">\n",
       "  <thead>\n",
       "    <tr style=\"text-align: right;\">\n",
       "      <th></th>\n",
       "      <th>state</th>\n",
       "      <th>per_black</th>\n",
       "      <th>per_hisp</th>\n",
       "      <th>per_white</th>\n",
       "      <th>educ_hs</th>\n",
       "      <th>educ_coll</th>\n",
       "      <th>average_income</th>\n",
       "      <th>median_income</th>\n",
       "      <th>pop_density</th>\n",
       "      <th>vote_pop</th>\n",
       "      <th>older_pop</th>\n",
       "      <th>per_older</th>\n",
       "      <th>per_vote</th>\n",
       "      <th>Dem_Adv</th>\n",
       "      <th>no_party</th>\n",
       "      <th>PVI</th>\n",
       "      <th>amount</th>\n",
       "      <th>amount_trump</th>\n",
       "      <th>kmeans_group</th>\n",
       "      <th>kmeans_labels</th>\n",
       "    </tr>\n",
       "  </thead>\n",
       "  <tbody>\n",
       "    <tr>\n",
       "      <th>0</th>\n",
       "      <td>Alabama</td>\n",
       "      <td>26.8</td>\n",
       "      <td>4.4</td>\n",
       "      <td>65.4</td>\n",
       "      <td>85.8</td>\n",
       "      <td>24.9</td>\n",
       "      <td>26846.0</td>\n",
       "      <td>48486.0</td>\n",
       "      <td>94.4</td>\n",
       "      <td>2.981136e+06</td>\n",
       "      <td>828638.265</td>\n",
       "      <td>0.169</td>\n",
       "      <td>0.608</td>\n",
       "      <td>-15.0</td>\n",
       "      <td>15.0</td>\n",
       "      <td>-27.0</td>\n",
       "      <td>0.054218</td>\n",
       "      <td>0.202494</td>\n",
       "      <td>3</td>\n",
       "      <td>2</td>\n",
       "    </tr>\n",
       "    <tr>\n",
       "      <th>1</th>\n",
       "      <td>Alaska</td>\n",
       "      <td>3.8</td>\n",
       "      <td>7.2</td>\n",
       "      <td>60.3</td>\n",
       "      <td>92.7</td>\n",
       "      <td>29.2</td>\n",
       "      <td>35874.0</td>\n",
       "      <td>76715.0</td>\n",
       "      <td>1.2</td>\n",
       "      <td>4.630680e+05</td>\n",
       "      <td>86322.310</td>\n",
       "      <td>0.118</td>\n",
       "      <td>0.633</td>\n",
       "      <td>-21.0</td>\n",
       "      <td>17.0</td>\n",
       "      <td>-15.0</td>\n",
       "      <td>0.069696</td>\n",
       "      <td>0.377822</td>\n",
       "      <td>0</td>\n",
       "      <td>0</td>\n",
       "    </tr>\n",
       "    <tr>\n",
       "      <th>2</th>\n",
       "      <td>Arizona</td>\n",
       "      <td>5.1</td>\n",
       "      <td>31.6</td>\n",
       "      <td>54.4</td>\n",
       "      <td>86.8</td>\n",
       "      <td>28.9</td>\n",
       "      <td>29265.0</td>\n",
       "      <td>56213.0</td>\n",
       "      <td>56.3</td>\n",
       "      <td>4.338115e+06</td>\n",
       "      <td>1273775.475</td>\n",
       "      <td>0.175</td>\n",
       "      <td>0.596</td>\n",
       "      <td>-2.0</td>\n",
       "      <td>18.0</td>\n",
       "      <td>-9.0</td>\n",
       "      <td>0.051191</td>\n",
       "      <td>0.305368</td>\n",
       "      <td>2</td>\n",
       "      <td>2</td>\n",
       "    </tr>\n",
       "    <tr>\n",
       "      <th>3</th>\n",
       "      <td>Arkansas</td>\n",
       "      <td>15.7</td>\n",
       "      <td>7.7</td>\n",
       "      <td>72.2</td>\n",
       "      <td>86.2</td>\n",
       "      <td>22.6</td>\n",
       "      <td>25635.0</td>\n",
       "      <td>45726.0</td>\n",
       "      <td>56.0</td>\n",
       "      <td>1.801629e+06</td>\n",
       "      <td>513026.680</td>\n",
       "      <td>0.170</td>\n",
       "      <td>0.597</td>\n",
       "      <td>-9.0</td>\n",
       "      <td>19.0</td>\n",
       "      <td>-24.0</td>\n",
       "      <td>0.031376</td>\n",
       "      <td>0.153866</td>\n",
       "      <td>3</td>\n",
       "      <td>2</td>\n",
       "    </tr>\n",
       "    <tr>\n",
       "      <th>4</th>\n",
       "      <td>California</td>\n",
       "      <td>6.5</td>\n",
       "      <td>39.3</td>\n",
       "      <td>36.8</td>\n",
       "      <td>82.9</td>\n",
       "      <td>33.3</td>\n",
       "      <td>35021.0</td>\n",
       "      <td>71228.0</td>\n",
       "      <td>239.1</td>\n",
       "      <td>2.489270e+07</td>\n",
       "      <td>5650247.889</td>\n",
       "      <td>0.143</td>\n",
       "      <td>0.630</td>\n",
       "      <td>21.0</td>\n",
       "      <td>19.0</td>\n",
       "      <td>24.0</td>\n",
       "      <td>0.251148</td>\n",
       "      <td>0.310209</td>\n",
       "      <td>2</td>\n",
       "      <td>1</td>\n",
       "    </tr>\n",
       "  </tbody>\n",
       "</table>\n",
       "</div>"
      ],
      "text/plain": [
       "        state  per_black  per_hisp  per_white  educ_hs  educ_coll  \\\n",
       "0     Alabama       26.8       4.4       65.4     85.8       24.9   \n",
       "1      Alaska        3.8       7.2       60.3     92.7       29.2   \n",
       "2     Arizona        5.1      31.6       54.4     86.8       28.9   \n",
       "3    Arkansas       15.7       7.7       72.2     86.2       22.6   \n",
       "4  California        6.5      39.3       36.8     82.9       33.3   \n",
       "\n",
       "   average_income  median_income  pop_density      vote_pop    older_pop  \\\n",
       "0         26846.0        48486.0         94.4  2.981136e+06   828638.265   \n",
       "1         35874.0        76715.0          1.2  4.630680e+05    86322.310   \n",
       "2         29265.0        56213.0         56.3  4.338115e+06  1273775.475   \n",
       "3         25635.0        45726.0         56.0  1.801629e+06   513026.680   \n",
       "4         35021.0        71228.0        239.1  2.489270e+07  5650247.889   \n",
       "\n",
       "   per_older  per_vote  Dem_Adv  no_party   PVI    amount  amount_trump  \\\n",
       "0      0.169     0.608    -15.0      15.0 -27.0  0.054218      0.202494   \n",
       "1      0.118     0.633    -21.0      17.0 -15.0  0.069696      0.377822   \n",
       "2      0.175     0.596     -2.0      18.0  -9.0  0.051191      0.305368   \n",
       "3      0.170     0.597     -9.0      19.0 -24.0  0.031376      0.153866   \n",
       "4      0.143     0.630     21.0      19.0  24.0  0.251148      0.310209   \n",
       "\n",
       "   kmeans_group  kmeans_labels  \n",
       "0             3              2  \n",
       "1             0              0  \n",
       "2             2              2  \n",
       "3             3              2  \n",
       "4             2              1  "
      ]
     },
     "execution_count": 1482,
     "metadata": {},
     "output_type": "execute_result"
    }
   ],
   "source": [
    "demo_data = demo_data.reset_index()\n",
    "demo_data.head()"
   ]
  },
  {
   "cell_type": "code",
   "execution_count": 1483,
   "metadata": {},
   "outputs": [
    {
     "data": {
      "text/html": [
       "<div>\n",
       "<style scoped>\n",
       "    .dataframe tbody tr th:only-of-type {\n",
       "        vertical-align: middle;\n",
       "    }\n",
       "\n",
       "    .dataframe tbody tr th {\n",
       "        vertical-align: top;\n",
       "    }\n",
       "\n",
       "    .dataframe thead th {\n",
       "        text-align: right;\n",
       "    }\n",
       "</style>\n",
       "<table border=\"1\" class=\"dataframe\">\n",
       "  <thead>\n",
       "    <tr style=\"text-align: right;\">\n",
       "      <th></th>\n",
       "      <th>question_id</th>\n",
       "      <th>poll_id</th>\n",
       "      <th>cycle</th>\n",
       "      <th>state</th>\n",
       "      <th>pollster_id</th>\n",
       "      <th>pollster</th>\n",
       "      <th>sponsor_ids</th>\n",
       "      <th>sponsors</th>\n",
       "      <th>display_name</th>\n",
       "      <th>pollster_rating_id</th>\n",
       "      <th>...</th>\n",
       "      <th>Bias</th>\n",
       "      <th>Mean-Reverted Bias.1</th>\n",
       "      <th>House Effect</th>\n",
       "      <th>age_weight</th>\n",
       "      <th>recency_weight</th>\n",
       "      <th>pollster_weight</th>\n",
       "      <th>sample_size_weight</th>\n",
       "      <th>weighted_average</th>\n",
       "      <th>spread</th>\n",
       "      <th>kmeans_labels</th>\n",
       "    </tr>\n",
       "  </thead>\n",
       "  <tbody>\n",
       "    <tr>\n",
       "      <th>0</th>\n",
       "      <td>121353</td>\n",
       "      <td>65673</td>\n",
       "      <td>2020</td>\n",
       "      <td>Florida</td>\n",
       "      <td>509</td>\n",
       "      <td>University of North Florida</td>\n",
       "      <td>NaN</td>\n",
       "      <td>NaN</td>\n",
       "      <td>University of North Florida</td>\n",
       "      <td>360.0</td>\n",
       "      <td>...</td>\n",
       "      <td>D +4.0</td>\n",
       "      <td>D +0.5</td>\n",
       "      <td>D +1.6</td>\n",
       "      <td>0.0</td>\n",
       "      <td>0.977160</td>\n",
       "      <td>0.810506</td>\n",
       "      <td>1.466921</td>\n",
       "      <td>1.161794</td>\n",
       "      <td>DEM 2.0</td>\n",
       "      <td>1</td>\n",
       "    </tr>\n",
       "    <tr>\n",
       "      <th>1</th>\n",
       "      <td>121353</td>\n",
       "      <td>65673</td>\n",
       "      <td>2020</td>\n",
       "      <td>Florida</td>\n",
       "      <td>509</td>\n",
       "      <td>University of North Florida</td>\n",
       "      <td>NaN</td>\n",
       "      <td>NaN</td>\n",
       "      <td>University of North Florida</td>\n",
       "      <td>360.0</td>\n",
       "      <td>...</td>\n",
       "      <td>D +4.0</td>\n",
       "      <td>D +0.5</td>\n",
       "      <td>D +1.6</td>\n",
       "      <td>0.0</td>\n",
       "      <td>0.977160</td>\n",
       "      <td>0.810506</td>\n",
       "      <td>1.466921</td>\n",
       "      <td>1.161794</td>\n",
       "      <td>DEM 2.0</td>\n",
       "      <td>1</td>\n",
       "    </tr>\n",
       "    <tr>\n",
       "      <th>2</th>\n",
       "      <td>118575</td>\n",
       "      <td>64462</td>\n",
       "      <td>2020</td>\n",
       "      <td>Florida</td>\n",
       "      <td>509</td>\n",
       "      <td>University of North Florida</td>\n",
       "      <td>76</td>\n",
       "      <td>First Coast News</td>\n",
       "      <td>University of North Florida</td>\n",
       "      <td>360.0</td>\n",
       "      <td>...</td>\n",
       "      <td>D +4.0</td>\n",
       "      <td>D +0.5</td>\n",
       "      <td>D +1.6</td>\n",
       "      <td>0.0</td>\n",
       "      <td>0.337587</td>\n",
       "      <td>0.810506</td>\n",
       "      <td>0.667653</td>\n",
       "      <td>0.182681</td>\n",
       "      <td>DEM 2.0</td>\n",
       "      <td>1</td>\n",
       "    </tr>\n",
       "    <tr>\n",
       "      <th>3</th>\n",
       "      <td>118576</td>\n",
       "      <td>64462</td>\n",
       "      <td>2020</td>\n",
       "      <td>Florida</td>\n",
       "      <td>509</td>\n",
       "      <td>University of North Florida</td>\n",
       "      <td>76</td>\n",
       "      <td>First Coast News</td>\n",
       "      <td>University of North Florida</td>\n",
       "      <td>360.0</td>\n",
       "      <td>...</td>\n",
       "      <td>D +4.0</td>\n",
       "      <td>D +0.5</td>\n",
       "      <td>D +1.6</td>\n",
       "      <td>0.0</td>\n",
       "      <td>0.337587</td>\n",
       "      <td>0.810506</td>\n",
       "      <td>0.665663</td>\n",
       "      <td>0.182137</td>\n",
       "      <td>DEM 2.0</td>\n",
       "      <td>1</td>\n",
       "    </tr>\n",
       "    <tr>\n",
       "      <th>4</th>\n",
       "      <td>118576</td>\n",
       "      <td>64462</td>\n",
       "      <td>2020</td>\n",
       "      <td>Florida</td>\n",
       "      <td>509</td>\n",
       "      <td>University of North Florida</td>\n",
       "      <td>76</td>\n",
       "      <td>First Coast News</td>\n",
       "      <td>University of North Florida</td>\n",
       "      <td>360.0</td>\n",
       "      <td>...</td>\n",
       "      <td>D +4.0</td>\n",
       "      <td>D +0.5</td>\n",
       "      <td>D +1.6</td>\n",
       "      <td>0.0</td>\n",
       "      <td>0.337587</td>\n",
       "      <td>0.810506</td>\n",
       "      <td>0.665663</td>\n",
       "      <td>0.182137</td>\n",
       "      <td>DEM 2.0</td>\n",
       "      <td>1</td>\n",
       "    </tr>\n",
       "  </tbody>\n",
       "</table>\n",
       "<p>5 rows × 65 columns</p>\n",
       "</div>"
      ],
      "text/plain": [
       "   question_id  poll_id  cycle    state  pollster_id  \\\n",
       "0       121353    65673   2020  Florida          509   \n",
       "1       121353    65673   2020  Florida          509   \n",
       "2       118575    64462   2020  Florida          509   \n",
       "3       118576    64462   2020  Florida          509   \n",
       "4       118576    64462   2020  Florida          509   \n",
       "\n",
       "                      pollster sponsor_ids          sponsors  \\\n",
       "0  University of North Florida         NaN               NaN   \n",
       "1  University of North Florida         NaN               NaN   \n",
       "2  University of North Florida          76  First Coast News   \n",
       "3  University of North Florida          76  First Coast News   \n",
       "4  University of North Florida          76  First Coast News   \n",
       "\n",
       "                  display_name  pollster_rating_id  ...    Bias  \\\n",
       "0  University of North Florida               360.0  ...  D +4.0   \n",
       "1  University of North Florida               360.0  ...  D +4.0   \n",
       "2  University of North Florida               360.0  ...  D +4.0   \n",
       "3  University of North Florida               360.0  ...  D +4.0   \n",
       "4  University of North Florida               360.0  ...  D +4.0   \n",
       "\n",
       "  Mean-Reverted Bias.1  House Effect age_weight recency_weight  \\\n",
       "0               D +0.5        D +1.6        0.0       0.977160   \n",
       "1               D +0.5        D +1.6        0.0       0.977160   \n",
       "2               D +0.5        D +1.6        0.0       0.337587   \n",
       "3               D +0.5        D +1.6        0.0       0.337587   \n",
       "4               D +0.5        D +1.6        0.0       0.337587   \n",
       "\n",
       "  pollster_weight sample_size_weight  weighted_average   spread kmeans_labels  \n",
       "0        0.810506           1.466921          1.161794  DEM 2.0             1  \n",
       "1        0.810506           1.466921          1.161794  DEM 2.0             1  \n",
       "2        0.810506           0.667653          0.182681  DEM 2.0             1  \n",
       "3        0.810506           0.665663          0.182137  DEM 2.0             1  \n",
       "4        0.810506           0.665663          0.182137  DEM 2.0             1  \n",
       "\n",
       "[5 rows x 65 columns]"
      ]
     },
     "execution_count": 1483,
     "metadata": {},
     "output_type": "execute_result"
    }
   ],
   "source": [
    "polls.state.replace(states_abbrev_dict, inplace=True)\n",
    "polls = polls.merge(demo_data[[\"state\", \"kmeans_labels\"]], on=\"state\")\n",
    "polls.head()"
   ]
  },
  {
   "cell_type": "code",
   "execution_count": 1484,
   "metadata": {},
   "outputs": [
    {
     "data": {
      "text/plain": [
       "dict_keys([0, 1, 2, 3, 4])"
      ]
     },
     "execution_count": 1484,
     "metadata": {},
     "output_type": "execute_result"
    }
   ],
   "source": [
    "kmeans_groups = polls.groupby(\"kmeans_labels\")\n",
    "kmeans_groups.groups.keys()"
   ]
  },
  {
   "cell_type": "code",
   "execution_count": 1485,
   "metadata": {},
   "outputs": [
    {
     "data": {
      "text/html": [
       "<div>\n",
       "<style scoped>\n",
       "    .dataframe tbody tr th:only-of-type {\n",
       "        vertical-align: middle;\n",
       "    }\n",
       "\n",
       "    .dataframe tbody tr th {\n",
       "        vertical-align: top;\n",
       "    }\n",
       "\n",
       "    .dataframe thead th {\n",
       "        text-align: right;\n",
       "    }\n",
       "</style>\n",
       "<table border=\"1\" class=\"dataframe\">\n",
       "  <thead>\n",
       "    <tr style=\"text-align: right;\">\n",
       "      <th></th>\n",
       "      <th>question_id</th>\n",
       "      <th>poll_id</th>\n",
       "      <th>cycle</th>\n",
       "      <th>state</th>\n",
       "      <th>pollster_id</th>\n",
       "      <th>pollster</th>\n",
       "      <th>sponsor_ids</th>\n",
       "      <th>sponsors</th>\n",
       "      <th>display_name</th>\n",
       "      <th>pollster_rating_id</th>\n",
       "      <th>...</th>\n",
       "      <th>Bias</th>\n",
       "      <th>Mean-Reverted Bias.1</th>\n",
       "      <th>House Effect</th>\n",
       "      <th>age_weight</th>\n",
       "      <th>recency_weight</th>\n",
       "      <th>pollster_weight</th>\n",
       "      <th>sample_size_weight</th>\n",
       "      <th>weighted_average</th>\n",
       "      <th>spread</th>\n",
       "      <th>kmeans_labels</th>\n",
       "    </tr>\n",
       "  </thead>\n",
       "  <tbody>\n",
       "    <tr>\n",
       "      <th>60</th>\n",
       "      <td>120728</td>\n",
       "      <td>65060</td>\n",
       "      <td>2020</td>\n",
       "      <td>Michigan</td>\n",
       "      <td>383</td>\n",
       "      <td>Public Policy Polling</td>\n",
       "      <td>338</td>\n",
       "      <td>Progress Michigan</td>\n",
       "      <td>Public Policy Polling</td>\n",
       "      <td>263.0</td>\n",
       "      <td>...</td>\n",
       "      <td>D +0.3</td>\n",
       "      <td>D +0.3</td>\n",
       "      <td>D +1.0</td>\n",
       "      <td>0.0</td>\n",
       "      <td>0.911722</td>\n",
       "      <td>0.715850</td>\n",
       "      <td>0.822155</td>\n",
       "      <td>0.536585</td>\n",
       "      <td>DEM 0</td>\n",
       "      <td>2</td>\n",
       "    </tr>\n",
       "    <tr>\n",
       "      <th>61</th>\n",
       "      <td>120728</td>\n",
       "      <td>65060</td>\n",
       "      <td>2020</td>\n",
       "      <td>Michigan</td>\n",
       "      <td>383</td>\n",
       "      <td>Public Policy Polling</td>\n",
       "      <td>338</td>\n",
       "      <td>Progress Michigan</td>\n",
       "      <td>Public Policy Polling</td>\n",
       "      <td>263.0</td>\n",
       "      <td>...</td>\n",
       "      <td>D +0.3</td>\n",
       "      <td>D +0.3</td>\n",
       "      <td>D +1.0</td>\n",
       "      <td>0.0</td>\n",
       "      <td>0.911722</td>\n",
       "      <td>0.715850</td>\n",
       "      <td>0.822155</td>\n",
       "      <td>0.536585</td>\n",
       "      <td>DEM 0</td>\n",
       "      <td>2</td>\n",
       "    </tr>\n",
       "    <tr>\n",
       "      <th>62</th>\n",
       "      <td>119814</td>\n",
       "      <td>64766</td>\n",
       "      <td>2020</td>\n",
       "      <td>Michigan</td>\n",
       "      <td>568</td>\n",
       "      <td>YouGov</td>\n",
       "      <td>1213</td>\n",
       "      <td>Yahoo News</td>\n",
       "      <td>YouGov</td>\n",
       "      <td>391.0</td>\n",
       "      <td>...</td>\n",
       "      <td>D +0.3</td>\n",
       "      <td>D +0.3</td>\n",
       "      <td>D +0.3</td>\n",
       "      <td>0.0</td>\n",
       "      <td>0.523647</td>\n",
       "      <td>0.692186</td>\n",
       "      <td>0.612738</td>\n",
       "      <td>0.222094</td>\n",
       "      <td>DEM 2.0</td>\n",
       "      <td>2</td>\n",
       "    </tr>\n",
       "    <tr>\n",
       "      <th>63</th>\n",
       "      <td>119814</td>\n",
       "      <td>64766</td>\n",
       "      <td>2020</td>\n",
       "      <td>Michigan</td>\n",
       "      <td>568</td>\n",
       "      <td>YouGov</td>\n",
       "      <td>1213</td>\n",
       "      <td>Yahoo News</td>\n",
       "      <td>YouGov</td>\n",
       "      <td>391.0</td>\n",
       "      <td>...</td>\n",
       "      <td>D +0.3</td>\n",
       "      <td>D +0.3</td>\n",
       "      <td>D +0.3</td>\n",
       "      <td>0.0</td>\n",
       "      <td>0.523647</td>\n",
       "      <td>0.692186</td>\n",
       "      <td>0.612738</td>\n",
       "      <td>0.222094</td>\n",
       "      <td>DEM 2.0</td>\n",
       "      <td>2</td>\n",
       "    </tr>\n",
       "    <tr>\n",
       "      <th>64</th>\n",
       "      <td>119815</td>\n",
       "      <td>64766</td>\n",
       "      <td>2020</td>\n",
       "      <td>Michigan</td>\n",
       "      <td>568</td>\n",
       "      <td>YouGov</td>\n",
       "      <td>1213</td>\n",
       "      <td>Yahoo News</td>\n",
       "      <td>YouGov</td>\n",
       "      <td>391.0</td>\n",
       "      <td>...</td>\n",
       "      <td>D +0.3</td>\n",
       "      <td>D +0.3</td>\n",
       "      <td>D +0.3</td>\n",
       "      <td>0.0</td>\n",
       "      <td>0.523647</td>\n",
       "      <td>0.692186</td>\n",
       "      <td>0.612738</td>\n",
       "      <td>0.222094</td>\n",
       "      <td>DEM 2.0</td>\n",
       "      <td>2</td>\n",
       "    </tr>\n",
       "    <tr>\n",
       "      <th>...</th>\n",
       "      <td>...</td>\n",
       "      <td>...</td>\n",
       "      <td>...</td>\n",
       "      <td>...</td>\n",
       "      <td>...</td>\n",
       "      <td>...</td>\n",
       "      <td>...</td>\n",
       "      <td>...</td>\n",
       "      <td>...</td>\n",
       "      <td>...</td>\n",
       "      <td>...</td>\n",
       "      <td>...</td>\n",
       "      <td>...</td>\n",
       "      <td>...</td>\n",
       "      <td>...</td>\n",
       "      <td>...</td>\n",
       "      <td>...</td>\n",
       "      <td>...</td>\n",
       "      <td>...</td>\n",
       "      <td>...</td>\n",
       "      <td>...</td>\n",
       "    </tr>\n",
       "    <tr>\n",
       "      <th>940</th>\n",
       "      <td>98031</td>\n",
       "      <td>58473</td>\n",
       "      <td>2020</td>\n",
       "      <td>Kentucky</td>\n",
       "      <td>801</td>\n",
       "      <td>Gravis Marketing</td>\n",
       "      <td>NaN</td>\n",
       "      <td>NaN</td>\n",
       "      <td>Gravis Marketing</td>\n",
       "      <td>124.0</td>\n",
       "      <td>...</td>\n",
       "      <td>D +0.9</td>\n",
       "      <td>D +0.6</td>\n",
       "      <td>R +0.9</td>\n",
       "      <td>0.0</td>\n",
       "      <td>0.001023</td>\n",
       "      <td>0.550201</td>\n",
       "      <td>0.701093</td>\n",
       "      <td>0.000395</td>\n",
       "      <td>DEM 0</td>\n",
       "      <td>2</td>\n",
       "    </tr>\n",
       "    <tr>\n",
       "      <th>941</th>\n",
       "      <td>98032</td>\n",
       "      <td>58473</td>\n",
       "      <td>2020</td>\n",
       "      <td>Kentucky</td>\n",
       "      <td>801</td>\n",
       "      <td>Gravis Marketing</td>\n",
       "      <td>NaN</td>\n",
       "      <td>NaN</td>\n",
       "      <td>Gravis Marketing</td>\n",
       "      <td>124.0</td>\n",
       "      <td>...</td>\n",
       "      <td>D +0.9</td>\n",
       "      <td>D +0.6</td>\n",
       "      <td>R +0.9</td>\n",
       "      <td>0.0</td>\n",
       "      <td>0.001023</td>\n",
       "      <td>0.550201</td>\n",
       "      <td>0.701093</td>\n",
       "      <td>0.000395</td>\n",
       "      <td>DEM 0</td>\n",
       "      <td>2</td>\n",
       "    </tr>\n",
       "    <tr>\n",
       "      <th>942</th>\n",
       "      <td>98032</td>\n",
       "      <td>58473</td>\n",
       "      <td>2020</td>\n",
       "      <td>Kentucky</td>\n",
       "      <td>801</td>\n",
       "      <td>Gravis Marketing</td>\n",
       "      <td>NaN</td>\n",
       "      <td>NaN</td>\n",
       "      <td>Gravis Marketing</td>\n",
       "      <td>124.0</td>\n",
       "      <td>...</td>\n",
       "      <td>D +0.9</td>\n",
       "      <td>D +0.6</td>\n",
       "      <td>R +0.9</td>\n",
       "      <td>0.0</td>\n",
       "      <td>0.001023</td>\n",
       "      <td>0.550201</td>\n",
       "      <td>0.701093</td>\n",
       "      <td>0.000395</td>\n",
       "      <td>DEM 0</td>\n",
       "      <td>2</td>\n",
       "    </tr>\n",
       "    <tr>\n",
       "      <th>943</th>\n",
       "      <td>98033</td>\n",
       "      <td>58473</td>\n",
       "      <td>2020</td>\n",
       "      <td>Kentucky</td>\n",
       "      <td>801</td>\n",
       "      <td>Gravis Marketing</td>\n",
       "      <td>NaN</td>\n",
       "      <td>NaN</td>\n",
       "      <td>Gravis Marketing</td>\n",
       "      <td>124.0</td>\n",
       "      <td>...</td>\n",
       "      <td>D +0.9</td>\n",
       "      <td>D +0.6</td>\n",
       "      <td>R +0.9</td>\n",
       "      <td>0.0</td>\n",
       "      <td>0.001023</td>\n",
       "      <td>0.550201</td>\n",
       "      <td>0.701093</td>\n",
       "      <td>0.000395</td>\n",
       "      <td>DEM 0</td>\n",
       "      <td>2</td>\n",
       "    </tr>\n",
       "    <tr>\n",
       "      <th>944</th>\n",
       "      <td>98034</td>\n",
       "      <td>58473</td>\n",
       "      <td>2020</td>\n",
       "      <td>Kentucky</td>\n",
       "      <td>801</td>\n",
       "      <td>Gravis Marketing</td>\n",
       "      <td>NaN</td>\n",
       "      <td>NaN</td>\n",
       "      <td>Gravis Marketing</td>\n",
       "      <td>124.0</td>\n",
       "      <td>...</td>\n",
       "      <td>D +0.9</td>\n",
       "      <td>D +0.6</td>\n",
       "      <td>R +0.9</td>\n",
       "      <td>0.0</td>\n",
       "      <td>0.001023</td>\n",
       "      <td>0.550201</td>\n",
       "      <td>0.701093</td>\n",
       "      <td>0.000395</td>\n",
       "      <td>DEM 0</td>\n",
       "      <td>2</td>\n",
       "    </tr>\n",
       "  </tbody>\n",
       "</table>\n",
       "<p>394 rows × 65 columns</p>\n",
       "</div>"
      ],
      "text/plain": [
       "     question_id  poll_id  cycle     state  pollster_id  \\\n",
       "60        120728    65060   2020  Michigan          383   \n",
       "61        120728    65060   2020  Michigan          383   \n",
       "62        119814    64766   2020  Michigan          568   \n",
       "63        119814    64766   2020  Michigan          568   \n",
       "64        119815    64766   2020  Michigan          568   \n",
       "..           ...      ...    ...       ...          ...   \n",
       "940        98031    58473   2020  Kentucky          801   \n",
       "941        98032    58473   2020  Kentucky          801   \n",
       "942        98032    58473   2020  Kentucky          801   \n",
       "943        98033    58473   2020  Kentucky          801   \n",
       "944        98034    58473   2020  Kentucky          801   \n",
       "\n",
       "                  pollster sponsor_ids           sponsors  \\\n",
       "60   Public Policy Polling         338  Progress Michigan   \n",
       "61   Public Policy Polling         338  Progress Michigan   \n",
       "62                  YouGov        1213         Yahoo News   \n",
       "63                  YouGov        1213         Yahoo News   \n",
       "64                  YouGov        1213         Yahoo News   \n",
       "..                     ...         ...                ...   \n",
       "940       Gravis Marketing         NaN                NaN   \n",
       "941       Gravis Marketing         NaN                NaN   \n",
       "942       Gravis Marketing         NaN                NaN   \n",
       "943       Gravis Marketing         NaN                NaN   \n",
       "944       Gravis Marketing         NaN                NaN   \n",
       "\n",
       "              display_name  pollster_rating_id  ...    Bias  \\\n",
       "60   Public Policy Polling               263.0  ...  D +0.3   \n",
       "61   Public Policy Polling               263.0  ...  D +0.3   \n",
       "62                  YouGov               391.0  ...  D +0.3   \n",
       "63                  YouGov               391.0  ...  D +0.3   \n",
       "64                  YouGov               391.0  ...  D +0.3   \n",
       "..                     ...                 ...  ...     ...   \n",
       "940       Gravis Marketing               124.0  ...  D +0.9   \n",
       "941       Gravis Marketing               124.0  ...  D +0.9   \n",
       "942       Gravis Marketing               124.0  ...  D +0.9   \n",
       "943       Gravis Marketing               124.0  ...  D +0.9   \n",
       "944       Gravis Marketing               124.0  ...  D +0.9   \n",
       "\n",
       "    Mean-Reverted Bias.1  House Effect age_weight recency_weight  \\\n",
       "60                D +0.3        D +1.0        0.0       0.911722   \n",
       "61                D +0.3        D +1.0        0.0       0.911722   \n",
       "62                D +0.3        D +0.3        0.0       0.523647   \n",
       "63                D +0.3        D +0.3        0.0       0.523647   \n",
       "64                D +0.3        D +0.3        0.0       0.523647   \n",
       "..                   ...           ...        ...            ...   \n",
       "940               D +0.6        R +0.9        0.0       0.001023   \n",
       "941               D +0.6        R +0.9        0.0       0.001023   \n",
       "942               D +0.6        R +0.9        0.0       0.001023   \n",
       "943               D +0.6        R +0.9        0.0       0.001023   \n",
       "944               D +0.6        R +0.9        0.0       0.001023   \n",
       "\n",
       "    pollster_weight sample_size_weight  weighted_average   spread  \\\n",
       "60         0.715850           0.822155          0.536585    DEM 0   \n",
       "61         0.715850           0.822155          0.536585    DEM 0   \n",
       "62         0.692186           0.612738          0.222094  DEM 2.0   \n",
       "63         0.692186           0.612738          0.222094  DEM 2.0   \n",
       "64         0.692186           0.612738          0.222094  DEM 2.0   \n",
       "..              ...                ...               ...      ...   \n",
       "940        0.550201           0.701093          0.000395    DEM 0   \n",
       "941        0.550201           0.701093          0.000395    DEM 0   \n",
       "942        0.550201           0.701093          0.000395    DEM 0   \n",
       "943        0.550201           0.701093          0.000395    DEM 0   \n",
       "944        0.550201           0.701093          0.000395    DEM 0   \n",
       "\n",
       "    kmeans_labels  \n",
       "60              2  \n",
       "61              2  \n",
       "62              2  \n",
       "63              2  \n",
       "64              2  \n",
       "..            ...  \n",
       "940             2  \n",
       "941             2  \n",
       "942             2  \n",
       "943             2  \n",
       "944             2  \n",
       "\n",
       "[394 rows x 65 columns]"
      ]
     },
     "execution_count": 1485,
     "metadata": {},
     "output_type": "execute_result"
    }
   ],
   "source": [
    "group = kmeans_groups.get_group(list(kmeans_groups.groups.keys())[2])\n",
    "group"
   ]
  },
  {
   "cell_type": "code",
   "execution_count": 1486,
   "metadata": {},
   "outputs": [
    {
     "data": {
      "text/plain": [
       "array(['Michigan', 'Arizona', 'Ohio', 'North Carolina', 'Pennsylvania',\n",
       "       'South Carolina', 'New Mexico', 'Nevada', 'Georgia', 'Mississippi',\n",
       "       'Alabama', 'Tennessee', 'Missouri', 'Oklahoma', 'Kentucky'],\n",
       "      dtype=object)"
      ]
     },
     "execution_count": 1486,
     "metadata": {},
     "output_type": "execute_result"
    }
   ],
   "source": [
    "group.state.unique()"
   ]
  },
  {
   "cell_type": "code",
   "execution_count": 1487,
   "metadata": {},
   "outputs": [],
   "source": [
    "rep_points = []\n",
    "dem_points = []\n",
    "for i in group['state'].unique():\n",
    "    start = group[group['state'] == i]\n",
    "    for j in start['pollster'].unique():\n",
    "        mid = start[start['pollster'] == j]\n",
    "        mid = mid.sort_values(by = 'end_date').reset_index(drop=True)\n",
    "        rep = mid[mid['candidate_party'] == 'REP'].reset_index(drop=True)\n",
    "        dem = mid[mid['candidate_party'] == 'DEM'].reset_index(drop=True)\n",
    "        if len(rep) > 1:\n",
    "            rep_points.append([i,j,((rep.loc[0]['pct'] - rep.loc[len(rep)-1]['pct'])*(-1))])\n",
    "        elif len(rep) == 1:\n",
    "            rep_points.append([i,j,0])\n",
    "        if len(dem) > 1:\n",
    "            dem_points.append([i,j,(dem.loc[0]['pct'] - dem.loc[len(dem)-1]['pct'])])\n",
    "        elif len(dem) == 1:\n",
    "            dem_points.append([i,j,0])"
   ]
  },
  {
   "cell_type": "code",
   "execution_count": 1488,
   "metadata": {},
   "outputs": [],
   "source": [
    "loess_df = group.copy()\n",
    "loess_df['spread'] = \"NAN \" + str(0)\n",
    "\n",
    "for i in rep_points: \n",
    "    loess_df.loc[(loess_df.state == i[0]) & (loess_df['pollster'] == i[1]),'spread'] = \"REP \" + str(i[2])\n",
    "    \n",
    "for i in dem_points: \n",
    "    loess_df.loc[(loess_df.state == i[0]) & (loess_df['pollster'] == i[1]),'spread'] = \"DEM \" + str(i[2])\n",
    "\n",
    "loess_df = loess_df.reset_index(drop=True)"
   ]
  },
  {
   "cell_type": "code",
   "execution_count": 1489,
   "metadata": {},
   "outputs": [],
   "source": [
    "def edit_tick_label(tick_val, tick_pos):\n",
    "    if 'DEM' in tick_val:\n",
    "        text = tick_val.replace(\"DEM\", \"BIDEN\")\n",
    "    else:\n",
    "        text = tick_val.replace(\"REP\", \"TRUMP\")\n",
    "    return text"
   ]
  },
  {
   "cell_type": "code",
   "execution_count": 1490,
   "metadata": {},
   "outputs": [],
   "source": [
    "def number(val):\n",
    "    val = val[4:]\n",
    "    return val"
   ]
  },
  {
   "cell_type": "code",
   "execution_count": 1491,
   "metadata": {},
   "outputs": [
    {
     "name": "stderr",
     "output_type": "stream",
     "text": [
      "/Users/siddhipatel/opt/anaconda3/lib/python3.7/site-packages/statsmodels/nonparametric/smoothers_lowess.py:165: RuntimeWarning:\n",
      "\n",
      "invalid value encountered in greater_equal\n",
      "\n"
     ]
    },
    {
     "ename": "TypeError",
     "evalue": "argument of type 'numpy.float64' is not iterable",
     "output_type": "error",
     "traceback": [
      "\u001b[0;31m---------------------------------------------------------------------------\u001b[0m",
      "\u001b[0;31mTypeError\u001b[0m                                 Traceback (most recent call last)",
      "\u001b[0;32m~/opt/anaconda3/lib/python3.7/site-packages/IPython/core/formatters.py\u001b[0m in \u001b[0;36m__call__\u001b[0;34m(self, obj)\u001b[0m\n\u001b[1;32m    339\u001b[0m                 \u001b[0;32mpass\u001b[0m\u001b[0;34m\u001b[0m\u001b[0;34m\u001b[0m\u001b[0m\n\u001b[1;32m    340\u001b[0m             \u001b[0;32melse\u001b[0m\u001b[0;34m:\u001b[0m\u001b[0;34m\u001b[0m\u001b[0;34m\u001b[0m\u001b[0m\n\u001b[0;32m--> 341\u001b[0;31m                 \u001b[0;32mreturn\u001b[0m \u001b[0mprinter\u001b[0m\u001b[0;34m(\u001b[0m\u001b[0mobj\u001b[0m\u001b[0;34m)\u001b[0m\u001b[0;34m\u001b[0m\u001b[0;34m\u001b[0m\u001b[0m\n\u001b[0m\u001b[1;32m    342\u001b[0m             \u001b[0;31m# Finally look for special method names\u001b[0m\u001b[0;34m\u001b[0m\u001b[0;34m\u001b[0m\u001b[0;34m\u001b[0m\u001b[0m\n\u001b[1;32m    343\u001b[0m             \u001b[0mmethod\u001b[0m \u001b[0;34m=\u001b[0m \u001b[0mget_real_method\u001b[0m\u001b[0;34m(\u001b[0m\u001b[0mobj\u001b[0m\u001b[0;34m,\u001b[0m \u001b[0mself\u001b[0m\u001b[0;34m.\u001b[0m\u001b[0mprint_method\u001b[0m\u001b[0;34m)\u001b[0m\u001b[0;34m\u001b[0m\u001b[0;34m\u001b[0m\u001b[0m\n",
      "\u001b[0;32m~/opt/anaconda3/lib/python3.7/site-packages/IPython/core/pylabtools.py\u001b[0m in \u001b[0;36m<lambda>\u001b[0;34m(fig)\u001b[0m\n\u001b[1;32m    246\u001b[0m \u001b[0;34m\u001b[0m\u001b[0m\n\u001b[1;32m    247\u001b[0m     \u001b[0;32mif\u001b[0m \u001b[0;34m'png'\u001b[0m \u001b[0;32min\u001b[0m \u001b[0mformats\u001b[0m\u001b[0;34m:\u001b[0m\u001b[0;34m\u001b[0m\u001b[0;34m\u001b[0m\u001b[0m\n\u001b[0;32m--> 248\u001b[0;31m         \u001b[0mpng_formatter\u001b[0m\u001b[0;34m.\u001b[0m\u001b[0mfor_type\u001b[0m\u001b[0;34m(\u001b[0m\u001b[0mFigure\u001b[0m\u001b[0;34m,\u001b[0m \u001b[0;32mlambda\u001b[0m \u001b[0mfig\u001b[0m\u001b[0;34m:\u001b[0m \u001b[0mprint_figure\u001b[0m\u001b[0;34m(\u001b[0m\u001b[0mfig\u001b[0m\u001b[0;34m,\u001b[0m \u001b[0;34m'png'\u001b[0m\u001b[0;34m,\u001b[0m \u001b[0;34m**\u001b[0m\u001b[0mkwargs\u001b[0m\u001b[0;34m)\u001b[0m\u001b[0;34m)\u001b[0m\u001b[0;34m\u001b[0m\u001b[0;34m\u001b[0m\u001b[0m\n\u001b[0m\u001b[1;32m    249\u001b[0m     \u001b[0;32mif\u001b[0m \u001b[0;34m'retina'\u001b[0m \u001b[0;32min\u001b[0m \u001b[0mformats\u001b[0m \u001b[0;32mor\u001b[0m \u001b[0;34m'png2x'\u001b[0m \u001b[0;32min\u001b[0m \u001b[0mformats\u001b[0m\u001b[0;34m:\u001b[0m\u001b[0;34m\u001b[0m\u001b[0;34m\u001b[0m\u001b[0m\n\u001b[1;32m    250\u001b[0m         \u001b[0mpng_formatter\u001b[0m\u001b[0;34m.\u001b[0m\u001b[0mfor_type\u001b[0m\u001b[0;34m(\u001b[0m\u001b[0mFigure\u001b[0m\u001b[0;34m,\u001b[0m \u001b[0;32mlambda\u001b[0m \u001b[0mfig\u001b[0m\u001b[0;34m:\u001b[0m \u001b[0mretina_figure\u001b[0m\u001b[0;34m(\u001b[0m\u001b[0mfig\u001b[0m\u001b[0;34m,\u001b[0m \u001b[0;34m**\u001b[0m\u001b[0mkwargs\u001b[0m\u001b[0;34m)\u001b[0m\u001b[0;34m)\u001b[0m\u001b[0;34m\u001b[0m\u001b[0;34m\u001b[0m\u001b[0m\n",
      "\u001b[0;32m~/opt/anaconda3/lib/python3.7/site-packages/IPython/core/pylabtools.py\u001b[0m in \u001b[0;36mprint_figure\u001b[0;34m(fig, fmt, bbox_inches, **kwargs)\u001b[0m\n\u001b[1;32m    130\u001b[0m         \u001b[0mFigureCanvasBase\u001b[0m\u001b[0;34m(\u001b[0m\u001b[0mfig\u001b[0m\u001b[0;34m)\u001b[0m\u001b[0;34m\u001b[0m\u001b[0;34m\u001b[0m\u001b[0m\n\u001b[1;32m    131\u001b[0m \u001b[0;34m\u001b[0m\u001b[0m\n\u001b[0;32m--> 132\u001b[0;31m     \u001b[0mfig\u001b[0m\u001b[0;34m.\u001b[0m\u001b[0mcanvas\u001b[0m\u001b[0;34m.\u001b[0m\u001b[0mprint_figure\u001b[0m\u001b[0;34m(\u001b[0m\u001b[0mbytes_io\u001b[0m\u001b[0;34m,\u001b[0m \u001b[0;34m**\u001b[0m\u001b[0mkw\u001b[0m\u001b[0;34m)\u001b[0m\u001b[0;34m\u001b[0m\u001b[0;34m\u001b[0m\u001b[0m\n\u001b[0m\u001b[1;32m    133\u001b[0m     \u001b[0mdata\u001b[0m \u001b[0;34m=\u001b[0m \u001b[0mbytes_io\u001b[0m\u001b[0;34m.\u001b[0m\u001b[0mgetvalue\u001b[0m\u001b[0;34m(\u001b[0m\u001b[0;34m)\u001b[0m\u001b[0;34m\u001b[0m\u001b[0;34m\u001b[0m\u001b[0m\n\u001b[1;32m    134\u001b[0m     \u001b[0;32mif\u001b[0m \u001b[0mfmt\u001b[0m \u001b[0;34m==\u001b[0m \u001b[0;34m'svg'\u001b[0m\u001b[0;34m:\u001b[0m\u001b[0;34m\u001b[0m\u001b[0;34m\u001b[0m\u001b[0m\n",
      "\u001b[0;32m~/opt/anaconda3/lib/python3.7/site-packages/matplotlib/backend_bases.py\u001b[0m in \u001b[0;36mprint_figure\u001b[0;34m(self, filename, dpi, facecolor, edgecolor, orientation, format, bbox_inches, **kwargs)\u001b[0m\n\u001b[1;32m   2063\u001b[0m                         \u001b[0morientation\u001b[0m\u001b[0;34m=\u001b[0m\u001b[0morientation\u001b[0m\u001b[0;34m,\u001b[0m\u001b[0;34m\u001b[0m\u001b[0;34m\u001b[0m\u001b[0m\n\u001b[1;32m   2064\u001b[0m                         \u001b[0mdryrun\u001b[0m\u001b[0;34m=\u001b[0m\u001b[0;32mTrue\u001b[0m\u001b[0;34m,\u001b[0m\u001b[0;34m\u001b[0m\u001b[0;34m\u001b[0m\u001b[0m\n\u001b[0;32m-> 2065\u001b[0;31m                         **kwargs)\n\u001b[0m\u001b[1;32m   2066\u001b[0m                     \u001b[0mrenderer\u001b[0m \u001b[0;34m=\u001b[0m \u001b[0mself\u001b[0m\u001b[0;34m.\u001b[0m\u001b[0mfigure\u001b[0m\u001b[0;34m.\u001b[0m\u001b[0m_cachedRenderer\u001b[0m\u001b[0;34m\u001b[0m\u001b[0;34m\u001b[0m\u001b[0m\n\u001b[1;32m   2067\u001b[0m                     \u001b[0mbbox_artists\u001b[0m \u001b[0;34m=\u001b[0m \u001b[0mkwargs\u001b[0m\u001b[0;34m.\u001b[0m\u001b[0mpop\u001b[0m\u001b[0;34m(\u001b[0m\u001b[0;34m\"bbox_extra_artists\"\u001b[0m\u001b[0;34m,\u001b[0m \u001b[0;32mNone\u001b[0m\u001b[0;34m)\u001b[0m\u001b[0;34m\u001b[0m\u001b[0;34m\u001b[0m\u001b[0m\n",
      "\u001b[0;32m~/opt/anaconda3/lib/python3.7/site-packages/matplotlib/backends/backend_agg.py\u001b[0m in \u001b[0;36mprint_png\u001b[0;34m(self, filename_or_obj, metadata, pil_kwargs, *args, **kwargs)\u001b[0m\n\u001b[1;32m    525\u001b[0m \u001b[0;34m\u001b[0m\u001b[0m\n\u001b[1;32m    526\u001b[0m         \u001b[0;32melse\u001b[0m\u001b[0;34m:\u001b[0m\u001b[0;34m\u001b[0m\u001b[0;34m\u001b[0m\u001b[0m\n\u001b[0;32m--> 527\u001b[0;31m             \u001b[0mFigureCanvasAgg\u001b[0m\u001b[0;34m.\u001b[0m\u001b[0mdraw\u001b[0m\u001b[0;34m(\u001b[0m\u001b[0mself\u001b[0m\u001b[0;34m)\u001b[0m\u001b[0;34m\u001b[0m\u001b[0;34m\u001b[0m\u001b[0m\n\u001b[0m\u001b[1;32m    528\u001b[0m             \u001b[0mrenderer\u001b[0m \u001b[0;34m=\u001b[0m \u001b[0mself\u001b[0m\u001b[0;34m.\u001b[0m\u001b[0mget_renderer\u001b[0m\u001b[0;34m(\u001b[0m\u001b[0;34m)\u001b[0m\u001b[0;34m\u001b[0m\u001b[0;34m\u001b[0m\u001b[0m\n\u001b[1;32m    529\u001b[0m             \u001b[0;32mwith\u001b[0m \u001b[0mcbook\u001b[0m\u001b[0;34m.\u001b[0m\u001b[0m_setattr_cm\u001b[0m\u001b[0;34m(\u001b[0m\u001b[0mrenderer\u001b[0m\u001b[0;34m,\u001b[0m \u001b[0mdpi\u001b[0m\u001b[0;34m=\u001b[0m\u001b[0mself\u001b[0m\u001b[0;34m.\u001b[0m\u001b[0mfigure\u001b[0m\u001b[0;34m.\u001b[0m\u001b[0mdpi\u001b[0m\u001b[0;34m)\u001b[0m\u001b[0;34m,\u001b[0m\u001b[0;31m \u001b[0m\u001b[0;31m\\\u001b[0m\u001b[0;34m\u001b[0m\u001b[0;34m\u001b[0m\u001b[0m\n",
      "\u001b[0;32m~/opt/anaconda3/lib/python3.7/site-packages/matplotlib/backends/backend_agg.py\u001b[0m in \u001b[0;36mdraw\u001b[0;34m(self)\u001b[0m\n\u001b[1;32m    386\u001b[0m         \u001b[0mself\u001b[0m\u001b[0;34m.\u001b[0m\u001b[0mrenderer\u001b[0m \u001b[0;34m=\u001b[0m \u001b[0mself\u001b[0m\u001b[0;34m.\u001b[0m\u001b[0mget_renderer\u001b[0m\u001b[0;34m(\u001b[0m\u001b[0mcleared\u001b[0m\u001b[0;34m=\u001b[0m\u001b[0;32mTrue\u001b[0m\u001b[0;34m)\u001b[0m\u001b[0;34m\u001b[0m\u001b[0;34m\u001b[0m\u001b[0m\n\u001b[1;32m    387\u001b[0m         \u001b[0;32mwith\u001b[0m \u001b[0mRendererAgg\u001b[0m\u001b[0;34m.\u001b[0m\u001b[0mlock\u001b[0m\u001b[0;34m:\u001b[0m\u001b[0;34m\u001b[0m\u001b[0;34m\u001b[0m\u001b[0m\n\u001b[0;32m--> 388\u001b[0;31m             \u001b[0mself\u001b[0m\u001b[0;34m.\u001b[0m\u001b[0mfigure\u001b[0m\u001b[0;34m.\u001b[0m\u001b[0mdraw\u001b[0m\u001b[0;34m(\u001b[0m\u001b[0mself\u001b[0m\u001b[0;34m.\u001b[0m\u001b[0mrenderer\u001b[0m\u001b[0;34m)\u001b[0m\u001b[0;34m\u001b[0m\u001b[0;34m\u001b[0m\u001b[0m\n\u001b[0m\u001b[1;32m    389\u001b[0m             \u001b[0;31m# A GUI class may be need to update a window using this draw, so\u001b[0m\u001b[0;34m\u001b[0m\u001b[0;34m\u001b[0m\u001b[0;34m\u001b[0m\u001b[0m\n\u001b[1;32m    390\u001b[0m             \u001b[0;31m# don't forget to call the superclass.\u001b[0m\u001b[0;34m\u001b[0m\u001b[0;34m\u001b[0m\u001b[0;34m\u001b[0m\u001b[0m\n",
      "\u001b[0;32m~/opt/anaconda3/lib/python3.7/site-packages/matplotlib/artist.py\u001b[0m in \u001b[0;36mdraw_wrapper\u001b[0;34m(artist, renderer, *args, **kwargs)\u001b[0m\n\u001b[1;32m     36\u001b[0m                 \u001b[0mrenderer\u001b[0m\u001b[0;34m.\u001b[0m\u001b[0mstart_filter\u001b[0m\u001b[0;34m(\u001b[0m\u001b[0;34m)\u001b[0m\u001b[0;34m\u001b[0m\u001b[0;34m\u001b[0m\u001b[0m\n\u001b[1;32m     37\u001b[0m \u001b[0;34m\u001b[0m\u001b[0m\n\u001b[0;32m---> 38\u001b[0;31m             \u001b[0;32mreturn\u001b[0m \u001b[0mdraw\u001b[0m\u001b[0;34m(\u001b[0m\u001b[0martist\u001b[0m\u001b[0;34m,\u001b[0m \u001b[0mrenderer\u001b[0m\u001b[0;34m,\u001b[0m \u001b[0;34m*\u001b[0m\u001b[0margs\u001b[0m\u001b[0;34m,\u001b[0m \u001b[0;34m**\u001b[0m\u001b[0mkwargs\u001b[0m\u001b[0;34m)\u001b[0m\u001b[0;34m\u001b[0m\u001b[0;34m\u001b[0m\u001b[0m\n\u001b[0m\u001b[1;32m     39\u001b[0m         \u001b[0;32mfinally\u001b[0m\u001b[0;34m:\u001b[0m\u001b[0;34m\u001b[0m\u001b[0;34m\u001b[0m\u001b[0m\n\u001b[1;32m     40\u001b[0m             \u001b[0;32mif\u001b[0m \u001b[0martist\u001b[0m\u001b[0;34m.\u001b[0m\u001b[0mget_agg_filter\u001b[0m\u001b[0;34m(\u001b[0m\u001b[0;34m)\u001b[0m \u001b[0;32mis\u001b[0m \u001b[0;32mnot\u001b[0m \u001b[0;32mNone\u001b[0m\u001b[0;34m:\u001b[0m\u001b[0;34m\u001b[0m\u001b[0;34m\u001b[0m\u001b[0m\n",
      "\u001b[0;32m~/opt/anaconda3/lib/python3.7/site-packages/matplotlib/figure.py\u001b[0m in \u001b[0;36mdraw\u001b[0;34m(self, renderer)\u001b[0m\n\u001b[1;32m   1707\u001b[0m             \u001b[0mself\u001b[0m\u001b[0;34m.\u001b[0m\u001b[0mpatch\u001b[0m\u001b[0;34m.\u001b[0m\u001b[0mdraw\u001b[0m\u001b[0;34m(\u001b[0m\u001b[0mrenderer\u001b[0m\u001b[0;34m)\u001b[0m\u001b[0;34m\u001b[0m\u001b[0;34m\u001b[0m\u001b[0m\n\u001b[1;32m   1708\u001b[0m             mimage._draw_list_compositing_images(\n\u001b[0;32m-> 1709\u001b[0;31m                 renderer, self, artists, self.suppressComposite)\n\u001b[0m\u001b[1;32m   1710\u001b[0m \u001b[0;34m\u001b[0m\u001b[0m\n\u001b[1;32m   1711\u001b[0m             \u001b[0mrenderer\u001b[0m\u001b[0;34m.\u001b[0m\u001b[0mclose_group\u001b[0m\u001b[0;34m(\u001b[0m\u001b[0;34m'figure'\u001b[0m\u001b[0;34m)\u001b[0m\u001b[0;34m\u001b[0m\u001b[0;34m\u001b[0m\u001b[0m\n",
      "\u001b[0;32m~/opt/anaconda3/lib/python3.7/site-packages/matplotlib/image.py\u001b[0m in \u001b[0;36m_draw_list_compositing_images\u001b[0;34m(renderer, parent, artists, suppress_composite)\u001b[0m\n\u001b[1;32m    133\u001b[0m     \u001b[0;32mif\u001b[0m \u001b[0mnot_composite\u001b[0m \u001b[0;32mor\u001b[0m \u001b[0;32mnot\u001b[0m \u001b[0mhas_images\u001b[0m\u001b[0;34m:\u001b[0m\u001b[0;34m\u001b[0m\u001b[0;34m\u001b[0m\u001b[0m\n\u001b[1;32m    134\u001b[0m         \u001b[0;32mfor\u001b[0m \u001b[0ma\u001b[0m \u001b[0;32min\u001b[0m \u001b[0martists\u001b[0m\u001b[0;34m:\u001b[0m\u001b[0;34m\u001b[0m\u001b[0;34m\u001b[0m\u001b[0m\n\u001b[0;32m--> 135\u001b[0;31m             \u001b[0ma\u001b[0m\u001b[0;34m.\u001b[0m\u001b[0mdraw\u001b[0m\u001b[0;34m(\u001b[0m\u001b[0mrenderer\u001b[0m\u001b[0;34m)\u001b[0m\u001b[0;34m\u001b[0m\u001b[0;34m\u001b[0m\u001b[0m\n\u001b[0m\u001b[1;32m    136\u001b[0m     \u001b[0;32melse\u001b[0m\u001b[0;34m:\u001b[0m\u001b[0;34m\u001b[0m\u001b[0;34m\u001b[0m\u001b[0m\n\u001b[1;32m    137\u001b[0m         \u001b[0;31m# Composite any adjacent images together\u001b[0m\u001b[0;34m\u001b[0m\u001b[0;34m\u001b[0m\u001b[0;34m\u001b[0m\u001b[0m\n",
      "\u001b[0;32m~/opt/anaconda3/lib/python3.7/site-packages/matplotlib/artist.py\u001b[0m in \u001b[0;36mdraw_wrapper\u001b[0;34m(artist, renderer, *args, **kwargs)\u001b[0m\n\u001b[1;32m     36\u001b[0m                 \u001b[0mrenderer\u001b[0m\u001b[0;34m.\u001b[0m\u001b[0mstart_filter\u001b[0m\u001b[0;34m(\u001b[0m\u001b[0;34m)\u001b[0m\u001b[0;34m\u001b[0m\u001b[0;34m\u001b[0m\u001b[0m\n\u001b[1;32m     37\u001b[0m \u001b[0;34m\u001b[0m\u001b[0m\n\u001b[0;32m---> 38\u001b[0;31m             \u001b[0;32mreturn\u001b[0m \u001b[0mdraw\u001b[0m\u001b[0;34m(\u001b[0m\u001b[0martist\u001b[0m\u001b[0;34m,\u001b[0m \u001b[0mrenderer\u001b[0m\u001b[0;34m,\u001b[0m \u001b[0;34m*\u001b[0m\u001b[0margs\u001b[0m\u001b[0;34m,\u001b[0m \u001b[0;34m**\u001b[0m\u001b[0mkwargs\u001b[0m\u001b[0;34m)\u001b[0m\u001b[0;34m\u001b[0m\u001b[0;34m\u001b[0m\u001b[0m\n\u001b[0m\u001b[1;32m     39\u001b[0m         \u001b[0;32mfinally\u001b[0m\u001b[0;34m:\u001b[0m\u001b[0;34m\u001b[0m\u001b[0;34m\u001b[0m\u001b[0m\n\u001b[1;32m     40\u001b[0m             \u001b[0;32mif\u001b[0m \u001b[0martist\u001b[0m\u001b[0;34m.\u001b[0m\u001b[0mget_agg_filter\u001b[0m\u001b[0;34m(\u001b[0m\u001b[0;34m)\u001b[0m \u001b[0;32mis\u001b[0m \u001b[0;32mnot\u001b[0m \u001b[0;32mNone\u001b[0m\u001b[0;34m:\u001b[0m\u001b[0;34m\u001b[0m\u001b[0;34m\u001b[0m\u001b[0m\n",
      "\u001b[0;32m~/opt/anaconda3/lib/python3.7/site-packages/matplotlib/axes/_base.py\u001b[0m in \u001b[0;36mdraw\u001b[0;34m(self, renderer, inframe)\u001b[0m\n\u001b[1;32m   2645\u001b[0m             \u001b[0mrenderer\u001b[0m\u001b[0;34m.\u001b[0m\u001b[0mstop_rasterizing\u001b[0m\u001b[0;34m(\u001b[0m\u001b[0;34m)\u001b[0m\u001b[0;34m\u001b[0m\u001b[0;34m\u001b[0m\u001b[0m\n\u001b[1;32m   2646\u001b[0m \u001b[0;34m\u001b[0m\u001b[0m\n\u001b[0;32m-> 2647\u001b[0;31m         \u001b[0mmimage\u001b[0m\u001b[0;34m.\u001b[0m\u001b[0m_draw_list_compositing_images\u001b[0m\u001b[0;34m(\u001b[0m\u001b[0mrenderer\u001b[0m\u001b[0;34m,\u001b[0m \u001b[0mself\u001b[0m\u001b[0;34m,\u001b[0m \u001b[0martists\u001b[0m\u001b[0;34m)\u001b[0m\u001b[0;34m\u001b[0m\u001b[0;34m\u001b[0m\u001b[0m\n\u001b[0m\u001b[1;32m   2648\u001b[0m \u001b[0;34m\u001b[0m\u001b[0m\n\u001b[1;32m   2649\u001b[0m         \u001b[0mrenderer\u001b[0m\u001b[0;34m.\u001b[0m\u001b[0mclose_group\u001b[0m\u001b[0;34m(\u001b[0m\u001b[0;34m'axes'\u001b[0m\u001b[0;34m)\u001b[0m\u001b[0;34m\u001b[0m\u001b[0;34m\u001b[0m\u001b[0m\n",
      "\u001b[0;32m~/opt/anaconda3/lib/python3.7/site-packages/matplotlib/image.py\u001b[0m in \u001b[0;36m_draw_list_compositing_images\u001b[0;34m(renderer, parent, artists, suppress_composite)\u001b[0m\n\u001b[1;32m    133\u001b[0m     \u001b[0;32mif\u001b[0m \u001b[0mnot_composite\u001b[0m \u001b[0;32mor\u001b[0m \u001b[0;32mnot\u001b[0m \u001b[0mhas_images\u001b[0m\u001b[0;34m:\u001b[0m\u001b[0;34m\u001b[0m\u001b[0;34m\u001b[0m\u001b[0m\n\u001b[1;32m    134\u001b[0m         \u001b[0;32mfor\u001b[0m \u001b[0ma\u001b[0m \u001b[0;32min\u001b[0m \u001b[0martists\u001b[0m\u001b[0;34m:\u001b[0m\u001b[0;34m\u001b[0m\u001b[0;34m\u001b[0m\u001b[0m\n\u001b[0;32m--> 135\u001b[0;31m             \u001b[0ma\u001b[0m\u001b[0;34m.\u001b[0m\u001b[0mdraw\u001b[0m\u001b[0;34m(\u001b[0m\u001b[0mrenderer\u001b[0m\u001b[0;34m)\u001b[0m\u001b[0;34m\u001b[0m\u001b[0;34m\u001b[0m\u001b[0m\n\u001b[0m\u001b[1;32m    136\u001b[0m     \u001b[0;32melse\u001b[0m\u001b[0;34m:\u001b[0m\u001b[0;34m\u001b[0m\u001b[0;34m\u001b[0m\u001b[0m\n\u001b[1;32m    137\u001b[0m         \u001b[0;31m# Composite any adjacent images together\u001b[0m\u001b[0;34m\u001b[0m\u001b[0;34m\u001b[0m\u001b[0;34m\u001b[0m\u001b[0m\n",
      "\u001b[0;32m~/opt/anaconda3/lib/python3.7/site-packages/matplotlib/artist.py\u001b[0m in \u001b[0;36mdraw_wrapper\u001b[0;34m(artist, renderer, *args, **kwargs)\u001b[0m\n\u001b[1;32m     36\u001b[0m                 \u001b[0mrenderer\u001b[0m\u001b[0;34m.\u001b[0m\u001b[0mstart_filter\u001b[0m\u001b[0;34m(\u001b[0m\u001b[0;34m)\u001b[0m\u001b[0;34m\u001b[0m\u001b[0;34m\u001b[0m\u001b[0m\n\u001b[1;32m     37\u001b[0m \u001b[0;34m\u001b[0m\u001b[0m\n\u001b[0;32m---> 38\u001b[0;31m             \u001b[0;32mreturn\u001b[0m \u001b[0mdraw\u001b[0m\u001b[0;34m(\u001b[0m\u001b[0martist\u001b[0m\u001b[0;34m,\u001b[0m \u001b[0mrenderer\u001b[0m\u001b[0;34m,\u001b[0m \u001b[0;34m*\u001b[0m\u001b[0margs\u001b[0m\u001b[0;34m,\u001b[0m \u001b[0;34m**\u001b[0m\u001b[0mkwargs\u001b[0m\u001b[0;34m)\u001b[0m\u001b[0;34m\u001b[0m\u001b[0;34m\u001b[0m\u001b[0m\n\u001b[0m\u001b[1;32m     39\u001b[0m         \u001b[0;32mfinally\u001b[0m\u001b[0;34m:\u001b[0m\u001b[0;34m\u001b[0m\u001b[0;34m\u001b[0m\u001b[0m\n\u001b[1;32m     40\u001b[0m             \u001b[0;32mif\u001b[0m \u001b[0martist\u001b[0m\u001b[0;34m.\u001b[0m\u001b[0mget_agg_filter\u001b[0m\u001b[0;34m(\u001b[0m\u001b[0;34m)\u001b[0m \u001b[0;32mis\u001b[0m \u001b[0;32mnot\u001b[0m \u001b[0;32mNone\u001b[0m\u001b[0;34m:\u001b[0m\u001b[0;34m\u001b[0m\u001b[0;34m\u001b[0m\u001b[0m\n",
      "\u001b[0;32m~/opt/anaconda3/lib/python3.7/site-packages/matplotlib/axis.py\u001b[0m in \u001b[0;36mdraw\u001b[0;34m(self, renderer, *args, **kwargs)\u001b[0m\n\u001b[1;32m   1201\u001b[0m         \u001b[0mrenderer\u001b[0m\u001b[0;34m.\u001b[0m\u001b[0mopen_group\u001b[0m\u001b[0;34m(\u001b[0m\u001b[0m__name__\u001b[0m\u001b[0;34m)\u001b[0m\u001b[0;34m\u001b[0m\u001b[0;34m\u001b[0m\u001b[0m\n\u001b[1;32m   1202\u001b[0m \u001b[0;34m\u001b[0m\u001b[0m\n\u001b[0;32m-> 1203\u001b[0;31m         \u001b[0mticks_to_draw\u001b[0m \u001b[0;34m=\u001b[0m \u001b[0mself\u001b[0m\u001b[0;34m.\u001b[0m\u001b[0m_update_ticks\u001b[0m\u001b[0;34m(\u001b[0m\u001b[0;34m)\u001b[0m\u001b[0;34m\u001b[0m\u001b[0;34m\u001b[0m\u001b[0m\n\u001b[0m\u001b[1;32m   1204\u001b[0m         ticklabelBoxes, ticklabelBoxes2 = self._get_tick_bboxes(ticks_to_draw,\n\u001b[1;32m   1205\u001b[0m                                                                 renderer)\n",
      "\u001b[0;32m~/opt/anaconda3/lib/python3.7/site-packages/matplotlib/axis.py\u001b[0m in \u001b[0;36m_update_ticks\u001b[0;34m(self)\u001b[0m\n\u001b[1;32m   1078\u001b[0m         \"\"\"\n\u001b[1;32m   1079\u001b[0m         \u001b[0mmajor_locs\u001b[0m \u001b[0;34m=\u001b[0m \u001b[0mself\u001b[0m\u001b[0;34m.\u001b[0m\u001b[0mget_majorticklocs\u001b[0m\u001b[0;34m(\u001b[0m\u001b[0;34m)\u001b[0m\u001b[0;34m\u001b[0m\u001b[0;34m\u001b[0m\u001b[0m\n\u001b[0;32m-> 1080\u001b[0;31m         \u001b[0mmajor_labels\u001b[0m \u001b[0;34m=\u001b[0m \u001b[0mself\u001b[0m\u001b[0;34m.\u001b[0m\u001b[0mmajor\u001b[0m\u001b[0;34m.\u001b[0m\u001b[0mformatter\u001b[0m\u001b[0;34m.\u001b[0m\u001b[0mformat_ticks\u001b[0m\u001b[0;34m(\u001b[0m\u001b[0mmajor_locs\u001b[0m\u001b[0;34m)\u001b[0m\u001b[0;34m\u001b[0m\u001b[0;34m\u001b[0m\u001b[0m\n\u001b[0m\u001b[1;32m   1081\u001b[0m         \u001b[0mmajor_ticks\u001b[0m \u001b[0;34m=\u001b[0m \u001b[0mself\u001b[0m\u001b[0;34m.\u001b[0m\u001b[0mget_major_ticks\u001b[0m\u001b[0;34m(\u001b[0m\u001b[0mlen\u001b[0m\u001b[0;34m(\u001b[0m\u001b[0mmajor_locs\u001b[0m\u001b[0;34m)\u001b[0m\u001b[0;34m)\u001b[0m\u001b[0;34m\u001b[0m\u001b[0;34m\u001b[0m\u001b[0m\n\u001b[1;32m   1082\u001b[0m         \u001b[0mself\u001b[0m\u001b[0;34m.\u001b[0m\u001b[0mmajor\u001b[0m\u001b[0;34m.\u001b[0m\u001b[0mformatter\u001b[0m\u001b[0;34m.\u001b[0m\u001b[0mset_locs\u001b[0m\u001b[0;34m(\u001b[0m\u001b[0mmajor_locs\u001b[0m\u001b[0;34m)\u001b[0m\u001b[0;34m\u001b[0m\u001b[0;34m\u001b[0m\u001b[0m\n",
      "\u001b[0;32m~/opt/anaconda3/lib/python3.7/site-packages/matplotlib/ticker.py\u001b[0m in \u001b[0;36mformat_ticks\u001b[0;34m(self, values)\u001b[0m\n\u001b[1;32m    258\u001b[0m         \u001b[0;34m\"\"\"Return the tick labels for all the ticks at once.\"\"\"\u001b[0m\u001b[0;34m\u001b[0m\u001b[0;34m\u001b[0m\u001b[0m\n\u001b[1;32m    259\u001b[0m         \u001b[0mself\u001b[0m\u001b[0;34m.\u001b[0m\u001b[0mset_locs\u001b[0m\u001b[0;34m(\u001b[0m\u001b[0mvalues\u001b[0m\u001b[0;34m)\u001b[0m\u001b[0;34m\u001b[0m\u001b[0;34m\u001b[0m\u001b[0m\n\u001b[0;32m--> 260\u001b[0;31m         \u001b[0;32mreturn\u001b[0m \u001b[0;34m[\u001b[0m\u001b[0mself\u001b[0m\u001b[0;34m(\u001b[0m\u001b[0mvalue\u001b[0m\u001b[0;34m,\u001b[0m \u001b[0mi\u001b[0m\u001b[0;34m)\u001b[0m \u001b[0;32mfor\u001b[0m \u001b[0mi\u001b[0m\u001b[0;34m,\u001b[0m \u001b[0mvalue\u001b[0m \u001b[0;32min\u001b[0m \u001b[0menumerate\u001b[0m\u001b[0;34m(\u001b[0m\u001b[0mvalues\u001b[0m\u001b[0;34m)\u001b[0m\u001b[0;34m]\u001b[0m\u001b[0;34m\u001b[0m\u001b[0;34m\u001b[0m\u001b[0m\n\u001b[0m\u001b[1;32m    261\u001b[0m \u001b[0;34m\u001b[0m\u001b[0m\n\u001b[1;32m    262\u001b[0m     \u001b[0;32mdef\u001b[0m \u001b[0mformat_data\u001b[0m\u001b[0;34m(\u001b[0m\u001b[0mself\u001b[0m\u001b[0;34m,\u001b[0m \u001b[0mvalue\u001b[0m\u001b[0;34m)\u001b[0m\u001b[0;34m:\u001b[0m\u001b[0;34m\u001b[0m\u001b[0;34m\u001b[0m\u001b[0m\n",
      "\u001b[0;32m~/opt/anaconda3/lib/python3.7/site-packages/matplotlib/ticker.py\u001b[0m in \u001b[0;36m<listcomp>\u001b[0;34m(.0)\u001b[0m\n\u001b[1;32m    258\u001b[0m         \u001b[0;34m\"\"\"Return the tick labels for all the ticks at once.\"\"\"\u001b[0m\u001b[0;34m\u001b[0m\u001b[0;34m\u001b[0m\u001b[0m\n\u001b[1;32m    259\u001b[0m         \u001b[0mself\u001b[0m\u001b[0;34m.\u001b[0m\u001b[0mset_locs\u001b[0m\u001b[0;34m(\u001b[0m\u001b[0mvalues\u001b[0m\u001b[0;34m)\u001b[0m\u001b[0;34m\u001b[0m\u001b[0;34m\u001b[0m\u001b[0m\n\u001b[0;32m--> 260\u001b[0;31m         \u001b[0;32mreturn\u001b[0m \u001b[0;34m[\u001b[0m\u001b[0mself\u001b[0m\u001b[0;34m(\u001b[0m\u001b[0mvalue\u001b[0m\u001b[0;34m,\u001b[0m \u001b[0mi\u001b[0m\u001b[0;34m)\u001b[0m \u001b[0;32mfor\u001b[0m \u001b[0mi\u001b[0m\u001b[0;34m,\u001b[0m \u001b[0mvalue\u001b[0m \u001b[0;32min\u001b[0m \u001b[0menumerate\u001b[0m\u001b[0;34m(\u001b[0m\u001b[0mvalues\u001b[0m\u001b[0;34m)\u001b[0m\u001b[0;34m]\u001b[0m\u001b[0;34m\u001b[0m\u001b[0;34m\u001b[0m\u001b[0m\n\u001b[0m\u001b[1;32m    261\u001b[0m \u001b[0;34m\u001b[0m\u001b[0m\n\u001b[1;32m    262\u001b[0m     \u001b[0;32mdef\u001b[0m \u001b[0mformat_data\u001b[0m\u001b[0;34m(\u001b[0m\u001b[0mself\u001b[0m\u001b[0;34m,\u001b[0m \u001b[0mvalue\u001b[0m\u001b[0;34m)\u001b[0m\u001b[0;34m:\u001b[0m\u001b[0;34m\u001b[0m\u001b[0;34m\u001b[0m\u001b[0m\n",
      "\u001b[0;32m~/opt/anaconda3/lib/python3.7/site-packages/matplotlib/ticker.py\u001b[0m in \u001b[0;36m__call__\u001b[0;34m(self, x, pos)\u001b[0m\n\u001b[1;32m    390\u001b[0m         \u001b[0;31m`\u001b[0m\u001b[0mx\u001b[0m\u001b[0;31m`\u001b[0m \u001b[0;32mand\u001b[0m\u001b[0;31m \u001b[0m\u001b[0;31m`\u001b[0m\u001b[0mpos\u001b[0m\u001b[0;31m`\u001b[0m \u001b[0mare\u001b[0m \u001b[0mpassed\u001b[0m \u001b[0mthrough\u001b[0m \u001b[0;32mas\u001b[0m\u001b[0;34m-\u001b[0m\u001b[0;32mis\u001b[0m\u001b[0;34m.\u001b[0m\u001b[0;34m\u001b[0m\u001b[0;34m\u001b[0m\u001b[0m\n\u001b[1;32m    391\u001b[0m         \"\"\"\n\u001b[0;32m--> 392\u001b[0;31m         \u001b[0;32mreturn\u001b[0m \u001b[0mself\u001b[0m\u001b[0;34m.\u001b[0m\u001b[0mfunc\u001b[0m\u001b[0;34m(\u001b[0m\u001b[0mx\u001b[0m\u001b[0;34m,\u001b[0m \u001b[0mpos\u001b[0m\u001b[0;34m)\u001b[0m\u001b[0;34m\u001b[0m\u001b[0;34m\u001b[0m\u001b[0m\n\u001b[0m\u001b[1;32m    393\u001b[0m \u001b[0;34m\u001b[0m\u001b[0m\n\u001b[1;32m    394\u001b[0m \u001b[0;34m\u001b[0m\u001b[0m\n",
      "\u001b[0;32m<ipython-input-1489-526c08a07c05>\u001b[0m in \u001b[0;36medit_tick_label\u001b[0;34m(tick_val, tick_pos)\u001b[0m\n\u001b[1;32m      1\u001b[0m \u001b[0;32mdef\u001b[0m \u001b[0medit_tick_label\u001b[0m\u001b[0;34m(\u001b[0m\u001b[0mtick_val\u001b[0m\u001b[0;34m,\u001b[0m \u001b[0mtick_pos\u001b[0m\u001b[0;34m)\u001b[0m\u001b[0;34m:\u001b[0m\u001b[0;34m\u001b[0m\u001b[0;34m\u001b[0m\u001b[0m\n\u001b[0;32m----> 2\u001b[0;31m     \u001b[0;32mif\u001b[0m \u001b[0;34m'DEM'\u001b[0m \u001b[0;32min\u001b[0m \u001b[0mtick_val\u001b[0m\u001b[0;34m:\u001b[0m\u001b[0;34m\u001b[0m\u001b[0;34m\u001b[0m\u001b[0m\n\u001b[0m\u001b[1;32m      3\u001b[0m         \u001b[0mtext\u001b[0m \u001b[0;34m=\u001b[0m \u001b[0mtick_val\u001b[0m\u001b[0;34m.\u001b[0m\u001b[0mreplace\u001b[0m\u001b[0;34m(\u001b[0m\u001b[0;34m\"DEM\"\u001b[0m\u001b[0;34m,\u001b[0m \u001b[0;34m\"BIDEN\"\u001b[0m\u001b[0;34m)\u001b[0m\u001b[0;34m\u001b[0m\u001b[0;34m\u001b[0m\u001b[0m\n\u001b[1;32m      4\u001b[0m     \u001b[0;32melse\u001b[0m\u001b[0;34m:\u001b[0m\u001b[0;34m\u001b[0m\u001b[0;34m\u001b[0m\u001b[0m\n\u001b[1;32m      5\u001b[0m         \u001b[0mtext\u001b[0m \u001b[0;34m=\u001b[0m \u001b[0mtick_val\u001b[0m\u001b[0;34m.\u001b[0m\u001b[0mreplace\u001b[0m\u001b[0;34m(\u001b[0m\u001b[0;34m\"REP\"\u001b[0m\u001b[0;34m,\u001b[0m \u001b[0;34m\"TRUMP\"\u001b[0m\u001b[0;34m)\u001b[0m\u001b[0;34m\u001b[0m\u001b[0;34m\u001b[0m\u001b[0m\n",
      "\u001b[0;31mTypeError\u001b[0m: argument of type 'numpy.float64' is not iterable"
     ]
    },
    {
     "data": {
      "text/plain": [
       "<Figure size 864x576 with 1 Axes>"
      ]
     },
     "metadata": {},
     "output_type": "display_data"
    }
   ],
   "source": [
    "from matplotlib.ticker import FuncFormatter\n",
    "\n",
    "fig, axes = plt.subplots(figsize=(12,8))\n",
    "\n",
    "data = loess_df[[\"end_date\", \"spread\"]]\n",
    "data = pd.concat((data, loess_df_1[[\"end_date\", \"spread\"]])).reset_index(drop=True)\n",
    "    \n",
    "dates = pd.to_datetime(data.end_date)\n",
    "\n",
    "data['spread'] = data['spread'].apply(lambda x: number(x))\n",
    "data['spread'] = data['spread'].astype(float)\n",
    "\n",
    "loess_res = sm.nonparametric.lowess(data.spread.values, dates, frac=0.2, it=100)\n",
    "\n",
    "axes.scatter(dates, data[\"spread\"])\n",
    "axes.plot(dates, loess_res[:,1], color='r', lw = 0.5)\n",
    "axes.yaxis.get_major_locator().set_params(nbins=20)\n",
    "axes.yaxis.set_major_formatter(FuncFormatter(edit_tick_label))\n",
    "axes.grid(False, axis='y')\n",
    "axes.margins(0, .05)"
   ]
  },
  {
   "cell_type": "code",
   "execution_count": 1492,
   "metadata": {},
   "outputs": [
    {
     "data": {
      "text/plain": [
       "nan"
      ]
     },
     "execution_count": 1492,
     "metadata": {},
     "output_type": "execute_result"
    }
   ],
   "source": [
    "loess_res[-7:,1].mean()"
   ]
  },
  {
   "cell_type": "code",
   "execution_count": 1493,
   "metadata": {},
   "outputs": [],
   "source": [
    "trends = []\n",
    "for i,group in kmeans_groups:\n",
    "    data = group[[\"end_date\", \"spread\"]]\n",
    "    data = pd.concat((data, polls[[\"end_date\", \"spread\"]]))\n",
    "    \n",
    "    dates = pd.DatetimeIndex(data.end_date).asi8\n",
    "    \n",
    "    data['spread'] = data['spread'].apply(lambda x: number(x))\n",
    "    data['spread'] = data['spread'].astype(float)\n",
    "\n",
    "    loess_res = sm.nonparametric.lowess(data.spread.values, dates, frac=.5, it=3)\n",
    "    \n",
    "    states = group.state.unique()\n",
    "    \n",
    "    for state in states:\n",
    "        trends.append([state, loess_res[-7:,1].mean()])"
   ]
  },
  {
   "cell_type": "code",
   "execution_count": 1494,
   "metadata": {},
   "outputs": [
    {
     "data": {
      "text/plain": [
       "[['Wisconsin', -0.05809175483446483],\n",
       " ['Kansas', -0.05809175483446483],\n",
       " ['Maine', -0.05809175483446483],\n",
       " ['Iowa', -0.05809175483446483],\n",
       " ['North Dakota', -0.05809175483446483],\n",
       " ['Minnesota', -0.05809175483446483],\n",
       " ['Alaska', -0.05809175483446483],\n",
       " ['Utah', -0.05809175483446483],\n",
       " ['Florida', -0.1821533862794576],\n",
       " ['California', -0.1821533862794576],\n",
       " ['Texas', -0.1821533862794576],\n",
       " ['New York', -0.1821533862794576],\n",
       " ['Michigan', 0.21775582336304433],\n",
       " ['Arizona', 0.21775582336304433],\n",
       " ['Ohio', 0.21775582336304433],\n",
       " ['North Carolina', 0.21775582336304433],\n",
       " ['Pennsylvania', 0.21775582336304433],\n",
       " ['South Carolina', 0.21775582336304433],\n",
       " ['New Mexico', 0.21775582336304433],\n",
       " ['Nevada', 0.21775582336304433],\n",
       " ['Georgia', 0.21775582336304433],\n",
       " ['Mississippi', 0.21775582336304433],\n",
       " ['Alabama', 0.21775582336304433],\n",
       " ['Tennessee', 0.21775582336304433],\n",
       " ['Missouri', 0.21775582336304433],\n",
       " ['Oklahoma', 0.21775582336304433],\n",
       " ['Kentucky', 0.21775582336304433],\n",
       " ['Washington', -0.020360352055971587],\n",
       " ['New Hampshire', -0.020360352055971587],\n",
       " ['Colorado', -0.020360352055971587],\n",
       " ['Virginia', -0.020360352055971587],\n",
       " ['New Jersey', -0.020360352055971587],\n",
       " ['Delaware', -0.020360352055971587],\n",
       " ['Massachusetts', -0.0009914303880489991]]"
      ]
     },
     "execution_count": 1494,
     "metadata": {},
     "output_type": "execute_result"
    }
   ],
   "source": [
    "trends"
   ]
  },
  {
   "cell_type": "code",
   "execution_count": 1495,
   "metadata": {},
   "outputs": [
    {
     "data": {
      "text/plain": [
       "-9.0"
      ]
     },
     "execution_count": 1495,
     "metadata": {},
     "output_type": "execute_result"
    }
   ],
   "source": [
    "list(demo_data[demo_data['state'] == \"Arizona\"]['PVI'])[0]"
   ]
  },
  {
   "cell_type": "code",
   "execution_count": 1496,
   "metadata": {},
   "outputs": [],
   "source": [
    "for i in trends:\n",
    "    i[1] = i[1] + list(demo_data[demo_data['state'] == i[0]]['PVI'])[0]"
   ]
  },
  {
   "cell_type": "markdown",
   "metadata": {},
   "source": [
    "## Snapshot"
   ]
  },
  {
   "cell_type": "code",
   "execution_count": 1497,
   "metadata": {},
   "outputs": [
    {
     "data": {
      "text/plain": [
       "state      pollster                                 \n",
       "Alabama    Mason-Dixon Polling & Research Inc.  1350    0.129619\n",
       "                                                1351    0.129619\n",
       "                                                1352    0.129619\n",
       "                                                1353    0.129619\n",
       "                                                1354    0.129619\n",
       "                                                          ...   \n",
       "Wisconsin  Zogby Interactive/JZ Analytics       1533    0.000100\n",
       "                                                1534    0.000100\n",
       "                                                1535    0.000100\n",
       "                                                1536    0.000100\n",
       "                                                1537    0.000100\n",
       "Name: poll, Length: 965, dtype: float64"
      ]
     },
     "execution_count": 1497,
     "metadata": {},
     "output_type": "execute_result"
    }
   ],
   "source": [
    "state_polls.name = \"poll\"\n",
    "state_polls"
   ]
  },
  {
   "cell_type": "code",
   "execution_count": 1498,
   "metadata": {},
   "outputs": [],
   "source": [
    "state_polls = state_polls.reset_index()\n",
    "state_polls.state = state_polls.state.replace(states_abbrev_dict)\n",
    "state_polls = state_polls.drop(['level_2'], axis = 1)"
   ]
  },
  {
   "cell_type": "code",
   "execution_count": 1499,
   "metadata": {},
   "outputs": [
    {
     "data": {
      "text/html": [
       "<div>\n",
       "<style scoped>\n",
       "    .dataframe tbody tr th:only-of-type {\n",
       "        vertical-align: middle;\n",
       "    }\n",
       "\n",
       "    .dataframe tbody tr th {\n",
       "        vertical-align: top;\n",
       "    }\n",
       "\n",
       "    .dataframe thead th {\n",
       "        text-align: right;\n",
       "    }\n",
       "</style>\n",
       "<table border=\"1\" class=\"dataframe\">\n",
       "  <thead>\n",
       "    <tr style=\"text-align: right;\">\n",
       "      <th></th>\n",
       "      <th>poll</th>\n",
       "    </tr>\n",
       "    <tr>\n",
       "      <th>state</th>\n",
       "      <th></th>\n",
       "    </tr>\n",
       "  </thead>\n",
       "  <tbody>\n",
       "    <tr>\n",
       "      <th>Alabama</th>\n",
       "      <td>0.129619</td>\n",
       "    </tr>\n",
       "    <tr>\n",
       "      <th>Alaska</th>\n",
       "      <td>0.000864</td>\n",
       "    </tr>\n",
       "    <tr>\n",
       "      <th>Arizona</th>\n",
       "      <td>0.106160</td>\n",
       "    </tr>\n",
       "    <tr>\n",
       "      <th>California</th>\n",
       "      <td>0.130359</td>\n",
       "    </tr>\n",
       "    <tr>\n",
       "      <th>Colorado</th>\n",
       "      <td>0.003154</td>\n",
       "    </tr>\n",
       "    <tr>\n",
       "      <th>Delaware</th>\n",
       "      <td>0.057268</td>\n",
       "    </tr>\n",
       "    <tr>\n",
       "      <th>Florida</th>\n",
       "      <td>0.101702</td>\n",
       "    </tr>\n",
       "    <tr>\n",
       "      <th>Georgia</th>\n",
       "      <td>0.056355</td>\n",
       "    </tr>\n",
       "    <tr>\n",
       "      <th>Iowa</th>\n",
       "      <td>0.061584</td>\n",
       "    </tr>\n",
       "    <tr>\n",
       "      <th>Kansas</th>\n",
       "      <td>0.216266</td>\n",
       "    </tr>\n",
       "    <tr>\n",
       "      <th>Kentucky</th>\n",
       "      <td>0.000395</td>\n",
       "    </tr>\n",
       "    <tr>\n",
       "      <th>Maine</th>\n",
       "      <td>0.054973</td>\n",
       "    </tr>\n",
       "    <tr>\n",
       "      <th>Maine CD-1</th>\n",
       "      <td>0.007070</td>\n",
       "    </tr>\n",
       "    <tr>\n",
       "      <th>Maine CD-2</th>\n",
       "      <td>0.006943</td>\n",
       "    </tr>\n",
       "    <tr>\n",
       "      <th>Massachusetts</th>\n",
       "      <td>0.000124</td>\n",
       "    </tr>\n",
       "    <tr>\n",
       "      <th>Michigan</th>\n",
       "      <td>0.081851</td>\n",
       "    </tr>\n",
       "    <tr>\n",
       "      <th>Minnesota</th>\n",
       "      <td>0.008985</td>\n",
       "    </tr>\n",
       "    <tr>\n",
       "      <th>Mississippi</th>\n",
       "      <td>0.215488</td>\n",
       "    </tr>\n",
       "    <tr>\n",
       "      <th>Missouri</th>\n",
       "      <td>0.075583</td>\n",
       "    </tr>\n",
       "    <tr>\n",
       "      <th>Nevada</th>\n",
       "      <td>0.005148</td>\n",
       "    </tr>\n",
       "    <tr>\n",
       "      <th>New Hampshire</th>\n",
       "      <td>0.048898</td>\n",
       "    </tr>\n",
       "    <tr>\n",
       "      <th>New Jersey</th>\n",
       "      <td>0.200568</td>\n",
       "    </tr>\n",
       "    <tr>\n",
       "      <th>New Mexico</th>\n",
       "      <td>0.078773</td>\n",
       "    </tr>\n",
       "    <tr>\n",
       "      <th>New York</th>\n",
       "      <td>0.214690</td>\n",
       "    </tr>\n",
       "    <tr>\n",
       "      <th>North Carolina</th>\n",
       "      <td>0.077259</td>\n",
       "    </tr>\n",
       "    <tr>\n",
       "      <th>North Dakota</th>\n",
       "      <td>0.091221</td>\n",
       "    </tr>\n",
       "    <tr>\n",
       "      <th>Ohio</th>\n",
       "      <td>0.071157</td>\n",
       "    </tr>\n",
       "    <tr>\n",
       "      <th>Oklahoma</th>\n",
       "      <td>0.119892</td>\n",
       "    </tr>\n",
       "    <tr>\n",
       "      <th>Pennsylvania</th>\n",
       "      <td>0.083254</td>\n",
       "    </tr>\n",
       "    <tr>\n",
       "      <th>South Carolina</th>\n",
       "      <td>0.000279</td>\n",
       "    </tr>\n",
       "    <tr>\n",
       "      <th>Tennessee</th>\n",
       "      <td>0.110263</td>\n",
       "    </tr>\n",
       "    <tr>\n",
       "      <th>Texas</th>\n",
       "      <td>0.081111</td>\n",
       "    </tr>\n",
       "    <tr>\n",
       "      <th>Utah</th>\n",
       "      <td>0.000784</td>\n",
       "    </tr>\n",
       "    <tr>\n",
       "      <th>Virginia</th>\n",
       "      <td>0.046381</td>\n",
       "    </tr>\n",
       "    <tr>\n",
       "      <th>Washington</th>\n",
       "      <td>0.111739</td>\n",
       "    </tr>\n",
       "    <tr>\n",
       "      <th>Wisconsin</th>\n",
       "      <td>0.096236</td>\n",
       "    </tr>\n",
       "  </tbody>\n",
       "</table>\n",
       "</div>"
      ],
      "text/plain": [
       "                    poll\n",
       "state                   \n",
       "Alabama         0.129619\n",
       "Alaska          0.000864\n",
       "Arizona         0.106160\n",
       "California      0.130359\n",
       "Colorado        0.003154\n",
       "Delaware        0.057268\n",
       "Florida         0.101702\n",
       "Georgia         0.056355\n",
       "Iowa            0.061584\n",
       "Kansas          0.216266\n",
       "Kentucky        0.000395\n",
       "Maine           0.054973\n",
       "Maine CD-1      0.007070\n",
       "Maine CD-2      0.006943\n",
       "Massachusetts   0.000124\n",
       "Michigan        0.081851\n",
       "Minnesota       0.008985\n",
       "Mississippi     0.215488\n",
       "Missouri        0.075583\n",
       "Nevada          0.005148\n",
       "New Hampshire   0.048898\n",
       "New Jersey      0.200568\n",
       "New Mexico      0.078773\n",
       "New York        0.214690\n",
       "North Carolina  0.077259\n",
       "North Dakota    0.091221\n",
       "Ohio            0.071157\n",
       "Oklahoma        0.119892\n",
       "Pennsylvania    0.083254\n",
       "South Carolina  0.000279\n",
       "Tennessee       0.110263\n",
       "Texas           0.081111\n",
       "Utah            0.000784\n",
       "Virginia        0.046381\n",
       "Washington      0.111739\n",
       "Wisconsin       0.096236"
      ]
     },
     "execution_count": 1499,
     "metadata": {},
     "output_type": "execute_result"
    }
   ],
   "source": [
    "state_polls.groupby('state').mean()"
   ]
  },
  {
   "cell_type": "code",
   "execution_count": 1500,
   "metadata": {},
   "outputs": [
    {
     "data": {
      "text/html": [
       "<div>\n",
       "<style scoped>\n",
       "    .dataframe tbody tr th:only-of-type {\n",
       "        vertical-align: middle;\n",
       "    }\n",
       "\n",
       "    .dataframe tbody tr th {\n",
       "        vertical-align: top;\n",
       "    }\n",
       "\n",
       "    .dataframe thead th {\n",
       "        text-align: right;\n",
       "    }\n",
       "</style>\n",
       "<table border=\"1\" class=\"dataframe\">\n",
       "  <thead>\n",
       "    <tr style=\"text-align: right;\">\n",
       "      <th></th>\n",
       "      <th>state</th>\n",
       "      <th>trend</th>\n",
       "    </tr>\n",
       "  </thead>\n",
       "  <tbody>\n",
       "    <tr>\n",
       "      <th>0</th>\n",
       "      <td>Wisconsin</td>\n",
       "      <td>-1.058092</td>\n",
       "    </tr>\n",
       "    <tr>\n",
       "      <th>1</th>\n",
       "      <td>Kansas</td>\n",
       "      <td>-23.058092</td>\n",
       "    </tr>\n",
       "    <tr>\n",
       "      <th>2</th>\n",
       "      <td>Maine</td>\n",
       "      <td>4.941908</td>\n",
       "    </tr>\n",
       "    <tr>\n",
       "      <th>3</th>\n",
       "      <td>Iowa</td>\n",
       "      <td>-6.058092</td>\n",
       "    </tr>\n",
       "    <tr>\n",
       "      <th>4</th>\n",
       "      <td>North Dakota</td>\n",
       "      <td>-33.058092</td>\n",
       "    </tr>\n",
       "  </tbody>\n",
       "</table>\n",
       "</div>"
      ],
      "text/plain": [
       "          state      trend\n",
       "0     Wisconsin  -1.058092\n",
       "1        Kansas -23.058092\n",
       "2         Maine   4.941908\n",
       "3          Iowa  -6.058092\n",
       "4  North Dakota -33.058092"
      ]
     },
     "execution_count": 1500,
     "metadata": {},
     "output_type": "execute_result"
    }
   ],
   "source": [
    "#trends.name = \"poll\"\n",
    "trends = pd.DataFrame(data = trends)\n",
    "trends = trends.rename({0: 'state', 1: 'trend'}, axis='columns')\n",
    "trends.head()"
   ]
  },
  {
   "cell_type": "code",
   "execution_count": 1501,
   "metadata": {},
   "outputs": [
    {
     "data": {
      "text/html": [
       "<div>\n",
       "<style scoped>\n",
       "    .dataframe tbody tr th:only-of-type {\n",
       "        vertical-align: middle;\n",
       "    }\n",
       "\n",
       "    .dataframe tbody tr th {\n",
       "        vertical-align: top;\n",
       "    }\n",
       "\n",
       "    .dataframe thead th {\n",
       "        text-align: right;\n",
       "    }\n",
       "</style>\n",
       "<table border=\"1\" class=\"dataframe\">\n",
       "  <thead>\n",
       "    <tr style=\"text-align: right;\">\n",
       "      <th></th>\n",
       "      <th>state</th>\n",
       "      <th>pollster</th>\n",
       "      <th>poll</th>\n",
       "      <th>trend</th>\n",
       "    </tr>\n",
       "  </thead>\n",
       "  <tbody>\n",
       "    <tr>\n",
       "      <th>0</th>\n",
       "      <td>Alabama</td>\n",
       "      <td>Mason-Dixon Polling &amp; Research Inc.</td>\n",
       "      <td>0.129619</td>\n",
       "      <td>-26.782244</td>\n",
       "    </tr>\n",
       "    <tr>\n",
       "      <th>1</th>\n",
       "      <td>Alabama</td>\n",
       "      <td>Mason-Dixon Polling &amp; Research Inc.</td>\n",
       "      <td>0.129619</td>\n",
       "      <td>-26.782244</td>\n",
       "    </tr>\n",
       "    <tr>\n",
       "      <th>2</th>\n",
       "      <td>Alabama</td>\n",
       "      <td>Mason-Dixon Polling &amp; Research Inc.</td>\n",
       "      <td>0.129619</td>\n",
       "      <td>-26.782244</td>\n",
       "    </tr>\n",
       "    <tr>\n",
       "      <th>3</th>\n",
       "      <td>Alabama</td>\n",
       "      <td>Mason-Dixon Polling &amp; Research Inc.</td>\n",
       "      <td>0.129619</td>\n",
       "      <td>-26.782244</td>\n",
       "    </tr>\n",
       "    <tr>\n",
       "      <th>4</th>\n",
       "      <td>Alabama</td>\n",
       "      <td>Mason-Dixon Polling &amp; Research Inc.</td>\n",
       "      <td>0.129619</td>\n",
       "      <td>-26.782244</td>\n",
       "    </tr>\n",
       "    <tr>\n",
       "      <th>...</th>\n",
       "      <td>...</td>\n",
       "      <td>...</td>\n",
       "      <td>...</td>\n",
       "      <td>...</td>\n",
       "    </tr>\n",
       "    <tr>\n",
       "      <th>948</th>\n",
       "      <td>Wisconsin</td>\n",
       "      <td>Zogby Interactive/JZ Analytics</td>\n",
       "      <td>0.000100</td>\n",
       "      <td>-1.058092</td>\n",
       "    </tr>\n",
       "    <tr>\n",
       "      <th>949</th>\n",
       "      <td>Wisconsin</td>\n",
       "      <td>Zogby Interactive/JZ Analytics</td>\n",
       "      <td>0.000100</td>\n",
       "      <td>-1.058092</td>\n",
       "    </tr>\n",
       "    <tr>\n",
       "      <th>950</th>\n",
       "      <td>Wisconsin</td>\n",
       "      <td>Zogby Interactive/JZ Analytics</td>\n",
       "      <td>0.000100</td>\n",
       "      <td>-1.058092</td>\n",
       "    </tr>\n",
       "    <tr>\n",
       "      <th>951</th>\n",
       "      <td>Wisconsin</td>\n",
       "      <td>Zogby Interactive/JZ Analytics</td>\n",
       "      <td>0.000100</td>\n",
       "      <td>-1.058092</td>\n",
       "    </tr>\n",
       "    <tr>\n",
       "      <th>952</th>\n",
       "      <td>Wisconsin</td>\n",
       "      <td>Zogby Interactive/JZ Analytics</td>\n",
       "      <td>0.000100</td>\n",
       "      <td>-1.058092</td>\n",
       "    </tr>\n",
       "  </tbody>\n",
       "</table>\n",
       "<p>953 rows × 4 columns</p>\n",
       "</div>"
      ],
      "text/plain": [
       "         state                             pollster      poll      trend\n",
       "0      Alabama  Mason-Dixon Polling & Research Inc.  0.129619 -26.782244\n",
       "1      Alabama  Mason-Dixon Polling & Research Inc.  0.129619 -26.782244\n",
       "2      Alabama  Mason-Dixon Polling & Research Inc.  0.129619 -26.782244\n",
       "3      Alabama  Mason-Dixon Polling & Research Inc.  0.129619 -26.782244\n",
       "4      Alabama  Mason-Dixon Polling & Research Inc.  0.129619 -26.782244\n",
       "..         ...                                  ...       ...        ...\n",
       "948  Wisconsin       Zogby Interactive/JZ Analytics  0.000100  -1.058092\n",
       "949  Wisconsin       Zogby Interactive/JZ Analytics  0.000100  -1.058092\n",
       "950  Wisconsin       Zogby Interactive/JZ Analytics  0.000100  -1.058092\n",
       "951  Wisconsin       Zogby Interactive/JZ Analytics  0.000100  -1.058092\n",
       "952  Wisconsin       Zogby Interactive/JZ Analytics  0.000100  -1.058092\n",
       "\n",
       "[953 rows x 4 columns]"
      ]
     },
     "execution_count": 1501,
     "metadata": {},
     "output_type": "execute_result"
    }
   ],
   "source": [
    "polls = state_polls.merge(trends, on = 'state')\n",
    "polls"
   ]
  },
  {
   "cell_type": "code",
   "execution_count": 1502,
   "metadata": {},
   "outputs": [],
   "source": [
    "polls['poll'] = polls['poll'] * polls['trend']\n",
    "polls = polls.drop('trend', axis = 1)"
   ]
  },
  {
   "cell_type": "code",
   "execution_count": 1503,
   "metadata": {},
   "outputs": [
    {
     "data": {
      "text/html": [
       "<div>\n",
       "<style scoped>\n",
       "    .dataframe tbody tr th:only-of-type {\n",
       "        vertical-align: middle;\n",
       "    }\n",
       "\n",
       "    .dataframe tbody tr th {\n",
       "        vertical-align: top;\n",
       "    }\n",
       "\n",
       "    .dataframe thead th {\n",
       "        text-align: right;\n",
       "    }\n",
       "</style>\n",
       "<table border=\"1\" class=\"dataframe\">\n",
       "  <thead>\n",
       "    <tr style=\"text-align: right;\">\n",
       "      <th></th>\n",
       "      <th>state</th>\n",
       "      <th>pollster</th>\n",
       "      <th>poll</th>\n",
       "    </tr>\n",
       "  </thead>\n",
       "  <tbody>\n",
       "    <tr>\n",
       "      <th>0</th>\n",
       "      <td>Alabama</td>\n",
       "      <td>Mason-Dixon Polling &amp; Research Inc.</td>\n",
       "      <td>-3.471487</td>\n",
       "    </tr>\n",
       "    <tr>\n",
       "      <th>1</th>\n",
       "      <td>Alabama</td>\n",
       "      <td>Mason-Dixon Polling &amp; Research Inc.</td>\n",
       "      <td>-3.471487</td>\n",
       "    </tr>\n",
       "    <tr>\n",
       "      <th>2</th>\n",
       "      <td>Alabama</td>\n",
       "      <td>Mason-Dixon Polling &amp; Research Inc.</td>\n",
       "      <td>-3.471487</td>\n",
       "    </tr>\n",
       "    <tr>\n",
       "      <th>3</th>\n",
       "      <td>Alabama</td>\n",
       "      <td>Mason-Dixon Polling &amp; Research Inc.</td>\n",
       "      <td>-3.471487</td>\n",
       "    </tr>\n",
       "    <tr>\n",
       "      <th>4</th>\n",
       "      <td>Alabama</td>\n",
       "      <td>Mason-Dixon Polling &amp; Research Inc.</td>\n",
       "      <td>-3.471487</td>\n",
       "    </tr>\n",
       "    <tr>\n",
       "      <th>...</th>\n",
       "      <td>...</td>\n",
       "      <td>...</td>\n",
       "      <td>...</td>\n",
       "    </tr>\n",
       "    <tr>\n",
       "      <th>948</th>\n",
       "      <td>Wisconsin</td>\n",
       "      <td>Zogby Interactive/JZ Analytics</td>\n",
       "      <td>-0.000106</td>\n",
       "    </tr>\n",
       "    <tr>\n",
       "      <th>949</th>\n",
       "      <td>Wisconsin</td>\n",
       "      <td>Zogby Interactive/JZ Analytics</td>\n",
       "      <td>-0.000106</td>\n",
       "    </tr>\n",
       "    <tr>\n",
       "      <th>950</th>\n",
       "      <td>Wisconsin</td>\n",
       "      <td>Zogby Interactive/JZ Analytics</td>\n",
       "      <td>-0.000106</td>\n",
       "    </tr>\n",
       "    <tr>\n",
       "      <th>951</th>\n",
       "      <td>Wisconsin</td>\n",
       "      <td>Zogby Interactive/JZ Analytics</td>\n",
       "      <td>-0.000106</td>\n",
       "    </tr>\n",
       "    <tr>\n",
       "      <th>952</th>\n",
       "      <td>Wisconsin</td>\n",
       "      <td>Zogby Interactive/JZ Analytics</td>\n",
       "      <td>-0.000106</td>\n",
       "    </tr>\n",
       "  </tbody>\n",
       "</table>\n",
       "<p>953 rows × 3 columns</p>\n",
       "</div>"
      ],
      "text/plain": [
       "         state                             pollster      poll\n",
       "0      Alabama  Mason-Dixon Polling & Research Inc. -3.471487\n",
       "1      Alabama  Mason-Dixon Polling & Research Inc. -3.471487\n",
       "2      Alabama  Mason-Dixon Polling & Research Inc. -3.471487\n",
       "3      Alabama  Mason-Dixon Polling & Research Inc. -3.471487\n",
       "4      Alabama  Mason-Dixon Polling & Research Inc. -3.471487\n",
       "..         ...                                  ...       ...\n",
       "948  Wisconsin       Zogby Interactive/JZ Analytics -0.000106\n",
       "949  Wisconsin       Zogby Interactive/JZ Analytics -0.000106\n",
       "950  Wisconsin       Zogby Interactive/JZ Analytics -0.000106\n",
       "951  Wisconsin       Zogby Interactive/JZ Analytics -0.000106\n",
       "952  Wisconsin       Zogby Interactive/JZ Analytics -0.000106\n",
       "\n",
       "[953 rows x 3 columns]"
      ]
     },
     "execution_count": 1503,
     "metadata": {},
     "output_type": "execute_result"
    }
   ],
   "source": [
    "polls"
   ]
  },
  {
   "cell_type": "code",
   "execution_count": 1504,
   "metadata": {},
   "outputs": [
    {
     "data": {
      "text/html": [
       "<div>\n",
       "<style scoped>\n",
       "    .dataframe tbody tr th:only-of-type {\n",
       "        vertical-align: middle;\n",
       "    }\n",
       "\n",
       "    .dataframe tbody tr th {\n",
       "        vertical-align: top;\n",
       "    }\n",
       "\n",
       "    .dataframe thead th {\n",
       "        text-align: right;\n",
       "    }\n",
       "</style>\n",
       "<table border=\"1\" class=\"dataframe\">\n",
       "  <thead>\n",
       "    <tr style=\"text-align: right;\">\n",
       "      <th></th>\n",
       "      <th>poll</th>\n",
       "    </tr>\n",
       "    <tr>\n",
       "      <th>state</th>\n",
       "      <th></th>\n",
       "    </tr>\n",
       "  </thead>\n",
       "  <tbody>\n",
       "    <tr>\n",
       "      <th>Alabama</th>\n",
       "      <td>-3.471487</td>\n",
       "    </tr>\n",
       "    <tr>\n",
       "      <th>Alaska</th>\n",
       "      <td>-0.013007</td>\n",
       "    </tr>\n",
       "    <tr>\n",
       "      <th>Arizona</th>\n",
       "      <td>-0.932319</td>\n",
       "    </tr>\n",
       "    <tr>\n",
       "      <th>California</th>\n",
       "      <td>3.104873</td>\n",
       "    </tr>\n",
       "    <tr>\n",
       "      <th>Colorado</th>\n",
       "      <td>0.003090</td>\n",
       "    </tr>\n",
       "    <tr>\n",
       "      <th>Delaware</th>\n",
       "      <td>0.800583</td>\n",
       "    </tr>\n",
       "    <tr>\n",
       "      <th>Florida</th>\n",
       "      <td>-0.527036</td>\n",
       "    </tr>\n",
       "    <tr>\n",
       "      <th>Georgia</th>\n",
       "      <td>-0.663988</td>\n",
       "    </tr>\n",
       "    <tr>\n",
       "      <th>Iowa</th>\n",
       "      <td>-0.373081</td>\n",
       "    </tr>\n",
       "    <tr>\n",
       "      <th>Kansas</th>\n",
       "      <td>-4.986691</td>\n",
       "    </tr>\n",
       "    <tr>\n",
       "      <th>Kentucky</th>\n",
       "      <td>-0.008988</td>\n",
       "    </tr>\n",
       "    <tr>\n",
       "      <th>Maine</th>\n",
       "      <td>0.271671</td>\n",
       "    </tr>\n",
       "    <tr>\n",
       "      <th>Massachusetts</th>\n",
       "      <td>0.003609</td>\n",
       "    </tr>\n",
       "    <tr>\n",
       "      <th>Michigan</th>\n",
       "      <td>0.099674</td>\n",
       "    </tr>\n",
       "    <tr>\n",
       "      <th>Minnesota</th>\n",
       "      <td>0.017448</td>\n",
       "    </tr>\n",
       "    <tr>\n",
       "      <th>Mississippi</th>\n",
       "      <td>-3.185402</td>\n",
       "    </tr>\n",
       "    <tr>\n",
       "      <th>Missouri</th>\n",
       "      <td>-1.419614</td>\n",
       "    </tr>\n",
       "    <tr>\n",
       "      <th>Nevada</th>\n",
       "      <td>-0.004027</td>\n",
       "    </tr>\n",
       "    <tr>\n",
       "      <th>New Hampshire</th>\n",
       "      <td>-0.098792</td>\n",
       "    </tr>\n",
       "    <tr>\n",
       "      <th>New Jersey</th>\n",
       "      <td>2.603304</td>\n",
       "    </tr>\n",
       "    <tr>\n",
       "      <th>New Mexico</th>\n",
       "      <td>0.568564</td>\n",
       "    </tr>\n",
       "    <tr>\n",
       "      <th>New York</th>\n",
       "      <td>4.684075</td>\n",
       "    </tr>\n",
       "    <tr>\n",
       "      <th>North Carolina</th>\n",
       "      <td>-0.369469</td>\n",
       "    </tr>\n",
       "    <tr>\n",
       "      <th>North Dakota</th>\n",
       "      <td>-3.015582</td>\n",
       "    </tr>\n",
       "    <tr>\n",
       "      <th>Ohio</th>\n",
       "      <td>-0.482607</td>\n",
       "    </tr>\n",
       "    <tr>\n",
       "      <th>Oklahoma</th>\n",
       "      <td>-4.050208</td>\n",
       "    </tr>\n",
       "    <tr>\n",
       "      <th>Pennsylvania</th>\n",
       "      <td>-0.065125</td>\n",
       "    </tr>\n",
       "    <tr>\n",
       "      <th>South Carolina</th>\n",
       "      <td>-0.004686</td>\n",
       "    </tr>\n",
       "    <tr>\n",
       "      <th>Tennessee</th>\n",
       "      <td>-3.063342</td>\n",
       "    </tr>\n",
       "    <tr>\n",
       "      <th>Texas</th>\n",
       "      <td>-1.393659</td>\n",
       "    </tr>\n",
       "    <tr>\n",
       "      <th>Utah</th>\n",
       "      <td>-0.024360</td>\n",
       "    </tr>\n",
       "    <tr>\n",
       "      <th>Virginia</th>\n",
       "      <td>-0.000944</td>\n",
       "    </tr>\n",
       "    <tr>\n",
       "      <th>Washington</th>\n",
       "      <td>1.338596</td>\n",
       "    </tr>\n",
       "    <tr>\n",
       "      <th>Wisconsin</th>\n",
       "      <td>-0.101827</td>\n",
       "    </tr>\n",
       "  </tbody>\n",
       "</table>\n",
       "</div>"
      ],
      "text/plain": [
       "                    poll\n",
       "state                   \n",
       "Alabama        -3.471487\n",
       "Alaska         -0.013007\n",
       "Arizona        -0.932319\n",
       "California      3.104873\n",
       "Colorado        0.003090\n",
       "Delaware        0.800583\n",
       "Florida        -0.527036\n",
       "Georgia        -0.663988\n",
       "Iowa           -0.373081\n",
       "Kansas         -4.986691\n",
       "Kentucky       -0.008988\n",
       "Maine           0.271671\n",
       "Massachusetts   0.003609\n",
       "Michigan        0.099674\n",
       "Minnesota       0.017448\n",
       "Mississippi    -3.185402\n",
       "Missouri       -1.419614\n",
       "Nevada         -0.004027\n",
       "New Hampshire  -0.098792\n",
       "New Jersey      2.603304\n",
       "New Mexico      0.568564\n",
       "New York        4.684075\n",
       "North Carolina -0.369469\n",
       "North Dakota   -3.015582\n",
       "Ohio           -0.482607\n",
       "Oklahoma       -4.050208\n",
       "Pennsylvania   -0.065125\n",
       "South Carolina -0.004686\n",
       "Tennessee      -3.063342\n",
       "Texas          -1.393659\n",
       "Utah           -0.024360\n",
       "Virginia       -0.000944\n",
       "Washington      1.338596\n",
       "Wisconsin      -0.101827"
      ]
     },
     "execution_count": 1504,
     "metadata": {},
     "output_type": "execute_result"
    }
   ],
   "source": [
    "results = polls.groupby(\"state\").mean()\n",
    "results"
   ]
  },
  {
   "cell_type": "code",
   "execution_count": 1505,
   "metadata": {},
   "outputs": [
    {
     "data": {
      "text/html": [
       "<div>\n",
       "<style scoped>\n",
       "    .dataframe tbody tr th:only-of-type {\n",
       "        vertical-align: middle;\n",
       "    }\n",
       "\n",
       "    .dataframe tbody tr th {\n",
       "        vertical-align: top;\n",
       "    }\n",
       "\n",
       "    .dataframe thead th {\n",
       "        text-align: right;\n",
       "    }\n",
       "</style>\n",
       "<table border=\"1\" class=\"dataframe\">\n",
       "  <thead>\n",
       "    <tr style=\"text-align: right;\">\n",
       "      <th></th>\n",
       "      <th>State</th>\n",
       "      <th>Votes</th>\n",
       "    </tr>\n",
       "  </thead>\n",
       "  <tbody>\n",
       "    <tr>\n",
       "      <th>0</th>\n",
       "      <td>California</td>\n",
       "      <td>55</td>\n",
       "    </tr>\n",
       "    <tr>\n",
       "      <th>1</th>\n",
       "      <td>Texas</td>\n",
       "      <td>38</td>\n",
       "    </tr>\n",
       "    <tr>\n",
       "      <th>2</th>\n",
       "      <td>New York</td>\n",
       "      <td>29</td>\n",
       "    </tr>\n",
       "    <tr>\n",
       "      <th>3</th>\n",
       "      <td>Florida</td>\n",
       "      <td>29</td>\n",
       "    </tr>\n",
       "    <tr>\n",
       "      <th>4</th>\n",
       "      <td>Illinois</td>\n",
       "      <td>20</td>\n",
       "    </tr>\n",
       "  </tbody>\n",
       "</table>\n",
       "</div>"
      ],
      "text/plain": [
       "        State  Votes\n",
       "0  California     55\n",
       "1       Texas     38\n",
       "2    New York     29\n",
       "3     Florida     29\n",
       "4    Illinois     20"
      ]
     },
     "execution_count": 1505,
     "metadata": {},
     "output_type": "execute_result"
    }
   ],
   "source": [
    "electoral_votes = pd.read_csv('https://raw.githubusercontent.com/jseabold/538model/master/data/electoral_votes.csv')\n",
    "electoral_votes.head()"
   ]
  },
  {
   "cell_type": "code",
   "execution_count": 1506,
   "metadata": {},
   "outputs": [
    {
     "data": {
      "text/html": [
       "<div>\n",
       "<style scoped>\n",
       "    .dataframe tbody tr th:only-of-type {\n",
       "        vertical-align: middle;\n",
       "    }\n",
       "\n",
       "    .dataframe tbody tr th {\n",
       "        vertical-align: top;\n",
       "    }\n",
       "\n",
       "    .dataframe thead th {\n",
       "        text-align: right;\n",
       "    }\n",
       "</style>\n",
       "<table border=\"1\" class=\"dataframe\">\n",
       "  <thead>\n",
       "    <tr style=\"text-align: right;\">\n",
       "      <th></th>\n",
       "      <th>state</th>\n",
       "      <th>poll</th>\n",
       "      <th>biden</th>\n",
       "      <th>trump</th>\n",
       "    </tr>\n",
       "  </thead>\n",
       "  <tbody>\n",
       "    <tr>\n",
       "      <th>0</th>\n",
       "      <td>Alabama</td>\n",
       "      <td>-3.471487</td>\n",
       "      <td>0</td>\n",
       "      <td>1</td>\n",
       "    </tr>\n",
       "    <tr>\n",
       "      <th>1</th>\n",
       "      <td>Alaska</td>\n",
       "      <td>-0.013007</td>\n",
       "      <td>0</td>\n",
       "      <td>1</td>\n",
       "    </tr>\n",
       "    <tr>\n",
       "      <th>2</th>\n",
       "      <td>Arizona</td>\n",
       "      <td>-0.932319</td>\n",
       "      <td>0</td>\n",
       "      <td>1</td>\n",
       "    </tr>\n",
       "    <tr>\n",
       "      <th>3</th>\n",
       "      <td>California</td>\n",
       "      <td>3.104873</td>\n",
       "      <td>1</td>\n",
       "      <td>0</td>\n",
       "    </tr>\n",
       "    <tr>\n",
       "      <th>4</th>\n",
       "      <td>Colorado</td>\n",
       "      <td>0.003090</td>\n",
       "      <td>1</td>\n",
       "      <td>0</td>\n",
       "    </tr>\n",
       "    <tr>\n",
       "      <th>5</th>\n",
       "      <td>Delaware</td>\n",
       "      <td>0.800583</td>\n",
       "      <td>1</td>\n",
       "      <td>0</td>\n",
       "    </tr>\n",
       "    <tr>\n",
       "      <th>6</th>\n",
       "      <td>Florida</td>\n",
       "      <td>-0.527036</td>\n",
       "      <td>0</td>\n",
       "      <td>1</td>\n",
       "    </tr>\n",
       "    <tr>\n",
       "      <th>7</th>\n",
       "      <td>Georgia</td>\n",
       "      <td>-0.663988</td>\n",
       "      <td>0</td>\n",
       "      <td>1</td>\n",
       "    </tr>\n",
       "    <tr>\n",
       "      <th>8</th>\n",
       "      <td>Iowa</td>\n",
       "      <td>-0.373081</td>\n",
       "      <td>0</td>\n",
       "      <td>1</td>\n",
       "    </tr>\n",
       "    <tr>\n",
       "      <th>9</th>\n",
       "      <td>Kansas</td>\n",
       "      <td>-4.986691</td>\n",
       "      <td>0</td>\n",
       "      <td>1</td>\n",
       "    </tr>\n",
       "    <tr>\n",
       "      <th>10</th>\n",
       "      <td>Kentucky</td>\n",
       "      <td>-0.008988</td>\n",
       "      <td>0</td>\n",
       "      <td>1</td>\n",
       "    </tr>\n",
       "    <tr>\n",
       "      <th>11</th>\n",
       "      <td>Maine</td>\n",
       "      <td>0.271671</td>\n",
       "      <td>1</td>\n",
       "      <td>0</td>\n",
       "    </tr>\n",
       "    <tr>\n",
       "      <th>12</th>\n",
       "      <td>Massachusetts</td>\n",
       "      <td>0.003609</td>\n",
       "      <td>1</td>\n",
       "      <td>0</td>\n",
       "    </tr>\n",
       "    <tr>\n",
       "      <th>13</th>\n",
       "      <td>Michigan</td>\n",
       "      <td>0.099674</td>\n",
       "      <td>1</td>\n",
       "      <td>0</td>\n",
       "    </tr>\n",
       "    <tr>\n",
       "      <th>14</th>\n",
       "      <td>Minnesota</td>\n",
       "      <td>0.017448</td>\n",
       "      <td>1</td>\n",
       "      <td>0</td>\n",
       "    </tr>\n",
       "    <tr>\n",
       "      <th>15</th>\n",
       "      <td>Mississippi</td>\n",
       "      <td>-3.185402</td>\n",
       "      <td>0</td>\n",
       "      <td>1</td>\n",
       "    </tr>\n",
       "    <tr>\n",
       "      <th>16</th>\n",
       "      <td>Missouri</td>\n",
       "      <td>-1.419614</td>\n",
       "      <td>0</td>\n",
       "      <td>1</td>\n",
       "    </tr>\n",
       "    <tr>\n",
       "      <th>17</th>\n",
       "      <td>Nevada</td>\n",
       "      <td>-0.004027</td>\n",
       "      <td>0</td>\n",
       "      <td>1</td>\n",
       "    </tr>\n",
       "    <tr>\n",
       "      <th>18</th>\n",
       "      <td>New Hampshire</td>\n",
       "      <td>-0.098792</td>\n",
       "      <td>0</td>\n",
       "      <td>1</td>\n",
       "    </tr>\n",
       "    <tr>\n",
       "      <th>19</th>\n",
       "      <td>New Jersey</td>\n",
       "      <td>2.603304</td>\n",
       "      <td>1</td>\n",
       "      <td>0</td>\n",
       "    </tr>\n",
       "    <tr>\n",
       "      <th>20</th>\n",
       "      <td>New Mexico</td>\n",
       "      <td>0.568564</td>\n",
       "      <td>1</td>\n",
       "      <td>0</td>\n",
       "    </tr>\n",
       "    <tr>\n",
       "      <th>21</th>\n",
       "      <td>New York</td>\n",
       "      <td>4.684075</td>\n",
       "      <td>1</td>\n",
       "      <td>0</td>\n",
       "    </tr>\n",
       "    <tr>\n",
       "      <th>22</th>\n",
       "      <td>North Carolina</td>\n",
       "      <td>-0.369469</td>\n",
       "      <td>0</td>\n",
       "      <td>1</td>\n",
       "    </tr>\n",
       "    <tr>\n",
       "      <th>23</th>\n",
       "      <td>North Dakota</td>\n",
       "      <td>-3.015582</td>\n",
       "      <td>0</td>\n",
       "      <td>1</td>\n",
       "    </tr>\n",
       "    <tr>\n",
       "      <th>24</th>\n",
       "      <td>Ohio</td>\n",
       "      <td>-0.482607</td>\n",
       "      <td>0</td>\n",
       "      <td>1</td>\n",
       "    </tr>\n",
       "    <tr>\n",
       "      <th>25</th>\n",
       "      <td>Oklahoma</td>\n",
       "      <td>-4.050208</td>\n",
       "      <td>0</td>\n",
       "      <td>1</td>\n",
       "    </tr>\n",
       "    <tr>\n",
       "      <th>26</th>\n",
       "      <td>Pennsylvania</td>\n",
       "      <td>-0.065125</td>\n",
       "      <td>0</td>\n",
       "      <td>1</td>\n",
       "    </tr>\n",
       "    <tr>\n",
       "      <th>27</th>\n",
       "      <td>South Carolina</td>\n",
       "      <td>-0.004686</td>\n",
       "      <td>0</td>\n",
       "      <td>1</td>\n",
       "    </tr>\n",
       "    <tr>\n",
       "      <th>28</th>\n",
       "      <td>Tennessee</td>\n",
       "      <td>-3.063342</td>\n",
       "      <td>0</td>\n",
       "      <td>1</td>\n",
       "    </tr>\n",
       "    <tr>\n",
       "      <th>29</th>\n",
       "      <td>Texas</td>\n",
       "      <td>-1.393659</td>\n",
       "      <td>0</td>\n",
       "      <td>1</td>\n",
       "    </tr>\n",
       "    <tr>\n",
       "      <th>30</th>\n",
       "      <td>Utah</td>\n",
       "      <td>-0.024360</td>\n",
       "      <td>0</td>\n",
       "      <td>1</td>\n",
       "    </tr>\n",
       "    <tr>\n",
       "      <th>31</th>\n",
       "      <td>Virginia</td>\n",
       "      <td>-0.000944</td>\n",
       "      <td>0</td>\n",
       "      <td>1</td>\n",
       "    </tr>\n",
       "    <tr>\n",
       "      <th>32</th>\n",
       "      <td>Washington</td>\n",
       "      <td>1.338596</td>\n",
       "      <td>1</td>\n",
       "      <td>0</td>\n",
       "    </tr>\n",
       "    <tr>\n",
       "      <th>33</th>\n",
       "      <td>Wisconsin</td>\n",
       "      <td>-0.101827</td>\n",
       "      <td>0</td>\n",
       "      <td>1</td>\n",
       "    </tr>\n",
       "  </tbody>\n",
       "</table>\n",
       "</div>"
      ],
      "text/plain": [
       "             state      poll  biden  trump\n",
       "0          Alabama -3.471487      0      1\n",
       "1           Alaska -0.013007      0      1\n",
       "2          Arizona -0.932319      0      1\n",
       "3       California  3.104873      1      0\n",
       "4         Colorado  0.003090      1      0\n",
       "5         Delaware  0.800583      1      0\n",
       "6          Florida -0.527036      0      1\n",
       "7          Georgia -0.663988      0      1\n",
       "8             Iowa -0.373081      0      1\n",
       "9           Kansas -4.986691      0      1\n",
       "10        Kentucky -0.008988      0      1\n",
       "11           Maine  0.271671      1      0\n",
       "12   Massachusetts  0.003609      1      0\n",
       "13        Michigan  0.099674      1      0\n",
       "14       Minnesota  0.017448      1      0\n",
       "15     Mississippi -3.185402      0      1\n",
       "16        Missouri -1.419614      0      1\n",
       "17          Nevada -0.004027      0      1\n",
       "18   New Hampshire -0.098792      0      1\n",
       "19      New Jersey  2.603304      1      0\n",
       "20      New Mexico  0.568564      1      0\n",
       "21        New York  4.684075      1      0\n",
       "22  North Carolina -0.369469      0      1\n",
       "23    North Dakota -3.015582      0      1\n",
       "24            Ohio -0.482607      0      1\n",
       "25        Oklahoma -4.050208      0      1\n",
       "26    Pennsylvania -0.065125      0      1\n",
       "27  South Carolina -0.004686      0      1\n",
       "28       Tennessee -3.063342      0      1\n",
       "29           Texas -1.393659      0      1\n",
       "30            Utah -0.024360      0      1\n",
       "31        Virginia -0.000944      0      1\n",
       "32      Washington  1.338596      1      0\n",
       "33       Wisconsin -0.101827      0      1"
      ]
     },
     "execution_count": 1506,
     "metadata": {},
     "output_type": "execute_result"
    }
   ],
   "source": [
    "results = results.reset_index()\n",
    "results[\"biden\"] = 0\n",
    "results[\"trump\"] = 0\n",
    "results.loc[(results[\"poll\"] > 0), \"biden\"] = 1\n",
    "results.loc[(results[\"poll\"] < 0), \"trump\"] = 1\n",
    "results"
   ]
  },
  {
   "cell_type": "code",
   "execution_count": 1507,
   "metadata": {},
   "outputs": [
    {
     "data": {
      "text/html": [
       "<div>\n",
       "<style scoped>\n",
       "    .dataframe tbody tr th:only-of-type {\n",
       "        vertical-align: middle;\n",
       "    }\n",
       "\n",
       "    .dataframe tbody tr th {\n",
       "        vertical-align: top;\n",
       "    }\n",
       "\n",
       "    .dataframe thead th {\n",
       "        text-align: right;\n",
       "    }\n",
       "</style>\n",
       "<table border=\"1\" class=\"dataframe\">\n",
       "  <thead>\n",
       "    <tr style=\"text-align: right;\">\n",
       "      <th></th>\n",
       "      <th>state</th>\n",
       "      <th>poll</th>\n",
       "      <th>biden</th>\n",
       "      <th>trump</th>\n",
       "      <th>State</th>\n",
       "      <th>Votes</th>\n",
       "    </tr>\n",
       "  </thead>\n",
       "  <tbody>\n",
       "    <tr>\n",
       "      <th>0</th>\n",
       "      <td>Alabama</td>\n",
       "      <td>-3.471487</td>\n",
       "      <td>0</td>\n",
       "      <td>1</td>\n",
       "      <td>Alabama</td>\n",
       "      <td>9</td>\n",
       "    </tr>\n",
       "    <tr>\n",
       "      <th>1</th>\n",
       "      <td>Alaska</td>\n",
       "      <td>-0.013007</td>\n",
       "      <td>0</td>\n",
       "      <td>1</td>\n",
       "      <td>Alaska</td>\n",
       "      <td>3</td>\n",
       "    </tr>\n",
       "    <tr>\n",
       "      <th>2</th>\n",
       "      <td>Arizona</td>\n",
       "      <td>-0.932319</td>\n",
       "      <td>0</td>\n",
       "      <td>1</td>\n",
       "      <td>Arizona</td>\n",
       "      <td>11</td>\n",
       "    </tr>\n",
       "    <tr>\n",
       "      <th>3</th>\n",
       "      <td>California</td>\n",
       "      <td>3.104873</td>\n",
       "      <td>1</td>\n",
       "      <td>0</td>\n",
       "      <td>California</td>\n",
       "      <td>55</td>\n",
       "    </tr>\n",
       "    <tr>\n",
       "      <th>4</th>\n",
       "      <td>Colorado</td>\n",
       "      <td>0.003090</td>\n",
       "      <td>1</td>\n",
       "      <td>0</td>\n",
       "      <td>Colorado</td>\n",
       "      <td>9</td>\n",
       "    </tr>\n",
       "    <tr>\n",
       "      <th>5</th>\n",
       "      <td>Delaware</td>\n",
       "      <td>0.800583</td>\n",
       "      <td>1</td>\n",
       "      <td>0</td>\n",
       "      <td>Delaware</td>\n",
       "      <td>3</td>\n",
       "    </tr>\n",
       "    <tr>\n",
       "      <th>6</th>\n",
       "      <td>Florida</td>\n",
       "      <td>-0.527036</td>\n",
       "      <td>0</td>\n",
       "      <td>1</td>\n",
       "      <td>Florida</td>\n",
       "      <td>29</td>\n",
       "    </tr>\n",
       "    <tr>\n",
       "      <th>7</th>\n",
       "      <td>Georgia</td>\n",
       "      <td>-0.663988</td>\n",
       "      <td>0</td>\n",
       "      <td>1</td>\n",
       "      <td>Georgia</td>\n",
       "      <td>16</td>\n",
       "    </tr>\n",
       "    <tr>\n",
       "      <th>8</th>\n",
       "      <td>Iowa</td>\n",
       "      <td>-0.373081</td>\n",
       "      <td>0</td>\n",
       "      <td>1</td>\n",
       "      <td>Iowa</td>\n",
       "      <td>6</td>\n",
       "    </tr>\n",
       "    <tr>\n",
       "      <th>9</th>\n",
       "      <td>Kansas</td>\n",
       "      <td>-4.986691</td>\n",
       "      <td>0</td>\n",
       "      <td>1</td>\n",
       "      <td>Kansas</td>\n",
       "      <td>6</td>\n",
       "    </tr>\n",
       "    <tr>\n",
       "      <th>10</th>\n",
       "      <td>Kentucky</td>\n",
       "      <td>-0.008988</td>\n",
       "      <td>0</td>\n",
       "      <td>1</td>\n",
       "      <td>Kentucky</td>\n",
       "      <td>8</td>\n",
       "    </tr>\n",
       "    <tr>\n",
       "      <th>11</th>\n",
       "      <td>Maine</td>\n",
       "      <td>0.271671</td>\n",
       "      <td>1</td>\n",
       "      <td>0</td>\n",
       "      <td>Maine</td>\n",
       "      <td>4</td>\n",
       "    </tr>\n",
       "    <tr>\n",
       "      <th>12</th>\n",
       "      <td>Massachusetts</td>\n",
       "      <td>0.003609</td>\n",
       "      <td>1</td>\n",
       "      <td>0</td>\n",
       "      <td>Massachusetts</td>\n",
       "      <td>11</td>\n",
       "    </tr>\n",
       "    <tr>\n",
       "      <th>13</th>\n",
       "      <td>Michigan</td>\n",
       "      <td>0.099674</td>\n",
       "      <td>1</td>\n",
       "      <td>0</td>\n",
       "      <td>Michigan</td>\n",
       "      <td>16</td>\n",
       "    </tr>\n",
       "    <tr>\n",
       "      <th>14</th>\n",
       "      <td>Minnesota</td>\n",
       "      <td>0.017448</td>\n",
       "      <td>1</td>\n",
       "      <td>0</td>\n",
       "      <td>Minnesota</td>\n",
       "      <td>10</td>\n",
       "    </tr>\n",
       "    <tr>\n",
       "      <th>15</th>\n",
       "      <td>Mississippi</td>\n",
       "      <td>-3.185402</td>\n",
       "      <td>0</td>\n",
       "      <td>1</td>\n",
       "      <td>Mississippi</td>\n",
       "      <td>6</td>\n",
       "    </tr>\n",
       "    <tr>\n",
       "      <th>16</th>\n",
       "      <td>Missouri</td>\n",
       "      <td>-1.419614</td>\n",
       "      <td>0</td>\n",
       "      <td>1</td>\n",
       "      <td>Missouri</td>\n",
       "      <td>10</td>\n",
       "    </tr>\n",
       "    <tr>\n",
       "      <th>17</th>\n",
       "      <td>Nevada</td>\n",
       "      <td>-0.004027</td>\n",
       "      <td>0</td>\n",
       "      <td>1</td>\n",
       "      <td>Nevada</td>\n",
       "      <td>6</td>\n",
       "    </tr>\n",
       "    <tr>\n",
       "      <th>18</th>\n",
       "      <td>New Hampshire</td>\n",
       "      <td>-0.098792</td>\n",
       "      <td>0</td>\n",
       "      <td>1</td>\n",
       "      <td>New Hampshire</td>\n",
       "      <td>4</td>\n",
       "    </tr>\n",
       "    <tr>\n",
       "      <th>19</th>\n",
       "      <td>New Jersey</td>\n",
       "      <td>2.603304</td>\n",
       "      <td>1</td>\n",
       "      <td>0</td>\n",
       "      <td>New Jersey</td>\n",
       "      <td>14</td>\n",
       "    </tr>\n",
       "    <tr>\n",
       "      <th>20</th>\n",
       "      <td>New Mexico</td>\n",
       "      <td>0.568564</td>\n",
       "      <td>1</td>\n",
       "      <td>0</td>\n",
       "      <td>New Mexico</td>\n",
       "      <td>5</td>\n",
       "    </tr>\n",
       "    <tr>\n",
       "      <th>21</th>\n",
       "      <td>New York</td>\n",
       "      <td>4.684075</td>\n",
       "      <td>1</td>\n",
       "      <td>0</td>\n",
       "      <td>New York</td>\n",
       "      <td>29</td>\n",
       "    </tr>\n",
       "    <tr>\n",
       "      <th>22</th>\n",
       "      <td>North Carolina</td>\n",
       "      <td>-0.369469</td>\n",
       "      <td>0</td>\n",
       "      <td>1</td>\n",
       "      <td>North Carolina</td>\n",
       "      <td>15</td>\n",
       "    </tr>\n",
       "    <tr>\n",
       "      <th>23</th>\n",
       "      <td>North Dakota</td>\n",
       "      <td>-3.015582</td>\n",
       "      <td>0</td>\n",
       "      <td>1</td>\n",
       "      <td>North Dakota</td>\n",
       "      <td>3</td>\n",
       "    </tr>\n",
       "    <tr>\n",
       "      <th>24</th>\n",
       "      <td>Ohio</td>\n",
       "      <td>-0.482607</td>\n",
       "      <td>0</td>\n",
       "      <td>1</td>\n",
       "      <td>Ohio</td>\n",
       "      <td>18</td>\n",
       "    </tr>\n",
       "    <tr>\n",
       "      <th>25</th>\n",
       "      <td>Oklahoma</td>\n",
       "      <td>-4.050208</td>\n",
       "      <td>0</td>\n",
       "      <td>1</td>\n",
       "      <td>Oklahoma</td>\n",
       "      <td>7</td>\n",
       "    </tr>\n",
       "    <tr>\n",
       "      <th>26</th>\n",
       "      <td>Pennsylvania</td>\n",
       "      <td>-0.065125</td>\n",
       "      <td>0</td>\n",
       "      <td>1</td>\n",
       "      <td>Pennsylvania</td>\n",
       "      <td>20</td>\n",
       "    </tr>\n",
       "    <tr>\n",
       "      <th>27</th>\n",
       "      <td>South Carolina</td>\n",
       "      <td>-0.004686</td>\n",
       "      <td>0</td>\n",
       "      <td>1</td>\n",
       "      <td>South Carolina</td>\n",
       "      <td>9</td>\n",
       "    </tr>\n",
       "    <tr>\n",
       "      <th>28</th>\n",
       "      <td>Tennessee</td>\n",
       "      <td>-3.063342</td>\n",
       "      <td>0</td>\n",
       "      <td>1</td>\n",
       "      <td>Tennessee</td>\n",
       "      <td>11</td>\n",
       "    </tr>\n",
       "    <tr>\n",
       "      <th>29</th>\n",
       "      <td>Texas</td>\n",
       "      <td>-1.393659</td>\n",
       "      <td>0</td>\n",
       "      <td>1</td>\n",
       "      <td>Texas</td>\n",
       "      <td>38</td>\n",
       "    </tr>\n",
       "    <tr>\n",
       "      <th>30</th>\n",
       "      <td>Utah</td>\n",
       "      <td>-0.024360</td>\n",
       "      <td>0</td>\n",
       "      <td>1</td>\n",
       "      <td>Utah</td>\n",
       "      <td>6</td>\n",
       "    </tr>\n",
       "    <tr>\n",
       "      <th>31</th>\n",
       "      <td>Virginia</td>\n",
       "      <td>-0.000944</td>\n",
       "      <td>0</td>\n",
       "      <td>1</td>\n",
       "      <td>Virginia</td>\n",
       "      <td>13</td>\n",
       "    </tr>\n",
       "    <tr>\n",
       "      <th>32</th>\n",
       "      <td>Washington</td>\n",
       "      <td>1.338596</td>\n",
       "      <td>1</td>\n",
       "      <td>0</td>\n",
       "      <td>Washington</td>\n",
       "      <td>12</td>\n",
       "    </tr>\n",
       "    <tr>\n",
       "      <th>33</th>\n",
       "      <td>Wisconsin</td>\n",
       "      <td>-0.101827</td>\n",
       "      <td>0</td>\n",
       "      <td>1</td>\n",
       "      <td>Wisconsin</td>\n",
       "      <td>10</td>\n",
       "    </tr>\n",
       "  </tbody>\n",
       "</table>\n",
       "</div>"
      ],
      "text/plain": [
       "             state      poll  biden  trump           State  Votes\n",
       "0          Alabama -3.471487      0      1         Alabama      9\n",
       "1           Alaska -0.013007      0      1          Alaska      3\n",
       "2          Arizona -0.932319      0      1         Arizona     11\n",
       "3       California  3.104873      1      0      California     55\n",
       "4         Colorado  0.003090      1      0        Colorado      9\n",
       "5         Delaware  0.800583      1      0        Delaware      3\n",
       "6          Florida -0.527036      0      1         Florida     29\n",
       "7          Georgia -0.663988      0      1         Georgia     16\n",
       "8             Iowa -0.373081      0      1            Iowa      6\n",
       "9           Kansas -4.986691      0      1          Kansas      6\n",
       "10        Kentucky -0.008988      0      1        Kentucky      8\n",
       "11           Maine  0.271671      1      0           Maine      4\n",
       "12   Massachusetts  0.003609      1      0   Massachusetts     11\n",
       "13        Michigan  0.099674      1      0        Michigan     16\n",
       "14       Minnesota  0.017448      1      0       Minnesota     10\n",
       "15     Mississippi -3.185402      0      1     Mississippi      6\n",
       "16        Missouri -1.419614      0      1        Missouri     10\n",
       "17          Nevada -0.004027      0      1          Nevada      6\n",
       "18   New Hampshire -0.098792      0      1   New Hampshire      4\n",
       "19      New Jersey  2.603304      1      0      New Jersey     14\n",
       "20      New Mexico  0.568564      1      0      New Mexico      5\n",
       "21        New York  4.684075      1      0        New York     29\n",
       "22  North Carolina -0.369469      0      1  North Carolina     15\n",
       "23    North Dakota -3.015582      0      1    North Dakota      3\n",
       "24            Ohio -0.482607      0      1            Ohio     18\n",
       "25        Oklahoma -4.050208      0      1        Oklahoma      7\n",
       "26    Pennsylvania -0.065125      0      1    Pennsylvania     20\n",
       "27  South Carolina -0.004686      0      1  South Carolina      9\n",
       "28       Tennessee -3.063342      0      1       Tennessee     11\n",
       "29           Texas -1.393659      0      1           Texas     38\n",
       "30            Utah -0.024360      0      1            Utah      6\n",
       "31        Virginia -0.000944      0      1        Virginia     13\n",
       "32      Washington  1.338596      1      0      Washington     12\n",
       "33       Wisconsin -0.101827      0      1       Wisconsin     10"
      ]
     },
     "execution_count": 1507,
     "metadata": {},
     "output_type": "execute_result"
    }
   ],
   "source": [
    "results = results.merge(electoral_votes, left_on = 'state', right_on = 'State')\n",
    "results"
   ]
  },
  {
   "cell_type": "code",
   "execution_count": 1508,
   "metadata": {},
   "outputs": [
    {
     "data": {
      "text/plain": [
       "168"
      ]
     },
     "execution_count": 1508,
     "metadata": {},
     "output_type": "execute_result"
    }
   ],
   "source": [
    "results[\"Votes\"].mul(results[\"biden\"]).sum()"
   ]
  },
  {
   "cell_type": "code",
   "execution_count": 1509,
   "metadata": {},
   "outputs": [
    {
     "data": {
      "text/plain": [
       "264"
      ]
     },
     "execution_count": 1509,
     "metadata": {},
     "output_type": "execute_result"
    }
   ],
   "source": [
    "results[\"Votes\"].mul(results[\"trump\"]).sum()"
   ]
  },
  {
   "cell_type": "code",
   "execution_count": null,
   "metadata": {},
   "outputs": [],
   "source": []
  }
 ],
 "metadata": {
  "kernelspec": {
   "display_name": "Python 3",
   "language": "python",
   "name": "python3"
  },
  "language_info": {
   "codemirror_mode": {
    "name": "ipython",
    "version": 3
   },
   "file_extension": ".py",
   "mimetype": "text/x-python",
   "name": "python",
   "nbconvert_exporter": "python",
   "pygments_lexer": "ipython3",
   "version": "3.7.6"
  }
 },
 "nbformat": 4,
 "nbformat_minor": 4
}
